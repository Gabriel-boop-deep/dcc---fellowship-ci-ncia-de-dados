{
  "cells": [
    {
      "cell_type": "markdown",
      "metadata": {},
      "source": [
        "### DCC - Sirius Education\n",
        "#### Grupo: O-PY-THA-ON"
      ]
    },
    {
      "cell_type": "markdown",
      "metadata": {},
      "source": [
        "#### Exploração inicial\n",
        "Abaixo foram feitas explorações iniciais nos dois datasets escolhidos pelo grupo\n",
        "\n",
        "* Produção Municipal Agrícola [(PAM)](https://sidra.ibge.gov.br/tabela/5457)\n",
        "* Pesquisa de Orçamentos Familiares [(POF)](https://www.ibge.gov.br/estatisticas/sociais/saude/24786-pesquisa-de-orcamentos-familiares-2.html?=&t=resultados)"
      ]
    },
    {
      "cell_type": "markdown",
      "metadata": {},
      "source": [
        "#### Imports e configurações gerais"
      ]
    },
    {
      "cell_type": "code",
      "execution_count": 1,
      "metadata": {},
      "outputs": [],
      "source": [
        "import pandas as pd\n",
        "import seaborn as sns\n",
        "import plotly.express as px"
      ]
    },
    {
      "cell_type": "code",
      "execution_count": 3,
      "metadata": {},
      "outputs": [],
      "source": [
        "producao = pd.read_excel('C:\\dcc-fellowship-ciencia-de-dados\\Alimentos cesta básica_excel.xltx')"
      ]
    },
    {
      "cell_type": "code",
      "execution_count": 4,
      "metadata": {
        "colab": {
          "base_uri": "https://localhost:8080/",
          "height": 302
        },
        "id": "AJJhAiKLcaN7",
        "outputId": "ec166dc7-f8ce-47aa-b341-572ec33352fd"
      },
      "outputs": [
        {
          "data": {
            "text/html": [
              "<div>\n",
              "<style scoped>\n",
              "    .dataframe tbody tr th:only-of-type {\n",
              "        vertical-align: middle;\n",
              "    }\n",
              "\n",
              "    .dataframe tbody tr th {\n",
              "        vertical-align: top;\n",
              "    }\n",
              "\n",
              "    .dataframe thead th {\n",
              "        text-align: right;\n",
              "    }\n",
              "</style>\n",
              "<table border=\"1\" class=\"dataframe\">\n",
              "  <thead>\n",
              "    <tr style=\"text-align: right;\">\n",
              "      <th></th>\n",
              "      <th>Ano</th>\n",
              "      <th>Arroz (em casca)</th>\n",
              "      <th>Banana (cacho)</th>\n",
              "      <th>Batata-inglesa</th>\n",
              "      <th>Café (em grão) Total</th>\n",
              "      <th>Cana-de-açúcar</th>\n",
              "      <th>Feijão (em grão)</th>\n",
              "      <th>Laranja</th>\n",
              "      <th>Mandioca</th>\n",
              "      <th>Milho (em grão)</th>\n",
              "      <th>Soja (em grão)</th>\n",
              "      <th>Tomate</th>\n",
              "      <th>Trigo (em grão)</th>\n",
              "    </tr>\n",
              "  </thead>\n",
              "  <tbody>\n",
              "    <tr>\n",
              "      <th>0</th>\n",
              "      <td>1974</td>\n",
              "      <td>6764038</td>\n",
              "      <td>352761</td>\n",
              "      <td>1672498</td>\n",
              "      <td>3230618</td>\n",
              "      <td>95623685</td>\n",
              "      <td>2238012</td>\n",
              "      <td>29594708</td>\n",
              "      <td>24797636</td>\n",
              "      <td>16273227</td>\n",
              "      <td>7876527</td>\n",
              "      <td>1144037</td>\n",
              "      <td>2858530</td>\n",
              "    </tr>\n",
              "    <tr>\n",
              "      <th>1</th>\n",
              "      <td>1975</td>\n",
              "      <td>7781538</td>\n",
              "      <td>363684</td>\n",
              "      <td>1654767</td>\n",
              "      <td>2544596</td>\n",
              "      <td>91524559</td>\n",
              "      <td>2282466</td>\n",
              "      <td>31565854</td>\n",
              "      <td>26117614</td>\n",
              "      <td>16334516</td>\n",
              "      <td>9893008</td>\n",
              "      <td>1049724</td>\n",
              "      <td>1788180</td>\n",
              "    </tr>\n",
              "    <tr>\n",
              "      <th>2</th>\n",
              "      <td>1976</td>\n",
              "      <td>9757079</td>\n",
              "      <td>381763</td>\n",
              "      <td>1897518</td>\n",
              "      <td>751969</td>\n",
              "      <td>103173449</td>\n",
              "      <td>1840315</td>\n",
              "      <td>35841350</td>\n",
              "      <td>25443053</td>\n",
              "      <td>17751077</td>\n",
              "      <td>11227123</td>\n",
              "      <td>1166888</td>\n",
              "      <td>3215745</td>\n",
              "    </tr>\n",
              "    <tr>\n",
              "      <th>3</th>\n",
              "      <td>1977</td>\n",
              "      <td>8993696</td>\n",
              "      <td>427660</td>\n",
              "      <td>1896311</td>\n",
              "      <td>1950771</td>\n",
              "      <td>120081700</td>\n",
              "      <td>2290007</td>\n",
              "      <td>35823453</td>\n",
              "      <td>25929484</td>\n",
              "      <td>19255936</td>\n",
              "      <td>12513406</td>\n",
              "      <td>1297508</td>\n",
              "      <td>2066039</td>\n",
              "    </tr>\n",
              "    <tr>\n",
              "      <th>4</th>\n",
              "      <td>1978</td>\n",
              "      <td>7296142</td>\n",
              "      <td>416025</td>\n",
              "      <td>2013882</td>\n",
              "      <td>2535323</td>\n",
              "      <td>129144950</td>\n",
              "      <td>2193977</td>\n",
              "      <td>39131682</td>\n",
              "      <td>25459408</td>\n",
              "      <td>13569401</td>\n",
              "      <td>9540577</td>\n",
              "      <td>1464558</td>\n",
              "      <td>2690888</td>\n",
              "    </tr>\n",
              "  </tbody>\n",
              "</table>\n",
              "</div>"
            ],
            "text/plain": [
              "    Ano  Arroz (em casca)  Banana (cacho)  Batata-inglesa  \\\n",
              "0  1974           6764038          352761         1672498   \n",
              "1  1975           7781538          363684         1654767   \n",
              "2  1976           9757079          381763         1897518   \n",
              "3  1977           8993696          427660         1896311   \n",
              "4  1978           7296142          416025         2013882   \n",
              "\n",
              "   Café (em grão) Total  Cana-de-açúcar  Feijão (em grão)   Laranja  Mandioca  \\\n",
              "0               3230618        95623685           2238012  29594708  24797636   \n",
              "1               2544596        91524559           2282466  31565854  26117614   \n",
              "2                751969       103173449           1840315  35841350  25443053   \n",
              "3               1950771       120081700           2290007  35823453  25929484   \n",
              "4               2535323       129144950           2193977  39131682  25459408   \n",
              "\n",
              "   Milho (em grão)  Soja (em grão)   Tomate  Trigo (em grão)  \n",
              "0         16273227         7876527  1144037          2858530  \n",
              "1         16334516         9893008  1049724          1788180  \n",
              "2         17751077        11227123  1166888          3215745  \n",
              "3         19255936        12513406  1297508          2066039  \n",
              "4         13569401         9540577  1464558          2690888  "
            ]
          },
          "execution_count": 4,
          "metadata": {},
          "output_type": "execute_result"
        }
      ],
      "source": [
        "producao.head()"
      ]
    },
    {
      "cell_type": "markdown",
      "metadata": {},
      "source": [
        "#### Análise de valores nulos"
      ]
    },
    {
      "cell_type": "code",
      "execution_count": 5,
      "metadata": {
        "colab": {
          "base_uri": "https://localhost:8080/"
        },
        "id": "ApPf8IQxd4ml",
        "outputId": "a0b02916-6560-4aa2-f9d6-4de603c3b859"
      },
      "outputs": [
        {
          "data": {
            "text/plain": [
              "Ano                     0\n",
              "Arroz (em casca)        0\n",
              "Banana (cacho)          0\n",
              "Batata-inglesa          0\n",
              "Café (em grão) Total    0\n",
              "Cana-de-açúcar          0\n",
              "Feijão (em grão)        0\n",
              "Laranja                 0\n",
              "Mandioca                0\n",
              "Milho (em grão)         0\n",
              "Soja (em grão)          0\n",
              "Tomate                  0\n",
              "Trigo (em grão)         0\n",
              "dtype: int64"
            ]
          },
          "execution_count": 5,
          "metadata": {},
          "output_type": "execute_result"
        }
      ],
      "source": [
        "producao.isnull().sum()"
      ]
    },
    {
      "cell_type": "markdown",
      "metadata": {
        "colab": {
          "base_uri": "https://localhost:8080/"
        },
        "id": "SwPkciGxePuT",
        "outputId": "7306f929-cde8-47a1-fd68-cbab7b130dbe"
      },
      "source": [
        "#### Análise de valores duplicados"
      ]
    },
    {
      "cell_type": "code",
      "execution_count": 6,
      "metadata": {
        "id": "bSAqzwgjejyM"
      },
      "outputs": [
        {
          "data": {
            "text/plain": [
              "0"
            ]
          },
          "execution_count": 6,
          "metadata": {},
          "output_type": "execute_result"
        }
      ],
      "source": [
        "producao.duplicated().sum()"
      ]
    },
    {
      "cell_type": "markdown",
      "metadata": {},
      "source": [
        "#### Centralidade, dispersão e boxplot para cada alimento da cesta básica"
      ]
    },
    {
      "cell_type": "code",
      "execution_count": 15,
      "metadata": {},
      "outputs": [
        {
          "data": {
            "text/html": [
              "<div>\n",
              "<style scoped>\n",
              "    .dataframe tbody tr th:only-of-type {\n",
              "        vertical-align: middle;\n",
              "    }\n",
              "\n",
              "    .dataframe tbody tr th {\n",
              "        vertical-align: top;\n",
              "    }\n",
              "\n",
              "    .dataframe thead th {\n",
              "        text-align: right;\n",
              "    }\n",
              "</style>\n",
              "<table border=\"1\" class=\"dataframe\">\n",
              "  <thead>\n",
              "    <tr style=\"text-align: right;\">\n",
              "      <th></th>\n",
              "      <th>Ano</th>\n",
              "      <th>Arroz (em casca)</th>\n",
              "      <th>Banana (cacho)</th>\n",
              "      <th>Batata-inglesa</th>\n",
              "      <th>Café (em grão) Total</th>\n",
              "      <th>Cana-de-açúcar</th>\n",
              "      <th>Feijão (em grão)</th>\n",
              "      <th>Laranja</th>\n",
              "      <th>Mandioca</th>\n",
              "      <th>Milho (em grão)</th>\n",
              "      <th>Soja (em grão)</th>\n",
              "      <th>Tomate</th>\n",
              "      <th>Trigo (em grão)</th>\n",
              "    </tr>\n",
              "  </thead>\n",
              "  <tbody>\n",
              "    <tr>\n",
              "      <th>count</th>\n",
              "      <td>47.000000</td>\n",
              "      <td>4.700000e+01</td>\n",
              "      <td>4.700000e+01</td>\n",
              "      <td>4.700000e+01</td>\n",
              "      <td>4.700000e+01</td>\n",
              "      <td>4.700000e+01</td>\n",
              "      <td>4.700000e+01</td>\n",
              "      <td>4.700000e+01</td>\n",
              "      <td>4.700000e+01</td>\n",
              "      <td>4.700000e+01</td>\n",
              "      <td>4.700000e+01</td>\n",
              "      <td>4.700000e+01</td>\n",
              "      <td>4.700000e+01</td>\n",
              "    </tr>\n",
              "    <tr>\n",
              "      <th>mean</th>\n",
              "      <td>1997.000000</td>\n",
              "      <td>1.032623e+07</td>\n",
              "      <td>3.176821e+06</td>\n",
              "      <td>2.761729e+06</td>\n",
              "      <td>2.792463e+06</td>\n",
              "      <td>3.975459e+08</td>\n",
              "      <td>2.720224e+06</td>\n",
              "      <td>4.988128e+07</td>\n",
              "      <td>2.309252e+07</td>\n",
              "      <td>4.125725e+07</td>\n",
              "      <td>4.250427e+07</td>\n",
              "      <td>2.824883e+06</td>\n",
              "      <td>3.912155e+06</td>\n",
              "    </tr>\n",
              "    <tr>\n",
              "      <th>std</th>\n",
              "      <td>13.711309</td>\n",
              "      <td>1.735005e+06</td>\n",
              "      <td>3.160505e+06</td>\n",
              "      <td>7.246213e+05</td>\n",
              "      <td>6.497791e+05</td>\n",
              "      <td>2.315308e+08</td>\n",
              "      <td>4.730048e+05</td>\n",
              "      <td>3.464153e+07</td>\n",
              "      <td>2.504254e+06</td>\n",
              "      <td>2.496821e+07</td>\n",
              "      <td>3.365850e+07</td>\n",
              "      <td>1.059247e+06</td>\n",
              "      <td>1.653151e+06</td>\n",
              "    </tr>\n",
              "    <tr>\n",
              "      <th>min</th>\n",
              "      <td>1974.000000</td>\n",
              "      <td>6.764038e+06</td>\n",
              "      <td>3.527610e+05</td>\n",
              "      <td>1.654767e+06</td>\n",
              "      <td>7.519690e+05</td>\n",
              "      <td>9.152456e+07</td>\n",
              "      <td>1.580546e+06</td>\n",
              "      <td>1.670790e+07</td>\n",
              "      <td>1.759319e+07</td>\n",
              "      <td>1.356940e+07</td>\n",
              "      <td>7.876527e+06</td>\n",
              "      <td>1.049724e+06</td>\n",
              "      <td>1.533871e+06</td>\n",
              "    </tr>\n",
              "    <tr>\n",
              "      <th>25%</th>\n",
              "      <td>1985.500000</td>\n",
              "      <td>9.025959e+06</td>\n",
              "      <td>4.888370e+05</td>\n",
              "      <td>2.154474e+06</td>\n",
              "      <td>2.500516e+06</td>\n",
              "      <td>2.418545e+08</td>\n",
              "      <td>2.300276e+06</td>\n",
              "      <td>1.793300e+07</td>\n",
              "      <td>2.176087e+07</td>\n",
              "      <td>2.159513e+07</td>\n",
              "      <td>1.534830e+07</td>\n",
              "      <td>1.890458e+06</td>\n",
              "      <td>2.473352e+06</td>\n",
              "    </tr>\n",
              "    <tr>\n",
              "      <th>50%</th>\n",
              "      <td>1997.000000</td>\n",
              "      <td>1.041903e+07</td>\n",
              "      <td>5.579800e+05</td>\n",
              "      <td>2.670493e+06</td>\n",
              "      <td>2.737660e+06</td>\n",
              "      <td>3.261210e+08</td>\n",
              "      <td>2.808639e+06</td>\n",
              "      <td>3.584135e+07</td>\n",
              "      <td>2.346448e+07</td>\n",
              "      <td>3.232100e+07</td>\n",
              "      <td>2.639264e+07</td>\n",
              "      <td>2.717965e+06</td>\n",
              "      <td>3.292777e+06</td>\n",
              "    </tr>\n",
              "    <tr>\n",
              "      <th>75%</th>\n",
              "      <td>2008.500000</td>\n",
              "      <td>1.162979e+07</td>\n",
              "      <td>6.753540e+06</td>\n",
              "      <td>3.549010e+06</td>\n",
              "      <td>3.050224e+06</td>\n",
              "      <td>6.684532e+08</td>\n",
              "      <td>3.051184e+06</td>\n",
              "      <td>8.139752e+07</td>\n",
              "      <td>2.496417e+07</td>\n",
              "      <td>5.373824e+07</td>\n",
              "      <td>5.884514e+07</td>\n",
              "      <td>3.810625e+06</td>\n",
              "      <td>5.640248e+06</td>\n",
              "    </tr>\n",
              "    <tr>\n",
              "      <th>max</th>\n",
              "      <td>2020.000000</td>\n",
              "      <td>1.347699e+07</td>\n",
              "      <td>7.329471e+06</td>\n",
              "      <td>3.917234e+06</td>\n",
              "      <td>4.405416e+06</td>\n",
              "      <td>7.685942e+08</td>\n",
              "      <td>3.486763e+06</td>\n",
              "      <td>1.152340e+08</td>\n",
              "      <td>2.670304e+07</td>\n",
              "      <td>1.039636e+08</td>\n",
              "      <td>1.217977e+08</td>\n",
              "      <td>4.416652e+06</td>\n",
              "      <td>6.834421e+06</td>\n",
              "    </tr>\n",
              "  </tbody>\n",
              "</table>\n",
              "</div>"
            ],
            "text/plain": [
              "               Ano  Arroz (em casca)  Banana (cacho)  Batata-inglesa  \\\n",
              "count    47.000000      4.700000e+01    4.700000e+01    4.700000e+01   \n",
              "mean   1997.000000      1.032623e+07    3.176821e+06    2.761729e+06   \n",
              "std      13.711309      1.735005e+06    3.160505e+06    7.246213e+05   \n",
              "min    1974.000000      6.764038e+06    3.527610e+05    1.654767e+06   \n",
              "25%    1985.500000      9.025959e+06    4.888370e+05    2.154474e+06   \n",
              "50%    1997.000000      1.041903e+07    5.579800e+05    2.670493e+06   \n",
              "75%    2008.500000      1.162979e+07    6.753540e+06    3.549010e+06   \n",
              "max    2020.000000      1.347699e+07    7.329471e+06    3.917234e+06   \n",
              "\n",
              "       Café (em grão) Total  Cana-de-açúcar  Feijão (em grão)       Laranja  \\\n",
              "count          4.700000e+01    4.700000e+01      4.700000e+01  4.700000e+01   \n",
              "mean           2.792463e+06    3.975459e+08      2.720224e+06  4.988128e+07   \n",
              "std            6.497791e+05    2.315308e+08      4.730048e+05  3.464153e+07   \n",
              "min            7.519690e+05    9.152456e+07      1.580546e+06  1.670790e+07   \n",
              "25%            2.500516e+06    2.418545e+08      2.300276e+06  1.793300e+07   \n",
              "50%            2.737660e+06    3.261210e+08      2.808639e+06  3.584135e+07   \n",
              "75%            3.050224e+06    6.684532e+08      3.051184e+06  8.139752e+07   \n",
              "max            4.405416e+06    7.685942e+08      3.486763e+06  1.152340e+08   \n",
              "\n",
              "           Mandioca  Milho (em grão)  Soja (em grão)        Tomate  \\\n",
              "count  4.700000e+01     4.700000e+01    4.700000e+01  4.700000e+01   \n",
              "mean   2.309252e+07     4.125725e+07    4.250427e+07  2.824883e+06   \n",
              "std    2.504254e+06     2.496821e+07    3.365850e+07  1.059247e+06   \n",
              "min    1.759319e+07     1.356940e+07    7.876527e+06  1.049724e+06   \n",
              "25%    2.176087e+07     2.159513e+07    1.534830e+07  1.890458e+06   \n",
              "50%    2.346448e+07     3.232100e+07    2.639264e+07  2.717965e+06   \n",
              "75%    2.496417e+07     5.373824e+07    5.884514e+07  3.810625e+06   \n",
              "max    2.670304e+07     1.039636e+08    1.217977e+08  4.416652e+06   \n",
              "\n",
              "       Trigo (em grão)  \n",
              "count     4.700000e+01  \n",
              "mean      3.912155e+06  \n",
              "std       1.653151e+06  \n",
              "min       1.533871e+06  \n",
              "25%       2.473352e+06  \n",
              "50%       3.292777e+06  \n",
              "75%       5.640248e+06  \n",
              "max       6.834421e+06  "
            ]
          },
          "execution_count": 15,
          "metadata": {},
          "output_type": "execute_result"
        }
      ],
      "source": [
        "producao.describe()"
      ]
    },
    {
      "cell_type": "code",
      "execution_count": null,
      "metadata": {},
      "outputs": [],
      "source": []
    },
    {
      "cell_type": "code",
      "execution_count": null,
      "metadata": {},
      "outputs": [],
      "source": []
    },
    {
      "cell_type": "code",
      "execution_count": null,
      "metadata": {},
      "outputs": [],
      "source": []
    }
  ],
  "metadata": {
    "colab": {
      "provenance": []
    },
    "kernelspec": {
      "display_name": "Python 3.9.12 ('base')",
      "language": "python",
      "name": "python3"
    },
    "language_info": {
      "codemirror_mode": {
        "name": "ipython",
        "version": 3
      },
      "file_extension": ".py",
      "mimetype": "text/x-python",
      "name": "python",
      "nbconvert_exporter": "python",
      "pygments_lexer": "ipython3",
      "version": "3.9.12"
    },
    "vscode": {
      "interpreter": {
        "hash": "3a0de9df006df342b5e4296aedaeaf87f8585c794651fec65fd5881a82402807"
      }
    }
  },
  "nbformat": 4,
  "nbformat_minor": 0
}
