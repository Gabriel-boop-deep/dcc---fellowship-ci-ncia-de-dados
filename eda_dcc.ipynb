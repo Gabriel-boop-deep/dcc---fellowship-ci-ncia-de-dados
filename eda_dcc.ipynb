{
  "cells": [
    {
      "cell_type": "markdown",
      "metadata": {},
      "source": [
        "### DCC - Sirius Education\n",
        "#### Grupo: O-PY-THA-ON"
      ]
    },
    {
      "cell_type": "markdown",
      "metadata": {},
      "source": [
        "#### Exploração inicial\n",
        "Abaixo foram feitas explorações iniciais nos dois datasets escolhidos pelo grupo\n",
        "\n",
        "* Produção Municipal Agrícola [(PAM)](https://sidra.ibge.gov.br/tabela/5457)\n",
        "* Pesquisa de Orçamentos Familiares [(POF)](https://www.ibge.gov.br/estatisticas/sociais/saude/24786-pesquisa-de-orcamentos-familiares-2.html?=&t=resultados)"
      ]
    },
    {
      "cell_type": "markdown",
      "metadata": {},
      "source": [
        "#### Imports e configurações gerais"
      ]
    },
    {
      "cell_type": "code",
      "execution_count": 1,
      "metadata": {},
      "outputs": [],
      "source": [
        "import pandas as pd\n",
        "import seaborn as sns\n",
        "import plotly.express as px"
      ]
    },
    {
      "cell_type": "code",
      "execution_count": 41,
      "metadata": {},
      "outputs": [],
      "source": [
        "producao = pd.read_excel('C:\\dcc-fellowship-ciencia-de-dados\\Alimentos cesta básica_excel.xltx', index_col= 'Ano')"
      ]
    },
    {
      "cell_type": "markdown",
      "metadata": {},
      "source": [
        "#### Verificando o shape do dataframe"
      ]
    },
    {
      "cell_type": "code",
      "execution_count": 43,
      "metadata": {},
      "outputs": [
        {
          "data": {
            "text/plain": [
              "(47, 12)"
            ]
          },
          "execution_count": 43,
          "metadata": {},
          "output_type": "execute_result"
        }
      ],
      "source": [
        "producao.shape"
      ]
    },
    {
      "cell_type": "code",
      "execution_count": 54,
      "metadata": {},
      "outputs": [
        {
          "data": {
            "text/html": [
              "<div>\n",
              "<style scoped>\n",
              "    .dataframe tbody tr th:only-of-type {\n",
              "        vertical-align: middle;\n",
              "    }\n",
              "\n",
              "    .dataframe tbody tr th {\n",
              "        vertical-align: top;\n",
              "    }\n",
              "\n",
              "    .dataframe thead th {\n",
              "        text-align: right;\n",
              "    }\n",
              "</style>\n",
              "<table border=\"1\" class=\"dataframe\">\n",
              "  <thead>\n",
              "    <tr style=\"text-align: right;\">\n",
              "      <th></th>\n",
              "      <th>Arroz (em casca)</th>\n",
              "      <th>Banana (cacho)</th>\n",
              "      <th>Batata-inglesa</th>\n",
              "      <th>Café (em grão) Total</th>\n",
              "      <th>Cana-de-açúcar</th>\n",
              "      <th>Feijão (em grão)</th>\n",
              "      <th>Laranja</th>\n",
              "      <th>Mandioca</th>\n",
              "      <th>Milho (em grão)</th>\n",
              "      <th>Soja (em grão)</th>\n",
              "      <th>Tomate</th>\n",
              "      <th>Trigo (em grão)</th>\n",
              "    </tr>\n",
              "    <tr>\n",
              "      <th>Ano</th>\n",
              "      <th></th>\n",
              "      <th></th>\n",
              "      <th></th>\n",
              "      <th></th>\n",
              "      <th></th>\n",
              "      <th></th>\n",
              "      <th></th>\n",
              "      <th></th>\n",
              "      <th></th>\n",
              "      <th></th>\n",
              "      <th></th>\n",
              "      <th></th>\n",
              "    </tr>\n",
              "  </thead>\n",
              "  <tbody>\n",
              "    <tr>\n",
              "      <th>1974</th>\n",
              "      <td>6764038</td>\n",
              "      <td>352761</td>\n",
              "      <td>1672498</td>\n",
              "      <td>3230618</td>\n",
              "      <td>95623685</td>\n",
              "      <td>2238012</td>\n",
              "      <td>29594708</td>\n",
              "      <td>24797636</td>\n",
              "      <td>16273227</td>\n",
              "      <td>7876527</td>\n",
              "      <td>1144037</td>\n",
              "      <td>2858530</td>\n",
              "    </tr>\n",
              "    <tr>\n",
              "      <th>1975</th>\n",
              "      <td>7781538</td>\n",
              "      <td>363684</td>\n",
              "      <td>1654767</td>\n",
              "      <td>2544596</td>\n",
              "      <td>91524559</td>\n",
              "      <td>2282466</td>\n",
              "      <td>31565854</td>\n",
              "      <td>26117614</td>\n",
              "      <td>16334516</td>\n",
              "      <td>9893008</td>\n",
              "      <td>1049724</td>\n",
              "      <td>1788180</td>\n",
              "    </tr>\n",
              "    <tr>\n",
              "      <th>1976</th>\n",
              "      <td>9757079</td>\n",
              "      <td>381763</td>\n",
              "      <td>1897518</td>\n",
              "      <td>751969</td>\n",
              "      <td>103173449</td>\n",
              "      <td>1840315</td>\n",
              "      <td>35841350</td>\n",
              "      <td>25443053</td>\n",
              "      <td>17751077</td>\n",
              "      <td>11227123</td>\n",
              "      <td>1166888</td>\n",
              "      <td>3215745</td>\n",
              "    </tr>\n",
              "    <tr>\n",
              "      <th>1977</th>\n",
              "      <td>8993696</td>\n",
              "      <td>427660</td>\n",
              "      <td>1896311</td>\n",
              "      <td>1950771</td>\n",
              "      <td>120081700</td>\n",
              "      <td>2290007</td>\n",
              "      <td>35823453</td>\n",
              "      <td>25929484</td>\n",
              "      <td>19255936</td>\n",
              "      <td>12513406</td>\n",
              "      <td>1297508</td>\n",
              "      <td>2066039</td>\n",
              "    </tr>\n",
              "    <tr>\n",
              "      <th>1978</th>\n",
              "      <td>7296142</td>\n",
              "      <td>416025</td>\n",
              "      <td>2013882</td>\n",
              "      <td>2535323</td>\n",
              "      <td>129144950</td>\n",
              "      <td>2193977</td>\n",
              "      <td>39131682</td>\n",
              "      <td>25459408</td>\n",
              "      <td>13569401</td>\n",
              "      <td>9540577</td>\n",
              "      <td>1464558</td>\n",
              "      <td>2690888</td>\n",
              "    </tr>\n",
              "  </tbody>\n",
              "</table>\n",
              "</div>"
            ],
            "text/plain": [
              "      Arroz (em casca)  Banana (cacho)  Batata-inglesa  Café (em grão) Total  \\\n",
              "Ano                                                                            \n",
              "1974           6764038          352761         1672498               3230618   \n",
              "1975           7781538          363684         1654767               2544596   \n",
              "1976           9757079          381763         1897518                751969   \n",
              "1977           8993696          427660         1896311               1950771   \n",
              "1978           7296142          416025         2013882               2535323   \n",
              "\n",
              "      Cana-de-açúcar  Feijão (em grão)   Laranja  Mandioca  Milho (em grão)  \\\n",
              "Ano                                                                           \n",
              "1974        95623685           2238012  29594708  24797636         16273227   \n",
              "1975        91524559           2282466  31565854  26117614         16334516   \n",
              "1976       103173449           1840315  35841350  25443053         17751077   \n",
              "1977       120081700           2290007  35823453  25929484         19255936   \n",
              "1978       129144950           2193977  39131682  25459408         13569401   \n",
              "\n",
              "      Soja (em grão)   Tomate  Trigo (em grão)  \n",
              "Ano                                             \n",
              "1974         7876527  1144037          2858530  \n",
              "1975         9893008  1049724          1788180  \n",
              "1976        11227123  1166888          3215745  \n",
              "1977        12513406  1297508          2066039  \n",
              "1978         9540577  1464558          2690888  "
            ]
          },
          "execution_count": 54,
          "metadata": {},
          "output_type": "execute_result"
        }
      ],
      "source": [
        "producao.head()"
      ]
    },
    {
      "cell_type": "markdown",
      "metadata": {},
      "source": [
        "#### Análise de valores nulos"
      ]
    },
    {
      "cell_type": "code",
      "execution_count": 44,
      "metadata": {
        "colab": {
          "base_uri": "https://localhost:8080/"
        },
        "id": "ApPf8IQxd4ml",
        "outputId": "a0b02916-6560-4aa2-f9d6-4de603c3b859"
      },
      "outputs": [
        {
          "data": {
            "text/plain": [
              "Arroz (em casca)        0\n",
              "Banana (cacho)          0\n",
              "Batata-inglesa          0\n",
              "Café (em grão) Total    0\n",
              "Cana-de-açúcar          0\n",
              "Feijão (em grão)        0\n",
              "Laranja                 0\n",
              "Mandioca                0\n",
              "Milho (em grão)         0\n",
              "Soja (em grão)          0\n",
              "Tomate                  0\n",
              "Trigo (em grão)         0\n",
              "dtype: int64"
            ]
          },
          "execution_count": 44,
          "metadata": {},
          "output_type": "execute_result"
        }
      ],
      "source": [
        "producao.isnull().sum()"
      ]
    },
    {
      "cell_type": "markdown",
      "metadata": {
        "colab": {
          "base_uri": "https://localhost:8080/"
        },
        "id": "SwPkciGxePuT",
        "outputId": "7306f929-cde8-47a1-fd68-cbab7b130dbe"
      },
      "source": [
        "#### Análise de valores duplicados"
      ]
    },
    {
      "cell_type": "code",
      "execution_count": 45,
      "metadata": {
        "id": "bSAqzwgjejyM"
      },
      "outputs": [
        {
          "data": {
            "text/plain": [
              "0"
            ]
          },
          "execution_count": 45,
          "metadata": {},
          "output_type": "execute_result"
        }
      ],
      "source": [
        "producao.duplicated().sum()"
      ]
    },
    {
      "cell_type": "markdown",
      "metadata": {},
      "source": [
        "#### Centralidade, dispersão e boxplot para cada alimento da cesta básica"
      ]
    },
    {
      "cell_type": "code",
      "execution_count": 46,
      "metadata": {},
      "outputs": [
        {
          "data": {
            "text/html": [
              "<div>\n",
              "<style scoped>\n",
              "    .dataframe tbody tr th:only-of-type {\n",
              "        vertical-align: middle;\n",
              "    }\n",
              "\n",
              "    .dataframe tbody tr th {\n",
              "        vertical-align: top;\n",
              "    }\n",
              "\n",
              "    .dataframe thead th {\n",
              "        text-align: right;\n",
              "    }\n",
              "</style>\n",
              "<table border=\"1\" class=\"dataframe\">\n",
              "  <thead>\n",
              "    <tr style=\"text-align: right;\">\n",
              "      <th></th>\n",
              "      <th>Arroz (em casca)</th>\n",
              "      <th>Banana (cacho)</th>\n",
              "      <th>Batata-inglesa</th>\n",
              "      <th>Café (em grão) Total</th>\n",
              "      <th>Cana-de-açúcar</th>\n",
              "      <th>Feijão (em grão)</th>\n",
              "      <th>Laranja</th>\n",
              "      <th>Mandioca</th>\n",
              "      <th>Milho (em grão)</th>\n",
              "      <th>Soja (em grão)</th>\n",
              "      <th>Tomate</th>\n",
              "      <th>Trigo (em grão)</th>\n",
              "    </tr>\n",
              "  </thead>\n",
              "  <tbody>\n",
              "    <tr>\n",
              "      <th>count</th>\n",
              "      <td>4.700000e+01</td>\n",
              "      <td>4.700000e+01</td>\n",
              "      <td>4.700000e+01</td>\n",
              "      <td>4.700000e+01</td>\n",
              "      <td>4.700000e+01</td>\n",
              "      <td>4.700000e+01</td>\n",
              "      <td>4.700000e+01</td>\n",
              "      <td>4.700000e+01</td>\n",
              "      <td>4.700000e+01</td>\n",
              "      <td>4.700000e+01</td>\n",
              "      <td>4.700000e+01</td>\n",
              "      <td>4.700000e+01</td>\n",
              "    </tr>\n",
              "    <tr>\n",
              "      <th>mean</th>\n",
              "      <td>1.032623e+07</td>\n",
              "      <td>3.176821e+06</td>\n",
              "      <td>2.761729e+06</td>\n",
              "      <td>2.792463e+06</td>\n",
              "      <td>3.975459e+08</td>\n",
              "      <td>2.720224e+06</td>\n",
              "      <td>4.988128e+07</td>\n",
              "      <td>2.309252e+07</td>\n",
              "      <td>4.125725e+07</td>\n",
              "      <td>4.250427e+07</td>\n",
              "      <td>2.824883e+06</td>\n",
              "      <td>3.912155e+06</td>\n",
              "    </tr>\n",
              "    <tr>\n",
              "      <th>std</th>\n",
              "      <td>1.735005e+06</td>\n",
              "      <td>3.160505e+06</td>\n",
              "      <td>7.246213e+05</td>\n",
              "      <td>6.497791e+05</td>\n",
              "      <td>2.315308e+08</td>\n",
              "      <td>4.730048e+05</td>\n",
              "      <td>3.464153e+07</td>\n",
              "      <td>2.504254e+06</td>\n",
              "      <td>2.496821e+07</td>\n",
              "      <td>3.365850e+07</td>\n",
              "      <td>1.059247e+06</td>\n",
              "      <td>1.653151e+06</td>\n",
              "    </tr>\n",
              "    <tr>\n",
              "      <th>min</th>\n",
              "      <td>6.764038e+06</td>\n",
              "      <td>3.527610e+05</td>\n",
              "      <td>1.654767e+06</td>\n",
              "      <td>7.519690e+05</td>\n",
              "      <td>9.152456e+07</td>\n",
              "      <td>1.580546e+06</td>\n",
              "      <td>1.670790e+07</td>\n",
              "      <td>1.759319e+07</td>\n",
              "      <td>1.356940e+07</td>\n",
              "      <td>7.876527e+06</td>\n",
              "      <td>1.049724e+06</td>\n",
              "      <td>1.533871e+06</td>\n",
              "    </tr>\n",
              "    <tr>\n",
              "      <th>25%</th>\n",
              "      <td>9.025959e+06</td>\n",
              "      <td>4.888370e+05</td>\n",
              "      <td>2.154474e+06</td>\n",
              "      <td>2.500516e+06</td>\n",
              "      <td>2.418545e+08</td>\n",
              "      <td>2.300276e+06</td>\n",
              "      <td>1.793300e+07</td>\n",
              "      <td>2.176087e+07</td>\n",
              "      <td>2.159513e+07</td>\n",
              "      <td>1.534830e+07</td>\n",
              "      <td>1.890458e+06</td>\n",
              "      <td>2.473352e+06</td>\n",
              "    </tr>\n",
              "    <tr>\n",
              "      <th>50%</th>\n",
              "      <td>1.041903e+07</td>\n",
              "      <td>5.579800e+05</td>\n",
              "      <td>2.670493e+06</td>\n",
              "      <td>2.737660e+06</td>\n",
              "      <td>3.261210e+08</td>\n",
              "      <td>2.808639e+06</td>\n",
              "      <td>3.584135e+07</td>\n",
              "      <td>2.346448e+07</td>\n",
              "      <td>3.232100e+07</td>\n",
              "      <td>2.639264e+07</td>\n",
              "      <td>2.717965e+06</td>\n",
              "      <td>3.292777e+06</td>\n",
              "    </tr>\n",
              "    <tr>\n",
              "      <th>75%</th>\n",
              "      <td>1.162979e+07</td>\n",
              "      <td>6.753540e+06</td>\n",
              "      <td>3.549010e+06</td>\n",
              "      <td>3.050224e+06</td>\n",
              "      <td>6.684532e+08</td>\n",
              "      <td>3.051184e+06</td>\n",
              "      <td>8.139752e+07</td>\n",
              "      <td>2.496417e+07</td>\n",
              "      <td>5.373824e+07</td>\n",
              "      <td>5.884514e+07</td>\n",
              "      <td>3.810625e+06</td>\n",
              "      <td>5.640248e+06</td>\n",
              "    </tr>\n",
              "    <tr>\n",
              "      <th>max</th>\n",
              "      <td>1.347699e+07</td>\n",
              "      <td>7.329471e+06</td>\n",
              "      <td>3.917234e+06</td>\n",
              "      <td>4.405416e+06</td>\n",
              "      <td>7.685942e+08</td>\n",
              "      <td>3.486763e+06</td>\n",
              "      <td>1.152340e+08</td>\n",
              "      <td>2.670304e+07</td>\n",
              "      <td>1.039636e+08</td>\n",
              "      <td>1.217977e+08</td>\n",
              "      <td>4.416652e+06</td>\n",
              "      <td>6.834421e+06</td>\n",
              "    </tr>\n",
              "  </tbody>\n",
              "</table>\n",
              "</div>"
            ],
            "text/plain": [
              "       Arroz (em casca)  Banana (cacho)  Batata-inglesa  Café (em grão) Total  \\\n",
              "count      4.700000e+01    4.700000e+01    4.700000e+01          4.700000e+01   \n",
              "mean       1.032623e+07    3.176821e+06    2.761729e+06          2.792463e+06   \n",
              "std        1.735005e+06    3.160505e+06    7.246213e+05          6.497791e+05   \n",
              "min        6.764038e+06    3.527610e+05    1.654767e+06          7.519690e+05   \n",
              "25%        9.025959e+06    4.888370e+05    2.154474e+06          2.500516e+06   \n",
              "50%        1.041903e+07    5.579800e+05    2.670493e+06          2.737660e+06   \n",
              "75%        1.162979e+07    6.753540e+06    3.549010e+06          3.050224e+06   \n",
              "max        1.347699e+07    7.329471e+06    3.917234e+06          4.405416e+06   \n",
              "\n",
              "       Cana-de-açúcar  Feijão (em grão)       Laranja      Mandioca  \\\n",
              "count    4.700000e+01      4.700000e+01  4.700000e+01  4.700000e+01   \n",
              "mean     3.975459e+08      2.720224e+06  4.988128e+07  2.309252e+07   \n",
              "std      2.315308e+08      4.730048e+05  3.464153e+07  2.504254e+06   \n",
              "min      9.152456e+07      1.580546e+06  1.670790e+07  1.759319e+07   \n",
              "25%      2.418545e+08      2.300276e+06  1.793300e+07  2.176087e+07   \n",
              "50%      3.261210e+08      2.808639e+06  3.584135e+07  2.346448e+07   \n",
              "75%      6.684532e+08      3.051184e+06  8.139752e+07  2.496417e+07   \n",
              "max      7.685942e+08      3.486763e+06  1.152340e+08  2.670304e+07   \n",
              "\n",
              "       Milho (em grão)  Soja (em grão)        Tomate  Trigo (em grão)  \n",
              "count     4.700000e+01    4.700000e+01  4.700000e+01     4.700000e+01  \n",
              "mean      4.125725e+07    4.250427e+07  2.824883e+06     3.912155e+06  \n",
              "std       2.496821e+07    3.365850e+07  1.059247e+06     1.653151e+06  \n",
              "min       1.356940e+07    7.876527e+06  1.049724e+06     1.533871e+06  \n",
              "25%       2.159513e+07    1.534830e+07  1.890458e+06     2.473352e+06  \n",
              "50%       3.232100e+07    2.639264e+07  2.717965e+06     3.292777e+06  \n",
              "75%       5.373824e+07    5.884514e+07  3.810625e+06     5.640248e+06  \n",
              "max       1.039636e+08    1.217977e+08  4.416652e+06     6.834421e+06  "
            ]
          },
          "execution_count": 46,
          "metadata": {},
          "output_type": "execute_result"
        }
      ],
      "source": [
        "producao.describe()"
      ]
    },
    {
      "cell_type": "markdown",
      "metadata": {},
      "source": [
        "#### Boxplots"
      ]
    },
    {
      "cell_type": "code",
      "execution_count": 75,
      "metadata": {},
      "outputs": [
        {
          "data": {
            "application/vnd.plotly.v1+json": {
              "config": {
                "plotlyServerURL": "https://plot.ly"
              },
              "data": [
                {
                  "alignmentgroup": "True",
                  "hovertemplate": "Culturas=%{x}<br>Produção (Toneladas)=%{y}<extra></extra>",
                  "legendgroup": "",
                  "marker": {
                    "color": "#636efa"
                  },
                  "name": "",
                  "notched": false,
                  "offsetgroup": "",
                  "orientation": "v",
                  "showlegend": false,
                  "type": "box",
                  "x": [
                    "Arroz (em casca)",
                    "Arroz (em casca)",
                    "Arroz (em casca)",
                    "Arroz (em casca)",
                    "Arroz (em casca)",
                    "Arroz (em casca)",
                    "Arroz (em casca)",
                    "Arroz (em casca)",
                    "Arroz (em casca)",
                    "Arroz (em casca)",
                    "Arroz (em casca)",
                    "Arroz (em casca)",
                    "Arroz (em casca)",
                    "Arroz (em casca)",
                    "Arroz (em casca)",
                    "Arroz (em casca)",
                    "Arroz (em casca)",
                    "Arroz (em casca)",
                    "Arroz (em casca)",
                    "Arroz (em casca)",
                    "Arroz (em casca)",
                    "Arroz (em casca)",
                    "Arroz (em casca)",
                    "Arroz (em casca)",
                    "Arroz (em casca)",
                    "Arroz (em casca)",
                    "Arroz (em casca)",
                    "Arroz (em casca)",
                    "Arroz (em casca)",
                    "Arroz (em casca)",
                    "Arroz (em casca)",
                    "Arroz (em casca)",
                    "Arroz (em casca)",
                    "Arroz (em casca)",
                    "Arroz (em casca)",
                    "Arroz (em casca)",
                    "Arroz (em casca)",
                    "Arroz (em casca)",
                    "Arroz (em casca)",
                    "Arroz (em casca)",
                    "Arroz (em casca)",
                    "Arroz (em casca)",
                    "Arroz (em casca)",
                    "Arroz (em casca)",
                    "Arroz (em casca)",
                    "Arroz (em casca)",
                    "Arroz (em casca)",
                    "Banana (cacho)",
                    "Banana (cacho)",
                    "Banana (cacho)",
                    "Banana (cacho)",
                    "Banana (cacho)",
                    "Banana (cacho)",
                    "Banana (cacho)",
                    "Banana (cacho)",
                    "Banana (cacho)",
                    "Banana (cacho)",
                    "Banana (cacho)",
                    "Banana (cacho)",
                    "Banana (cacho)",
                    "Banana (cacho)",
                    "Banana (cacho)",
                    "Banana (cacho)",
                    "Banana (cacho)",
                    "Banana (cacho)",
                    "Banana (cacho)",
                    "Banana (cacho)",
                    "Banana (cacho)",
                    "Banana (cacho)",
                    "Banana (cacho)",
                    "Banana (cacho)",
                    "Banana (cacho)",
                    "Banana (cacho)",
                    "Banana (cacho)",
                    "Banana (cacho)",
                    "Banana (cacho)",
                    "Banana (cacho)",
                    "Banana (cacho)",
                    "Banana (cacho)",
                    "Banana (cacho)",
                    "Banana (cacho)",
                    "Banana (cacho)",
                    "Banana (cacho)",
                    "Banana (cacho)",
                    "Banana (cacho)",
                    "Banana (cacho)",
                    "Banana (cacho)",
                    "Banana (cacho)",
                    "Banana (cacho)",
                    "Banana (cacho)",
                    "Banana (cacho)",
                    "Banana (cacho)",
                    "Banana (cacho)",
                    "Banana (cacho)",
                    "Batata-inglesa",
                    "Batata-inglesa",
                    "Batata-inglesa",
                    "Batata-inglesa",
                    "Batata-inglesa",
                    "Batata-inglesa",
                    "Batata-inglesa",
                    "Batata-inglesa",
                    "Batata-inglesa",
                    "Batata-inglesa",
                    "Batata-inglesa",
                    "Batata-inglesa",
                    "Batata-inglesa",
                    "Batata-inglesa",
                    "Batata-inglesa",
                    "Batata-inglesa",
                    "Batata-inglesa",
                    "Batata-inglesa",
                    "Batata-inglesa",
                    "Batata-inglesa",
                    "Batata-inglesa",
                    "Batata-inglesa",
                    "Batata-inglesa",
                    "Batata-inglesa",
                    "Batata-inglesa",
                    "Batata-inglesa",
                    "Batata-inglesa",
                    "Batata-inglesa",
                    "Batata-inglesa",
                    "Batata-inglesa",
                    "Batata-inglesa",
                    "Batata-inglesa",
                    "Batata-inglesa",
                    "Batata-inglesa",
                    "Batata-inglesa",
                    "Batata-inglesa",
                    "Batata-inglesa",
                    "Batata-inglesa",
                    "Batata-inglesa",
                    "Batata-inglesa",
                    "Batata-inglesa",
                    "Batata-inglesa",
                    "Batata-inglesa",
                    "Batata-inglesa",
                    "Batata-inglesa",
                    "Batata-inglesa",
                    "Batata-inglesa",
                    "Café (em grão) Total",
                    "Café (em grão) Total",
                    "Café (em grão) Total",
                    "Café (em grão) Total",
                    "Café (em grão) Total",
                    "Café (em grão) Total",
                    "Café (em grão) Total",
                    "Café (em grão) Total",
                    "Café (em grão) Total",
                    "Café (em grão) Total",
                    "Café (em grão) Total",
                    "Café (em grão) Total",
                    "Café (em grão) Total",
                    "Café (em grão) Total",
                    "Café (em grão) Total",
                    "Café (em grão) Total",
                    "Café (em grão) Total",
                    "Café (em grão) Total",
                    "Café (em grão) Total",
                    "Café (em grão) Total",
                    "Café (em grão) Total",
                    "Café (em grão) Total",
                    "Café (em grão) Total",
                    "Café (em grão) Total",
                    "Café (em grão) Total",
                    "Café (em grão) Total",
                    "Café (em grão) Total",
                    "Café (em grão) Total",
                    "Café (em grão) Total",
                    "Café (em grão) Total",
                    "Café (em grão) Total",
                    "Café (em grão) Total",
                    "Café (em grão) Total",
                    "Café (em grão) Total",
                    "Café (em grão) Total",
                    "Café (em grão) Total",
                    "Café (em grão) Total",
                    "Café (em grão) Total",
                    "Café (em grão) Total",
                    "Café (em grão) Total",
                    "Café (em grão) Total",
                    "Café (em grão) Total",
                    "Café (em grão) Total",
                    "Café (em grão) Total",
                    "Café (em grão) Total",
                    "Café (em grão) Total",
                    "Café (em grão) Total",
                    "Cana-de-açúcar",
                    "Cana-de-açúcar",
                    "Cana-de-açúcar",
                    "Cana-de-açúcar",
                    "Cana-de-açúcar",
                    "Cana-de-açúcar",
                    "Cana-de-açúcar",
                    "Cana-de-açúcar",
                    "Cana-de-açúcar",
                    "Cana-de-açúcar",
                    "Cana-de-açúcar",
                    "Cana-de-açúcar",
                    "Cana-de-açúcar",
                    "Cana-de-açúcar",
                    "Cana-de-açúcar",
                    "Cana-de-açúcar",
                    "Cana-de-açúcar",
                    "Cana-de-açúcar",
                    "Cana-de-açúcar",
                    "Cana-de-açúcar",
                    "Cana-de-açúcar",
                    "Cana-de-açúcar",
                    "Cana-de-açúcar",
                    "Cana-de-açúcar",
                    "Cana-de-açúcar",
                    "Cana-de-açúcar",
                    "Cana-de-açúcar",
                    "Cana-de-açúcar",
                    "Cana-de-açúcar",
                    "Cana-de-açúcar",
                    "Cana-de-açúcar",
                    "Cana-de-açúcar",
                    "Cana-de-açúcar",
                    "Cana-de-açúcar",
                    "Cana-de-açúcar",
                    "Cana-de-açúcar",
                    "Cana-de-açúcar",
                    "Cana-de-açúcar",
                    "Cana-de-açúcar",
                    "Cana-de-açúcar",
                    "Cana-de-açúcar",
                    "Cana-de-açúcar",
                    "Cana-de-açúcar",
                    "Cana-de-açúcar",
                    "Cana-de-açúcar",
                    "Cana-de-açúcar",
                    "Cana-de-açúcar",
                    "Feijão (em grão)",
                    "Feijão (em grão)",
                    "Feijão (em grão)",
                    "Feijão (em grão)",
                    "Feijão (em grão)",
                    "Feijão (em grão)",
                    "Feijão (em grão)",
                    "Feijão (em grão)",
                    "Feijão (em grão)",
                    "Feijão (em grão)",
                    "Feijão (em grão)",
                    "Feijão (em grão)",
                    "Feijão (em grão)",
                    "Feijão (em grão)",
                    "Feijão (em grão)",
                    "Feijão (em grão)",
                    "Feijão (em grão)",
                    "Feijão (em grão)",
                    "Feijão (em grão)",
                    "Feijão (em grão)",
                    "Feijão (em grão)",
                    "Feijão (em grão)",
                    "Feijão (em grão)",
                    "Feijão (em grão)",
                    "Feijão (em grão)",
                    "Feijão (em grão)",
                    "Feijão (em grão)",
                    "Feijão (em grão)",
                    "Feijão (em grão)",
                    "Feijão (em grão)",
                    "Feijão (em grão)",
                    "Feijão (em grão)",
                    "Feijão (em grão)",
                    "Feijão (em grão)",
                    "Feijão (em grão)",
                    "Feijão (em grão)",
                    "Feijão (em grão)",
                    "Feijão (em grão)",
                    "Feijão (em grão)",
                    "Feijão (em grão)",
                    "Feijão (em grão)",
                    "Feijão (em grão)",
                    "Feijão (em grão)",
                    "Feijão (em grão)",
                    "Feijão (em grão)",
                    "Feijão (em grão)",
                    "Feijão (em grão)",
                    "Laranja",
                    "Laranja",
                    "Laranja",
                    "Laranja",
                    "Laranja",
                    "Laranja",
                    "Laranja",
                    "Laranja",
                    "Laranja",
                    "Laranja",
                    "Laranja",
                    "Laranja",
                    "Laranja",
                    "Laranja",
                    "Laranja",
                    "Laranja",
                    "Laranja",
                    "Laranja",
                    "Laranja",
                    "Laranja",
                    "Laranja",
                    "Laranja",
                    "Laranja",
                    "Laranja",
                    "Laranja",
                    "Laranja",
                    "Laranja",
                    "Laranja",
                    "Laranja",
                    "Laranja",
                    "Laranja",
                    "Laranja",
                    "Laranja",
                    "Laranja",
                    "Laranja",
                    "Laranja",
                    "Laranja",
                    "Laranja",
                    "Laranja",
                    "Laranja",
                    "Laranja",
                    "Laranja",
                    "Laranja",
                    "Laranja",
                    "Laranja",
                    "Laranja",
                    "Laranja",
                    "Mandioca",
                    "Mandioca",
                    "Mandioca",
                    "Mandioca",
                    "Mandioca",
                    "Mandioca",
                    "Mandioca",
                    "Mandioca",
                    "Mandioca",
                    "Mandioca",
                    "Mandioca",
                    "Mandioca",
                    "Mandioca",
                    "Mandioca",
                    "Mandioca",
                    "Mandioca",
                    "Mandioca",
                    "Mandioca",
                    "Mandioca",
                    "Mandioca",
                    "Mandioca",
                    "Mandioca",
                    "Mandioca",
                    "Mandioca",
                    "Mandioca",
                    "Mandioca",
                    "Mandioca",
                    "Mandioca",
                    "Mandioca",
                    "Mandioca",
                    "Mandioca",
                    "Mandioca",
                    "Mandioca",
                    "Mandioca",
                    "Mandioca",
                    "Mandioca",
                    "Mandioca",
                    "Mandioca",
                    "Mandioca",
                    "Mandioca",
                    "Mandioca",
                    "Mandioca",
                    "Mandioca",
                    "Mandioca",
                    "Mandioca",
                    "Mandioca",
                    "Mandioca",
                    "Milho (em grão)",
                    "Milho (em grão)",
                    "Milho (em grão)",
                    "Milho (em grão)",
                    "Milho (em grão)",
                    "Milho (em grão)",
                    "Milho (em grão)",
                    "Milho (em grão)",
                    "Milho (em grão)",
                    "Milho (em grão)",
                    "Milho (em grão)",
                    "Milho (em grão)",
                    "Milho (em grão)",
                    "Milho (em grão)",
                    "Milho (em grão)",
                    "Milho (em grão)",
                    "Milho (em grão)",
                    "Milho (em grão)",
                    "Milho (em grão)",
                    "Milho (em grão)",
                    "Milho (em grão)",
                    "Milho (em grão)",
                    "Milho (em grão)",
                    "Milho (em grão)",
                    "Milho (em grão)",
                    "Milho (em grão)",
                    "Milho (em grão)",
                    "Milho (em grão)",
                    "Milho (em grão)",
                    "Milho (em grão)",
                    "Milho (em grão)",
                    "Milho (em grão)",
                    "Milho (em grão)",
                    "Milho (em grão)",
                    "Milho (em grão)",
                    "Milho (em grão)",
                    "Milho (em grão)",
                    "Milho (em grão)",
                    "Milho (em grão)",
                    "Milho (em grão)",
                    "Milho (em grão)",
                    "Milho (em grão)",
                    "Milho (em grão)",
                    "Milho (em grão)",
                    "Milho (em grão)",
                    "Milho (em grão)",
                    "Milho (em grão)",
                    "Soja (em grão)",
                    "Soja (em grão)",
                    "Soja (em grão)",
                    "Soja (em grão)",
                    "Soja (em grão)",
                    "Soja (em grão)",
                    "Soja (em grão)",
                    "Soja (em grão)",
                    "Soja (em grão)",
                    "Soja (em grão)",
                    "Soja (em grão)",
                    "Soja (em grão)",
                    "Soja (em grão)",
                    "Soja (em grão)",
                    "Soja (em grão)",
                    "Soja (em grão)",
                    "Soja (em grão)",
                    "Soja (em grão)",
                    "Soja (em grão)",
                    "Soja (em grão)",
                    "Soja (em grão)",
                    "Soja (em grão)",
                    "Soja (em grão)",
                    "Soja (em grão)",
                    "Soja (em grão)",
                    "Soja (em grão)",
                    "Soja (em grão)",
                    "Soja (em grão)",
                    "Soja (em grão)",
                    "Soja (em grão)",
                    "Soja (em grão)",
                    "Soja (em grão)",
                    "Soja (em grão)",
                    "Soja (em grão)",
                    "Soja (em grão)",
                    "Soja (em grão)",
                    "Soja (em grão)",
                    "Soja (em grão)",
                    "Soja (em grão)",
                    "Soja (em grão)",
                    "Soja (em grão)",
                    "Soja (em grão)",
                    "Soja (em grão)",
                    "Soja (em grão)",
                    "Soja (em grão)",
                    "Soja (em grão)",
                    "Soja (em grão)",
                    "Tomate",
                    "Tomate",
                    "Tomate",
                    "Tomate",
                    "Tomate",
                    "Tomate",
                    "Tomate",
                    "Tomate",
                    "Tomate",
                    "Tomate",
                    "Tomate",
                    "Tomate",
                    "Tomate",
                    "Tomate",
                    "Tomate",
                    "Tomate",
                    "Tomate",
                    "Tomate",
                    "Tomate",
                    "Tomate",
                    "Tomate",
                    "Tomate",
                    "Tomate",
                    "Tomate",
                    "Tomate",
                    "Tomate",
                    "Tomate",
                    "Tomate",
                    "Tomate",
                    "Tomate",
                    "Tomate",
                    "Tomate",
                    "Tomate",
                    "Tomate",
                    "Tomate",
                    "Tomate",
                    "Tomate",
                    "Tomate",
                    "Tomate",
                    "Tomate",
                    "Tomate",
                    "Tomate",
                    "Tomate",
                    "Tomate",
                    "Tomate",
                    "Tomate",
                    "Tomate",
                    "Trigo (em grão)",
                    "Trigo (em grão)",
                    "Trigo (em grão)",
                    "Trigo (em grão)",
                    "Trigo (em grão)",
                    "Trigo (em grão)",
                    "Trigo (em grão)",
                    "Trigo (em grão)",
                    "Trigo (em grão)",
                    "Trigo (em grão)",
                    "Trigo (em grão)",
                    "Trigo (em grão)",
                    "Trigo (em grão)",
                    "Trigo (em grão)",
                    "Trigo (em grão)",
                    "Trigo (em grão)",
                    "Trigo (em grão)",
                    "Trigo (em grão)",
                    "Trigo (em grão)",
                    "Trigo (em grão)",
                    "Trigo (em grão)",
                    "Trigo (em grão)",
                    "Trigo (em grão)",
                    "Trigo (em grão)",
                    "Trigo (em grão)",
                    "Trigo (em grão)",
                    "Trigo (em grão)",
                    "Trigo (em grão)",
                    "Trigo (em grão)",
                    "Trigo (em grão)",
                    "Trigo (em grão)",
                    "Trigo (em grão)",
                    "Trigo (em grão)",
                    "Trigo (em grão)",
                    "Trigo (em grão)",
                    "Trigo (em grão)",
                    "Trigo (em grão)",
                    "Trigo (em grão)",
                    "Trigo (em grão)",
                    "Trigo (em grão)",
                    "Trigo (em grão)",
                    "Trigo (em grão)",
                    "Trigo (em grão)",
                    "Trigo (em grão)",
                    "Trigo (em grão)",
                    "Trigo (em grão)",
                    "Trigo (em grão)"
                  ],
                  "x0": " ",
                  "xaxis": "x",
                  "y": [
                    6764038,
                    7781538,
                    9757079,
                    8993696,
                    7296142,
                    7595214,
                    9775720,
                    8228326,
                    9734553,
                    7741753,
                    9027363,
                    9024555,
                    10374030,
                    10419029,
                    11809467,
                    11044453,
                    7420931,
                    9488007,
                    10006292,
                    10107310,
                    10540789,
                    11226064,
                    8652328,
                    8351665,
                    7716090,
                    11709694,
                    11134588,
                    10184185,
                    10445986,
                    10334603,
                    13277008,
                    13192863,
                    11526685,
                    11060741,
                    12061465,
                    12651144,
                    11235986,
                    13476994,
                    11549881,
                    11782549,
                    12175602,
                    12301201,
                    10622189,
                    12464766,
                    11808412,
                    10368639,
                    11091011,
                    352761,
                    363684,
                    381763,
                    427660,
                    416025,
                    408874,
                    448046,
                    447337,
                    454500,
                    437744,
                    470815,
                    481503,
                    505159,
                    513115,
                    511844,
                    550475,
                    550561,
                    554052,
                    562358,
                    557980,
                    572619,
                    557799,
                    496171,
                    541236,
                    532220,
                    547835,
                    566336,
                    6177293,
                    6689179,
                    6800981,
                    6583564,
                    6703400,
                    6956179,
                    7098353,
                    6998150,
                    6783490,
                    6969306,
                    7329471,
                    6902184,
                    6892622,
                    6953747,
                    6859227,
                    6625211,
                    6584967,
                    6723590,
                    6831874,
                    6637308,
                    1672498,
                    1654767,
                    1897518,
                    1896311,
                    2013882,
                    2154173,
                    1939537,
                    1912169,
                    2154775,
                    1826579,
                    2171133,
                    1946659,
                    1835975,
                    2330817,
                    2314992,
                    2132286,
                    2233721,
                    2267035,
                    2432073,
                    2367571,
                    2488461,
                    2692234,
                    2412546,
                    2670493,
                    2784181,
                    2904950,
                    2606932,
                    2848664,
                    3126411,
                    3089016,
                    3047083,
                    3130174,
                    3151721,
                    3550511,
                    3676938,
                    3443712,
                    3547510,
                    3917234,
                    3731798,
                    3553772,
                    3689836,
                    3867681,
                    3851396,
                    3655069,
                    3728953,
                    3711744,
                    3767769,
                    3230618,
                    2544596,
                    751969,
                    1950771,
                    2535323,
                    2665545,
                    2122391,
                    4064421,
                    1915861,
                    3343176,
                    2840563,
                    3821292,
                    2082811,
                    4405416,
                    2737660,
                    3059685,
                    2929711,
                    3040763,
                    2588745,
                    2557518,
                    2614578,
                    1860269,
                    2738391,
                    2457025,
                    3378731,
                    3263704,
                    3807124,
                    3639138,
                    2610524,
                    1987074,
                    2465710,
                    2140169,
                    2573368,
                    2249011,
                    2796927,
                    2440056,
                    2907265,
                    2700540,
                    3037534,
                    2964538,
                    2804070,
                    2647504,
                    3024466,
                    2684508,
                    3552729,
                    3011745,
                    3700231,
                    95623685,
                    91524559,
                    103173449,
                    120081700,
                    129144950,
                    138895318,
                    148650563,
                    155924109,
                    186646607,
                    216036958,
                    222317847,
                    247199474,
                    239178319,
                    268741069,
                    258412865,
                    252642623,
                    262674150,
                    260887893,
                    271474875,
                    244530708,
                    292101835,
                    303699497,
                    317105981,
                    331612687,
                    345254972,
                    333847720,
                    326121011,
                    344292922,
                    364389416,
                    396012158,
                    415205835,
                    422956646,
                    477410655,
                    549707314,
                    645300182,
                    691606147,
                    717463793,
                    734006059,
                    722926450,
                    768090444,
                    736108487,
                    750290277,
                    768594154,
                    758646205,
                    747556774,
                    753470465,
                    757116855,
                    2238012,
                    2282466,
                    1840315,
                    2290007,
                    2193977,
                    2186343,
                    1968165,
                    2340947,
                    2902657,
                    1580546,
                    2625676,
                    2548738,
                    2209188,
                    2007230,
                    2808639,
                    2310546,
                    2234467,
                    2744711,
                    2797138,
                    2478325,
                    3369684,
                    2946168,
                    2452036,
                    2840243,
                    2191153,
                    2830915,
                    3056289,
                    2453681,
                    3064228,
                    3302038,
                    2967007,
                    3021641,
                    3457744,
                    3169356,
                    3461194,
                    3486763,
                    3158905,
                    3435366,
                    2794854,
                    2892599,
                    3294586,
                    3088926,
                    2621267,
                    3046079,
                    2916365,
                    2908075,
                    3035290,
                    29594708,
                    31565854,
                    35841350,
                    35823453,
                    39131682,
                    42220456,
                    54459072,
                    56966660,
                    57991021,
                    58568657,
                    64722620,
                    71071533,
                    66872215,
                    73568815,
                    75565192,
                    89016188,
                    87602607,
                    94681717,
                    98411455,
                    93985944,
                    87229840,
                    99186054,
                    105395214,
                    115234005,
                    104252518,
                    114466558,
                    106651289,
                    16983436,
                    18530582,
                    16917558,
                    18313717,
                    17853443,
                    18032313,
                    18684985,
                    18538084,
                    17618450,
                    18503139,
                    19811064,
                    18012560,
                    17549536,
                    16928457,
                    16953015,
                    16980379,
                    17492882,
                    16841549,
                    17090362,
                    16707897,
                    24797636,
                    26117614,
                    25443053,
                    25929484,
                    25459408,
                    24961285,
                    23465649,
                    24516360,
                    24072320,
                    21847892,
                    21466222,
                    23124782,
                    25620600,
                    23464484,
                    21673849,
                    23668473,
                    24322133,
                    24537505,
                    21918600,
                    21855690,
                    24464293,
                    25422959,
                    17743155,
                    19896205,
                    19502717,
                    20864340,
                    23044190,
                    22580282,
                    23148303,
                    21961082,
                    23926553,
                    25872015,
                    26639013,
                    26541200,
                    26703039,
                    24403981,
                    24967052,
                    25349542,
                    23044557,
                    21484218,
                    23253514,
                    23059704,
                    21036314,
                    18501645,
                    17877163,
                    17593186,
                    18205120,
                    16273227,
                    16334516,
                    17751077,
                    19255936,
                    13569401,
                    16306380,
                    20372072,
                    21116908,
                    21842477,
                    18731216,
                    21164138,
                    22018180,
                    20530960,
                    26802769,
                    24748036,
                    26572592,
                    21347774,
                    23624340,
                    30506127,
                    30055633,
                    32487625,
                    36266951,
                    29652791,
                    32948044,
                    29601753,
                    32239479,
                    32321000,
                    41962475,
                    35940832,
                    48327323,
                    41787558,
                    35113312,
                    42661677,
                    52112217,
                    58933347,
                    50719822,
                    55364271,
                    55660235,
                    71072810,
                    80273172,
                    79881614,
                    85283074,
                    64188314,
                    97910658,
                    82366531,
                    101126409,
                    103963620,
                    7876527,
                    9893008,
                    11227123,
                    12513406,
                    9540577,
                    10240306,
                    15155804,
                    15007367,
                    12836047,
                    14582347,
                    15540792,
                    18278585,
                    13330225,
                    16968827,
                    18016170,
                    24071360,
                    19897804,
                    14937806,
                    19214705,
                    22590978,
                    24931832,
                    25682637,
                    23166874,
                    26392636,
                    31307440,
                    30987476,
                    32820826,
                    37907259,
                    42107618,
                    51919440,
                    49549941,
                    51182074,
                    52464640,
                    57857172,
                    59833105,
                    57345382,
                    68756343,
                    74815447,
                    65848857,
                    81724477,
                    86760520,
                    97464936,
                    96394820,
                    114732101,
                    117912450,
                    114316829,
                    121797712,
                    1144037,
                    1049724,
                    1166888,
                    1297508,
                    1464558,
                    1500799,
                    1535331,
                    1451713,
                    1742408,
                    1550778,
                    1817574,
                    1934610,
                    1846305,
                    2049324,
                    2406938,
                    2177467,
                    2260871,
                    2343811,
                    2141345,
                    2348498,
                    2688570,
                    2715016,
                    2648627,
                    2717965,
                    2784111,
                    3305053,
                    3004797,
                    3103363,
                    3652923,
                    3708602,
                    3515567,
                    3452973,
                    3362655,
                    3431232,
                    3867655,
                    4310477,
                    4106846,
                    4416652,
                    3873985,
                    4187646,
                    4302777,
                    4187729,
                    4166789,
                    4225414,
                    4126988,
                    3920997,
                    3753595,
                    2858530,
                    1788180,
                    3215745,
                    2066039,
                    2690888,
                    2926764,
                    2701613,
                    2209631,
                    1826945,
                    2236700,
                    1983157,
                    4320267,
                    5689680,
                    6034586,
                    5737971,
                    5552841,
                    3093791,
                    2916823,
                    2795598,
                    2197354,
                    2096259,
                    1533871,
                    3292777,
                    2489070,
                    2269847,
                    2461856,
                    1725792,
                    3366599,
                    3105658,
                    6153500,
                    5818846,
                    4658790,
                    2484848,
                    4114057,
                    6027131,
                    5055525,
                    6171250,
                    5690043,
                    4418388,
                    5738473,
                    6261895,
                    5508451,
                    6834421,
                    4342812,
                    5469236,
                    5590815,
                    6347987
                  ],
                  "y0": " ",
                  "yaxis": "y"
                }
              ],
              "layout": {
                "boxmode": "group",
                "legend": {
                  "tracegroupgap": 0
                },
                "template": {
                  "data": {
                    "bar": [
                      {
                        "error_x": {
                          "color": "#2a3f5f"
                        },
                        "error_y": {
                          "color": "#2a3f5f"
                        },
                        "marker": {
                          "line": {
                            "color": "#E5ECF6",
                            "width": 0.5
                          },
                          "pattern": {
                            "fillmode": "overlay",
                            "size": 10,
                            "solidity": 0.2
                          }
                        },
                        "type": "bar"
                      }
                    ],
                    "barpolar": [
                      {
                        "marker": {
                          "line": {
                            "color": "#E5ECF6",
                            "width": 0.5
                          },
                          "pattern": {
                            "fillmode": "overlay",
                            "size": 10,
                            "solidity": 0.2
                          }
                        },
                        "type": "barpolar"
                      }
                    ],
                    "carpet": [
                      {
                        "aaxis": {
                          "endlinecolor": "#2a3f5f",
                          "gridcolor": "white",
                          "linecolor": "white",
                          "minorgridcolor": "white",
                          "startlinecolor": "#2a3f5f"
                        },
                        "baxis": {
                          "endlinecolor": "#2a3f5f",
                          "gridcolor": "white",
                          "linecolor": "white",
                          "minorgridcolor": "white",
                          "startlinecolor": "#2a3f5f"
                        },
                        "type": "carpet"
                      }
                    ],
                    "choropleth": [
                      {
                        "colorbar": {
                          "outlinewidth": 0,
                          "ticks": ""
                        },
                        "type": "choropleth"
                      }
                    ],
                    "contour": [
                      {
                        "colorbar": {
                          "outlinewidth": 0,
                          "ticks": ""
                        },
                        "colorscale": [
                          [
                            0,
                            "#0d0887"
                          ],
                          [
                            0.1111111111111111,
                            "#46039f"
                          ],
                          [
                            0.2222222222222222,
                            "#7201a8"
                          ],
                          [
                            0.3333333333333333,
                            "#9c179e"
                          ],
                          [
                            0.4444444444444444,
                            "#bd3786"
                          ],
                          [
                            0.5555555555555556,
                            "#d8576b"
                          ],
                          [
                            0.6666666666666666,
                            "#ed7953"
                          ],
                          [
                            0.7777777777777778,
                            "#fb9f3a"
                          ],
                          [
                            0.8888888888888888,
                            "#fdca26"
                          ],
                          [
                            1,
                            "#f0f921"
                          ]
                        ],
                        "type": "contour"
                      }
                    ],
                    "contourcarpet": [
                      {
                        "colorbar": {
                          "outlinewidth": 0,
                          "ticks": ""
                        },
                        "type": "contourcarpet"
                      }
                    ],
                    "heatmap": [
                      {
                        "colorbar": {
                          "outlinewidth": 0,
                          "ticks": ""
                        },
                        "colorscale": [
                          [
                            0,
                            "#0d0887"
                          ],
                          [
                            0.1111111111111111,
                            "#46039f"
                          ],
                          [
                            0.2222222222222222,
                            "#7201a8"
                          ],
                          [
                            0.3333333333333333,
                            "#9c179e"
                          ],
                          [
                            0.4444444444444444,
                            "#bd3786"
                          ],
                          [
                            0.5555555555555556,
                            "#d8576b"
                          ],
                          [
                            0.6666666666666666,
                            "#ed7953"
                          ],
                          [
                            0.7777777777777778,
                            "#fb9f3a"
                          ],
                          [
                            0.8888888888888888,
                            "#fdca26"
                          ],
                          [
                            1,
                            "#f0f921"
                          ]
                        ],
                        "type": "heatmap"
                      }
                    ],
                    "heatmapgl": [
                      {
                        "colorbar": {
                          "outlinewidth": 0,
                          "ticks": ""
                        },
                        "colorscale": [
                          [
                            0,
                            "#0d0887"
                          ],
                          [
                            0.1111111111111111,
                            "#46039f"
                          ],
                          [
                            0.2222222222222222,
                            "#7201a8"
                          ],
                          [
                            0.3333333333333333,
                            "#9c179e"
                          ],
                          [
                            0.4444444444444444,
                            "#bd3786"
                          ],
                          [
                            0.5555555555555556,
                            "#d8576b"
                          ],
                          [
                            0.6666666666666666,
                            "#ed7953"
                          ],
                          [
                            0.7777777777777778,
                            "#fb9f3a"
                          ],
                          [
                            0.8888888888888888,
                            "#fdca26"
                          ],
                          [
                            1,
                            "#f0f921"
                          ]
                        ],
                        "type": "heatmapgl"
                      }
                    ],
                    "histogram": [
                      {
                        "marker": {
                          "pattern": {
                            "fillmode": "overlay",
                            "size": 10,
                            "solidity": 0.2
                          }
                        },
                        "type": "histogram"
                      }
                    ],
                    "histogram2d": [
                      {
                        "colorbar": {
                          "outlinewidth": 0,
                          "ticks": ""
                        },
                        "colorscale": [
                          [
                            0,
                            "#0d0887"
                          ],
                          [
                            0.1111111111111111,
                            "#46039f"
                          ],
                          [
                            0.2222222222222222,
                            "#7201a8"
                          ],
                          [
                            0.3333333333333333,
                            "#9c179e"
                          ],
                          [
                            0.4444444444444444,
                            "#bd3786"
                          ],
                          [
                            0.5555555555555556,
                            "#d8576b"
                          ],
                          [
                            0.6666666666666666,
                            "#ed7953"
                          ],
                          [
                            0.7777777777777778,
                            "#fb9f3a"
                          ],
                          [
                            0.8888888888888888,
                            "#fdca26"
                          ],
                          [
                            1,
                            "#f0f921"
                          ]
                        ],
                        "type": "histogram2d"
                      }
                    ],
                    "histogram2dcontour": [
                      {
                        "colorbar": {
                          "outlinewidth": 0,
                          "ticks": ""
                        },
                        "colorscale": [
                          [
                            0,
                            "#0d0887"
                          ],
                          [
                            0.1111111111111111,
                            "#46039f"
                          ],
                          [
                            0.2222222222222222,
                            "#7201a8"
                          ],
                          [
                            0.3333333333333333,
                            "#9c179e"
                          ],
                          [
                            0.4444444444444444,
                            "#bd3786"
                          ],
                          [
                            0.5555555555555556,
                            "#d8576b"
                          ],
                          [
                            0.6666666666666666,
                            "#ed7953"
                          ],
                          [
                            0.7777777777777778,
                            "#fb9f3a"
                          ],
                          [
                            0.8888888888888888,
                            "#fdca26"
                          ],
                          [
                            1,
                            "#f0f921"
                          ]
                        ],
                        "type": "histogram2dcontour"
                      }
                    ],
                    "mesh3d": [
                      {
                        "colorbar": {
                          "outlinewidth": 0,
                          "ticks": ""
                        },
                        "type": "mesh3d"
                      }
                    ],
                    "parcoords": [
                      {
                        "line": {
                          "colorbar": {
                            "outlinewidth": 0,
                            "ticks": ""
                          }
                        },
                        "type": "parcoords"
                      }
                    ],
                    "pie": [
                      {
                        "automargin": true,
                        "type": "pie"
                      }
                    ],
                    "scatter": [
                      {
                        "marker": {
                          "colorbar": {
                            "outlinewidth": 0,
                            "ticks": ""
                          }
                        },
                        "type": "scatter"
                      }
                    ],
                    "scatter3d": [
                      {
                        "line": {
                          "colorbar": {
                            "outlinewidth": 0,
                            "ticks": ""
                          }
                        },
                        "marker": {
                          "colorbar": {
                            "outlinewidth": 0,
                            "ticks": ""
                          }
                        },
                        "type": "scatter3d"
                      }
                    ],
                    "scattercarpet": [
                      {
                        "marker": {
                          "colorbar": {
                            "outlinewidth": 0,
                            "ticks": ""
                          }
                        },
                        "type": "scattercarpet"
                      }
                    ],
                    "scattergeo": [
                      {
                        "marker": {
                          "colorbar": {
                            "outlinewidth": 0,
                            "ticks": ""
                          }
                        },
                        "type": "scattergeo"
                      }
                    ],
                    "scattergl": [
                      {
                        "marker": {
                          "colorbar": {
                            "outlinewidth": 0,
                            "ticks": ""
                          }
                        },
                        "type": "scattergl"
                      }
                    ],
                    "scattermapbox": [
                      {
                        "marker": {
                          "colorbar": {
                            "outlinewidth": 0,
                            "ticks": ""
                          }
                        },
                        "type": "scattermapbox"
                      }
                    ],
                    "scatterpolar": [
                      {
                        "marker": {
                          "colorbar": {
                            "outlinewidth": 0,
                            "ticks": ""
                          }
                        },
                        "type": "scatterpolar"
                      }
                    ],
                    "scatterpolargl": [
                      {
                        "marker": {
                          "colorbar": {
                            "outlinewidth": 0,
                            "ticks": ""
                          }
                        },
                        "type": "scatterpolargl"
                      }
                    ],
                    "scatterternary": [
                      {
                        "marker": {
                          "colorbar": {
                            "outlinewidth": 0,
                            "ticks": ""
                          }
                        },
                        "type": "scatterternary"
                      }
                    ],
                    "surface": [
                      {
                        "colorbar": {
                          "outlinewidth": 0,
                          "ticks": ""
                        },
                        "colorscale": [
                          [
                            0,
                            "#0d0887"
                          ],
                          [
                            0.1111111111111111,
                            "#46039f"
                          ],
                          [
                            0.2222222222222222,
                            "#7201a8"
                          ],
                          [
                            0.3333333333333333,
                            "#9c179e"
                          ],
                          [
                            0.4444444444444444,
                            "#bd3786"
                          ],
                          [
                            0.5555555555555556,
                            "#d8576b"
                          ],
                          [
                            0.6666666666666666,
                            "#ed7953"
                          ],
                          [
                            0.7777777777777778,
                            "#fb9f3a"
                          ],
                          [
                            0.8888888888888888,
                            "#fdca26"
                          ],
                          [
                            1,
                            "#f0f921"
                          ]
                        ],
                        "type": "surface"
                      }
                    ],
                    "table": [
                      {
                        "cells": {
                          "fill": {
                            "color": "#EBF0F8"
                          },
                          "line": {
                            "color": "white"
                          }
                        },
                        "header": {
                          "fill": {
                            "color": "#C8D4E3"
                          },
                          "line": {
                            "color": "white"
                          }
                        },
                        "type": "table"
                      }
                    ]
                  },
                  "layout": {
                    "annotationdefaults": {
                      "arrowcolor": "#2a3f5f",
                      "arrowhead": 0,
                      "arrowwidth": 1
                    },
                    "autotypenumbers": "strict",
                    "coloraxis": {
                      "colorbar": {
                        "outlinewidth": 0,
                        "ticks": ""
                      }
                    },
                    "colorscale": {
                      "diverging": [
                        [
                          0,
                          "#8e0152"
                        ],
                        [
                          0.1,
                          "#c51b7d"
                        ],
                        [
                          0.2,
                          "#de77ae"
                        ],
                        [
                          0.3,
                          "#f1b6da"
                        ],
                        [
                          0.4,
                          "#fde0ef"
                        ],
                        [
                          0.5,
                          "#f7f7f7"
                        ],
                        [
                          0.6,
                          "#e6f5d0"
                        ],
                        [
                          0.7,
                          "#b8e186"
                        ],
                        [
                          0.8,
                          "#7fbc41"
                        ],
                        [
                          0.9,
                          "#4d9221"
                        ],
                        [
                          1,
                          "#276419"
                        ]
                      ],
                      "sequential": [
                        [
                          0,
                          "#0d0887"
                        ],
                        [
                          0.1111111111111111,
                          "#46039f"
                        ],
                        [
                          0.2222222222222222,
                          "#7201a8"
                        ],
                        [
                          0.3333333333333333,
                          "#9c179e"
                        ],
                        [
                          0.4444444444444444,
                          "#bd3786"
                        ],
                        [
                          0.5555555555555556,
                          "#d8576b"
                        ],
                        [
                          0.6666666666666666,
                          "#ed7953"
                        ],
                        [
                          0.7777777777777778,
                          "#fb9f3a"
                        ],
                        [
                          0.8888888888888888,
                          "#fdca26"
                        ],
                        [
                          1,
                          "#f0f921"
                        ]
                      ],
                      "sequentialminus": [
                        [
                          0,
                          "#0d0887"
                        ],
                        [
                          0.1111111111111111,
                          "#46039f"
                        ],
                        [
                          0.2222222222222222,
                          "#7201a8"
                        ],
                        [
                          0.3333333333333333,
                          "#9c179e"
                        ],
                        [
                          0.4444444444444444,
                          "#bd3786"
                        ],
                        [
                          0.5555555555555556,
                          "#d8576b"
                        ],
                        [
                          0.6666666666666666,
                          "#ed7953"
                        ],
                        [
                          0.7777777777777778,
                          "#fb9f3a"
                        ],
                        [
                          0.8888888888888888,
                          "#fdca26"
                        ],
                        [
                          1,
                          "#f0f921"
                        ]
                      ]
                    },
                    "colorway": [
                      "#636efa",
                      "#EF553B",
                      "#00cc96",
                      "#ab63fa",
                      "#FFA15A",
                      "#19d3f3",
                      "#FF6692",
                      "#B6E880",
                      "#FF97FF",
                      "#FECB52"
                    ],
                    "font": {
                      "color": "#2a3f5f"
                    },
                    "geo": {
                      "bgcolor": "white",
                      "lakecolor": "white",
                      "landcolor": "#E5ECF6",
                      "showlakes": true,
                      "showland": true,
                      "subunitcolor": "white"
                    },
                    "hoverlabel": {
                      "align": "left"
                    },
                    "hovermode": "closest",
                    "mapbox": {
                      "style": "light"
                    },
                    "paper_bgcolor": "white",
                    "plot_bgcolor": "#E5ECF6",
                    "polar": {
                      "angularaxis": {
                        "gridcolor": "white",
                        "linecolor": "white",
                        "ticks": ""
                      },
                      "bgcolor": "#E5ECF6",
                      "radialaxis": {
                        "gridcolor": "white",
                        "linecolor": "white",
                        "ticks": ""
                      }
                    },
                    "scene": {
                      "xaxis": {
                        "backgroundcolor": "#E5ECF6",
                        "gridcolor": "white",
                        "gridwidth": 2,
                        "linecolor": "white",
                        "showbackground": true,
                        "ticks": "",
                        "zerolinecolor": "white"
                      },
                      "yaxis": {
                        "backgroundcolor": "#E5ECF6",
                        "gridcolor": "white",
                        "gridwidth": 2,
                        "linecolor": "white",
                        "showbackground": true,
                        "ticks": "",
                        "zerolinecolor": "white"
                      },
                      "zaxis": {
                        "backgroundcolor": "#E5ECF6",
                        "gridcolor": "white",
                        "gridwidth": 2,
                        "linecolor": "white",
                        "showbackground": true,
                        "ticks": "",
                        "zerolinecolor": "white"
                      }
                    },
                    "shapedefaults": {
                      "line": {
                        "color": "#2a3f5f"
                      }
                    },
                    "ternary": {
                      "aaxis": {
                        "gridcolor": "white",
                        "linecolor": "white",
                        "ticks": ""
                      },
                      "baxis": {
                        "gridcolor": "white",
                        "linecolor": "white",
                        "ticks": ""
                      },
                      "bgcolor": "#E5ECF6",
                      "caxis": {
                        "gridcolor": "white",
                        "linecolor": "white",
                        "ticks": ""
                      }
                    },
                    "title": {
                      "x": 0.05
                    },
                    "xaxis": {
                      "automargin": true,
                      "gridcolor": "white",
                      "linecolor": "white",
                      "ticks": "",
                      "title": {
                        "standoff": 15
                      },
                      "zerolinecolor": "white",
                      "zerolinewidth": 2
                    },
                    "yaxis": {
                      "automargin": true,
                      "gridcolor": "white",
                      "linecolor": "white",
                      "ticks": "",
                      "title": {
                        "standoff": 15
                      },
                      "zerolinecolor": "white",
                      "zerolinewidth": 2
                    }
                  }
                },
                "title": {
                  "text": "Análise da disperção"
                },
                "xaxis": {
                  "anchor": "y",
                  "domain": [
                    0,
                    1
                  ],
                  "title": {
                    "text": "Culturas"
                  }
                },
                "yaxis": {
                  "anchor": "x",
                  "domain": [
                    0,
                    1
                  ],
                  "title": {
                    "text": "Produção (Toneladas)"
                  }
                }
              }
            }
          },
          "metadata": {},
          "output_type": "display_data"
        }
      ],
      "source": [
        "px.box(producao, title = 'Análise da disperção', labels = {'value': 'Produção (Toneladas)', 'variable' : 'Culturas'} )\n"
      ]
    },
    {
      "cell_type": "markdown",
      "metadata": {},
      "source": [
        "#### Avaliando o crescimento histórico das culturas"
      ]
    },
    {
      "cell_type": "code",
      "execution_count": 73,
      "metadata": {},
      "outputs": [
        {
          "data": {
            "application/vnd.plotly.v1+json": {
              "config": {
                "plotlyServerURL": "https://plot.ly"
              },
              "data": [
                {
                  "hovertemplate": "Culturas=Arroz (em casca)<br>Ano=%{x}<br>Produção (Toneladas)=%{y}<extra></extra>",
                  "legendgroup": "Arroz (em casca)",
                  "marker": {
                    "color": "#636efa",
                    "symbol": "circle"
                  },
                  "mode": "markers",
                  "name": "Arroz (em casca)",
                  "orientation": "v",
                  "showlegend": true,
                  "type": "scatter",
                  "x": [
                    1974,
                    1975,
                    1976,
                    1977,
                    1978,
                    1979,
                    1980,
                    1981,
                    1982,
                    1983,
                    1984,
                    1985,
                    1986,
                    1987,
                    1988,
                    1989,
                    1990,
                    1991,
                    1992,
                    1993,
                    1994,
                    1995,
                    1996,
                    1997,
                    1998,
                    1999,
                    2000,
                    2001,
                    2002,
                    2003,
                    2004,
                    2005,
                    2006,
                    2007,
                    2008,
                    2009,
                    2010,
                    2011,
                    2012,
                    2013,
                    2014,
                    2015,
                    2016,
                    2017,
                    2018,
                    2019,
                    2020
                  ],
                  "xaxis": "x",
                  "y": [
                    6764038,
                    7781538,
                    9757079,
                    8993696,
                    7296142,
                    7595214,
                    9775720,
                    8228326,
                    9734553,
                    7741753,
                    9027363,
                    9024555,
                    10374030,
                    10419029,
                    11809467,
                    11044453,
                    7420931,
                    9488007,
                    10006292,
                    10107310,
                    10540789,
                    11226064,
                    8652328,
                    8351665,
                    7716090,
                    11709694,
                    11134588,
                    10184185,
                    10445986,
                    10334603,
                    13277008,
                    13192863,
                    11526685,
                    11060741,
                    12061465,
                    12651144,
                    11235986,
                    13476994,
                    11549881,
                    11782549,
                    12175602,
                    12301201,
                    10622189,
                    12464766,
                    11808412,
                    10368639,
                    11091011
                  ],
                  "yaxis": "y"
                },
                {
                  "hovertemplate": "Culturas=Banana (cacho)<br>Ano=%{x}<br>Produção (Toneladas)=%{y}<extra></extra>",
                  "legendgroup": "Banana (cacho)",
                  "marker": {
                    "color": "#EF553B",
                    "symbol": "circle"
                  },
                  "mode": "markers",
                  "name": "Banana (cacho)",
                  "orientation": "v",
                  "showlegend": true,
                  "type": "scatter",
                  "x": [
                    1974,
                    1975,
                    1976,
                    1977,
                    1978,
                    1979,
                    1980,
                    1981,
                    1982,
                    1983,
                    1984,
                    1985,
                    1986,
                    1987,
                    1988,
                    1989,
                    1990,
                    1991,
                    1992,
                    1993,
                    1994,
                    1995,
                    1996,
                    1997,
                    1998,
                    1999,
                    2000,
                    2001,
                    2002,
                    2003,
                    2004,
                    2005,
                    2006,
                    2007,
                    2008,
                    2009,
                    2010,
                    2011,
                    2012,
                    2013,
                    2014,
                    2015,
                    2016,
                    2017,
                    2018,
                    2019,
                    2020
                  ],
                  "xaxis": "x",
                  "y": [
                    352761,
                    363684,
                    381763,
                    427660,
                    416025,
                    408874,
                    448046,
                    447337,
                    454500,
                    437744,
                    470815,
                    481503,
                    505159,
                    513115,
                    511844,
                    550475,
                    550561,
                    554052,
                    562358,
                    557980,
                    572619,
                    557799,
                    496171,
                    541236,
                    532220,
                    547835,
                    566336,
                    6177293,
                    6689179,
                    6800981,
                    6583564,
                    6703400,
                    6956179,
                    7098353,
                    6998150,
                    6783490,
                    6969306,
                    7329471,
                    6902184,
                    6892622,
                    6953747,
                    6859227,
                    6625211,
                    6584967,
                    6723590,
                    6831874,
                    6637308
                  ],
                  "yaxis": "y"
                },
                {
                  "hovertemplate": "Culturas=Batata-inglesa<br>Ano=%{x}<br>Produção (Toneladas)=%{y}<extra></extra>",
                  "legendgroup": "Batata-inglesa",
                  "marker": {
                    "color": "#00cc96",
                    "symbol": "circle"
                  },
                  "mode": "markers",
                  "name": "Batata-inglesa",
                  "orientation": "v",
                  "showlegend": true,
                  "type": "scatter",
                  "x": [
                    1974,
                    1975,
                    1976,
                    1977,
                    1978,
                    1979,
                    1980,
                    1981,
                    1982,
                    1983,
                    1984,
                    1985,
                    1986,
                    1987,
                    1988,
                    1989,
                    1990,
                    1991,
                    1992,
                    1993,
                    1994,
                    1995,
                    1996,
                    1997,
                    1998,
                    1999,
                    2000,
                    2001,
                    2002,
                    2003,
                    2004,
                    2005,
                    2006,
                    2007,
                    2008,
                    2009,
                    2010,
                    2011,
                    2012,
                    2013,
                    2014,
                    2015,
                    2016,
                    2017,
                    2018,
                    2019,
                    2020
                  ],
                  "xaxis": "x",
                  "y": [
                    1672498,
                    1654767,
                    1897518,
                    1896311,
                    2013882,
                    2154173,
                    1939537,
                    1912169,
                    2154775,
                    1826579,
                    2171133,
                    1946659,
                    1835975,
                    2330817,
                    2314992,
                    2132286,
                    2233721,
                    2267035,
                    2432073,
                    2367571,
                    2488461,
                    2692234,
                    2412546,
                    2670493,
                    2784181,
                    2904950,
                    2606932,
                    2848664,
                    3126411,
                    3089016,
                    3047083,
                    3130174,
                    3151721,
                    3550511,
                    3676938,
                    3443712,
                    3547510,
                    3917234,
                    3731798,
                    3553772,
                    3689836,
                    3867681,
                    3851396,
                    3655069,
                    3728953,
                    3711744,
                    3767769
                  ],
                  "yaxis": "y"
                },
                {
                  "hovertemplate": "Culturas=Café (em grão) Total<br>Ano=%{x}<br>Produção (Toneladas)=%{y}<extra></extra>",
                  "legendgroup": "Café (em grão) Total",
                  "marker": {
                    "color": "#ab63fa",
                    "symbol": "circle"
                  },
                  "mode": "markers",
                  "name": "Café (em grão) Total",
                  "orientation": "v",
                  "showlegend": true,
                  "type": "scatter",
                  "x": [
                    1974,
                    1975,
                    1976,
                    1977,
                    1978,
                    1979,
                    1980,
                    1981,
                    1982,
                    1983,
                    1984,
                    1985,
                    1986,
                    1987,
                    1988,
                    1989,
                    1990,
                    1991,
                    1992,
                    1993,
                    1994,
                    1995,
                    1996,
                    1997,
                    1998,
                    1999,
                    2000,
                    2001,
                    2002,
                    2003,
                    2004,
                    2005,
                    2006,
                    2007,
                    2008,
                    2009,
                    2010,
                    2011,
                    2012,
                    2013,
                    2014,
                    2015,
                    2016,
                    2017,
                    2018,
                    2019,
                    2020
                  ],
                  "xaxis": "x",
                  "y": [
                    3230618,
                    2544596,
                    751969,
                    1950771,
                    2535323,
                    2665545,
                    2122391,
                    4064421,
                    1915861,
                    3343176,
                    2840563,
                    3821292,
                    2082811,
                    4405416,
                    2737660,
                    3059685,
                    2929711,
                    3040763,
                    2588745,
                    2557518,
                    2614578,
                    1860269,
                    2738391,
                    2457025,
                    3378731,
                    3263704,
                    3807124,
                    3639138,
                    2610524,
                    1987074,
                    2465710,
                    2140169,
                    2573368,
                    2249011,
                    2796927,
                    2440056,
                    2907265,
                    2700540,
                    3037534,
                    2964538,
                    2804070,
                    2647504,
                    3024466,
                    2684508,
                    3552729,
                    3011745,
                    3700231
                  ],
                  "yaxis": "y"
                },
                {
                  "hovertemplate": "Culturas=Cana-de-açúcar<br>Ano=%{x}<br>Produção (Toneladas)=%{y}<extra></extra>",
                  "legendgroup": "Cana-de-açúcar",
                  "marker": {
                    "color": "#FFA15A",
                    "symbol": "circle"
                  },
                  "mode": "markers",
                  "name": "Cana-de-açúcar",
                  "orientation": "v",
                  "showlegend": true,
                  "type": "scatter",
                  "x": [
                    1974,
                    1975,
                    1976,
                    1977,
                    1978,
                    1979,
                    1980,
                    1981,
                    1982,
                    1983,
                    1984,
                    1985,
                    1986,
                    1987,
                    1988,
                    1989,
                    1990,
                    1991,
                    1992,
                    1993,
                    1994,
                    1995,
                    1996,
                    1997,
                    1998,
                    1999,
                    2000,
                    2001,
                    2002,
                    2003,
                    2004,
                    2005,
                    2006,
                    2007,
                    2008,
                    2009,
                    2010,
                    2011,
                    2012,
                    2013,
                    2014,
                    2015,
                    2016,
                    2017,
                    2018,
                    2019,
                    2020
                  ],
                  "xaxis": "x",
                  "y": [
                    95623685,
                    91524559,
                    103173449,
                    120081700,
                    129144950,
                    138895318,
                    148650563,
                    155924109,
                    186646607,
                    216036958,
                    222317847,
                    247199474,
                    239178319,
                    268741069,
                    258412865,
                    252642623,
                    262674150,
                    260887893,
                    271474875,
                    244530708,
                    292101835,
                    303699497,
                    317105981,
                    331612687,
                    345254972,
                    333847720,
                    326121011,
                    344292922,
                    364389416,
                    396012158,
                    415205835,
                    422956646,
                    477410655,
                    549707314,
                    645300182,
                    691606147,
                    717463793,
                    734006059,
                    722926450,
                    768090444,
                    736108487,
                    750290277,
                    768594154,
                    758646205,
                    747556774,
                    753470465,
                    757116855
                  ],
                  "yaxis": "y"
                },
                {
                  "hovertemplate": "Culturas=Feijão (em grão)<br>Ano=%{x}<br>Produção (Toneladas)=%{y}<extra></extra>",
                  "legendgroup": "Feijão (em grão)",
                  "marker": {
                    "color": "#19d3f3",
                    "symbol": "circle"
                  },
                  "mode": "markers",
                  "name": "Feijão (em grão)",
                  "orientation": "v",
                  "showlegend": true,
                  "type": "scatter",
                  "x": [
                    1974,
                    1975,
                    1976,
                    1977,
                    1978,
                    1979,
                    1980,
                    1981,
                    1982,
                    1983,
                    1984,
                    1985,
                    1986,
                    1987,
                    1988,
                    1989,
                    1990,
                    1991,
                    1992,
                    1993,
                    1994,
                    1995,
                    1996,
                    1997,
                    1998,
                    1999,
                    2000,
                    2001,
                    2002,
                    2003,
                    2004,
                    2005,
                    2006,
                    2007,
                    2008,
                    2009,
                    2010,
                    2011,
                    2012,
                    2013,
                    2014,
                    2015,
                    2016,
                    2017,
                    2018,
                    2019,
                    2020
                  ],
                  "xaxis": "x",
                  "y": [
                    2238012,
                    2282466,
                    1840315,
                    2290007,
                    2193977,
                    2186343,
                    1968165,
                    2340947,
                    2902657,
                    1580546,
                    2625676,
                    2548738,
                    2209188,
                    2007230,
                    2808639,
                    2310546,
                    2234467,
                    2744711,
                    2797138,
                    2478325,
                    3369684,
                    2946168,
                    2452036,
                    2840243,
                    2191153,
                    2830915,
                    3056289,
                    2453681,
                    3064228,
                    3302038,
                    2967007,
                    3021641,
                    3457744,
                    3169356,
                    3461194,
                    3486763,
                    3158905,
                    3435366,
                    2794854,
                    2892599,
                    3294586,
                    3088926,
                    2621267,
                    3046079,
                    2916365,
                    2908075,
                    3035290
                  ],
                  "yaxis": "y"
                },
                {
                  "hovertemplate": "Culturas=Laranja<br>Ano=%{x}<br>Produção (Toneladas)=%{y}<extra></extra>",
                  "legendgroup": "Laranja",
                  "marker": {
                    "color": "#FF6692",
                    "symbol": "circle"
                  },
                  "mode": "markers",
                  "name": "Laranja",
                  "orientation": "v",
                  "showlegend": true,
                  "type": "scatter",
                  "x": [
                    1974,
                    1975,
                    1976,
                    1977,
                    1978,
                    1979,
                    1980,
                    1981,
                    1982,
                    1983,
                    1984,
                    1985,
                    1986,
                    1987,
                    1988,
                    1989,
                    1990,
                    1991,
                    1992,
                    1993,
                    1994,
                    1995,
                    1996,
                    1997,
                    1998,
                    1999,
                    2000,
                    2001,
                    2002,
                    2003,
                    2004,
                    2005,
                    2006,
                    2007,
                    2008,
                    2009,
                    2010,
                    2011,
                    2012,
                    2013,
                    2014,
                    2015,
                    2016,
                    2017,
                    2018,
                    2019,
                    2020
                  ],
                  "xaxis": "x",
                  "y": [
                    29594708,
                    31565854,
                    35841350,
                    35823453,
                    39131682,
                    42220456,
                    54459072,
                    56966660,
                    57991021,
                    58568657,
                    64722620,
                    71071533,
                    66872215,
                    73568815,
                    75565192,
                    89016188,
                    87602607,
                    94681717,
                    98411455,
                    93985944,
                    87229840,
                    99186054,
                    105395214,
                    115234005,
                    104252518,
                    114466558,
                    106651289,
                    16983436,
                    18530582,
                    16917558,
                    18313717,
                    17853443,
                    18032313,
                    18684985,
                    18538084,
                    17618450,
                    18503139,
                    19811064,
                    18012560,
                    17549536,
                    16928457,
                    16953015,
                    16980379,
                    17492882,
                    16841549,
                    17090362,
                    16707897
                  ],
                  "yaxis": "y"
                },
                {
                  "hovertemplate": "Culturas=Mandioca<br>Ano=%{x}<br>Produção (Toneladas)=%{y}<extra></extra>",
                  "legendgroup": "Mandioca",
                  "marker": {
                    "color": "#B6E880",
                    "symbol": "circle"
                  },
                  "mode": "markers",
                  "name": "Mandioca",
                  "orientation": "v",
                  "showlegend": true,
                  "type": "scatter",
                  "x": [
                    1974,
                    1975,
                    1976,
                    1977,
                    1978,
                    1979,
                    1980,
                    1981,
                    1982,
                    1983,
                    1984,
                    1985,
                    1986,
                    1987,
                    1988,
                    1989,
                    1990,
                    1991,
                    1992,
                    1993,
                    1994,
                    1995,
                    1996,
                    1997,
                    1998,
                    1999,
                    2000,
                    2001,
                    2002,
                    2003,
                    2004,
                    2005,
                    2006,
                    2007,
                    2008,
                    2009,
                    2010,
                    2011,
                    2012,
                    2013,
                    2014,
                    2015,
                    2016,
                    2017,
                    2018,
                    2019,
                    2020
                  ],
                  "xaxis": "x",
                  "y": [
                    24797636,
                    26117614,
                    25443053,
                    25929484,
                    25459408,
                    24961285,
                    23465649,
                    24516360,
                    24072320,
                    21847892,
                    21466222,
                    23124782,
                    25620600,
                    23464484,
                    21673849,
                    23668473,
                    24322133,
                    24537505,
                    21918600,
                    21855690,
                    24464293,
                    25422959,
                    17743155,
                    19896205,
                    19502717,
                    20864340,
                    23044190,
                    22580282,
                    23148303,
                    21961082,
                    23926553,
                    25872015,
                    26639013,
                    26541200,
                    26703039,
                    24403981,
                    24967052,
                    25349542,
                    23044557,
                    21484218,
                    23253514,
                    23059704,
                    21036314,
                    18501645,
                    17877163,
                    17593186,
                    18205120
                  ],
                  "yaxis": "y"
                },
                {
                  "hovertemplate": "Culturas=Milho (em grão)<br>Ano=%{x}<br>Produção (Toneladas)=%{y}<extra></extra>",
                  "legendgroup": "Milho (em grão)",
                  "marker": {
                    "color": "#FF97FF",
                    "symbol": "circle"
                  },
                  "mode": "markers",
                  "name": "Milho (em grão)",
                  "orientation": "v",
                  "showlegend": true,
                  "type": "scatter",
                  "x": [
                    1974,
                    1975,
                    1976,
                    1977,
                    1978,
                    1979,
                    1980,
                    1981,
                    1982,
                    1983,
                    1984,
                    1985,
                    1986,
                    1987,
                    1988,
                    1989,
                    1990,
                    1991,
                    1992,
                    1993,
                    1994,
                    1995,
                    1996,
                    1997,
                    1998,
                    1999,
                    2000,
                    2001,
                    2002,
                    2003,
                    2004,
                    2005,
                    2006,
                    2007,
                    2008,
                    2009,
                    2010,
                    2011,
                    2012,
                    2013,
                    2014,
                    2015,
                    2016,
                    2017,
                    2018,
                    2019,
                    2020
                  ],
                  "xaxis": "x",
                  "y": [
                    16273227,
                    16334516,
                    17751077,
                    19255936,
                    13569401,
                    16306380,
                    20372072,
                    21116908,
                    21842477,
                    18731216,
                    21164138,
                    22018180,
                    20530960,
                    26802769,
                    24748036,
                    26572592,
                    21347774,
                    23624340,
                    30506127,
                    30055633,
                    32487625,
                    36266951,
                    29652791,
                    32948044,
                    29601753,
                    32239479,
                    32321000,
                    41962475,
                    35940832,
                    48327323,
                    41787558,
                    35113312,
                    42661677,
                    52112217,
                    58933347,
                    50719822,
                    55364271,
                    55660235,
                    71072810,
                    80273172,
                    79881614,
                    85283074,
                    64188314,
                    97910658,
                    82366531,
                    101126409,
                    103963620
                  ],
                  "yaxis": "y"
                },
                {
                  "hovertemplate": "Culturas=Soja (em grão)<br>Ano=%{x}<br>Produção (Toneladas)=%{y}<extra></extra>",
                  "legendgroup": "Soja (em grão)",
                  "marker": {
                    "color": "#FECB52",
                    "symbol": "circle"
                  },
                  "mode": "markers",
                  "name": "Soja (em grão)",
                  "orientation": "v",
                  "showlegend": true,
                  "type": "scatter",
                  "x": [
                    1974,
                    1975,
                    1976,
                    1977,
                    1978,
                    1979,
                    1980,
                    1981,
                    1982,
                    1983,
                    1984,
                    1985,
                    1986,
                    1987,
                    1988,
                    1989,
                    1990,
                    1991,
                    1992,
                    1993,
                    1994,
                    1995,
                    1996,
                    1997,
                    1998,
                    1999,
                    2000,
                    2001,
                    2002,
                    2003,
                    2004,
                    2005,
                    2006,
                    2007,
                    2008,
                    2009,
                    2010,
                    2011,
                    2012,
                    2013,
                    2014,
                    2015,
                    2016,
                    2017,
                    2018,
                    2019,
                    2020
                  ],
                  "xaxis": "x",
                  "y": [
                    7876527,
                    9893008,
                    11227123,
                    12513406,
                    9540577,
                    10240306,
                    15155804,
                    15007367,
                    12836047,
                    14582347,
                    15540792,
                    18278585,
                    13330225,
                    16968827,
                    18016170,
                    24071360,
                    19897804,
                    14937806,
                    19214705,
                    22590978,
                    24931832,
                    25682637,
                    23166874,
                    26392636,
                    31307440,
                    30987476,
                    32820826,
                    37907259,
                    42107618,
                    51919440,
                    49549941,
                    51182074,
                    52464640,
                    57857172,
                    59833105,
                    57345382,
                    68756343,
                    74815447,
                    65848857,
                    81724477,
                    86760520,
                    97464936,
                    96394820,
                    114732101,
                    117912450,
                    114316829,
                    121797712
                  ],
                  "yaxis": "y"
                },
                {
                  "hovertemplate": "Culturas=Tomate<br>Ano=%{x}<br>Produção (Toneladas)=%{y}<extra></extra>",
                  "legendgroup": "Tomate",
                  "marker": {
                    "color": "#636efa",
                    "symbol": "circle"
                  },
                  "mode": "markers",
                  "name": "Tomate",
                  "orientation": "v",
                  "showlegend": true,
                  "type": "scatter",
                  "x": [
                    1974,
                    1975,
                    1976,
                    1977,
                    1978,
                    1979,
                    1980,
                    1981,
                    1982,
                    1983,
                    1984,
                    1985,
                    1986,
                    1987,
                    1988,
                    1989,
                    1990,
                    1991,
                    1992,
                    1993,
                    1994,
                    1995,
                    1996,
                    1997,
                    1998,
                    1999,
                    2000,
                    2001,
                    2002,
                    2003,
                    2004,
                    2005,
                    2006,
                    2007,
                    2008,
                    2009,
                    2010,
                    2011,
                    2012,
                    2013,
                    2014,
                    2015,
                    2016,
                    2017,
                    2018,
                    2019,
                    2020
                  ],
                  "xaxis": "x",
                  "y": [
                    1144037,
                    1049724,
                    1166888,
                    1297508,
                    1464558,
                    1500799,
                    1535331,
                    1451713,
                    1742408,
                    1550778,
                    1817574,
                    1934610,
                    1846305,
                    2049324,
                    2406938,
                    2177467,
                    2260871,
                    2343811,
                    2141345,
                    2348498,
                    2688570,
                    2715016,
                    2648627,
                    2717965,
                    2784111,
                    3305053,
                    3004797,
                    3103363,
                    3652923,
                    3708602,
                    3515567,
                    3452973,
                    3362655,
                    3431232,
                    3867655,
                    4310477,
                    4106846,
                    4416652,
                    3873985,
                    4187646,
                    4302777,
                    4187729,
                    4166789,
                    4225414,
                    4126988,
                    3920997,
                    3753595
                  ],
                  "yaxis": "y"
                },
                {
                  "hovertemplate": "Culturas=Trigo (em grão)<br>Ano=%{x}<br>Produção (Toneladas)=%{y}<extra></extra>",
                  "legendgroup": "Trigo (em grão)",
                  "marker": {
                    "color": "#EF553B",
                    "symbol": "circle"
                  },
                  "mode": "markers",
                  "name": "Trigo (em grão)",
                  "orientation": "v",
                  "showlegend": true,
                  "type": "scatter",
                  "x": [
                    1974,
                    1975,
                    1976,
                    1977,
                    1978,
                    1979,
                    1980,
                    1981,
                    1982,
                    1983,
                    1984,
                    1985,
                    1986,
                    1987,
                    1988,
                    1989,
                    1990,
                    1991,
                    1992,
                    1993,
                    1994,
                    1995,
                    1996,
                    1997,
                    1998,
                    1999,
                    2000,
                    2001,
                    2002,
                    2003,
                    2004,
                    2005,
                    2006,
                    2007,
                    2008,
                    2009,
                    2010,
                    2011,
                    2012,
                    2013,
                    2014,
                    2015,
                    2016,
                    2017,
                    2018,
                    2019,
                    2020
                  ],
                  "xaxis": "x",
                  "y": [
                    2858530,
                    1788180,
                    3215745,
                    2066039,
                    2690888,
                    2926764,
                    2701613,
                    2209631,
                    1826945,
                    2236700,
                    1983157,
                    4320267,
                    5689680,
                    6034586,
                    5737971,
                    5552841,
                    3093791,
                    2916823,
                    2795598,
                    2197354,
                    2096259,
                    1533871,
                    3292777,
                    2489070,
                    2269847,
                    2461856,
                    1725792,
                    3366599,
                    3105658,
                    6153500,
                    5818846,
                    4658790,
                    2484848,
                    4114057,
                    6027131,
                    5055525,
                    6171250,
                    5690043,
                    4418388,
                    5738473,
                    6261895,
                    5508451,
                    6834421,
                    4342812,
                    5469236,
                    5590815,
                    6347987
                  ],
                  "yaxis": "y"
                }
              ],
              "layout": {
                "legend": {
                  "title": {
                    "text": "Culturas"
                  },
                  "tracegroupgap": 0
                },
                "template": {
                  "data": {
                    "bar": [
                      {
                        "error_x": {
                          "color": "#2a3f5f"
                        },
                        "error_y": {
                          "color": "#2a3f5f"
                        },
                        "marker": {
                          "line": {
                            "color": "white",
                            "width": 0.5
                          },
                          "pattern": {
                            "fillmode": "overlay",
                            "size": 10,
                            "solidity": 0.2
                          }
                        },
                        "type": "bar"
                      }
                    ],
                    "barpolar": [
                      {
                        "marker": {
                          "line": {
                            "color": "white",
                            "width": 0.5
                          },
                          "pattern": {
                            "fillmode": "overlay",
                            "size": 10,
                            "solidity": 0.2
                          }
                        },
                        "type": "barpolar"
                      }
                    ],
                    "carpet": [
                      {
                        "aaxis": {
                          "endlinecolor": "#2a3f5f",
                          "gridcolor": "#C8D4E3",
                          "linecolor": "#C8D4E3",
                          "minorgridcolor": "#C8D4E3",
                          "startlinecolor": "#2a3f5f"
                        },
                        "baxis": {
                          "endlinecolor": "#2a3f5f",
                          "gridcolor": "#C8D4E3",
                          "linecolor": "#C8D4E3",
                          "minorgridcolor": "#C8D4E3",
                          "startlinecolor": "#2a3f5f"
                        },
                        "type": "carpet"
                      }
                    ],
                    "choropleth": [
                      {
                        "colorbar": {
                          "outlinewidth": 0,
                          "ticks": ""
                        },
                        "type": "choropleth"
                      }
                    ],
                    "contour": [
                      {
                        "colorbar": {
                          "outlinewidth": 0,
                          "ticks": ""
                        },
                        "colorscale": [
                          [
                            0,
                            "#0d0887"
                          ],
                          [
                            0.1111111111111111,
                            "#46039f"
                          ],
                          [
                            0.2222222222222222,
                            "#7201a8"
                          ],
                          [
                            0.3333333333333333,
                            "#9c179e"
                          ],
                          [
                            0.4444444444444444,
                            "#bd3786"
                          ],
                          [
                            0.5555555555555556,
                            "#d8576b"
                          ],
                          [
                            0.6666666666666666,
                            "#ed7953"
                          ],
                          [
                            0.7777777777777778,
                            "#fb9f3a"
                          ],
                          [
                            0.8888888888888888,
                            "#fdca26"
                          ],
                          [
                            1,
                            "#f0f921"
                          ]
                        ],
                        "type": "contour"
                      }
                    ],
                    "contourcarpet": [
                      {
                        "colorbar": {
                          "outlinewidth": 0,
                          "ticks": ""
                        },
                        "type": "contourcarpet"
                      }
                    ],
                    "heatmap": [
                      {
                        "colorbar": {
                          "outlinewidth": 0,
                          "ticks": ""
                        },
                        "colorscale": [
                          [
                            0,
                            "#0d0887"
                          ],
                          [
                            0.1111111111111111,
                            "#46039f"
                          ],
                          [
                            0.2222222222222222,
                            "#7201a8"
                          ],
                          [
                            0.3333333333333333,
                            "#9c179e"
                          ],
                          [
                            0.4444444444444444,
                            "#bd3786"
                          ],
                          [
                            0.5555555555555556,
                            "#d8576b"
                          ],
                          [
                            0.6666666666666666,
                            "#ed7953"
                          ],
                          [
                            0.7777777777777778,
                            "#fb9f3a"
                          ],
                          [
                            0.8888888888888888,
                            "#fdca26"
                          ],
                          [
                            1,
                            "#f0f921"
                          ]
                        ],
                        "type": "heatmap"
                      }
                    ],
                    "heatmapgl": [
                      {
                        "colorbar": {
                          "outlinewidth": 0,
                          "ticks": ""
                        },
                        "colorscale": [
                          [
                            0,
                            "#0d0887"
                          ],
                          [
                            0.1111111111111111,
                            "#46039f"
                          ],
                          [
                            0.2222222222222222,
                            "#7201a8"
                          ],
                          [
                            0.3333333333333333,
                            "#9c179e"
                          ],
                          [
                            0.4444444444444444,
                            "#bd3786"
                          ],
                          [
                            0.5555555555555556,
                            "#d8576b"
                          ],
                          [
                            0.6666666666666666,
                            "#ed7953"
                          ],
                          [
                            0.7777777777777778,
                            "#fb9f3a"
                          ],
                          [
                            0.8888888888888888,
                            "#fdca26"
                          ],
                          [
                            1,
                            "#f0f921"
                          ]
                        ],
                        "type": "heatmapgl"
                      }
                    ],
                    "histogram": [
                      {
                        "marker": {
                          "pattern": {
                            "fillmode": "overlay",
                            "size": 10,
                            "solidity": 0.2
                          }
                        },
                        "type": "histogram"
                      }
                    ],
                    "histogram2d": [
                      {
                        "colorbar": {
                          "outlinewidth": 0,
                          "ticks": ""
                        },
                        "colorscale": [
                          [
                            0,
                            "#0d0887"
                          ],
                          [
                            0.1111111111111111,
                            "#46039f"
                          ],
                          [
                            0.2222222222222222,
                            "#7201a8"
                          ],
                          [
                            0.3333333333333333,
                            "#9c179e"
                          ],
                          [
                            0.4444444444444444,
                            "#bd3786"
                          ],
                          [
                            0.5555555555555556,
                            "#d8576b"
                          ],
                          [
                            0.6666666666666666,
                            "#ed7953"
                          ],
                          [
                            0.7777777777777778,
                            "#fb9f3a"
                          ],
                          [
                            0.8888888888888888,
                            "#fdca26"
                          ],
                          [
                            1,
                            "#f0f921"
                          ]
                        ],
                        "type": "histogram2d"
                      }
                    ],
                    "histogram2dcontour": [
                      {
                        "colorbar": {
                          "outlinewidth": 0,
                          "ticks": ""
                        },
                        "colorscale": [
                          [
                            0,
                            "#0d0887"
                          ],
                          [
                            0.1111111111111111,
                            "#46039f"
                          ],
                          [
                            0.2222222222222222,
                            "#7201a8"
                          ],
                          [
                            0.3333333333333333,
                            "#9c179e"
                          ],
                          [
                            0.4444444444444444,
                            "#bd3786"
                          ],
                          [
                            0.5555555555555556,
                            "#d8576b"
                          ],
                          [
                            0.6666666666666666,
                            "#ed7953"
                          ],
                          [
                            0.7777777777777778,
                            "#fb9f3a"
                          ],
                          [
                            0.8888888888888888,
                            "#fdca26"
                          ],
                          [
                            1,
                            "#f0f921"
                          ]
                        ],
                        "type": "histogram2dcontour"
                      }
                    ],
                    "mesh3d": [
                      {
                        "colorbar": {
                          "outlinewidth": 0,
                          "ticks": ""
                        },
                        "type": "mesh3d"
                      }
                    ],
                    "parcoords": [
                      {
                        "line": {
                          "colorbar": {
                            "outlinewidth": 0,
                            "ticks": ""
                          }
                        },
                        "type": "parcoords"
                      }
                    ],
                    "pie": [
                      {
                        "automargin": true,
                        "type": "pie"
                      }
                    ],
                    "scatter": [
                      {
                        "marker": {
                          "colorbar": {
                            "outlinewidth": 0,
                            "ticks": ""
                          }
                        },
                        "type": "scatter"
                      }
                    ],
                    "scatter3d": [
                      {
                        "line": {
                          "colorbar": {
                            "outlinewidth": 0,
                            "ticks": ""
                          }
                        },
                        "marker": {
                          "colorbar": {
                            "outlinewidth": 0,
                            "ticks": ""
                          }
                        },
                        "type": "scatter3d"
                      }
                    ],
                    "scattercarpet": [
                      {
                        "marker": {
                          "colorbar": {
                            "outlinewidth": 0,
                            "ticks": ""
                          }
                        },
                        "type": "scattercarpet"
                      }
                    ],
                    "scattergeo": [
                      {
                        "marker": {
                          "colorbar": {
                            "outlinewidth": 0,
                            "ticks": ""
                          }
                        },
                        "type": "scattergeo"
                      }
                    ],
                    "scattergl": [
                      {
                        "marker": {
                          "colorbar": {
                            "outlinewidth": 0,
                            "ticks": ""
                          }
                        },
                        "type": "scattergl"
                      }
                    ],
                    "scattermapbox": [
                      {
                        "marker": {
                          "colorbar": {
                            "outlinewidth": 0,
                            "ticks": ""
                          }
                        },
                        "type": "scattermapbox"
                      }
                    ],
                    "scatterpolar": [
                      {
                        "marker": {
                          "colorbar": {
                            "outlinewidth": 0,
                            "ticks": ""
                          }
                        },
                        "type": "scatterpolar"
                      }
                    ],
                    "scatterpolargl": [
                      {
                        "marker": {
                          "colorbar": {
                            "outlinewidth": 0,
                            "ticks": ""
                          }
                        },
                        "type": "scatterpolargl"
                      }
                    ],
                    "scatterternary": [
                      {
                        "marker": {
                          "colorbar": {
                            "outlinewidth": 0,
                            "ticks": ""
                          }
                        },
                        "type": "scatterternary"
                      }
                    ],
                    "surface": [
                      {
                        "colorbar": {
                          "outlinewidth": 0,
                          "ticks": ""
                        },
                        "colorscale": [
                          [
                            0,
                            "#0d0887"
                          ],
                          [
                            0.1111111111111111,
                            "#46039f"
                          ],
                          [
                            0.2222222222222222,
                            "#7201a8"
                          ],
                          [
                            0.3333333333333333,
                            "#9c179e"
                          ],
                          [
                            0.4444444444444444,
                            "#bd3786"
                          ],
                          [
                            0.5555555555555556,
                            "#d8576b"
                          ],
                          [
                            0.6666666666666666,
                            "#ed7953"
                          ],
                          [
                            0.7777777777777778,
                            "#fb9f3a"
                          ],
                          [
                            0.8888888888888888,
                            "#fdca26"
                          ],
                          [
                            1,
                            "#f0f921"
                          ]
                        ],
                        "type": "surface"
                      }
                    ],
                    "table": [
                      {
                        "cells": {
                          "fill": {
                            "color": "#EBF0F8"
                          },
                          "line": {
                            "color": "white"
                          }
                        },
                        "header": {
                          "fill": {
                            "color": "#C8D4E3"
                          },
                          "line": {
                            "color": "white"
                          }
                        },
                        "type": "table"
                      }
                    ]
                  },
                  "layout": {
                    "annotationdefaults": {
                      "arrowcolor": "#2a3f5f",
                      "arrowhead": 0,
                      "arrowwidth": 1
                    },
                    "autotypenumbers": "strict",
                    "coloraxis": {
                      "colorbar": {
                        "outlinewidth": 0,
                        "ticks": ""
                      }
                    },
                    "colorscale": {
                      "diverging": [
                        [
                          0,
                          "#8e0152"
                        ],
                        [
                          0.1,
                          "#c51b7d"
                        ],
                        [
                          0.2,
                          "#de77ae"
                        ],
                        [
                          0.3,
                          "#f1b6da"
                        ],
                        [
                          0.4,
                          "#fde0ef"
                        ],
                        [
                          0.5,
                          "#f7f7f7"
                        ],
                        [
                          0.6,
                          "#e6f5d0"
                        ],
                        [
                          0.7,
                          "#b8e186"
                        ],
                        [
                          0.8,
                          "#7fbc41"
                        ],
                        [
                          0.9,
                          "#4d9221"
                        ],
                        [
                          1,
                          "#276419"
                        ]
                      ],
                      "sequential": [
                        [
                          0,
                          "#0d0887"
                        ],
                        [
                          0.1111111111111111,
                          "#46039f"
                        ],
                        [
                          0.2222222222222222,
                          "#7201a8"
                        ],
                        [
                          0.3333333333333333,
                          "#9c179e"
                        ],
                        [
                          0.4444444444444444,
                          "#bd3786"
                        ],
                        [
                          0.5555555555555556,
                          "#d8576b"
                        ],
                        [
                          0.6666666666666666,
                          "#ed7953"
                        ],
                        [
                          0.7777777777777778,
                          "#fb9f3a"
                        ],
                        [
                          0.8888888888888888,
                          "#fdca26"
                        ],
                        [
                          1,
                          "#f0f921"
                        ]
                      ],
                      "sequentialminus": [
                        [
                          0,
                          "#0d0887"
                        ],
                        [
                          0.1111111111111111,
                          "#46039f"
                        ],
                        [
                          0.2222222222222222,
                          "#7201a8"
                        ],
                        [
                          0.3333333333333333,
                          "#9c179e"
                        ],
                        [
                          0.4444444444444444,
                          "#bd3786"
                        ],
                        [
                          0.5555555555555556,
                          "#d8576b"
                        ],
                        [
                          0.6666666666666666,
                          "#ed7953"
                        ],
                        [
                          0.7777777777777778,
                          "#fb9f3a"
                        ],
                        [
                          0.8888888888888888,
                          "#fdca26"
                        ],
                        [
                          1,
                          "#f0f921"
                        ]
                      ]
                    },
                    "colorway": [
                      "#636efa",
                      "#EF553B",
                      "#00cc96",
                      "#ab63fa",
                      "#FFA15A",
                      "#19d3f3",
                      "#FF6692",
                      "#B6E880",
                      "#FF97FF",
                      "#FECB52"
                    ],
                    "font": {
                      "color": "#2a3f5f"
                    },
                    "geo": {
                      "bgcolor": "white",
                      "lakecolor": "white",
                      "landcolor": "white",
                      "showlakes": true,
                      "showland": true,
                      "subunitcolor": "#C8D4E3"
                    },
                    "hoverlabel": {
                      "align": "left"
                    },
                    "hovermode": "closest",
                    "mapbox": {
                      "style": "light"
                    },
                    "paper_bgcolor": "white",
                    "plot_bgcolor": "white",
                    "polar": {
                      "angularaxis": {
                        "gridcolor": "#EBF0F8",
                        "linecolor": "#EBF0F8",
                        "ticks": ""
                      },
                      "bgcolor": "white",
                      "radialaxis": {
                        "gridcolor": "#EBF0F8",
                        "linecolor": "#EBF0F8",
                        "ticks": ""
                      }
                    },
                    "scene": {
                      "xaxis": {
                        "backgroundcolor": "white",
                        "gridcolor": "#DFE8F3",
                        "gridwidth": 2,
                        "linecolor": "#EBF0F8",
                        "showbackground": true,
                        "ticks": "",
                        "zerolinecolor": "#EBF0F8"
                      },
                      "yaxis": {
                        "backgroundcolor": "white",
                        "gridcolor": "#DFE8F3",
                        "gridwidth": 2,
                        "linecolor": "#EBF0F8",
                        "showbackground": true,
                        "ticks": "",
                        "zerolinecolor": "#EBF0F8"
                      },
                      "zaxis": {
                        "backgroundcolor": "white",
                        "gridcolor": "#DFE8F3",
                        "gridwidth": 2,
                        "linecolor": "#EBF0F8",
                        "showbackground": true,
                        "ticks": "",
                        "zerolinecolor": "#EBF0F8"
                      }
                    },
                    "shapedefaults": {
                      "line": {
                        "color": "#2a3f5f"
                      }
                    },
                    "ternary": {
                      "aaxis": {
                        "gridcolor": "#DFE8F3",
                        "linecolor": "#A2B1C6",
                        "ticks": ""
                      },
                      "baxis": {
                        "gridcolor": "#DFE8F3",
                        "linecolor": "#A2B1C6",
                        "ticks": ""
                      },
                      "bgcolor": "white",
                      "caxis": {
                        "gridcolor": "#DFE8F3",
                        "linecolor": "#A2B1C6",
                        "ticks": ""
                      }
                    },
                    "title": {
                      "x": 0.05
                    },
                    "xaxis": {
                      "automargin": true,
                      "gridcolor": "#EBF0F8",
                      "linecolor": "#EBF0F8",
                      "ticks": "",
                      "title": {
                        "standoff": 15
                      },
                      "zerolinecolor": "#EBF0F8",
                      "zerolinewidth": 2
                    },
                    "yaxis": {
                      "automargin": true,
                      "gridcolor": "#EBF0F8",
                      "linecolor": "#EBF0F8",
                      "ticks": "",
                      "title": {
                        "standoff": 15
                      },
                      "zerolinecolor": "#EBF0F8",
                      "zerolinewidth": 2
                    }
                  }
                },
                "title": {
                  "text": "Crescimento histórico das culturas"
                },
                "xaxis": {
                  "anchor": "y",
                  "domain": [
                    0,
                    1
                  ],
                  "title": {
                    "text": "Ano"
                  }
                },
                "yaxis": {
                  "anchor": "x",
                  "domain": [
                    0,
                    1
                  ],
                  "title": {
                    "text": "Produção (Toneladas)"
                  }
                }
              }
            }
          },
          "metadata": {},
          "output_type": "display_data"
        }
      ],
      "source": [
        "fig = px.scatter(producao,  title = 'Crescimento histórico das culturas', x = producao.index, y = producao.columns,  labels = {'value': 'Produção (Toneladas)', 'variable' : 'Culturas'} )\n",
        "fig.update_layout(template = 'plotly_white')"
      ]
    },
    {
      "cell_type": "code",
      "execution_count": 80,
      "metadata": {},
      "outputs": [
        {
          "data": {
            "application/vnd.plotly.v1+json": {
              "config": {
                "plotlyServerURL": "https://plot.ly"
              },
              "data": [
                {
                  "alignmentgroup": "True",
                  "hovertemplate": "Culturas=Arroz (em casca)<br>Ano=%{x}<br>Produção (Toneladas)=%{y}<extra></extra>",
                  "legendgroup": "Arroz (em casca)",
                  "marker": {
                    "color": "#636efa",
                    "pattern": {
                      "shape": ""
                    }
                  },
                  "name": "Arroz (em casca)",
                  "offsetgroup": "Arroz (em casca)",
                  "orientation": "v",
                  "showlegend": true,
                  "textposition": "outside",
                  "texttemplate": "%{y:.2s}",
                  "type": "bar",
                  "x": [
                    1974,
                    1975,
                    1976,
                    1977,
                    1978,
                    1979,
                    1980,
                    1981,
                    1982,
                    1983,
                    1984,
                    1985,
                    1986,
                    1987,
                    1988,
                    1989,
                    1990,
                    1991,
                    1992,
                    1993,
                    1994,
                    1995,
                    1996,
                    1997,
                    1998,
                    1999,
                    2000,
                    2001,
                    2002,
                    2003,
                    2004,
                    2005,
                    2006,
                    2007,
                    2008,
                    2009,
                    2010,
                    2011,
                    2012,
                    2013,
                    2014,
                    2015,
                    2016,
                    2017,
                    2018,
                    2019,
                    2020
                  ],
                  "xaxis": "x",
                  "y": [
                    6764038,
                    7781538,
                    9757079,
                    8993696,
                    7296142,
                    7595214,
                    9775720,
                    8228326,
                    9734553,
                    7741753,
                    9027363,
                    9024555,
                    10374030,
                    10419029,
                    11809467,
                    11044453,
                    7420931,
                    9488007,
                    10006292,
                    10107310,
                    10540789,
                    11226064,
                    8652328,
                    8351665,
                    7716090,
                    11709694,
                    11134588,
                    10184185,
                    10445986,
                    10334603,
                    13277008,
                    13192863,
                    11526685,
                    11060741,
                    12061465,
                    12651144,
                    11235986,
                    13476994,
                    11549881,
                    11782549,
                    12175602,
                    12301201,
                    10622189,
                    12464766,
                    11808412,
                    10368639,
                    11091011
                  ],
                  "yaxis": "y"
                },
                {
                  "alignmentgroup": "True",
                  "hovertemplate": "Culturas=Banana (cacho)<br>Ano=%{x}<br>Produção (Toneladas)=%{y}<extra></extra>",
                  "legendgroup": "Banana (cacho)",
                  "marker": {
                    "color": "#EF553B",
                    "pattern": {
                      "shape": ""
                    }
                  },
                  "name": "Banana (cacho)",
                  "offsetgroup": "Banana (cacho)",
                  "orientation": "v",
                  "showlegend": true,
                  "textposition": "outside",
                  "texttemplate": "%{y:.2s}",
                  "type": "bar",
                  "x": [
                    1974,
                    1975,
                    1976,
                    1977,
                    1978,
                    1979,
                    1980,
                    1981,
                    1982,
                    1983,
                    1984,
                    1985,
                    1986,
                    1987,
                    1988,
                    1989,
                    1990,
                    1991,
                    1992,
                    1993,
                    1994,
                    1995,
                    1996,
                    1997,
                    1998,
                    1999,
                    2000,
                    2001,
                    2002,
                    2003,
                    2004,
                    2005,
                    2006,
                    2007,
                    2008,
                    2009,
                    2010,
                    2011,
                    2012,
                    2013,
                    2014,
                    2015,
                    2016,
                    2017,
                    2018,
                    2019,
                    2020
                  ],
                  "xaxis": "x",
                  "y": [
                    352761,
                    363684,
                    381763,
                    427660,
                    416025,
                    408874,
                    448046,
                    447337,
                    454500,
                    437744,
                    470815,
                    481503,
                    505159,
                    513115,
                    511844,
                    550475,
                    550561,
                    554052,
                    562358,
                    557980,
                    572619,
                    557799,
                    496171,
                    541236,
                    532220,
                    547835,
                    566336,
                    6177293,
                    6689179,
                    6800981,
                    6583564,
                    6703400,
                    6956179,
                    7098353,
                    6998150,
                    6783490,
                    6969306,
                    7329471,
                    6902184,
                    6892622,
                    6953747,
                    6859227,
                    6625211,
                    6584967,
                    6723590,
                    6831874,
                    6637308
                  ],
                  "yaxis": "y"
                },
                {
                  "alignmentgroup": "True",
                  "hovertemplate": "Culturas=Batata-inglesa<br>Ano=%{x}<br>Produção (Toneladas)=%{y}<extra></extra>",
                  "legendgroup": "Batata-inglesa",
                  "marker": {
                    "color": "#00cc96",
                    "pattern": {
                      "shape": ""
                    }
                  },
                  "name": "Batata-inglesa",
                  "offsetgroup": "Batata-inglesa",
                  "orientation": "v",
                  "showlegend": true,
                  "textposition": "outside",
                  "texttemplate": "%{y:.2s}",
                  "type": "bar",
                  "x": [
                    1974,
                    1975,
                    1976,
                    1977,
                    1978,
                    1979,
                    1980,
                    1981,
                    1982,
                    1983,
                    1984,
                    1985,
                    1986,
                    1987,
                    1988,
                    1989,
                    1990,
                    1991,
                    1992,
                    1993,
                    1994,
                    1995,
                    1996,
                    1997,
                    1998,
                    1999,
                    2000,
                    2001,
                    2002,
                    2003,
                    2004,
                    2005,
                    2006,
                    2007,
                    2008,
                    2009,
                    2010,
                    2011,
                    2012,
                    2013,
                    2014,
                    2015,
                    2016,
                    2017,
                    2018,
                    2019,
                    2020
                  ],
                  "xaxis": "x",
                  "y": [
                    1672498,
                    1654767,
                    1897518,
                    1896311,
                    2013882,
                    2154173,
                    1939537,
                    1912169,
                    2154775,
                    1826579,
                    2171133,
                    1946659,
                    1835975,
                    2330817,
                    2314992,
                    2132286,
                    2233721,
                    2267035,
                    2432073,
                    2367571,
                    2488461,
                    2692234,
                    2412546,
                    2670493,
                    2784181,
                    2904950,
                    2606932,
                    2848664,
                    3126411,
                    3089016,
                    3047083,
                    3130174,
                    3151721,
                    3550511,
                    3676938,
                    3443712,
                    3547510,
                    3917234,
                    3731798,
                    3553772,
                    3689836,
                    3867681,
                    3851396,
                    3655069,
                    3728953,
                    3711744,
                    3767769
                  ],
                  "yaxis": "y"
                },
                {
                  "alignmentgroup": "True",
                  "hovertemplate": "Culturas=Café (em grão) Total<br>Ano=%{x}<br>Produção (Toneladas)=%{y}<extra></extra>",
                  "legendgroup": "Café (em grão) Total",
                  "marker": {
                    "color": "#ab63fa",
                    "pattern": {
                      "shape": ""
                    }
                  },
                  "name": "Café (em grão) Total",
                  "offsetgroup": "Café (em grão) Total",
                  "orientation": "v",
                  "showlegend": true,
                  "textposition": "outside",
                  "texttemplate": "%{y:.2s}",
                  "type": "bar",
                  "x": [
                    1974,
                    1975,
                    1976,
                    1977,
                    1978,
                    1979,
                    1980,
                    1981,
                    1982,
                    1983,
                    1984,
                    1985,
                    1986,
                    1987,
                    1988,
                    1989,
                    1990,
                    1991,
                    1992,
                    1993,
                    1994,
                    1995,
                    1996,
                    1997,
                    1998,
                    1999,
                    2000,
                    2001,
                    2002,
                    2003,
                    2004,
                    2005,
                    2006,
                    2007,
                    2008,
                    2009,
                    2010,
                    2011,
                    2012,
                    2013,
                    2014,
                    2015,
                    2016,
                    2017,
                    2018,
                    2019,
                    2020
                  ],
                  "xaxis": "x",
                  "y": [
                    3230618,
                    2544596,
                    751969,
                    1950771,
                    2535323,
                    2665545,
                    2122391,
                    4064421,
                    1915861,
                    3343176,
                    2840563,
                    3821292,
                    2082811,
                    4405416,
                    2737660,
                    3059685,
                    2929711,
                    3040763,
                    2588745,
                    2557518,
                    2614578,
                    1860269,
                    2738391,
                    2457025,
                    3378731,
                    3263704,
                    3807124,
                    3639138,
                    2610524,
                    1987074,
                    2465710,
                    2140169,
                    2573368,
                    2249011,
                    2796927,
                    2440056,
                    2907265,
                    2700540,
                    3037534,
                    2964538,
                    2804070,
                    2647504,
                    3024466,
                    2684508,
                    3552729,
                    3011745,
                    3700231
                  ],
                  "yaxis": "y"
                },
                {
                  "alignmentgroup": "True",
                  "hovertemplate": "Culturas=Cana-de-açúcar<br>Ano=%{x}<br>Produção (Toneladas)=%{y}<extra></extra>",
                  "legendgroup": "Cana-de-açúcar",
                  "marker": {
                    "color": "#FFA15A",
                    "pattern": {
                      "shape": ""
                    }
                  },
                  "name": "Cana-de-açúcar",
                  "offsetgroup": "Cana-de-açúcar",
                  "orientation": "v",
                  "showlegend": true,
                  "textposition": "outside",
                  "texttemplate": "%{y:.2s}",
                  "type": "bar",
                  "x": [
                    1974,
                    1975,
                    1976,
                    1977,
                    1978,
                    1979,
                    1980,
                    1981,
                    1982,
                    1983,
                    1984,
                    1985,
                    1986,
                    1987,
                    1988,
                    1989,
                    1990,
                    1991,
                    1992,
                    1993,
                    1994,
                    1995,
                    1996,
                    1997,
                    1998,
                    1999,
                    2000,
                    2001,
                    2002,
                    2003,
                    2004,
                    2005,
                    2006,
                    2007,
                    2008,
                    2009,
                    2010,
                    2011,
                    2012,
                    2013,
                    2014,
                    2015,
                    2016,
                    2017,
                    2018,
                    2019,
                    2020
                  ],
                  "xaxis": "x",
                  "y": [
                    95623685,
                    91524559,
                    103173449,
                    120081700,
                    129144950,
                    138895318,
                    148650563,
                    155924109,
                    186646607,
                    216036958,
                    222317847,
                    247199474,
                    239178319,
                    268741069,
                    258412865,
                    252642623,
                    262674150,
                    260887893,
                    271474875,
                    244530708,
                    292101835,
                    303699497,
                    317105981,
                    331612687,
                    345254972,
                    333847720,
                    326121011,
                    344292922,
                    364389416,
                    396012158,
                    415205835,
                    422956646,
                    477410655,
                    549707314,
                    645300182,
                    691606147,
                    717463793,
                    734006059,
                    722926450,
                    768090444,
                    736108487,
                    750290277,
                    768594154,
                    758646205,
                    747556774,
                    753470465,
                    757116855
                  ],
                  "yaxis": "y"
                },
                {
                  "alignmentgroup": "True",
                  "hovertemplate": "Culturas=Feijão (em grão)<br>Ano=%{x}<br>Produção (Toneladas)=%{y}<extra></extra>",
                  "legendgroup": "Feijão (em grão)",
                  "marker": {
                    "color": "#19d3f3",
                    "pattern": {
                      "shape": ""
                    }
                  },
                  "name": "Feijão (em grão)",
                  "offsetgroup": "Feijão (em grão)",
                  "orientation": "v",
                  "showlegend": true,
                  "textposition": "outside",
                  "texttemplate": "%{y:.2s}",
                  "type": "bar",
                  "x": [
                    1974,
                    1975,
                    1976,
                    1977,
                    1978,
                    1979,
                    1980,
                    1981,
                    1982,
                    1983,
                    1984,
                    1985,
                    1986,
                    1987,
                    1988,
                    1989,
                    1990,
                    1991,
                    1992,
                    1993,
                    1994,
                    1995,
                    1996,
                    1997,
                    1998,
                    1999,
                    2000,
                    2001,
                    2002,
                    2003,
                    2004,
                    2005,
                    2006,
                    2007,
                    2008,
                    2009,
                    2010,
                    2011,
                    2012,
                    2013,
                    2014,
                    2015,
                    2016,
                    2017,
                    2018,
                    2019,
                    2020
                  ],
                  "xaxis": "x",
                  "y": [
                    2238012,
                    2282466,
                    1840315,
                    2290007,
                    2193977,
                    2186343,
                    1968165,
                    2340947,
                    2902657,
                    1580546,
                    2625676,
                    2548738,
                    2209188,
                    2007230,
                    2808639,
                    2310546,
                    2234467,
                    2744711,
                    2797138,
                    2478325,
                    3369684,
                    2946168,
                    2452036,
                    2840243,
                    2191153,
                    2830915,
                    3056289,
                    2453681,
                    3064228,
                    3302038,
                    2967007,
                    3021641,
                    3457744,
                    3169356,
                    3461194,
                    3486763,
                    3158905,
                    3435366,
                    2794854,
                    2892599,
                    3294586,
                    3088926,
                    2621267,
                    3046079,
                    2916365,
                    2908075,
                    3035290
                  ],
                  "yaxis": "y"
                },
                {
                  "alignmentgroup": "True",
                  "hovertemplate": "Culturas=Laranja<br>Ano=%{x}<br>Produção (Toneladas)=%{y}<extra></extra>",
                  "legendgroup": "Laranja",
                  "marker": {
                    "color": "#FF6692",
                    "pattern": {
                      "shape": ""
                    }
                  },
                  "name": "Laranja",
                  "offsetgroup": "Laranja",
                  "orientation": "v",
                  "showlegend": true,
                  "textposition": "outside",
                  "texttemplate": "%{y:.2s}",
                  "type": "bar",
                  "x": [
                    1974,
                    1975,
                    1976,
                    1977,
                    1978,
                    1979,
                    1980,
                    1981,
                    1982,
                    1983,
                    1984,
                    1985,
                    1986,
                    1987,
                    1988,
                    1989,
                    1990,
                    1991,
                    1992,
                    1993,
                    1994,
                    1995,
                    1996,
                    1997,
                    1998,
                    1999,
                    2000,
                    2001,
                    2002,
                    2003,
                    2004,
                    2005,
                    2006,
                    2007,
                    2008,
                    2009,
                    2010,
                    2011,
                    2012,
                    2013,
                    2014,
                    2015,
                    2016,
                    2017,
                    2018,
                    2019,
                    2020
                  ],
                  "xaxis": "x",
                  "y": [
                    29594708,
                    31565854,
                    35841350,
                    35823453,
                    39131682,
                    42220456,
                    54459072,
                    56966660,
                    57991021,
                    58568657,
                    64722620,
                    71071533,
                    66872215,
                    73568815,
                    75565192,
                    89016188,
                    87602607,
                    94681717,
                    98411455,
                    93985944,
                    87229840,
                    99186054,
                    105395214,
                    115234005,
                    104252518,
                    114466558,
                    106651289,
                    16983436,
                    18530582,
                    16917558,
                    18313717,
                    17853443,
                    18032313,
                    18684985,
                    18538084,
                    17618450,
                    18503139,
                    19811064,
                    18012560,
                    17549536,
                    16928457,
                    16953015,
                    16980379,
                    17492882,
                    16841549,
                    17090362,
                    16707897
                  ],
                  "yaxis": "y"
                },
                {
                  "alignmentgroup": "True",
                  "hovertemplate": "Culturas=Mandioca<br>Ano=%{x}<br>Produção (Toneladas)=%{y}<extra></extra>",
                  "legendgroup": "Mandioca",
                  "marker": {
                    "color": "#B6E880",
                    "pattern": {
                      "shape": ""
                    }
                  },
                  "name": "Mandioca",
                  "offsetgroup": "Mandioca",
                  "orientation": "v",
                  "showlegend": true,
                  "textposition": "outside",
                  "texttemplate": "%{y:.2s}",
                  "type": "bar",
                  "x": [
                    1974,
                    1975,
                    1976,
                    1977,
                    1978,
                    1979,
                    1980,
                    1981,
                    1982,
                    1983,
                    1984,
                    1985,
                    1986,
                    1987,
                    1988,
                    1989,
                    1990,
                    1991,
                    1992,
                    1993,
                    1994,
                    1995,
                    1996,
                    1997,
                    1998,
                    1999,
                    2000,
                    2001,
                    2002,
                    2003,
                    2004,
                    2005,
                    2006,
                    2007,
                    2008,
                    2009,
                    2010,
                    2011,
                    2012,
                    2013,
                    2014,
                    2015,
                    2016,
                    2017,
                    2018,
                    2019,
                    2020
                  ],
                  "xaxis": "x",
                  "y": [
                    24797636,
                    26117614,
                    25443053,
                    25929484,
                    25459408,
                    24961285,
                    23465649,
                    24516360,
                    24072320,
                    21847892,
                    21466222,
                    23124782,
                    25620600,
                    23464484,
                    21673849,
                    23668473,
                    24322133,
                    24537505,
                    21918600,
                    21855690,
                    24464293,
                    25422959,
                    17743155,
                    19896205,
                    19502717,
                    20864340,
                    23044190,
                    22580282,
                    23148303,
                    21961082,
                    23926553,
                    25872015,
                    26639013,
                    26541200,
                    26703039,
                    24403981,
                    24967052,
                    25349542,
                    23044557,
                    21484218,
                    23253514,
                    23059704,
                    21036314,
                    18501645,
                    17877163,
                    17593186,
                    18205120
                  ],
                  "yaxis": "y"
                },
                {
                  "alignmentgroup": "True",
                  "hovertemplate": "Culturas=Milho (em grão)<br>Ano=%{x}<br>Produção (Toneladas)=%{y}<extra></extra>",
                  "legendgroup": "Milho (em grão)",
                  "marker": {
                    "color": "#FF97FF",
                    "pattern": {
                      "shape": ""
                    }
                  },
                  "name": "Milho (em grão)",
                  "offsetgroup": "Milho (em grão)",
                  "orientation": "v",
                  "showlegend": true,
                  "textposition": "outside",
                  "texttemplate": "%{y:.2s}",
                  "type": "bar",
                  "x": [
                    1974,
                    1975,
                    1976,
                    1977,
                    1978,
                    1979,
                    1980,
                    1981,
                    1982,
                    1983,
                    1984,
                    1985,
                    1986,
                    1987,
                    1988,
                    1989,
                    1990,
                    1991,
                    1992,
                    1993,
                    1994,
                    1995,
                    1996,
                    1997,
                    1998,
                    1999,
                    2000,
                    2001,
                    2002,
                    2003,
                    2004,
                    2005,
                    2006,
                    2007,
                    2008,
                    2009,
                    2010,
                    2011,
                    2012,
                    2013,
                    2014,
                    2015,
                    2016,
                    2017,
                    2018,
                    2019,
                    2020
                  ],
                  "xaxis": "x",
                  "y": [
                    16273227,
                    16334516,
                    17751077,
                    19255936,
                    13569401,
                    16306380,
                    20372072,
                    21116908,
                    21842477,
                    18731216,
                    21164138,
                    22018180,
                    20530960,
                    26802769,
                    24748036,
                    26572592,
                    21347774,
                    23624340,
                    30506127,
                    30055633,
                    32487625,
                    36266951,
                    29652791,
                    32948044,
                    29601753,
                    32239479,
                    32321000,
                    41962475,
                    35940832,
                    48327323,
                    41787558,
                    35113312,
                    42661677,
                    52112217,
                    58933347,
                    50719822,
                    55364271,
                    55660235,
                    71072810,
                    80273172,
                    79881614,
                    85283074,
                    64188314,
                    97910658,
                    82366531,
                    101126409,
                    103963620
                  ],
                  "yaxis": "y"
                },
                {
                  "alignmentgroup": "True",
                  "hovertemplate": "Culturas=Soja (em grão)<br>Ano=%{x}<br>Produção (Toneladas)=%{y}<extra></extra>",
                  "legendgroup": "Soja (em grão)",
                  "marker": {
                    "color": "#FECB52",
                    "pattern": {
                      "shape": ""
                    }
                  },
                  "name": "Soja (em grão)",
                  "offsetgroup": "Soja (em grão)",
                  "orientation": "v",
                  "showlegend": true,
                  "textposition": "outside",
                  "texttemplate": "%{y:.2s}",
                  "type": "bar",
                  "x": [
                    1974,
                    1975,
                    1976,
                    1977,
                    1978,
                    1979,
                    1980,
                    1981,
                    1982,
                    1983,
                    1984,
                    1985,
                    1986,
                    1987,
                    1988,
                    1989,
                    1990,
                    1991,
                    1992,
                    1993,
                    1994,
                    1995,
                    1996,
                    1997,
                    1998,
                    1999,
                    2000,
                    2001,
                    2002,
                    2003,
                    2004,
                    2005,
                    2006,
                    2007,
                    2008,
                    2009,
                    2010,
                    2011,
                    2012,
                    2013,
                    2014,
                    2015,
                    2016,
                    2017,
                    2018,
                    2019,
                    2020
                  ],
                  "xaxis": "x",
                  "y": [
                    7876527,
                    9893008,
                    11227123,
                    12513406,
                    9540577,
                    10240306,
                    15155804,
                    15007367,
                    12836047,
                    14582347,
                    15540792,
                    18278585,
                    13330225,
                    16968827,
                    18016170,
                    24071360,
                    19897804,
                    14937806,
                    19214705,
                    22590978,
                    24931832,
                    25682637,
                    23166874,
                    26392636,
                    31307440,
                    30987476,
                    32820826,
                    37907259,
                    42107618,
                    51919440,
                    49549941,
                    51182074,
                    52464640,
                    57857172,
                    59833105,
                    57345382,
                    68756343,
                    74815447,
                    65848857,
                    81724477,
                    86760520,
                    97464936,
                    96394820,
                    114732101,
                    117912450,
                    114316829,
                    121797712
                  ],
                  "yaxis": "y"
                },
                {
                  "alignmentgroup": "True",
                  "hovertemplate": "Culturas=Tomate<br>Ano=%{x}<br>Produção (Toneladas)=%{y}<extra></extra>",
                  "legendgroup": "Tomate",
                  "marker": {
                    "color": "#636efa",
                    "pattern": {
                      "shape": ""
                    }
                  },
                  "name": "Tomate",
                  "offsetgroup": "Tomate",
                  "orientation": "v",
                  "showlegend": true,
                  "textposition": "outside",
                  "texttemplate": "%{y:.2s}",
                  "type": "bar",
                  "x": [
                    1974,
                    1975,
                    1976,
                    1977,
                    1978,
                    1979,
                    1980,
                    1981,
                    1982,
                    1983,
                    1984,
                    1985,
                    1986,
                    1987,
                    1988,
                    1989,
                    1990,
                    1991,
                    1992,
                    1993,
                    1994,
                    1995,
                    1996,
                    1997,
                    1998,
                    1999,
                    2000,
                    2001,
                    2002,
                    2003,
                    2004,
                    2005,
                    2006,
                    2007,
                    2008,
                    2009,
                    2010,
                    2011,
                    2012,
                    2013,
                    2014,
                    2015,
                    2016,
                    2017,
                    2018,
                    2019,
                    2020
                  ],
                  "xaxis": "x",
                  "y": [
                    1144037,
                    1049724,
                    1166888,
                    1297508,
                    1464558,
                    1500799,
                    1535331,
                    1451713,
                    1742408,
                    1550778,
                    1817574,
                    1934610,
                    1846305,
                    2049324,
                    2406938,
                    2177467,
                    2260871,
                    2343811,
                    2141345,
                    2348498,
                    2688570,
                    2715016,
                    2648627,
                    2717965,
                    2784111,
                    3305053,
                    3004797,
                    3103363,
                    3652923,
                    3708602,
                    3515567,
                    3452973,
                    3362655,
                    3431232,
                    3867655,
                    4310477,
                    4106846,
                    4416652,
                    3873985,
                    4187646,
                    4302777,
                    4187729,
                    4166789,
                    4225414,
                    4126988,
                    3920997,
                    3753595
                  ],
                  "yaxis": "y"
                },
                {
                  "alignmentgroup": "True",
                  "hovertemplate": "Culturas=Trigo (em grão)<br>Ano=%{x}<br>Produção (Toneladas)=%{y}<extra></extra>",
                  "legendgroup": "Trigo (em grão)",
                  "marker": {
                    "color": "#EF553B",
                    "pattern": {
                      "shape": ""
                    }
                  },
                  "name": "Trigo (em grão)",
                  "offsetgroup": "Trigo (em grão)",
                  "orientation": "v",
                  "showlegend": true,
                  "textposition": "outside",
                  "texttemplate": "%{y:.2s}",
                  "type": "bar",
                  "x": [
                    1974,
                    1975,
                    1976,
                    1977,
                    1978,
                    1979,
                    1980,
                    1981,
                    1982,
                    1983,
                    1984,
                    1985,
                    1986,
                    1987,
                    1988,
                    1989,
                    1990,
                    1991,
                    1992,
                    1993,
                    1994,
                    1995,
                    1996,
                    1997,
                    1998,
                    1999,
                    2000,
                    2001,
                    2002,
                    2003,
                    2004,
                    2005,
                    2006,
                    2007,
                    2008,
                    2009,
                    2010,
                    2011,
                    2012,
                    2013,
                    2014,
                    2015,
                    2016,
                    2017,
                    2018,
                    2019,
                    2020
                  ],
                  "xaxis": "x",
                  "y": [
                    2858530,
                    1788180,
                    3215745,
                    2066039,
                    2690888,
                    2926764,
                    2701613,
                    2209631,
                    1826945,
                    2236700,
                    1983157,
                    4320267,
                    5689680,
                    6034586,
                    5737971,
                    5552841,
                    3093791,
                    2916823,
                    2795598,
                    2197354,
                    2096259,
                    1533871,
                    3292777,
                    2489070,
                    2269847,
                    2461856,
                    1725792,
                    3366599,
                    3105658,
                    6153500,
                    5818846,
                    4658790,
                    2484848,
                    4114057,
                    6027131,
                    5055525,
                    6171250,
                    5690043,
                    4418388,
                    5738473,
                    6261895,
                    5508451,
                    6834421,
                    4342812,
                    5469236,
                    5590815,
                    6347987
                  ],
                  "yaxis": "y"
                }
              ],
              "layout": {
                "barmode": "relative",
                "legend": {
                  "title": {
                    "text": "Culturas"
                  },
                  "tracegroupgap": 0
                },
                "margin": {
                  "t": 60
                },
                "template": {
                  "data": {
                    "bar": [
                      {
                        "error_x": {
                          "color": "#2a3f5f"
                        },
                        "error_y": {
                          "color": "#2a3f5f"
                        },
                        "marker": {
                          "line": {
                            "color": "white",
                            "width": 0.5
                          },
                          "pattern": {
                            "fillmode": "overlay",
                            "size": 10,
                            "solidity": 0.2
                          }
                        },
                        "type": "bar"
                      }
                    ],
                    "barpolar": [
                      {
                        "marker": {
                          "line": {
                            "color": "white",
                            "width": 0.5
                          },
                          "pattern": {
                            "fillmode": "overlay",
                            "size": 10,
                            "solidity": 0.2
                          }
                        },
                        "type": "barpolar"
                      }
                    ],
                    "carpet": [
                      {
                        "aaxis": {
                          "endlinecolor": "#2a3f5f",
                          "gridcolor": "#C8D4E3",
                          "linecolor": "#C8D4E3",
                          "minorgridcolor": "#C8D4E3",
                          "startlinecolor": "#2a3f5f"
                        },
                        "baxis": {
                          "endlinecolor": "#2a3f5f",
                          "gridcolor": "#C8D4E3",
                          "linecolor": "#C8D4E3",
                          "minorgridcolor": "#C8D4E3",
                          "startlinecolor": "#2a3f5f"
                        },
                        "type": "carpet"
                      }
                    ],
                    "choropleth": [
                      {
                        "colorbar": {
                          "outlinewidth": 0,
                          "ticks": ""
                        },
                        "type": "choropleth"
                      }
                    ],
                    "contour": [
                      {
                        "colorbar": {
                          "outlinewidth": 0,
                          "ticks": ""
                        },
                        "colorscale": [
                          [
                            0,
                            "#0d0887"
                          ],
                          [
                            0.1111111111111111,
                            "#46039f"
                          ],
                          [
                            0.2222222222222222,
                            "#7201a8"
                          ],
                          [
                            0.3333333333333333,
                            "#9c179e"
                          ],
                          [
                            0.4444444444444444,
                            "#bd3786"
                          ],
                          [
                            0.5555555555555556,
                            "#d8576b"
                          ],
                          [
                            0.6666666666666666,
                            "#ed7953"
                          ],
                          [
                            0.7777777777777778,
                            "#fb9f3a"
                          ],
                          [
                            0.8888888888888888,
                            "#fdca26"
                          ],
                          [
                            1,
                            "#f0f921"
                          ]
                        ],
                        "type": "contour"
                      }
                    ],
                    "contourcarpet": [
                      {
                        "colorbar": {
                          "outlinewidth": 0,
                          "ticks": ""
                        },
                        "type": "contourcarpet"
                      }
                    ],
                    "heatmap": [
                      {
                        "colorbar": {
                          "outlinewidth": 0,
                          "ticks": ""
                        },
                        "colorscale": [
                          [
                            0,
                            "#0d0887"
                          ],
                          [
                            0.1111111111111111,
                            "#46039f"
                          ],
                          [
                            0.2222222222222222,
                            "#7201a8"
                          ],
                          [
                            0.3333333333333333,
                            "#9c179e"
                          ],
                          [
                            0.4444444444444444,
                            "#bd3786"
                          ],
                          [
                            0.5555555555555556,
                            "#d8576b"
                          ],
                          [
                            0.6666666666666666,
                            "#ed7953"
                          ],
                          [
                            0.7777777777777778,
                            "#fb9f3a"
                          ],
                          [
                            0.8888888888888888,
                            "#fdca26"
                          ],
                          [
                            1,
                            "#f0f921"
                          ]
                        ],
                        "type": "heatmap"
                      }
                    ],
                    "heatmapgl": [
                      {
                        "colorbar": {
                          "outlinewidth": 0,
                          "ticks": ""
                        },
                        "colorscale": [
                          [
                            0,
                            "#0d0887"
                          ],
                          [
                            0.1111111111111111,
                            "#46039f"
                          ],
                          [
                            0.2222222222222222,
                            "#7201a8"
                          ],
                          [
                            0.3333333333333333,
                            "#9c179e"
                          ],
                          [
                            0.4444444444444444,
                            "#bd3786"
                          ],
                          [
                            0.5555555555555556,
                            "#d8576b"
                          ],
                          [
                            0.6666666666666666,
                            "#ed7953"
                          ],
                          [
                            0.7777777777777778,
                            "#fb9f3a"
                          ],
                          [
                            0.8888888888888888,
                            "#fdca26"
                          ],
                          [
                            1,
                            "#f0f921"
                          ]
                        ],
                        "type": "heatmapgl"
                      }
                    ],
                    "histogram": [
                      {
                        "marker": {
                          "pattern": {
                            "fillmode": "overlay",
                            "size": 10,
                            "solidity": 0.2
                          }
                        },
                        "type": "histogram"
                      }
                    ],
                    "histogram2d": [
                      {
                        "colorbar": {
                          "outlinewidth": 0,
                          "ticks": ""
                        },
                        "colorscale": [
                          [
                            0,
                            "#0d0887"
                          ],
                          [
                            0.1111111111111111,
                            "#46039f"
                          ],
                          [
                            0.2222222222222222,
                            "#7201a8"
                          ],
                          [
                            0.3333333333333333,
                            "#9c179e"
                          ],
                          [
                            0.4444444444444444,
                            "#bd3786"
                          ],
                          [
                            0.5555555555555556,
                            "#d8576b"
                          ],
                          [
                            0.6666666666666666,
                            "#ed7953"
                          ],
                          [
                            0.7777777777777778,
                            "#fb9f3a"
                          ],
                          [
                            0.8888888888888888,
                            "#fdca26"
                          ],
                          [
                            1,
                            "#f0f921"
                          ]
                        ],
                        "type": "histogram2d"
                      }
                    ],
                    "histogram2dcontour": [
                      {
                        "colorbar": {
                          "outlinewidth": 0,
                          "ticks": ""
                        },
                        "colorscale": [
                          [
                            0,
                            "#0d0887"
                          ],
                          [
                            0.1111111111111111,
                            "#46039f"
                          ],
                          [
                            0.2222222222222222,
                            "#7201a8"
                          ],
                          [
                            0.3333333333333333,
                            "#9c179e"
                          ],
                          [
                            0.4444444444444444,
                            "#bd3786"
                          ],
                          [
                            0.5555555555555556,
                            "#d8576b"
                          ],
                          [
                            0.6666666666666666,
                            "#ed7953"
                          ],
                          [
                            0.7777777777777778,
                            "#fb9f3a"
                          ],
                          [
                            0.8888888888888888,
                            "#fdca26"
                          ],
                          [
                            1,
                            "#f0f921"
                          ]
                        ],
                        "type": "histogram2dcontour"
                      }
                    ],
                    "mesh3d": [
                      {
                        "colorbar": {
                          "outlinewidth": 0,
                          "ticks": ""
                        },
                        "type": "mesh3d"
                      }
                    ],
                    "parcoords": [
                      {
                        "line": {
                          "colorbar": {
                            "outlinewidth": 0,
                            "ticks": ""
                          }
                        },
                        "type": "parcoords"
                      }
                    ],
                    "pie": [
                      {
                        "automargin": true,
                        "type": "pie"
                      }
                    ],
                    "scatter": [
                      {
                        "marker": {
                          "colorbar": {
                            "outlinewidth": 0,
                            "ticks": ""
                          }
                        },
                        "type": "scatter"
                      }
                    ],
                    "scatter3d": [
                      {
                        "line": {
                          "colorbar": {
                            "outlinewidth": 0,
                            "ticks": ""
                          }
                        },
                        "marker": {
                          "colorbar": {
                            "outlinewidth": 0,
                            "ticks": ""
                          }
                        },
                        "type": "scatter3d"
                      }
                    ],
                    "scattercarpet": [
                      {
                        "marker": {
                          "colorbar": {
                            "outlinewidth": 0,
                            "ticks": ""
                          }
                        },
                        "type": "scattercarpet"
                      }
                    ],
                    "scattergeo": [
                      {
                        "marker": {
                          "colorbar": {
                            "outlinewidth": 0,
                            "ticks": ""
                          }
                        },
                        "type": "scattergeo"
                      }
                    ],
                    "scattergl": [
                      {
                        "marker": {
                          "colorbar": {
                            "outlinewidth": 0,
                            "ticks": ""
                          }
                        },
                        "type": "scattergl"
                      }
                    ],
                    "scattermapbox": [
                      {
                        "marker": {
                          "colorbar": {
                            "outlinewidth": 0,
                            "ticks": ""
                          }
                        },
                        "type": "scattermapbox"
                      }
                    ],
                    "scatterpolar": [
                      {
                        "marker": {
                          "colorbar": {
                            "outlinewidth": 0,
                            "ticks": ""
                          }
                        },
                        "type": "scatterpolar"
                      }
                    ],
                    "scatterpolargl": [
                      {
                        "marker": {
                          "colorbar": {
                            "outlinewidth": 0,
                            "ticks": ""
                          }
                        },
                        "type": "scatterpolargl"
                      }
                    ],
                    "scatterternary": [
                      {
                        "marker": {
                          "colorbar": {
                            "outlinewidth": 0,
                            "ticks": ""
                          }
                        },
                        "type": "scatterternary"
                      }
                    ],
                    "surface": [
                      {
                        "colorbar": {
                          "outlinewidth": 0,
                          "ticks": ""
                        },
                        "colorscale": [
                          [
                            0,
                            "#0d0887"
                          ],
                          [
                            0.1111111111111111,
                            "#46039f"
                          ],
                          [
                            0.2222222222222222,
                            "#7201a8"
                          ],
                          [
                            0.3333333333333333,
                            "#9c179e"
                          ],
                          [
                            0.4444444444444444,
                            "#bd3786"
                          ],
                          [
                            0.5555555555555556,
                            "#d8576b"
                          ],
                          [
                            0.6666666666666666,
                            "#ed7953"
                          ],
                          [
                            0.7777777777777778,
                            "#fb9f3a"
                          ],
                          [
                            0.8888888888888888,
                            "#fdca26"
                          ],
                          [
                            1,
                            "#f0f921"
                          ]
                        ],
                        "type": "surface"
                      }
                    ],
                    "table": [
                      {
                        "cells": {
                          "fill": {
                            "color": "#EBF0F8"
                          },
                          "line": {
                            "color": "white"
                          }
                        },
                        "header": {
                          "fill": {
                            "color": "#C8D4E3"
                          },
                          "line": {
                            "color": "white"
                          }
                        },
                        "type": "table"
                      }
                    ]
                  },
                  "layout": {
                    "annotationdefaults": {
                      "arrowcolor": "#2a3f5f",
                      "arrowhead": 0,
                      "arrowwidth": 1
                    },
                    "autotypenumbers": "strict",
                    "coloraxis": {
                      "colorbar": {
                        "outlinewidth": 0,
                        "ticks": ""
                      }
                    },
                    "colorscale": {
                      "diverging": [
                        [
                          0,
                          "#8e0152"
                        ],
                        [
                          0.1,
                          "#c51b7d"
                        ],
                        [
                          0.2,
                          "#de77ae"
                        ],
                        [
                          0.3,
                          "#f1b6da"
                        ],
                        [
                          0.4,
                          "#fde0ef"
                        ],
                        [
                          0.5,
                          "#f7f7f7"
                        ],
                        [
                          0.6,
                          "#e6f5d0"
                        ],
                        [
                          0.7,
                          "#b8e186"
                        ],
                        [
                          0.8,
                          "#7fbc41"
                        ],
                        [
                          0.9,
                          "#4d9221"
                        ],
                        [
                          1,
                          "#276419"
                        ]
                      ],
                      "sequential": [
                        [
                          0,
                          "#0d0887"
                        ],
                        [
                          0.1111111111111111,
                          "#46039f"
                        ],
                        [
                          0.2222222222222222,
                          "#7201a8"
                        ],
                        [
                          0.3333333333333333,
                          "#9c179e"
                        ],
                        [
                          0.4444444444444444,
                          "#bd3786"
                        ],
                        [
                          0.5555555555555556,
                          "#d8576b"
                        ],
                        [
                          0.6666666666666666,
                          "#ed7953"
                        ],
                        [
                          0.7777777777777778,
                          "#fb9f3a"
                        ],
                        [
                          0.8888888888888888,
                          "#fdca26"
                        ],
                        [
                          1,
                          "#f0f921"
                        ]
                      ],
                      "sequentialminus": [
                        [
                          0,
                          "#0d0887"
                        ],
                        [
                          0.1111111111111111,
                          "#46039f"
                        ],
                        [
                          0.2222222222222222,
                          "#7201a8"
                        ],
                        [
                          0.3333333333333333,
                          "#9c179e"
                        ],
                        [
                          0.4444444444444444,
                          "#bd3786"
                        ],
                        [
                          0.5555555555555556,
                          "#d8576b"
                        ],
                        [
                          0.6666666666666666,
                          "#ed7953"
                        ],
                        [
                          0.7777777777777778,
                          "#fb9f3a"
                        ],
                        [
                          0.8888888888888888,
                          "#fdca26"
                        ],
                        [
                          1,
                          "#f0f921"
                        ]
                      ]
                    },
                    "colorway": [
                      "#636efa",
                      "#EF553B",
                      "#00cc96",
                      "#ab63fa",
                      "#FFA15A",
                      "#19d3f3",
                      "#FF6692",
                      "#B6E880",
                      "#FF97FF",
                      "#FECB52"
                    ],
                    "font": {
                      "color": "#2a3f5f"
                    },
                    "geo": {
                      "bgcolor": "white",
                      "lakecolor": "white",
                      "landcolor": "white",
                      "showlakes": true,
                      "showland": true,
                      "subunitcolor": "#C8D4E3"
                    },
                    "hoverlabel": {
                      "align": "left"
                    },
                    "hovermode": "closest",
                    "mapbox": {
                      "style": "light"
                    },
                    "paper_bgcolor": "white",
                    "plot_bgcolor": "white",
                    "polar": {
                      "angularaxis": {
                        "gridcolor": "#EBF0F8",
                        "linecolor": "#EBF0F8",
                        "ticks": ""
                      },
                      "bgcolor": "white",
                      "radialaxis": {
                        "gridcolor": "#EBF0F8",
                        "linecolor": "#EBF0F8",
                        "ticks": ""
                      }
                    },
                    "scene": {
                      "xaxis": {
                        "backgroundcolor": "white",
                        "gridcolor": "#DFE8F3",
                        "gridwidth": 2,
                        "linecolor": "#EBF0F8",
                        "showbackground": true,
                        "ticks": "",
                        "zerolinecolor": "#EBF0F8"
                      },
                      "yaxis": {
                        "backgroundcolor": "white",
                        "gridcolor": "#DFE8F3",
                        "gridwidth": 2,
                        "linecolor": "#EBF0F8",
                        "showbackground": true,
                        "ticks": "",
                        "zerolinecolor": "#EBF0F8"
                      },
                      "zaxis": {
                        "backgroundcolor": "white",
                        "gridcolor": "#DFE8F3",
                        "gridwidth": 2,
                        "linecolor": "#EBF0F8",
                        "showbackground": true,
                        "ticks": "",
                        "zerolinecolor": "#EBF0F8"
                      }
                    },
                    "shapedefaults": {
                      "line": {
                        "color": "#2a3f5f"
                      }
                    },
                    "ternary": {
                      "aaxis": {
                        "gridcolor": "#DFE8F3",
                        "linecolor": "#A2B1C6",
                        "ticks": ""
                      },
                      "baxis": {
                        "gridcolor": "#DFE8F3",
                        "linecolor": "#A2B1C6",
                        "ticks": ""
                      },
                      "bgcolor": "white",
                      "caxis": {
                        "gridcolor": "#DFE8F3",
                        "linecolor": "#A2B1C6",
                        "ticks": ""
                      }
                    },
                    "title": {
                      "x": 0.05
                    },
                    "xaxis": {
                      "automargin": true,
                      "gridcolor": "#EBF0F8",
                      "linecolor": "#EBF0F8",
                      "ticks": "",
                      "title": {
                        "standoff": 15
                      },
                      "zerolinecolor": "#EBF0F8",
                      "zerolinewidth": 2
                    },
                    "yaxis": {
                      "automargin": true,
                      "gridcolor": "#EBF0F8",
                      "linecolor": "#EBF0F8",
                      "ticks": "",
                      "title": {
                        "standoff": 15
                      },
                      "zerolinecolor": "#EBF0F8",
                      "zerolinewidth": 2
                    }
                  }
                },
                "xaxis": {
                  "anchor": "y",
                  "domain": [
                    0,
                    1
                  ],
                  "title": {
                    "text": "Ano"
                  }
                },
                "yaxis": {
                  "anchor": "x",
                  "domain": [
                    0,
                    1
                  ],
                  "title": {
                    "text": "Produção (Toneladas)"
                  }
                }
              }
            }
          },
          "metadata": {},
          "output_type": "display_data"
        }
      ],
      "source": [
        "fig = px.bar(producao, x = producao.index, y = producao.columns,  labels = {'value': 'Produção (Toneladas)', 'variable' : 'Culturas'})\n",
        "fig.update_layout(template = 'plotly_white')\n",
        "fig.update_traces(texttemplate = '%{y:.2s}', textposition = 'outside')\n"
      ]
    },
    {
      "cell_type": "code",
      "execution_count": null,
      "metadata": {},
      "outputs": [],
      "source": []
    }
  ],
  "metadata": {
    "colab": {
      "provenance": []
    },
    "kernelspec": {
      "display_name": "Python 3.9.12 ('base')",
      "language": "python",
      "name": "python3"
    },
    "language_info": {
      "codemirror_mode": {
        "name": "ipython",
        "version": 3
      },
      "file_extension": ".py",
      "mimetype": "text/x-python",
      "name": "python",
      "nbconvert_exporter": "python",
      "pygments_lexer": "ipython3",
      "version": "3.9.12"
    },
    "vscode": {
      "interpreter": {
        "hash": "3a0de9df006df342b5e4296aedaeaf87f8585c794651fec65fd5881a82402807"
      }
    }
  },
  "nbformat": 4,
  "nbformat_minor": 0
}
