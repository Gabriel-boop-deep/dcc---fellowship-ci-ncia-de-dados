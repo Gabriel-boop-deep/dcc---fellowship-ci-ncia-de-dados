{
  "cells": [
    {
      "cell_type": "markdown",
      "metadata": {},
      "source": [
        "### DCC - Sirius Education\n",
        "#### Grupo: O-PY-THA-ON"
      ]
    },
    {
      "cell_type": "markdown",
      "metadata": {},
      "source": [
        "#### Exploração inicial\n",
        "Abaixo foram feitas explorações iniciais nos dois datasets escolhidos pelo grupo\n",
        "\n",
        "* Produção Municipal Agrícola [(PAM)](https://sidra.ibge.gov.br/tabela/5457)\n",
        "* Pesquisa de Orçamentos Familiares [(POF)](https://www.ibge.gov.br/estatisticas/sociais/saude/24786-pesquisa-de-orcamentos-familiares-2.html?=&t=resultados)"
      ]
    },
    {
      "cell_type": "markdown",
      "metadata": {},
      "source": [
        "#### Imports"
      ]
    },
    {
      "cell_type": "code",
      "execution_count": 84,
      "metadata": {},
      "outputs": [],
      "source": [
        "import pandas as pd\n",
        "import numpy as np\n",
        "import seaborn as sns\n",
        "import plotly.express as px"
      ]
    },
    {
      "cell_type": "markdown",
      "metadata": {},
      "source": [
        "#### Exploração inicial da PAM\n",
        "\n",
        "\n",
        "\n",
        "<a href=\"https://sidra.ibge.gov.br/tabela/5457\">Tabela 5457 - Área plantada ou destinada à colheita, área colhida, quantidade produzida, rendimento médio e valor da produção das lavouras temporárias e permanente</a>"
      ]
    },
    {
      "cell_type": "code",
      "execution_count": 85,
      "metadata": {},
      "outputs": [
        {
          "data": {
            "text/plain": [
              "Index(['Arroz (em casca)', 'Café (em grão) Total', 'Cana-de-açúcar',\n",
              "       'Feijão (em grão)', 'Mandioca', 'Milho (em grão)', 'Soja (em grão)',\n",
              "       'Tomate', 'Trigo (em grão)'],\n",
              "      dtype='object')"
            ]
          },
          "execution_count": 85,
          "metadata": {},
          "output_type": "execute_result"
        }
      ],
      "source": [
        "producao = pd.read_excel('C:\\dcc-fellowship-ciencia-de-dados\\pam_alimentos_cesta.xlsx', index_col='Ano')\n",
        "producao.columns"
      ]
    },
    {
      "cell_type": "code",
      "execution_count": 86,
      "metadata": {},
      "outputs": [
        {
          "data": {
            "text/html": [
              "<div>\n",
              "<style scoped>\n",
              "    .dataframe tbody tr th:only-of-type {\n",
              "        vertical-align: middle;\n",
              "    }\n",
              "\n",
              "    .dataframe tbody tr th {\n",
              "        vertical-align: top;\n",
              "    }\n",
              "\n",
              "    .dataframe thead th {\n",
              "        text-align: right;\n",
              "    }\n",
              "</style>\n",
              "<table border=\"1\" class=\"dataframe\">\n",
              "  <thead>\n",
              "    <tr style=\"text-align: right;\">\n",
              "      <th></th>\n",
              "      <th>Arroz (em casca)</th>\n",
              "      <th>Café (em grão) Total</th>\n",
              "      <th>Cana-de-açúcar</th>\n",
              "      <th>Feijão (em grão)</th>\n",
              "      <th>Mandioca</th>\n",
              "      <th>Milho (em grão)</th>\n",
              "      <th>Soja (em grão)</th>\n",
              "      <th>Tomate</th>\n",
              "      <th>Trigo (em grão)</th>\n",
              "    </tr>\n",
              "    <tr>\n",
              "      <th>Ano</th>\n",
              "      <th></th>\n",
              "      <th></th>\n",
              "      <th></th>\n",
              "      <th></th>\n",
              "      <th></th>\n",
              "      <th></th>\n",
              "      <th></th>\n",
              "      <th></th>\n",
              "      <th></th>\n",
              "    </tr>\n",
              "  </thead>\n",
              "  <tbody>\n",
              "    <tr>\n",
              "      <th>1974</th>\n",
              "      <td>6764038</td>\n",
              "      <td>3230618</td>\n",
              "      <td>95623685</td>\n",
              "      <td>2238012</td>\n",
              "      <td>24797636</td>\n",
              "      <td>16273227</td>\n",
              "      <td>7876527</td>\n",
              "      <td>1144037</td>\n",
              "      <td>2858530</td>\n",
              "    </tr>\n",
              "    <tr>\n",
              "      <th>1975</th>\n",
              "      <td>7781538</td>\n",
              "      <td>2544596</td>\n",
              "      <td>91524559</td>\n",
              "      <td>2282466</td>\n",
              "      <td>26117614</td>\n",
              "      <td>16334516</td>\n",
              "      <td>9893008</td>\n",
              "      <td>1049724</td>\n",
              "      <td>1788180</td>\n",
              "    </tr>\n",
              "    <tr>\n",
              "      <th>1976</th>\n",
              "      <td>9757079</td>\n",
              "      <td>751969</td>\n",
              "      <td>103173449</td>\n",
              "      <td>1840315</td>\n",
              "      <td>25443053</td>\n",
              "      <td>17751077</td>\n",
              "      <td>11227123</td>\n",
              "      <td>1166888</td>\n",
              "      <td>3215745</td>\n",
              "    </tr>\n",
              "    <tr>\n",
              "      <th>1977</th>\n",
              "      <td>8993696</td>\n",
              "      <td>1950771</td>\n",
              "      <td>120081700</td>\n",
              "      <td>2290007</td>\n",
              "      <td>25929484</td>\n",
              "      <td>19255936</td>\n",
              "      <td>12513406</td>\n",
              "      <td>1297508</td>\n",
              "      <td>2066039</td>\n",
              "    </tr>\n",
              "    <tr>\n",
              "      <th>1978</th>\n",
              "      <td>7296142</td>\n",
              "      <td>2535323</td>\n",
              "      <td>129144950</td>\n",
              "      <td>2193977</td>\n",
              "      <td>25459408</td>\n",
              "      <td>13569401</td>\n",
              "      <td>9540577</td>\n",
              "      <td>1464558</td>\n",
              "      <td>2690888</td>\n",
              "    </tr>\n",
              "  </tbody>\n",
              "</table>\n",
              "</div>"
            ],
            "text/plain": [
              "      Arroz (em casca)  Café (em grão) Total  Cana-de-açúcar  \\\n",
              "Ano                                                            \n",
              "1974           6764038               3230618        95623685   \n",
              "1975           7781538               2544596        91524559   \n",
              "1976           9757079                751969       103173449   \n",
              "1977           8993696               1950771       120081700   \n",
              "1978           7296142               2535323       129144950   \n",
              "\n",
              "      Feijão (em grão)  Mandioca  Milho (em grão)  Soja (em grão)   Tomate  \\\n",
              "Ano                                                                          \n",
              "1974           2238012  24797636         16273227         7876527  1144037   \n",
              "1975           2282466  26117614         16334516         9893008  1049724   \n",
              "1976           1840315  25443053         17751077        11227123  1166888   \n",
              "1977           2290007  25929484         19255936        12513406  1297508   \n",
              "1978           2193977  25459408         13569401         9540577  1464558   \n",
              "\n",
              "      Trigo (em grão)  \n",
              "Ano                    \n",
              "1974          2858530  \n",
              "1975          1788180  \n",
              "1976          3215745  \n",
              "1977          2066039  \n",
              "1978          2690888  "
            ]
          },
          "execution_count": 86,
          "metadata": {},
          "output_type": "execute_result"
        }
      ],
      "source": [
        "producao.head()"
      ]
    },
    {
      "cell_type": "code",
      "execution_count": 87,
      "metadata": {},
      "outputs": [],
      "source": [
        "producao_2 = pd.read_excel('C:\\dcc-fellowship-ciencia-de-dados\\pam.xlsx')"
      ]
    },
    {
      "cell_type": "code",
      "execution_count": 88,
      "metadata": {},
      "outputs": [
        {
          "data": {
            "text/plain": [
              "Index(['Ano', 'Item', 'Produçao'], dtype='object')"
            ]
          },
          "execution_count": 88,
          "metadata": {},
          "output_type": "execute_result"
        }
      ],
      "source": [
        "producao_2.columns"
      ]
    },
    {
      "cell_type": "code",
      "execution_count": 89,
      "metadata": {},
      "outputs": [
        {
          "data": {
            "text/html": [
              "<div>\n",
              "<style scoped>\n",
              "    .dataframe tbody tr th:only-of-type {\n",
              "        vertical-align: middle;\n",
              "    }\n",
              "\n",
              "    .dataframe tbody tr th {\n",
              "        vertical-align: top;\n",
              "    }\n",
              "\n",
              "    .dataframe thead th {\n",
              "        text-align: right;\n",
              "    }\n",
              "</style>\n",
              "<table border=\"1\" class=\"dataframe\">\n",
              "  <thead>\n",
              "    <tr style=\"text-align: right;\">\n",
              "      <th></th>\n",
              "      <th>Ano</th>\n",
              "      <th>Item</th>\n",
              "      <th>Produçao</th>\n",
              "    </tr>\n",
              "  </thead>\n",
              "  <tbody>\n",
              "    <tr>\n",
              "      <th>0</th>\n",
              "      <td>1974</td>\n",
              "      <td>Arroz em casca</td>\n",
              "      <td>6764038</td>\n",
              "    </tr>\n",
              "    <tr>\n",
              "      <th>1</th>\n",
              "      <td>1975</td>\n",
              "      <td>Arroz em casca</td>\n",
              "      <td>7781538</td>\n",
              "    </tr>\n",
              "    <tr>\n",
              "      <th>2</th>\n",
              "      <td>1976</td>\n",
              "      <td>Arroz em casca</td>\n",
              "      <td>9757079</td>\n",
              "    </tr>\n",
              "    <tr>\n",
              "      <th>3</th>\n",
              "      <td>1977</td>\n",
              "      <td>Arroz em casca</td>\n",
              "      <td>8993696</td>\n",
              "    </tr>\n",
              "    <tr>\n",
              "      <th>4</th>\n",
              "      <td>1978</td>\n",
              "      <td>Arroz em casca</td>\n",
              "      <td>7296142</td>\n",
              "    </tr>\n",
              "  </tbody>\n",
              "</table>\n",
              "</div>"
            ],
            "text/plain": [
              "    Ano            Item  Produçao\n",
              "0  1974  Arroz em casca   6764038\n",
              "1  1975  Arroz em casca   7781538\n",
              "2  1976  Arroz em casca   9757079\n",
              "3  1977  Arroz em casca   8993696\n",
              "4  1978  Arroz em casca   7296142"
            ]
          },
          "execution_count": 89,
          "metadata": {},
          "output_type": "execute_result"
        }
      ],
      "source": [
        "producao_2.head()"
      ]
    },
    {
      "cell_type": "markdown",
      "metadata": {},
      "source": [
        "#### Verificando o shape do dataframe"
      ]
    },
    {
      "cell_type": "code",
      "execution_count": 90,
      "metadata": {},
      "outputs": [
        {
          "data": {
            "text/plain": [
              "(47, 9)"
            ]
          },
          "execution_count": 90,
          "metadata": {},
          "output_type": "execute_result"
        }
      ],
      "source": [
        "producao.shape"
      ]
    },
    {
      "cell_type": "code",
      "execution_count": 91,
      "metadata": {},
      "outputs": [
        {
          "data": {
            "text/html": [
              "<div>\n",
              "<style scoped>\n",
              "    .dataframe tbody tr th:only-of-type {\n",
              "        vertical-align: middle;\n",
              "    }\n",
              "\n",
              "    .dataframe tbody tr th {\n",
              "        vertical-align: top;\n",
              "    }\n",
              "\n",
              "    .dataframe thead th {\n",
              "        text-align: right;\n",
              "    }\n",
              "</style>\n",
              "<table border=\"1\" class=\"dataframe\">\n",
              "  <thead>\n",
              "    <tr style=\"text-align: right;\">\n",
              "      <th></th>\n",
              "      <th>Arroz (em casca)</th>\n",
              "      <th>Café (em grão) Total</th>\n",
              "      <th>Cana-de-açúcar</th>\n",
              "      <th>Feijão (em grão)</th>\n",
              "      <th>Mandioca</th>\n",
              "      <th>Milho (em grão)</th>\n",
              "      <th>Soja (em grão)</th>\n",
              "      <th>Tomate</th>\n",
              "      <th>Trigo (em grão)</th>\n",
              "    </tr>\n",
              "    <tr>\n",
              "      <th>Ano</th>\n",
              "      <th></th>\n",
              "      <th></th>\n",
              "      <th></th>\n",
              "      <th></th>\n",
              "      <th></th>\n",
              "      <th></th>\n",
              "      <th></th>\n",
              "      <th></th>\n",
              "      <th></th>\n",
              "    </tr>\n",
              "  </thead>\n",
              "  <tbody>\n",
              "    <tr>\n",
              "      <th>1974</th>\n",
              "      <td>6764038</td>\n",
              "      <td>3230618</td>\n",
              "      <td>95623685</td>\n",
              "      <td>2238012</td>\n",
              "      <td>24797636</td>\n",
              "      <td>16273227</td>\n",
              "      <td>7876527</td>\n",
              "      <td>1144037</td>\n",
              "      <td>2858530</td>\n",
              "    </tr>\n",
              "    <tr>\n",
              "      <th>1975</th>\n",
              "      <td>7781538</td>\n",
              "      <td>2544596</td>\n",
              "      <td>91524559</td>\n",
              "      <td>2282466</td>\n",
              "      <td>26117614</td>\n",
              "      <td>16334516</td>\n",
              "      <td>9893008</td>\n",
              "      <td>1049724</td>\n",
              "      <td>1788180</td>\n",
              "    </tr>\n",
              "    <tr>\n",
              "      <th>1976</th>\n",
              "      <td>9757079</td>\n",
              "      <td>751969</td>\n",
              "      <td>103173449</td>\n",
              "      <td>1840315</td>\n",
              "      <td>25443053</td>\n",
              "      <td>17751077</td>\n",
              "      <td>11227123</td>\n",
              "      <td>1166888</td>\n",
              "      <td>3215745</td>\n",
              "    </tr>\n",
              "    <tr>\n",
              "      <th>1977</th>\n",
              "      <td>8993696</td>\n",
              "      <td>1950771</td>\n",
              "      <td>120081700</td>\n",
              "      <td>2290007</td>\n",
              "      <td>25929484</td>\n",
              "      <td>19255936</td>\n",
              "      <td>12513406</td>\n",
              "      <td>1297508</td>\n",
              "      <td>2066039</td>\n",
              "    </tr>\n",
              "    <tr>\n",
              "      <th>1978</th>\n",
              "      <td>7296142</td>\n",
              "      <td>2535323</td>\n",
              "      <td>129144950</td>\n",
              "      <td>2193977</td>\n",
              "      <td>25459408</td>\n",
              "      <td>13569401</td>\n",
              "      <td>9540577</td>\n",
              "      <td>1464558</td>\n",
              "      <td>2690888</td>\n",
              "    </tr>\n",
              "  </tbody>\n",
              "</table>\n",
              "</div>"
            ],
            "text/plain": [
              "      Arroz (em casca)  Café (em grão) Total  Cana-de-açúcar  \\\n",
              "Ano                                                            \n",
              "1974           6764038               3230618        95623685   \n",
              "1975           7781538               2544596        91524559   \n",
              "1976           9757079                751969       103173449   \n",
              "1977           8993696               1950771       120081700   \n",
              "1978           7296142               2535323       129144950   \n",
              "\n",
              "      Feijão (em grão)  Mandioca  Milho (em grão)  Soja (em grão)   Tomate  \\\n",
              "Ano                                                                          \n",
              "1974           2238012  24797636         16273227         7876527  1144037   \n",
              "1975           2282466  26117614         16334516         9893008  1049724   \n",
              "1976           1840315  25443053         17751077        11227123  1166888   \n",
              "1977           2290007  25929484         19255936        12513406  1297508   \n",
              "1978           2193977  25459408         13569401         9540577  1464558   \n",
              "\n",
              "      Trigo (em grão)  \n",
              "Ano                    \n",
              "1974          2858530  \n",
              "1975          1788180  \n",
              "1976          3215745  \n",
              "1977          2066039  \n",
              "1978          2690888  "
            ]
          },
          "execution_count": 91,
          "metadata": {},
          "output_type": "execute_result"
        }
      ],
      "source": [
        "producao.head()"
      ]
    },
    {
      "cell_type": "markdown",
      "metadata": {},
      "source": [
        "#### Análise de valores nulos"
      ]
    },
    {
      "cell_type": "code",
      "execution_count": 92,
      "metadata": {
        "colab": {
          "base_uri": "https://localhost:8080/"
        },
        "id": "ApPf8IQxd4ml",
        "outputId": "a0b02916-6560-4aa2-f9d6-4de603c3b859"
      },
      "outputs": [
        {
          "data": {
            "text/plain": [
              "Arroz (em casca)        0\n",
              "Café (em grão) Total    0\n",
              "Cana-de-açúcar          0\n",
              "Feijão (em grão)        0\n",
              "Mandioca                0\n",
              "Milho (em grão)         0\n",
              "Soja (em grão)          0\n",
              "Tomate                  0\n",
              "Trigo (em grão)         0\n",
              "dtype: int64"
            ]
          },
          "execution_count": 92,
          "metadata": {},
          "output_type": "execute_result"
        }
      ],
      "source": [
        "producao.isnull().sum()"
      ]
    },
    {
      "cell_type": "markdown",
      "metadata": {
        "colab": {
          "base_uri": "https://localhost:8080/"
        },
        "id": "SwPkciGxePuT",
        "outputId": "7306f929-cde8-47a1-fd68-cbab7b130dbe"
      },
      "source": [
        "#### Análise de valores duplicados"
      ]
    },
    {
      "cell_type": "code",
      "execution_count": 93,
      "metadata": {
        "id": "bSAqzwgjejyM"
      },
      "outputs": [
        {
          "data": {
            "text/plain": [
              "0"
            ]
          },
          "execution_count": 93,
          "metadata": {},
          "output_type": "execute_result"
        }
      ],
      "source": [
        "producao.duplicated().sum()"
      ]
    },
    {
      "cell_type": "markdown",
      "metadata": {},
      "source": [
        "#### Centralidade, dispersão e boxplot para cada alimento da cesta básica"
      ]
    },
    {
      "cell_type": "code",
      "execution_count": 94,
      "metadata": {},
      "outputs": [
        {
          "data": {
            "text/html": [
              "<div>\n",
              "<style scoped>\n",
              "    .dataframe tbody tr th:only-of-type {\n",
              "        vertical-align: middle;\n",
              "    }\n",
              "\n",
              "    .dataframe tbody tr th {\n",
              "        vertical-align: top;\n",
              "    }\n",
              "\n",
              "    .dataframe thead th {\n",
              "        text-align: right;\n",
              "    }\n",
              "</style>\n",
              "<table border=\"1\" class=\"dataframe\">\n",
              "  <thead>\n",
              "    <tr style=\"text-align: right;\">\n",
              "      <th></th>\n",
              "      <th>Arroz (em casca)</th>\n",
              "      <th>Café (em grão) Total</th>\n",
              "      <th>Cana-de-açúcar</th>\n",
              "      <th>Feijão (em grão)</th>\n",
              "      <th>Mandioca</th>\n",
              "      <th>Milho (em grão)</th>\n",
              "      <th>Soja (em grão)</th>\n",
              "      <th>Tomate</th>\n",
              "      <th>Trigo (em grão)</th>\n",
              "    </tr>\n",
              "  </thead>\n",
              "  <tbody>\n",
              "    <tr>\n",
              "      <th>count</th>\n",
              "      <td>4.700000e+01</td>\n",
              "      <td>4.700000e+01</td>\n",
              "      <td>4.700000e+01</td>\n",
              "      <td>4.700000e+01</td>\n",
              "      <td>4.700000e+01</td>\n",
              "      <td>4.700000e+01</td>\n",
              "      <td>4.700000e+01</td>\n",
              "      <td>4.700000e+01</td>\n",
              "      <td>4.700000e+01</td>\n",
              "    </tr>\n",
              "    <tr>\n",
              "      <th>mean</th>\n",
              "      <td>1.032623e+07</td>\n",
              "      <td>2.792463e+06</td>\n",
              "      <td>3.975459e+08</td>\n",
              "      <td>2.720224e+06</td>\n",
              "      <td>2.309252e+07</td>\n",
              "      <td>4.125725e+07</td>\n",
              "      <td>4.250427e+07</td>\n",
              "      <td>2.824883e+06</td>\n",
              "      <td>3.912155e+06</td>\n",
              "    </tr>\n",
              "    <tr>\n",
              "      <th>std</th>\n",
              "      <td>1.735005e+06</td>\n",
              "      <td>6.497791e+05</td>\n",
              "      <td>2.315308e+08</td>\n",
              "      <td>4.730048e+05</td>\n",
              "      <td>2.504254e+06</td>\n",
              "      <td>2.496821e+07</td>\n",
              "      <td>3.365850e+07</td>\n",
              "      <td>1.059247e+06</td>\n",
              "      <td>1.653151e+06</td>\n",
              "    </tr>\n",
              "    <tr>\n",
              "      <th>min</th>\n",
              "      <td>6.764038e+06</td>\n",
              "      <td>7.519690e+05</td>\n",
              "      <td>9.152456e+07</td>\n",
              "      <td>1.580546e+06</td>\n",
              "      <td>1.759319e+07</td>\n",
              "      <td>1.356940e+07</td>\n",
              "      <td>7.876527e+06</td>\n",
              "      <td>1.049724e+06</td>\n",
              "      <td>1.533871e+06</td>\n",
              "    </tr>\n",
              "    <tr>\n",
              "      <th>25%</th>\n",
              "      <td>9.025959e+06</td>\n",
              "      <td>2.500516e+06</td>\n",
              "      <td>2.418545e+08</td>\n",
              "      <td>2.300276e+06</td>\n",
              "      <td>2.176087e+07</td>\n",
              "      <td>2.159513e+07</td>\n",
              "      <td>1.534830e+07</td>\n",
              "      <td>1.890458e+06</td>\n",
              "      <td>2.473352e+06</td>\n",
              "    </tr>\n",
              "    <tr>\n",
              "      <th>50%</th>\n",
              "      <td>1.041903e+07</td>\n",
              "      <td>2.737660e+06</td>\n",
              "      <td>3.261210e+08</td>\n",
              "      <td>2.808639e+06</td>\n",
              "      <td>2.346448e+07</td>\n",
              "      <td>3.232100e+07</td>\n",
              "      <td>2.639264e+07</td>\n",
              "      <td>2.717965e+06</td>\n",
              "      <td>3.292777e+06</td>\n",
              "    </tr>\n",
              "    <tr>\n",
              "      <th>75%</th>\n",
              "      <td>1.162979e+07</td>\n",
              "      <td>3.050224e+06</td>\n",
              "      <td>6.684532e+08</td>\n",
              "      <td>3.051184e+06</td>\n",
              "      <td>2.496417e+07</td>\n",
              "      <td>5.373824e+07</td>\n",
              "      <td>5.884514e+07</td>\n",
              "      <td>3.810625e+06</td>\n",
              "      <td>5.640248e+06</td>\n",
              "    </tr>\n",
              "    <tr>\n",
              "      <th>max</th>\n",
              "      <td>1.347699e+07</td>\n",
              "      <td>4.405416e+06</td>\n",
              "      <td>7.685942e+08</td>\n",
              "      <td>3.486763e+06</td>\n",
              "      <td>2.670304e+07</td>\n",
              "      <td>1.039636e+08</td>\n",
              "      <td>1.217977e+08</td>\n",
              "      <td>4.416652e+06</td>\n",
              "      <td>6.834421e+06</td>\n",
              "    </tr>\n",
              "  </tbody>\n",
              "</table>\n",
              "</div>"
            ],
            "text/plain": [
              "       Arroz (em casca)  Café (em grão) Total  Cana-de-açúcar  \\\n",
              "count      4.700000e+01          4.700000e+01    4.700000e+01   \n",
              "mean       1.032623e+07          2.792463e+06    3.975459e+08   \n",
              "std        1.735005e+06          6.497791e+05    2.315308e+08   \n",
              "min        6.764038e+06          7.519690e+05    9.152456e+07   \n",
              "25%        9.025959e+06          2.500516e+06    2.418545e+08   \n",
              "50%        1.041903e+07          2.737660e+06    3.261210e+08   \n",
              "75%        1.162979e+07          3.050224e+06    6.684532e+08   \n",
              "max        1.347699e+07          4.405416e+06    7.685942e+08   \n",
              "\n",
              "       Feijão (em grão)      Mandioca  Milho (em grão)  Soja (em grão)  \\\n",
              "count      4.700000e+01  4.700000e+01     4.700000e+01    4.700000e+01   \n",
              "mean       2.720224e+06  2.309252e+07     4.125725e+07    4.250427e+07   \n",
              "std        4.730048e+05  2.504254e+06     2.496821e+07    3.365850e+07   \n",
              "min        1.580546e+06  1.759319e+07     1.356940e+07    7.876527e+06   \n",
              "25%        2.300276e+06  2.176087e+07     2.159513e+07    1.534830e+07   \n",
              "50%        2.808639e+06  2.346448e+07     3.232100e+07    2.639264e+07   \n",
              "75%        3.051184e+06  2.496417e+07     5.373824e+07    5.884514e+07   \n",
              "max        3.486763e+06  2.670304e+07     1.039636e+08    1.217977e+08   \n",
              "\n",
              "             Tomate  Trigo (em grão)  \n",
              "count  4.700000e+01     4.700000e+01  \n",
              "mean   2.824883e+06     3.912155e+06  \n",
              "std    1.059247e+06     1.653151e+06  \n",
              "min    1.049724e+06     1.533871e+06  \n",
              "25%    1.890458e+06     2.473352e+06  \n",
              "50%    2.717965e+06     3.292777e+06  \n",
              "75%    3.810625e+06     5.640248e+06  \n",
              "max    4.416652e+06     6.834421e+06  "
            ]
          },
          "execution_count": 94,
          "metadata": {},
          "output_type": "execute_result"
        }
      ],
      "source": [
        "producao.describe()"
      ]
    },
    {
      "cell_type": "markdown",
      "metadata": {},
      "source": [
        "#### Boxplots"
      ]
    },
    {
      "cell_type": "code",
      "execution_count": 95,
      "metadata": {},
      "outputs": [
        {
          "data": {
            "application/vnd.plotly.v1+json": {
              "config": {
                "plotlyServerURL": "https://plot.ly"
              },
              "data": [
                {
                  "alignmentgroup": "True",
                  "hovertemplate": "Culturas=%{x}<br>Produção (Toneladas)=%{y}<extra></extra>",
                  "legendgroup": "",
                  "marker": {
                    "color": "#636efa"
                  },
                  "name": "",
                  "notched": false,
                  "offsetgroup": "",
                  "orientation": "v",
                  "showlegend": false,
                  "type": "box",
                  "x": [
                    "Arroz (em casca)",
                    "Arroz (em casca)",
                    "Arroz (em casca)",
                    "Arroz (em casca)",
                    "Arroz (em casca)",
                    "Arroz (em casca)",
                    "Arroz (em casca)",
                    "Arroz (em casca)",
                    "Arroz (em casca)",
                    "Arroz (em casca)",
                    "Arroz (em casca)",
                    "Arroz (em casca)",
                    "Arroz (em casca)",
                    "Arroz (em casca)",
                    "Arroz (em casca)",
                    "Arroz (em casca)",
                    "Arroz (em casca)",
                    "Arroz (em casca)",
                    "Arroz (em casca)",
                    "Arroz (em casca)",
                    "Arroz (em casca)",
                    "Arroz (em casca)",
                    "Arroz (em casca)",
                    "Arroz (em casca)",
                    "Arroz (em casca)",
                    "Arroz (em casca)",
                    "Arroz (em casca)",
                    "Arroz (em casca)",
                    "Arroz (em casca)",
                    "Arroz (em casca)",
                    "Arroz (em casca)",
                    "Arroz (em casca)",
                    "Arroz (em casca)",
                    "Arroz (em casca)",
                    "Arroz (em casca)",
                    "Arroz (em casca)",
                    "Arroz (em casca)",
                    "Arroz (em casca)",
                    "Arroz (em casca)",
                    "Arroz (em casca)",
                    "Arroz (em casca)",
                    "Arroz (em casca)",
                    "Arroz (em casca)",
                    "Arroz (em casca)",
                    "Arroz (em casca)",
                    "Arroz (em casca)",
                    "Arroz (em casca)",
                    "Café (em grão) Total",
                    "Café (em grão) Total",
                    "Café (em grão) Total",
                    "Café (em grão) Total",
                    "Café (em grão) Total",
                    "Café (em grão) Total",
                    "Café (em grão) Total",
                    "Café (em grão) Total",
                    "Café (em grão) Total",
                    "Café (em grão) Total",
                    "Café (em grão) Total",
                    "Café (em grão) Total",
                    "Café (em grão) Total",
                    "Café (em grão) Total",
                    "Café (em grão) Total",
                    "Café (em grão) Total",
                    "Café (em grão) Total",
                    "Café (em grão) Total",
                    "Café (em grão) Total",
                    "Café (em grão) Total",
                    "Café (em grão) Total",
                    "Café (em grão) Total",
                    "Café (em grão) Total",
                    "Café (em grão) Total",
                    "Café (em grão) Total",
                    "Café (em grão) Total",
                    "Café (em grão) Total",
                    "Café (em grão) Total",
                    "Café (em grão) Total",
                    "Café (em grão) Total",
                    "Café (em grão) Total",
                    "Café (em grão) Total",
                    "Café (em grão) Total",
                    "Café (em grão) Total",
                    "Café (em grão) Total",
                    "Café (em grão) Total",
                    "Café (em grão) Total",
                    "Café (em grão) Total",
                    "Café (em grão) Total",
                    "Café (em grão) Total",
                    "Café (em grão) Total",
                    "Café (em grão) Total",
                    "Café (em grão) Total",
                    "Café (em grão) Total",
                    "Café (em grão) Total",
                    "Café (em grão) Total",
                    "Café (em grão) Total",
                    "Cana-de-açúcar",
                    "Cana-de-açúcar",
                    "Cana-de-açúcar",
                    "Cana-de-açúcar",
                    "Cana-de-açúcar",
                    "Cana-de-açúcar",
                    "Cana-de-açúcar",
                    "Cana-de-açúcar",
                    "Cana-de-açúcar",
                    "Cana-de-açúcar",
                    "Cana-de-açúcar",
                    "Cana-de-açúcar",
                    "Cana-de-açúcar",
                    "Cana-de-açúcar",
                    "Cana-de-açúcar",
                    "Cana-de-açúcar",
                    "Cana-de-açúcar",
                    "Cana-de-açúcar",
                    "Cana-de-açúcar",
                    "Cana-de-açúcar",
                    "Cana-de-açúcar",
                    "Cana-de-açúcar",
                    "Cana-de-açúcar",
                    "Cana-de-açúcar",
                    "Cana-de-açúcar",
                    "Cana-de-açúcar",
                    "Cana-de-açúcar",
                    "Cana-de-açúcar",
                    "Cana-de-açúcar",
                    "Cana-de-açúcar",
                    "Cana-de-açúcar",
                    "Cana-de-açúcar",
                    "Cana-de-açúcar",
                    "Cana-de-açúcar",
                    "Cana-de-açúcar",
                    "Cana-de-açúcar",
                    "Cana-de-açúcar",
                    "Cana-de-açúcar",
                    "Cana-de-açúcar",
                    "Cana-de-açúcar",
                    "Cana-de-açúcar",
                    "Cana-de-açúcar",
                    "Cana-de-açúcar",
                    "Cana-de-açúcar",
                    "Cana-de-açúcar",
                    "Cana-de-açúcar",
                    "Cana-de-açúcar",
                    "Feijão (em grão)",
                    "Feijão (em grão)",
                    "Feijão (em grão)",
                    "Feijão (em grão)",
                    "Feijão (em grão)",
                    "Feijão (em grão)",
                    "Feijão (em grão)",
                    "Feijão (em grão)",
                    "Feijão (em grão)",
                    "Feijão (em grão)",
                    "Feijão (em grão)",
                    "Feijão (em grão)",
                    "Feijão (em grão)",
                    "Feijão (em grão)",
                    "Feijão (em grão)",
                    "Feijão (em grão)",
                    "Feijão (em grão)",
                    "Feijão (em grão)",
                    "Feijão (em grão)",
                    "Feijão (em grão)",
                    "Feijão (em grão)",
                    "Feijão (em grão)",
                    "Feijão (em grão)",
                    "Feijão (em grão)",
                    "Feijão (em grão)",
                    "Feijão (em grão)",
                    "Feijão (em grão)",
                    "Feijão (em grão)",
                    "Feijão (em grão)",
                    "Feijão (em grão)",
                    "Feijão (em grão)",
                    "Feijão (em grão)",
                    "Feijão (em grão)",
                    "Feijão (em grão)",
                    "Feijão (em grão)",
                    "Feijão (em grão)",
                    "Feijão (em grão)",
                    "Feijão (em grão)",
                    "Feijão (em grão)",
                    "Feijão (em grão)",
                    "Feijão (em grão)",
                    "Feijão (em grão)",
                    "Feijão (em grão)",
                    "Feijão (em grão)",
                    "Feijão (em grão)",
                    "Feijão (em grão)",
                    "Feijão (em grão)",
                    "Mandioca",
                    "Mandioca",
                    "Mandioca",
                    "Mandioca",
                    "Mandioca",
                    "Mandioca",
                    "Mandioca",
                    "Mandioca",
                    "Mandioca",
                    "Mandioca",
                    "Mandioca",
                    "Mandioca",
                    "Mandioca",
                    "Mandioca",
                    "Mandioca",
                    "Mandioca",
                    "Mandioca",
                    "Mandioca",
                    "Mandioca",
                    "Mandioca",
                    "Mandioca",
                    "Mandioca",
                    "Mandioca",
                    "Mandioca",
                    "Mandioca",
                    "Mandioca",
                    "Mandioca",
                    "Mandioca",
                    "Mandioca",
                    "Mandioca",
                    "Mandioca",
                    "Mandioca",
                    "Mandioca",
                    "Mandioca",
                    "Mandioca",
                    "Mandioca",
                    "Mandioca",
                    "Mandioca",
                    "Mandioca",
                    "Mandioca",
                    "Mandioca",
                    "Mandioca",
                    "Mandioca",
                    "Mandioca",
                    "Mandioca",
                    "Mandioca",
                    "Mandioca",
                    "Milho (em grão)",
                    "Milho (em grão)",
                    "Milho (em grão)",
                    "Milho (em grão)",
                    "Milho (em grão)",
                    "Milho (em grão)",
                    "Milho (em grão)",
                    "Milho (em grão)",
                    "Milho (em grão)",
                    "Milho (em grão)",
                    "Milho (em grão)",
                    "Milho (em grão)",
                    "Milho (em grão)",
                    "Milho (em grão)",
                    "Milho (em grão)",
                    "Milho (em grão)",
                    "Milho (em grão)",
                    "Milho (em grão)",
                    "Milho (em grão)",
                    "Milho (em grão)",
                    "Milho (em grão)",
                    "Milho (em grão)",
                    "Milho (em grão)",
                    "Milho (em grão)",
                    "Milho (em grão)",
                    "Milho (em grão)",
                    "Milho (em grão)",
                    "Milho (em grão)",
                    "Milho (em grão)",
                    "Milho (em grão)",
                    "Milho (em grão)",
                    "Milho (em grão)",
                    "Milho (em grão)",
                    "Milho (em grão)",
                    "Milho (em grão)",
                    "Milho (em grão)",
                    "Milho (em grão)",
                    "Milho (em grão)",
                    "Milho (em grão)",
                    "Milho (em grão)",
                    "Milho (em grão)",
                    "Milho (em grão)",
                    "Milho (em grão)",
                    "Milho (em grão)",
                    "Milho (em grão)",
                    "Milho (em grão)",
                    "Milho (em grão)",
                    "Soja (em grão)",
                    "Soja (em grão)",
                    "Soja (em grão)",
                    "Soja (em grão)",
                    "Soja (em grão)",
                    "Soja (em grão)",
                    "Soja (em grão)",
                    "Soja (em grão)",
                    "Soja (em grão)",
                    "Soja (em grão)",
                    "Soja (em grão)",
                    "Soja (em grão)",
                    "Soja (em grão)",
                    "Soja (em grão)",
                    "Soja (em grão)",
                    "Soja (em grão)",
                    "Soja (em grão)",
                    "Soja (em grão)",
                    "Soja (em grão)",
                    "Soja (em grão)",
                    "Soja (em grão)",
                    "Soja (em grão)",
                    "Soja (em grão)",
                    "Soja (em grão)",
                    "Soja (em grão)",
                    "Soja (em grão)",
                    "Soja (em grão)",
                    "Soja (em grão)",
                    "Soja (em grão)",
                    "Soja (em grão)",
                    "Soja (em grão)",
                    "Soja (em grão)",
                    "Soja (em grão)",
                    "Soja (em grão)",
                    "Soja (em grão)",
                    "Soja (em grão)",
                    "Soja (em grão)",
                    "Soja (em grão)",
                    "Soja (em grão)",
                    "Soja (em grão)",
                    "Soja (em grão)",
                    "Soja (em grão)",
                    "Soja (em grão)",
                    "Soja (em grão)",
                    "Soja (em grão)",
                    "Soja (em grão)",
                    "Soja (em grão)",
                    "Tomate",
                    "Tomate",
                    "Tomate",
                    "Tomate",
                    "Tomate",
                    "Tomate",
                    "Tomate",
                    "Tomate",
                    "Tomate",
                    "Tomate",
                    "Tomate",
                    "Tomate",
                    "Tomate",
                    "Tomate",
                    "Tomate",
                    "Tomate",
                    "Tomate",
                    "Tomate",
                    "Tomate",
                    "Tomate",
                    "Tomate",
                    "Tomate",
                    "Tomate",
                    "Tomate",
                    "Tomate",
                    "Tomate",
                    "Tomate",
                    "Tomate",
                    "Tomate",
                    "Tomate",
                    "Tomate",
                    "Tomate",
                    "Tomate",
                    "Tomate",
                    "Tomate",
                    "Tomate",
                    "Tomate",
                    "Tomate",
                    "Tomate",
                    "Tomate",
                    "Tomate",
                    "Tomate",
                    "Tomate",
                    "Tomate",
                    "Tomate",
                    "Tomate",
                    "Tomate",
                    "Trigo (em grão)",
                    "Trigo (em grão)",
                    "Trigo (em grão)",
                    "Trigo (em grão)",
                    "Trigo (em grão)",
                    "Trigo (em grão)",
                    "Trigo (em grão)",
                    "Trigo (em grão)",
                    "Trigo (em grão)",
                    "Trigo (em grão)",
                    "Trigo (em grão)",
                    "Trigo (em grão)",
                    "Trigo (em grão)",
                    "Trigo (em grão)",
                    "Trigo (em grão)",
                    "Trigo (em grão)",
                    "Trigo (em grão)",
                    "Trigo (em grão)",
                    "Trigo (em grão)",
                    "Trigo (em grão)",
                    "Trigo (em grão)",
                    "Trigo (em grão)",
                    "Trigo (em grão)",
                    "Trigo (em grão)",
                    "Trigo (em grão)",
                    "Trigo (em grão)",
                    "Trigo (em grão)",
                    "Trigo (em grão)",
                    "Trigo (em grão)",
                    "Trigo (em grão)",
                    "Trigo (em grão)",
                    "Trigo (em grão)",
                    "Trigo (em grão)",
                    "Trigo (em grão)",
                    "Trigo (em grão)",
                    "Trigo (em grão)",
                    "Trigo (em grão)",
                    "Trigo (em grão)",
                    "Trigo (em grão)",
                    "Trigo (em grão)",
                    "Trigo (em grão)",
                    "Trigo (em grão)",
                    "Trigo (em grão)",
                    "Trigo (em grão)",
                    "Trigo (em grão)",
                    "Trigo (em grão)",
                    "Trigo (em grão)"
                  ],
                  "x0": " ",
                  "xaxis": "x",
                  "y": [
                    6764038,
                    7781538,
                    9757079,
                    8993696,
                    7296142,
                    7595214,
                    9775720,
                    8228326,
                    9734553,
                    7741753,
                    9027363,
                    9024555,
                    10374030,
                    10419029,
                    11809467,
                    11044453,
                    7420931,
                    9488007,
                    10006292,
                    10107310,
                    10540789,
                    11226064,
                    8652328,
                    8351665,
                    7716090,
                    11709694,
                    11134588,
                    10184185,
                    10445986,
                    10334603,
                    13277008,
                    13192863,
                    11526685,
                    11060741,
                    12061465,
                    12651144,
                    11235986,
                    13476994,
                    11549881,
                    11782549,
                    12175602,
                    12301201,
                    10622189,
                    12464766,
                    11808412,
                    10368639,
                    11091011,
                    3230618,
                    2544596,
                    751969,
                    1950771,
                    2535323,
                    2665545,
                    2122391,
                    4064421,
                    1915861,
                    3343176,
                    2840563,
                    3821292,
                    2082811,
                    4405416,
                    2737660,
                    3059685,
                    2929711,
                    3040763,
                    2588745,
                    2557518,
                    2614578,
                    1860269,
                    2738391,
                    2457025,
                    3378731,
                    3263704,
                    3807124,
                    3639138,
                    2610524,
                    1987074,
                    2465710,
                    2140169,
                    2573368,
                    2249011,
                    2796927,
                    2440056,
                    2907265,
                    2700540,
                    3037534,
                    2964538,
                    2804070,
                    2647504,
                    3024466,
                    2684508,
                    3552729,
                    3011745,
                    3700231,
                    95623685,
                    91524559,
                    103173449,
                    120081700,
                    129144950,
                    138895318,
                    148650563,
                    155924109,
                    186646607,
                    216036958,
                    222317847,
                    247199474,
                    239178319,
                    268741069,
                    258412865,
                    252642623,
                    262674150,
                    260887893,
                    271474875,
                    244530708,
                    292101835,
                    303699497,
                    317105981,
                    331612687,
                    345254972,
                    333847720,
                    326121011,
                    344292922,
                    364389416,
                    396012158,
                    415205835,
                    422956646,
                    477410655,
                    549707314,
                    645300182,
                    691606147,
                    717463793,
                    734006059,
                    722926450,
                    768090444,
                    736108487,
                    750290277,
                    768594154,
                    758646205,
                    747556774,
                    753470465,
                    757116855,
                    2238012,
                    2282466,
                    1840315,
                    2290007,
                    2193977,
                    2186343,
                    1968165,
                    2340947,
                    2902657,
                    1580546,
                    2625676,
                    2548738,
                    2209188,
                    2007230,
                    2808639,
                    2310546,
                    2234467,
                    2744711,
                    2797138,
                    2478325,
                    3369684,
                    2946168,
                    2452036,
                    2840243,
                    2191153,
                    2830915,
                    3056289,
                    2453681,
                    3064228,
                    3302038,
                    2967007,
                    3021641,
                    3457744,
                    3169356,
                    3461194,
                    3486763,
                    3158905,
                    3435366,
                    2794854,
                    2892599,
                    3294586,
                    3088926,
                    2621267,
                    3046079,
                    2916365,
                    2908075,
                    3035290,
                    24797636,
                    26117614,
                    25443053,
                    25929484,
                    25459408,
                    24961285,
                    23465649,
                    24516360,
                    24072320,
                    21847892,
                    21466222,
                    23124782,
                    25620600,
                    23464484,
                    21673849,
                    23668473,
                    24322133,
                    24537505,
                    21918600,
                    21855690,
                    24464293,
                    25422959,
                    17743155,
                    19896205,
                    19502717,
                    20864340,
                    23044190,
                    22580282,
                    23148303,
                    21961082,
                    23926553,
                    25872015,
                    26639013,
                    26541200,
                    26703039,
                    24403981,
                    24967052,
                    25349542,
                    23044557,
                    21484218,
                    23253514,
                    23059704,
                    21036314,
                    18501645,
                    17877163,
                    17593186,
                    18205120,
                    16273227,
                    16334516,
                    17751077,
                    19255936,
                    13569401,
                    16306380,
                    20372072,
                    21116908,
                    21842477,
                    18731216,
                    21164138,
                    22018180,
                    20530960,
                    26802769,
                    24748036,
                    26572592,
                    21347774,
                    23624340,
                    30506127,
                    30055633,
                    32487625,
                    36266951,
                    29652791,
                    32948044,
                    29601753,
                    32239479,
                    32321000,
                    41962475,
                    35940832,
                    48327323,
                    41787558,
                    35113312,
                    42661677,
                    52112217,
                    58933347,
                    50719822,
                    55364271,
                    55660235,
                    71072810,
                    80273172,
                    79881614,
                    85283074,
                    64188314,
                    97910658,
                    82366531,
                    101126409,
                    103963620,
                    7876527,
                    9893008,
                    11227123,
                    12513406,
                    9540577,
                    10240306,
                    15155804,
                    15007367,
                    12836047,
                    14582347,
                    15540792,
                    18278585,
                    13330225,
                    16968827,
                    18016170,
                    24071360,
                    19897804,
                    14937806,
                    19214705,
                    22590978,
                    24931832,
                    25682637,
                    23166874,
                    26392636,
                    31307440,
                    30987476,
                    32820826,
                    37907259,
                    42107618,
                    51919440,
                    49549941,
                    51182074,
                    52464640,
                    57857172,
                    59833105,
                    57345382,
                    68756343,
                    74815447,
                    65848857,
                    81724477,
                    86760520,
                    97464936,
                    96394820,
                    114732101,
                    117912450,
                    114316829,
                    121797712,
                    1144037,
                    1049724,
                    1166888,
                    1297508,
                    1464558,
                    1500799,
                    1535331,
                    1451713,
                    1742408,
                    1550778,
                    1817574,
                    1934610,
                    1846305,
                    2049324,
                    2406938,
                    2177467,
                    2260871,
                    2343811,
                    2141345,
                    2348498,
                    2688570,
                    2715016,
                    2648627,
                    2717965,
                    2784111,
                    3305053,
                    3004797,
                    3103363,
                    3652923,
                    3708602,
                    3515567,
                    3452973,
                    3362655,
                    3431232,
                    3867655,
                    4310477,
                    4106846,
                    4416652,
                    3873985,
                    4187646,
                    4302777,
                    4187729,
                    4166789,
                    4225414,
                    4126988,
                    3920997,
                    3753595,
                    2858530,
                    1788180,
                    3215745,
                    2066039,
                    2690888,
                    2926764,
                    2701613,
                    2209631,
                    1826945,
                    2236700,
                    1983157,
                    4320267,
                    5689680,
                    6034586,
                    5737971,
                    5552841,
                    3093791,
                    2916823,
                    2795598,
                    2197354,
                    2096259,
                    1533871,
                    3292777,
                    2489070,
                    2269847,
                    2461856,
                    1725792,
                    3366599,
                    3105658,
                    6153500,
                    5818846,
                    4658790,
                    2484848,
                    4114057,
                    6027131,
                    5055525,
                    6171250,
                    5690043,
                    4418388,
                    5738473,
                    6261895,
                    5508451,
                    6834421,
                    4342812,
                    5469236,
                    5590815,
                    6347987
                  ],
                  "y0": " ",
                  "yaxis": "y"
                }
              ],
              "layout": {
                "boxmode": "group",
                "legend": {
                  "tracegroupgap": 0
                },
                "template": {
                  "data": {
                    "bar": [
                      {
                        "error_x": {
                          "color": "#2a3f5f"
                        },
                        "error_y": {
                          "color": "#2a3f5f"
                        },
                        "marker": {
                          "line": {
                            "color": "#E5ECF6",
                            "width": 0.5
                          },
                          "pattern": {
                            "fillmode": "overlay",
                            "size": 10,
                            "solidity": 0.2
                          }
                        },
                        "type": "bar"
                      }
                    ],
                    "barpolar": [
                      {
                        "marker": {
                          "line": {
                            "color": "#E5ECF6",
                            "width": 0.5
                          },
                          "pattern": {
                            "fillmode": "overlay",
                            "size": 10,
                            "solidity": 0.2
                          }
                        },
                        "type": "barpolar"
                      }
                    ],
                    "carpet": [
                      {
                        "aaxis": {
                          "endlinecolor": "#2a3f5f",
                          "gridcolor": "white",
                          "linecolor": "white",
                          "minorgridcolor": "white",
                          "startlinecolor": "#2a3f5f"
                        },
                        "baxis": {
                          "endlinecolor": "#2a3f5f",
                          "gridcolor": "white",
                          "linecolor": "white",
                          "minorgridcolor": "white",
                          "startlinecolor": "#2a3f5f"
                        },
                        "type": "carpet"
                      }
                    ],
                    "choropleth": [
                      {
                        "colorbar": {
                          "outlinewidth": 0,
                          "ticks": ""
                        },
                        "type": "choropleth"
                      }
                    ],
                    "contour": [
                      {
                        "colorbar": {
                          "outlinewidth": 0,
                          "ticks": ""
                        },
                        "colorscale": [
                          [
                            0,
                            "#0d0887"
                          ],
                          [
                            0.1111111111111111,
                            "#46039f"
                          ],
                          [
                            0.2222222222222222,
                            "#7201a8"
                          ],
                          [
                            0.3333333333333333,
                            "#9c179e"
                          ],
                          [
                            0.4444444444444444,
                            "#bd3786"
                          ],
                          [
                            0.5555555555555556,
                            "#d8576b"
                          ],
                          [
                            0.6666666666666666,
                            "#ed7953"
                          ],
                          [
                            0.7777777777777778,
                            "#fb9f3a"
                          ],
                          [
                            0.8888888888888888,
                            "#fdca26"
                          ],
                          [
                            1,
                            "#f0f921"
                          ]
                        ],
                        "type": "contour"
                      }
                    ],
                    "contourcarpet": [
                      {
                        "colorbar": {
                          "outlinewidth": 0,
                          "ticks": ""
                        },
                        "type": "contourcarpet"
                      }
                    ],
                    "heatmap": [
                      {
                        "colorbar": {
                          "outlinewidth": 0,
                          "ticks": ""
                        },
                        "colorscale": [
                          [
                            0,
                            "#0d0887"
                          ],
                          [
                            0.1111111111111111,
                            "#46039f"
                          ],
                          [
                            0.2222222222222222,
                            "#7201a8"
                          ],
                          [
                            0.3333333333333333,
                            "#9c179e"
                          ],
                          [
                            0.4444444444444444,
                            "#bd3786"
                          ],
                          [
                            0.5555555555555556,
                            "#d8576b"
                          ],
                          [
                            0.6666666666666666,
                            "#ed7953"
                          ],
                          [
                            0.7777777777777778,
                            "#fb9f3a"
                          ],
                          [
                            0.8888888888888888,
                            "#fdca26"
                          ],
                          [
                            1,
                            "#f0f921"
                          ]
                        ],
                        "type": "heatmap"
                      }
                    ],
                    "heatmapgl": [
                      {
                        "colorbar": {
                          "outlinewidth": 0,
                          "ticks": ""
                        },
                        "colorscale": [
                          [
                            0,
                            "#0d0887"
                          ],
                          [
                            0.1111111111111111,
                            "#46039f"
                          ],
                          [
                            0.2222222222222222,
                            "#7201a8"
                          ],
                          [
                            0.3333333333333333,
                            "#9c179e"
                          ],
                          [
                            0.4444444444444444,
                            "#bd3786"
                          ],
                          [
                            0.5555555555555556,
                            "#d8576b"
                          ],
                          [
                            0.6666666666666666,
                            "#ed7953"
                          ],
                          [
                            0.7777777777777778,
                            "#fb9f3a"
                          ],
                          [
                            0.8888888888888888,
                            "#fdca26"
                          ],
                          [
                            1,
                            "#f0f921"
                          ]
                        ],
                        "type": "heatmapgl"
                      }
                    ],
                    "histogram": [
                      {
                        "marker": {
                          "pattern": {
                            "fillmode": "overlay",
                            "size": 10,
                            "solidity": 0.2
                          }
                        },
                        "type": "histogram"
                      }
                    ],
                    "histogram2d": [
                      {
                        "colorbar": {
                          "outlinewidth": 0,
                          "ticks": ""
                        },
                        "colorscale": [
                          [
                            0,
                            "#0d0887"
                          ],
                          [
                            0.1111111111111111,
                            "#46039f"
                          ],
                          [
                            0.2222222222222222,
                            "#7201a8"
                          ],
                          [
                            0.3333333333333333,
                            "#9c179e"
                          ],
                          [
                            0.4444444444444444,
                            "#bd3786"
                          ],
                          [
                            0.5555555555555556,
                            "#d8576b"
                          ],
                          [
                            0.6666666666666666,
                            "#ed7953"
                          ],
                          [
                            0.7777777777777778,
                            "#fb9f3a"
                          ],
                          [
                            0.8888888888888888,
                            "#fdca26"
                          ],
                          [
                            1,
                            "#f0f921"
                          ]
                        ],
                        "type": "histogram2d"
                      }
                    ],
                    "histogram2dcontour": [
                      {
                        "colorbar": {
                          "outlinewidth": 0,
                          "ticks": ""
                        },
                        "colorscale": [
                          [
                            0,
                            "#0d0887"
                          ],
                          [
                            0.1111111111111111,
                            "#46039f"
                          ],
                          [
                            0.2222222222222222,
                            "#7201a8"
                          ],
                          [
                            0.3333333333333333,
                            "#9c179e"
                          ],
                          [
                            0.4444444444444444,
                            "#bd3786"
                          ],
                          [
                            0.5555555555555556,
                            "#d8576b"
                          ],
                          [
                            0.6666666666666666,
                            "#ed7953"
                          ],
                          [
                            0.7777777777777778,
                            "#fb9f3a"
                          ],
                          [
                            0.8888888888888888,
                            "#fdca26"
                          ],
                          [
                            1,
                            "#f0f921"
                          ]
                        ],
                        "type": "histogram2dcontour"
                      }
                    ],
                    "mesh3d": [
                      {
                        "colorbar": {
                          "outlinewidth": 0,
                          "ticks": ""
                        },
                        "type": "mesh3d"
                      }
                    ],
                    "parcoords": [
                      {
                        "line": {
                          "colorbar": {
                            "outlinewidth": 0,
                            "ticks": ""
                          }
                        },
                        "type": "parcoords"
                      }
                    ],
                    "pie": [
                      {
                        "automargin": true,
                        "type": "pie"
                      }
                    ],
                    "scatter": [
                      {
                        "marker": {
                          "colorbar": {
                            "outlinewidth": 0,
                            "ticks": ""
                          }
                        },
                        "type": "scatter"
                      }
                    ],
                    "scatter3d": [
                      {
                        "line": {
                          "colorbar": {
                            "outlinewidth": 0,
                            "ticks": ""
                          }
                        },
                        "marker": {
                          "colorbar": {
                            "outlinewidth": 0,
                            "ticks": ""
                          }
                        },
                        "type": "scatter3d"
                      }
                    ],
                    "scattercarpet": [
                      {
                        "marker": {
                          "colorbar": {
                            "outlinewidth": 0,
                            "ticks": ""
                          }
                        },
                        "type": "scattercarpet"
                      }
                    ],
                    "scattergeo": [
                      {
                        "marker": {
                          "colorbar": {
                            "outlinewidth": 0,
                            "ticks": ""
                          }
                        },
                        "type": "scattergeo"
                      }
                    ],
                    "scattergl": [
                      {
                        "marker": {
                          "colorbar": {
                            "outlinewidth": 0,
                            "ticks": ""
                          }
                        },
                        "type": "scattergl"
                      }
                    ],
                    "scattermapbox": [
                      {
                        "marker": {
                          "colorbar": {
                            "outlinewidth": 0,
                            "ticks": ""
                          }
                        },
                        "type": "scattermapbox"
                      }
                    ],
                    "scatterpolar": [
                      {
                        "marker": {
                          "colorbar": {
                            "outlinewidth": 0,
                            "ticks": ""
                          }
                        },
                        "type": "scatterpolar"
                      }
                    ],
                    "scatterpolargl": [
                      {
                        "marker": {
                          "colorbar": {
                            "outlinewidth": 0,
                            "ticks": ""
                          }
                        },
                        "type": "scatterpolargl"
                      }
                    ],
                    "scatterternary": [
                      {
                        "marker": {
                          "colorbar": {
                            "outlinewidth": 0,
                            "ticks": ""
                          }
                        },
                        "type": "scatterternary"
                      }
                    ],
                    "surface": [
                      {
                        "colorbar": {
                          "outlinewidth": 0,
                          "ticks": ""
                        },
                        "colorscale": [
                          [
                            0,
                            "#0d0887"
                          ],
                          [
                            0.1111111111111111,
                            "#46039f"
                          ],
                          [
                            0.2222222222222222,
                            "#7201a8"
                          ],
                          [
                            0.3333333333333333,
                            "#9c179e"
                          ],
                          [
                            0.4444444444444444,
                            "#bd3786"
                          ],
                          [
                            0.5555555555555556,
                            "#d8576b"
                          ],
                          [
                            0.6666666666666666,
                            "#ed7953"
                          ],
                          [
                            0.7777777777777778,
                            "#fb9f3a"
                          ],
                          [
                            0.8888888888888888,
                            "#fdca26"
                          ],
                          [
                            1,
                            "#f0f921"
                          ]
                        ],
                        "type": "surface"
                      }
                    ],
                    "table": [
                      {
                        "cells": {
                          "fill": {
                            "color": "#EBF0F8"
                          },
                          "line": {
                            "color": "white"
                          }
                        },
                        "header": {
                          "fill": {
                            "color": "#C8D4E3"
                          },
                          "line": {
                            "color": "white"
                          }
                        },
                        "type": "table"
                      }
                    ]
                  },
                  "layout": {
                    "annotationdefaults": {
                      "arrowcolor": "#2a3f5f",
                      "arrowhead": 0,
                      "arrowwidth": 1
                    },
                    "autotypenumbers": "strict",
                    "coloraxis": {
                      "colorbar": {
                        "outlinewidth": 0,
                        "ticks": ""
                      }
                    },
                    "colorscale": {
                      "diverging": [
                        [
                          0,
                          "#8e0152"
                        ],
                        [
                          0.1,
                          "#c51b7d"
                        ],
                        [
                          0.2,
                          "#de77ae"
                        ],
                        [
                          0.3,
                          "#f1b6da"
                        ],
                        [
                          0.4,
                          "#fde0ef"
                        ],
                        [
                          0.5,
                          "#f7f7f7"
                        ],
                        [
                          0.6,
                          "#e6f5d0"
                        ],
                        [
                          0.7,
                          "#b8e186"
                        ],
                        [
                          0.8,
                          "#7fbc41"
                        ],
                        [
                          0.9,
                          "#4d9221"
                        ],
                        [
                          1,
                          "#276419"
                        ]
                      ],
                      "sequential": [
                        [
                          0,
                          "#0d0887"
                        ],
                        [
                          0.1111111111111111,
                          "#46039f"
                        ],
                        [
                          0.2222222222222222,
                          "#7201a8"
                        ],
                        [
                          0.3333333333333333,
                          "#9c179e"
                        ],
                        [
                          0.4444444444444444,
                          "#bd3786"
                        ],
                        [
                          0.5555555555555556,
                          "#d8576b"
                        ],
                        [
                          0.6666666666666666,
                          "#ed7953"
                        ],
                        [
                          0.7777777777777778,
                          "#fb9f3a"
                        ],
                        [
                          0.8888888888888888,
                          "#fdca26"
                        ],
                        [
                          1,
                          "#f0f921"
                        ]
                      ],
                      "sequentialminus": [
                        [
                          0,
                          "#0d0887"
                        ],
                        [
                          0.1111111111111111,
                          "#46039f"
                        ],
                        [
                          0.2222222222222222,
                          "#7201a8"
                        ],
                        [
                          0.3333333333333333,
                          "#9c179e"
                        ],
                        [
                          0.4444444444444444,
                          "#bd3786"
                        ],
                        [
                          0.5555555555555556,
                          "#d8576b"
                        ],
                        [
                          0.6666666666666666,
                          "#ed7953"
                        ],
                        [
                          0.7777777777777778,
                          "#fb9f3a"
                        ],
                        [
                          0.8888888888888888,
                          "#fdca26"
                        ],
                        [
                          1,
                          "#f0f921"
                        ]
                      ]
                    },
                    "colorway": [
                      "#636efa",
                      "#EF553B",
                      "#00cc96",
                      "#ab63fa",
                      "#FFA15A",
                      "#19d3f3",
                      "#FF6692",
                      "#B6E880",
                      "#FF97FF",
                      "#FECB52"
                    ],
                    "font": {
                      "color": "#2a3f5f"
                    },
                    "geo": {
                      "bgcolor": "white",
                      "lakecolor": "white",
                      "landcolor": "#E5ECF6",
                      "showlakes": true,
                      "showland": true,
                      "subunitcolor": "white"
                    },
                    "hoverlabel": {
                      "align": "left"
                    },
                    "hovermode": "closest",
                    "mapbox": {
                      "style": "light"
                    },
                    "paper_bgcolor": "white",
                    "plot_bgcolor": "#E5ECF6",
                    "polar": {
                      "angularaxis": {
                        "gridcolor": "white",
                        "linecolor": "white",
                        "ticks": ""
                      },
                      "bgcolor": "#E5ECF6",
                      "radialaxis": {
                        "gridcolor": "white",
                        "linecolor": "white",
                        "ticks": ""
                      }
                    },
                    "scene": {
                      "xaxis": {
                        "backgroundcolor": "#E5ECF6",
                        "gridcolor": "white",
                        "gridwidth": 2,
                        "linecolor": "white",
                        "showbackground": true,
                        "ticks": "",
                        "zerolinecolor": "white"
                      },
                      "yaxis": {
                        "backgroundcolor": "#E5ECF6",
                        "gridcolor": "white",
                        "gridwidth": 2,
                        "linecolor": "white",
                        "showbackground": true,
                        "ticks": "",
                        "zerolinecolor": "white"
                      },
                      "zaxis": {
                        "backgroundcolor": "#E5ECF6",
                        "gridcolor": "white",
                        "gridwidth": 2,
                        "linecolor": "white",
                        "showbackground": true,
                        "ticks": "",
                        "zerolinecolor": "white"
                      }
                    },
                    "shapedefaults": {
                      "line": {
                        "color": "#2a3f5f"
                      }
                    },
                    "ternary": {
                      "aaxis": {
                        "gridcolor": "white",
                        "linecolor": "white",
                        "ticks": ""
                      },
                      "baxis": {
                        "gridcolor": "white",
                        "linecolor": "white",
                        "ticks": ""
                      },
                      "bgcolor": "#E5ECF6",
                      "caxis": {
                        "gridcolor": "white",
                        "linecolor": "white",
                        "ticks": ""
                      }
                    },
                    "title": {
                      "x": 0.05
                    },
                    "xaxis": {
                      "automargin": true,
                      "gridcolor": "white",
                      "linecolor": "white",
                      "ticks": "",
                      "title": {
                        "standoff": 15
                      },
                      "zerolinecolor": "white",
                      "zerolinewidth": 2
                    },
                    "yaxis": {
                      "automargin": true,
                      "gridcolor": "white",
                      "linecolor": "white",
                      "ticks": "",
                      "title": {
                        "standoff": 15
                      },
                      "zerolinecolor": "white",
                      "zerolinewidth": 2
                    }
                  }
                },
                "title": {
                  "text": "Análise da disperção"
                },
                "xaxis": {
                  "anchor": "y",
                  "domain": [
                    0,
                    1
                  ],
                  "title": {
                    "text": "Culturas"
                  }
                },
                "yaxis": {
                  "anchor": "x",
                  "domain": [
                    0,
                    1
                  ],
                  "title": {
                    "text": "Produção (Toneladas)"
                  }
                }
              }
            }
          },
          "metadata": {},
          "output_type": "display_data"
        }
      ],
      "source": [
        "px.box(producao, title = 'Análise da disperção', labels = {'value': 'Produção (Toneladas)', 'variable' : 'Culturas'} )\n"
      ]
    },
    {
      "cell_type": "markdown",
      "metadata": {},
      "source": [
        "#### Avaliando o crescimento histórico das culturas"
      ]
    },
    {
      "cell_type": "code",
      "execution_count": 96,
      "metadata": {},
      "outputs": [
        {
          "data": {
            "application/vnd.plotly.v1+json": {
              "config": {
                "plotlyServerURL": "https://plot.ly"
              },
              "data": [
                {
                  "hovertemplate": "Item=Arroz em casca<br>Ano=%{x}<br>Produçao=%{y}<extra></extra>",
                  "legendgroup": "Arroz em casca",
                  "line": {
                    "color": "#636efa",
                    "dash": "solid"
                  },
                  "marker": {
                    "symbol": "circle"
                  },
                  "mode": "lines",
                  "name": "Arroz em casca",
                  "orientation": "v",
                  "showlegend": true,
                  "type": "scatter",
                  "x": [
                    1974,
                    1975,
                    1976,
                    1977,
                    1978,
                    1979,
                    1980,
                    1981,
                    1982,
                    1983,
                    1984,
                    1985,
                    1986,
                    1987,
                    1988,
                    1989,
                    1990,
                    1991,
                    1992,
                    1993,
                    1994,
                    1995,
                    1996,
                    1997,
                    1998,
                    1999,
                    2000,
                    2001,
                    2002,
                    2003,
                    2004,
                    2005,
                    2006,
                    2007,
                    2008,
                    2009,
                    2010,
                    2011,
                    2012,
                    2013,
                    2014,
                    2015,
                    2016,
                    2017,
                    2018,
                    2019,
                    2020
                  ],
                  "xaxis": "x",
                  "y": [
                    6764038,
                    7781538,
                    9757079,
                    8993696,
                    7296142,
                    7595214,
                    9775720,
                    8228326,
                    9734553,
                    7741753,
                    9027363,
                    9024555,
                    10374030,
                    10419029,
                    11809467,
                    11044453,
                    7420931,
                    9488007,
                    10006292,
                    10107310,
                    10540789,
                    11226064,
                    8652328,
                    8351665,
                    7716090,
                    11709694,
                    11134588,
                    10184185,
                    10445986,
                    10334603,
                    13277008,
                    13192863,
                    11526685,
                    11060741,
                    12061465,
                    12651144,
                    11235986,
                    13476994,
                    11549881,
                    11782549,
                    12175602,
                    12301201,
                    10622189,
                    12464766,
                    11808412,
                    10368639,
                    11091011
                  ],
                  "yaxis": "y"
                },
                {
                  "hovertemplate": "Item=Café (em grão)<br>Ano=%{x}<br>Produçao=%{y}<extra></extra>",
                  "legendgroup": "Café (em grão)",
                  "line": {
                    "color": "#EF553B",
                    "dash": "solid"
                  },
                  "marker": {
                    "symbol": "circle"
                  },
                  "mode": "lines",
                  "name": "Café (em grão)",
                  "orientation": "v",
                  "showlegend": true,
                  "type": "scatter",
                  "x": [
                    1974,
                    1975,
                    1976,
                    1977,
                    1978,
                    1979,
                    1980,
                    1981,
                    1982,
                    1983,
                    1984,
                    1985,
                    1986,
                    1987,
                    1988,
                    1989,
                    1990,
                    1991,
                    1992,
                    1993,
                    1994,
                    1995,
                    1996,
                    1997,
                    1998,
                    1999,
                    2000,
                    2001,
                    2002,
                    2003,
                    2004,
                    2005,
                    2006,
                    2007,
                    2008,
                    2009,
                    2010,
                    2011,
                    2012,
                    2013,
                    2014,
                    2015,
                    2016,
                    2017,
                    2018,
                    2019,
                    2020
                  ],
                  "xaxis": "x",
                  "y": [
                    3230618,
                    2544596,
                    751969,
                    1950771,
                    2535323,
                    2665545,
                    2122391,
                    4064421,
                    1915861,
                    3343176,
                    2840563,
                    3821292,
                    2082811,
                    4405416,
                    2737660,
                    3059685,
                    2929711,
                    3040763,
                    2588745,
                    2557518,
                    2614578,
                    1860269,
                    2738391,
                    2457025,
                    3378731,
                    3263704,
                    3807124,
                    3639138,
                    2610524,
                    1987074,
                    2465710,
                    2140169,
                    2573368,
                    2249011,
                    2796927,
                    2440056,
                    2907265,
                    2700540,
                    3037534,
                    2964538,
                    2804070,
                    2647504,
                    3024466,
                    2684508,
                    3552729,
                    3011745,
                    3700231
                  ],
                  "yaxis": "y"
                },
                {
                  "hovertemplate": "Item=Cana-de-açúcar<br>Ano=%{x}<br>Produçao=%{y}<extra></extra>",
                  "legendgroup": "Cana-de-açúcar",
                  "line": {
                    "color": "#00cc96",
                    "dash": "solid"
                  },
                  "marker": {
                    "symbol": "circle"
                  },
                  "mode": "lines",
                  "name": "Cana-de-açúcar",
                  "orientation": "v",
                  "showlegend": true,
                  "type": "scatter",
                  "x": [
                    1974,
                    1975,
                    1976,
                    1977,
                    1978,
                    1979,
                    1980,
                    1981,
                    1982,
                    1983,
                    1984,
                    1985,
                    1986,
                    1987,
                    1988,
                    1989,
                    1990,
                    1991,
                    1992,
                    1993,
                    1994,
                    1995,
                    1996,
                    1997,
                    1998,
                    1999,
                    2000,
                    2001,
                    2002,
                    2003,
                    2004,
                    2005,
                    2006,
                    2007,
                    2008,
                    2009,
                    2010,
                    2011,
                    2012,
                    2013,
                    2014,
                    2015,
                    2016,
                    2017,
                    2018,
                    2019,
                    2020
                  ],
                  "xaxis": "x",
                  "y": [
                    95623685,
                    91524559,
                    103173449,
                    120081700,
                    129144950,
                    138895318,
                    148650563,
                    155924109,
                    186646607,
                    216036958,
                    222317847,
                    247199474,
                    239178319,
                    268741069,
                    258412865,
                    252642623,
                    262674150,
                    260887893,
                    271474875,
                    244530708,
                    292101835,
                    303699497,
                    317105981,
                    331612687,
                    345254972,
                    333847720,
                    326121011,
                    344292922,
                    364389416,
                    396012158,
                    415205835,
                    422956646,
                    477410655,
                    549707314,
                    645300182,
                    691606147,
                    717463793,
                    734006059,
                    722926450,
                    768090444,
                    736108487,
                    750290277,
                    768594154,
                    758646205,
                    747556774,
                    753470465,
                    757116855
                  ],
                  "yaxis": "y"
                },
                {
                  "hovertemplate": "Item=Feijão (em grão)<br>Ano=%{x}<br>Produçao=%{y}<extra></extra>",
                  "legendgroup": "Feijão (em grão)",
                  "line": {
                    "color": "#ab63fa",
                    "dash": "solid"
                  },
                  "marker": {
                    "symbol": "circle"
                  },
                  "mode": "lines",
                  "name": "Feijão (em grão)",
                  "orientation": "v",
                  "showlegend": true,
                  "type": "scatter",
                  "x": [
                    1974,
                    1975,
                    1976,
                    1977,
                    1978,
                    1979,
                    1980,
                    1981,
                    1982,
                    1983,
                    1984,
                    1985,
                    1986,
                    1987,
                    1988,
                    1989,
                    1990,
                    1991,
                    1992,
                    1993,
                    1994,
                    1995,
                    1996,
                    1997,
                    1998,
                    1999,
                    2000,
                    2001,
                    2002,
                    2003,
                    2004,
                    2005,
                    2006,
                    2007,
                    2008,
                    2009,
                    2010,
                    2011,
                    2012,
                    2013,
                    2014,
                    2015,
                    2016,
                    2017,
                    2018,
                    2019,
                    2020
                  ],
                  "xaxis": "x",
                  "y": [
                    2238012,
                    2282466,
                    1840315,
                    2290007,
                    2193977,
                    2186343,
                    1968165,
                    2340947,
                    2902657,
                    1580546,
                    2625676,
                    2548738,
                    2209188,
                    2007230,
                    2808639,
                    2310546,
                    2234467,
                    2744711,
                    2797138,
                    2478325,
                    3369684,
                    2946168,
                    2452036,
                    2840243,
                    2191153,
                    2830915,
                    3056289,
                    2453681,
                    3064228,
                    3302038,
                    2967007,
                    3021641,
                    3457744,
                    3169356,
                    3461194,
                    3486763,
                    3158905,
                    3435366,
                    2794854,
                    2892599,
                    3294586,
                    3088926,
                    2621267,
                    3046079,
                    2916365,
                    2908075,
                    3035290
                  ],
                  "yaxis": "y"
                },
                {
                  "hovertemplate": "Item=Mandioca<br>Ano=%{x}<br>Produçao=%{y}<extra></extra>",
                  "legendgroup": "Mandioca",
                  "line": {
                    "color": "#FFA15A",
                    "dash": "solid"
                  },
                  "marker": {
                    "symbol": "circle"
                  },
                  "mode": "lines",
                  "name": "Mandioca",
                  "orientation": "v",
                  "showlegend": true,
                  "type": "scatter",
                  "x": [
                    1974,
                    1975,
                    1976,
                    1977,
                    1978,
                    1979,
                    1980,
                    1981,
                    1982,
                    1983,
                    1984,
                    1985,
                    1986,
                    1987,
                    1988,
                    1989,
                    1990,
                    1991,
                    1992,
                    1993,
                    1994,
                    1995,
                    1996,
                    1997,
                    1998,
                    1999,
                    2000,
                    2001,
                    2002,
                    2003,
                    2004,
                    2005,
                    2006,
                    2007,
                    2008,
                    2009,
                    2010,
                    2011,
                    2012,
                    2013,
                    2014,
                    2015,
                    2016,
                    2017,
                    2018,
                    2019,
                    2020
                  ],
                  "xaxis": "x",
                  "y": [
                    24797636,
                    26117614,
                    25443053,
                    25929484,
                    25459408,
                    24961285,
                    23465649,
                    24516360,
                    24072320,
                    21847892,
                    21466222,
                    23124782,
                    25620600,
                    23464484,
                    21673849,
                    23668473,
                    24322133,
                    24537505,
                    21918600,
                    21855690,
                    24464293,
                    25422959,
                    17743155,
                    19896205,
                    19502717,
                    20864340,
                    23044190,
                    22580282,
                    23148303,
                    21961082,
                    23926553,
                    25872015,
                    26639013,
                    26541200,
                    26703039,
                    24403981,
                    24967052,
                    25349542,
                    23044557,
                    21484218,
                    23253514,
                    23059704,
                    21036314,
                    18501645,
                    17877163,
                    17593186,
                    18205120
                  ],
                  "yaxis": "y"
                },
                {
                  "hovertemplate": "Item=Milho (em grão)<br>Ano=%{x}<br>Produçao=%{y}<extra></extra>",
                  "legendgroup": "Milho (em grão)",
                  "line": {
                    "color": "#19d3f3",
                    "dash": "solid"
                  },
                  "marker": {
                    "symbol": "circle"
                  },
                  "mode": "lines",
                  "name": "Milho (em grão)",
                  "orientation": "v",
                  "showlegend": true,
                  "type": "scatter",
                  "x": [
                    1974,
                    1975,
                    1976,
                    1977,
                    1978,
                    1979,
                    1980,
                    1981,
                    1982,
                    1983,
                    1984,
                    1985,
                    1986,
                    1987,
                    1988,
                    1989,
                    1990,
                    1991,
                    1992,
                    1993,
                    1994,
                    1995,
                    1996,
                    1997,
                    1998,
                    1999,
                    2000,
                    2001,
                    2002,
                    2003,
                    2004,
                    2005,
                    2006,
                    2007,
                    2008,
                    2009,
                    2010,
                    2011,
                    2012,
                    2013,
                    2014,
                    2015,
                    2016,
                    2017,
                    2018,
                    2019,
                    2020
                  ],
                  "xaxis": "x",
                  "y": [
                    16273227,
                    16334516,
                    17751077,
                    19255936,
                    13569401,
                    16306380,
                    20372072,
                    21116908,
                    21842477,
                    18731216,
                    21164138,
                    22018180,
                    20530960,
                    26802769,
                    24748036,
                    26572592,
                    21347774,
                    23624340,
                    30506127,
                    30055633,
                    32487625,
                    36266951,
                    29652791,
                    32948044,
                    29601753,
                    32239479,
                    32321000,
                    41962475,
                    35940832,
                    48327323,
                    41787558,
                    35113312,
                    42661677,
                    52112217,
                    58933347,
                    50719822,
                    55364271,
                    55660235,
                    71072810,
                    80273172,
                    79881614,
                    85283074,
                    64188314,
                    97910658,
                    82366531,
                    101126409,
                    103963620
                  ],
                  "yaxis": "y"
                },
                {
                  "hovertemplate": "Item=Soja (em grão)<br>Ano=%{x}<br>Produçao=%{y}<extra></extra>",
                  "legendgroup": "Soja (em grão)",
                  "line": {
                    "color": "#FF6692",
                    "dash": "solid"
                  },
                  "marker": {
                    "symbol": "circle"
                  },
                  "mode": "lines",
                  "name": "Soja (em grão)",
                  "orientation": "v",
                  "showlegend": true,
                  "type": "scatter",
                  "x": [
                    1974,
                    1975,
                    1976,
                    1977,
                    1978,
                    1979,
                    1980,
                    1981,
                    1982,
                    1983,
                    1984,
                    1985,
                    1986,
                    1987,
                    1988,
                    1989,
                    1990,
                    1991,
                    1992,
                    1993,
                    1994,
                    1995,
                    1996,
                    1997,
                    1998,
                    1999,
                    2000,
                    2001,
                    2002,
                    2003,
                    2004,
                    2005,
                    2006,
                    2007,
                    2008,
                    2009,
                    2010,
                    2011,
                    2012,
                    2013,
                    2014,
                    2015,
                    2016,
                    2017,
                    2018,
                    2019,
                    2020
                  ],
                  "xaxis": "x",
                  "y": [
                    7876527,
                    9893008,
                    11227123,
                    12513406,
                    9540577,
                    10240306,
                    15155804,
                    15007367,
                    12836047,
                    14582347,
                    15540792,
                    18278585,
                    13330225,
                    16968827,
                    18016170,
                    24071360,
                    19897804,
                    14937806,
                    19214705,
                    22590978,
                    24931832,
                    25682637,
                    23166874,
                    26392636,
                    31307440,
                    30987476,
                    32820826,
                    37907259,
                    42107618,
                    51919440,
                    49549941,
                    51182074,
                    52464640,
                    57857172,
                    59833105,
                    57345382,
                    68756343,
                    74815447,
                    65848857,
                    81724477,
                    86760520,
                    97464936,
                    96394820,
                    114732101,
                    117912450,
                    114316829,
                    121797712
                  ],
                  "yaxis": "y"
                },
                {
                  "hovertemplate": "Item=Tomate<br>Ano=%{x}<br>Produçao=%{y}<extra></extra>",
                  "legendgroup": "Tomate",
                  "line": {
                    "color": "#B6E880",
                    "dash": "solid"
                  },
                  "marker": {
                    "symbol": "circle"
                  },
                  "mode": "lines",
                  "name": "Tomate",
                  "orientation": "v",
                  "showlegend": true,
                  "type": "scatter",
                  "x": [
                    1974,
                    1975,
                    1976,
                    1977,
                    1978,
                    1979,
                    1980,
                    1981,
                    1982,
                    1983,
                    1984,
                    1985,
                    1986,
                    1987,
                    1988,
                    1989,
                    1990,
                    1991,
                    1992,
                    1993,
                    1994,
                    1995,
                    1996,
                    1997,
                    1998,
                    1999,
                    2000,
                    2001,
                    2002,
                    2003,
                    2004,
                    2005,
                    2006,
                    2007,
                    2008,
                    2009,
                    2010,
                    2011,
                    2012,
                    2013,
                    2014,
                    2015,
                    2016,
                    2017,
                    2018,
                    2019,
                    2020
                  ],
                  "xaxis": "x",
                  "y": [
                    1144037,
                    1049724,
                    1166888,
                    1297508,
                    1464558,
                    1500799,
                    1535331,
                    1451713,
                    1742408,
                    1550778,
                    1817574,
                    1934610,
                    1846305,
                    2049324,
                    2406938,
                    2177467,
                    2260871,
                    2343811,
                    2141345,
                    2348498,
                    2688570,
                    2715016,
                    2648627,
                    2717965,
                    2784111,
                    3305053,
                    3004797,
                    3103363,
                    3652923,
                    3708602,
                    3515567,
                    3452973,
                    3362655,
                    3431232,
                    3867655,
                    4310477,
                    4106846,
                    4416652,
                    3873985,
                    4187646,
                    4302777,
                    4187729,
                    4166789,
                    4225414,
                    4126988,
                    3920997,
                    3753595
                  ],
                  "yaxis": "y"
                },
                {
                  "hovertemplate": "Item=Trigo (em grão)<br>Ano=%{x}<br>Produçao=%{y}<extra></extra>",
                  "legendgroup": "Trigo (em grão)",
                  "line": {
                    "color": "#FF97FF",
                    "dash": "solid"
                  },
                  "marker": {
                    "symbol": "circle"
                  },
                  "mode": "lines",
                  "name": "Trigo (em grão)",
                  "orientation": "v",
                  "showlegend": true,
                  "type": "scatter",
                  "x": [
                    1974,
                    1975,
                    1976,
                    1977,
                    1978,
                    1979,
                    1980,
                    1981,
                    1982,
                    1983,
                    1984,
                    1985,
                    1986,
                    1987,
                    1988,
                    1989,
                    1990,
                    1991,
                    1992,
                    1993,
                    1994,
                    1995,
                    1996,
                    1997,
                    1998,
                    1999,
                    2000,
                    2001,
                    2002,
                    2003,
                    2004,
                    2005,
                    2006,
                    2007,
                    2008,
                    2009,
                    2010,
                    2011,
                    2012,
                    2013,
                    2014,
                    2015,
                    2016,
                    2017,
                    2018,
                    2019,
                    2020
                  ],
                  "xaxis": "x",
                  "y": [
                    2858530,
                    1788180,
                    3215745,
                    2066039,
                    2690888,
                    2926764,
                    2701613,
                    2209631,
                    1826945,
                    2236700,
                    1983157,
                    4320267,
                    5689680,
                    6034586,
                    5737971,
                    5552841,
                    3093791,
                    2916823,
                    2795598,
                    2197354,
                    2096259,
                    1533871,
                    3292777,
                    2489070,
                    2269847,
                    2461856,
                    1725792,
                    3366599,
                    3105658,
                    6153500,
                    5818846,
                    4658790,
                    2484848,
                    4114057,
                    6027131,
                    5055525,
                    6171250,
                    5690043,
                    4418388,
                    5738473,
                    6261895,
                    5508451,
                    6834421,
                    4342812,
                    5469236,
                    5590815,
                    6347987
                  ],
                  "yaxis": "y"
                }
              ],
              "layout": {
                "legend": {
                  "title": {
                    "text": "Item"
                  },
                  "tracegroupgap": 0
                },
                "template": {
                  "data": {
                    "bar": [
                      {
                        "error_x": {
                          "color": "#2a3f5f"
                        },
                        "error_y": {
                          "color": "#2a3f5f"
                        },
                        "marker": {
                          "line": {
                            "color": "white",
                            "width": 0.5
                          },
                          "pattern": {
                            "fillmode": "overlay",
                            "size": 10,
                            "solidity": 0.2
                          }
                        },
                        "type": "bar"
                      }
                    ],
                    "barpolar": [
                      {
                        "marker": {
                          "line": {
                            "color": "white",
                            "width": 0.5
                          },
                          "pattern": {
                            "fillmode": "overlay",
                            "size": 10,
                            "solidity": 0.2
                          }
                        },
                        "type": "barpolar"
                      }
                    ],
                    "carpet": [
                      {
                        "aaxis": {
                          "endlinecolor": "#2a3f5f",
                          "gridcolor": "#C8D4E3",
                          "linecolor": "#C8D4E3",
                          "minorgridcolor": "#C8D4E3",
                          "startlinecolor": "#2a3f5f"
                        },
                        "baxis": {
                          "endlinecolor": "#2a3f5f",
                          "gridcolor": "#C8D4E3",
                          "linecolor": "#C8D4E3",
                          "minorgridcolor": "#C8D4E3",
                          "startlinecolor": "#2a3f5f"
                        },
                        "type": "carpet"
                      }
                    ],
                    "choropleth": [
                      {
                        "colorbar": {
                          "outlinewidth": 0,
                          "ticks": ""
                        },
                        "type": "choropleth"
                      }
                    ],
                    "contour": [
                      {
                        "colorbar": {
                          "outlinewidth": 0,
                          "ticks": ""
                        },
                        "colorscale": [
                          [
                            0,
                            "#0d0887"
                          ],
                          [
                            0.1111111111111111,
                            "#46039f"
                          ],
                          [
                            0.2222222222222222,
                            "#7201a8"
                          ],
                          [
                            0.3333333333333333,
                            "#9c179e"
                          ],
                          [
                            0.4444444444444444,
                            "#bd3786"
                          ],
                          [
                            0.5555555555555556,
                            "#d8576b"
                          ],
                          [
                            0.6666666666666666,
                            "#ed7953"
                          ],
                          [
                            0.7777777777777778,
                            "#fb9f3a"
                          ],
                          [
                            0.8888888888888888,
                            "#fdca26"
                          ],
                          [
                            1,
                            "#f0f921"
                          ]
                        ],
                        "type": "contour"
                      }
                    ],
                    "contourcarpet": [
                      {
                        "colorbar": {
                          "outlinewidth": 0,
                          "ticks": ""
                        },
                        "type": "contourcarpet"
                      }
                    ],
                    "heatmap": [
                      {
                        "colorbar": {
                          "outlinewidth": 0,
                          "ticks": ""
                        },
                        "colorscale": [
                          [
                            0,
                            "#0d0887"
                          ],
                          [
                            0.1111111111111111,
                            "#46039f"
                          ],
                          [
                            0.2222222222222222,
                            "#7201a8"
                          ],
                          [
                            0.3333333333333333,
                            "#9c179e"
                          ],
                          [
                            0.4444444444444444,
                            "#bd3786"
                          ],
                          [
                            0.5555555555555556,
                            "#d8576b"
                          ],
                          [
                            0.6666666666666666,
                            "#ed7953"
                          ],
                          [
                            0.7777777777777778,
                            "#fb9f3a"
                          ],
                          [
                            0.8888888888888888,
                            "#fdca26"
                          ],
                          [
                            1,
                            "#f0f921"
                          ]
                        ],
                        "type": "heatmap"
                      }
                    ],
                    "heatmapgl": [
                      {
                        "colorbar": {
                          "outlinewidth": 0,
                          "ticks": ""
                        },
                        "colorscale": [
                          [
                            0,
                            "#0d0887"
                          ],
                          [
                            0.1111111111111111,
                            "#46039f"
                          ],
                          [
                            0.2222222222222222,
                            "#7201a8"
                          ],
                          [
                            0.3333333333333333,
                            "#9c179e"
                          ],
                          [
                            0.4444444444444444,
                            "#bd3786"
                          ],
                          [
                            0.5555555555555556,
                            "#d8576b"
                          ],
                          [
                            0.6666666666666666,
                            "#ed7953"
                          ],
                          [
                            0.7777777777777778,
                            "#fb9f3a"
                          ],
                          [
                            0.8888888888888888,
                            "#fdca26"
                          ],
                          [
                            1,
                            "#f0f921"
                          ]
                        ],
                        "type": "heatmapgl"
                      }
                    ],
                    "histogram": [
                      {
                        "marker": {
                          "pattern": {
                            "fillmode": "overlay",
                            "size": 10,
                            "solidity": 0.2
                          }
                        },
                        "type": "histogram"
                      }
                    ],
                    "histogram2d": [
                      {
                        "colorbar": {
                          "outlinewidth": 0,
                          "ticks": ""
                        },
                        "colorscale": [
                          [
                            0,
                            "#0d0887"
                          ],
                          [
                            0.1111111111111111,
                            "#46039f"
                          ],
                          [
                            0.2222222222222222,
                            "#7201a8"
                          ],
                          [
                            0.3333333333333333,
                            "#9c179e"
                          ],
                          [
                            0.4444444444444444,
                            "#bd3786"
                          ],
                          [
                            0.5555555555555556,
                            "#d8576b"
                          ],
                          [
                            0.6666666666666666,
                            "#ed7953"
                          ],
                          [
                            0.7777777777777778,
                            "#fb9f3a"
                          ],
                          [
                            0.8888888888888888,
                            "#fdca26"
                          ],
                          [
                            1,
                            "#f0f921"
                          ]
                        ],
                        "type": "histogram2d"
                      }
                    ],
                    "histogram2dcontour": [
                      {
                        "colorbar": {
                          "outlinewidth": 0,
                          "ticks": ""
                        },
                        "colorscale": [
                          [
                            0,
                            "#0d0887"
                          ],
                          [
                            0.1111111111111111,
                            "#46039f"
                          ],
                          [
                            0.2222222222222222,
                            "#7201a8"
                          ],
                          [
                            0.3333333333333333,
                            "#9c179e"
                          ],
                          [
                            0.4444444444444444,
                            "#bd3786"
                          ],
                          [
                            0.5555555555555556,
                            "#d8576b"
                          ],
                          [
                            0.6666666666666666,
                            "#ed7953"
                          ],
                          [
                            0.7777777777777778,
                            "#fb9f3a"
                          ],
                          [
                            0.8888888888888888,
                            "#fdca26"
                          ],
                          [
                            1,
                            "#f0f921"
                          ]
                        ],
                        "type": "histogram2dcontour"
                      }
                    ],
                    "mesh3d": [
                      {
                        "colorbar": {
                          "outlinewidth": 0,
                          "ticks": ""
                        },
                        "type": "mesh3d"
                      }
                    ],
                    "parcoords": [
                      {
                        "line": {
                          "colorbar": {
                            "outlinewidth": 0,
                            "ticks": ""
                          }
                        },
                        "type": "parcoords"
                      }
                    ],
                    "pie": [
                      {
                        "automargin": true,
                        "type": "pie"
                      }
                    ],
                    "scatter": [
                      {
                        "marker": {
                          "colorbar": {
                            "outlinewidth": 0,
                            "ticks": ""
                          }
                        },
                        "type": "scatter"
                      }
                    ],
                    "scatter3d": [
                      {
                        "line": {
                          "colorbar": {
                            "outlinewidth": 0,
                            "ticks": ""
                          }
                        },
                        "marker": {
                          "colorbar": {
                            "outlinewidth": 0,
                            "ticks": ""
                          }
                        },
                        "type": "scatter3d"
                      }
                    ],
                    "scattercarpet": [
                      {
                        "marker": {
                          "colorbar": {
                            "outlinewidth": 0,
                            "ticks": ""
                          }
                        },
                        "type": "scattercarpet"
                      }
                    ],
                    "scattergeo": [
                      {
                        "marker": {
                          "colorbar": {
                            "outlinewidth": 0,
                            "ticks": ""
                          }
                        },
                        "type": "scattergeo"
                      }
                    ],
                    "scattergl": [
                      {
                        "marker": {
                          "colorbar": {
                            "outlinewidth": 0,
                            "ticks": ""
                          }
                        },
                        "type": "scattergl"
                      }
                    ],
                    "scattermapbox": [
                      {
                        "marker": {
                          "colorbar": {
                            "outlinewidth": 0,
                            "ticks": ""
                          }
                        },
                        "type": "scattermapbox"
                      }
                    ],
                    "scatterpolar": [
                      {
                        "marker": {
                          "colorbar": {
                            "outlinewidth": 0,
                            "ticks": ""
                          }
                        },
                        "type": "scatterpolar"
                      }
                    ],
                    "scatterpolargl": [
                      {
                        "marker": {
                          "colorbar": {
                            "outlinewidth": 0,
                            "ticks": ""
                          }
                        },
                        "type": "scatterpolargl"
                      }
                    ],
                    "scatterternary": [
                      {
                        "marker": {
                          "colorbar": {
                            "outlinewidth": 0,
                            "ticks": ""
                          }
                        },
                        "type": "scatterternary"
                      }
                    ],
                    "surface": [
                      {
                        "colorbar": {
                          "outlinewidth": 0,
                          "ticks": ""
                        },
                        "colorscale": [
                          [
                            0,
                            "#0d0887"
                          ],
                          [
                            0.1111111111111111,
                            "#46039f"
                          ],
                          [
                            0.2222222222222222,
                            "#7201a8"
                          ],
                          [
                            0.3333333333333333,
                            "#9c179e"
                          ],
                          [
                            0.4444444444444444,
                            "#bd3786"
                          ],
                          [
                            0.5555555555555556,
                            "#d8576b"
                          ],
                          [
                            0.6666666666666666,
                            "#ed7953"
                          ],
                          [
                            0.7777777777777778,
                            "#fb9f3a"
                          ],
                          [
                            0.8888888888888888,
                            "#fdca26"
                          ],
                          [
                            1,
                            "#f0f921"
                          ]
                        ],
                        "type": "surface"
                      }
                    ],
                    "table": [
                      {
                        "cells": {
                          "fill": {
                            "color": "#EBF0F8"
                          },
                          "line": {
                            "color": "white"
                          }
                        },
                        "header": {
                          "fill": {
                            "color": "#C8D4E3"
                          },
                          "line": {
                            "color": "white"
                          }
                        },
                        "type": "table"
                      }
                    ]
                  },
                  "layout": {
                    "annotationdefaults": {
                      "arrowcolor": "#2a3f5f",
                      "arrowhead": 0,
                      "arrowwidth": 1
                    },
                    "autotypenumbers": "strict",
                    "coloraxis": {
                      "colorbar": {
                        "outlinewidth": 0,
                        "ticks": ""
                      }
                    },
                    "colorscale": {
                      "diverging": [
                        [
                          0,
                          "#8e0152"
                        ],
                        [
                          0.1,
                          "#c51b7d"
                        ],
                        [
                          0.2,
                          "#de77ae"
                        ],
                        [
                          0.3,
                          "#f1b6da"
                        ],
                        [
                          0.4,
                          "#fde0ef"
                        ],
                        [
                          0.5,
                          "#f7f7f7"
                        ],
                        [
                          0.6,
                          "#e6f5d0"
                        ],
                        [
                          0.7,
                          "#b8e186"
                        ],
                        [
                          0.8,
                          "#7fbc41"
                        ],
                        [
                          0.9,
                          "#4d9221"
                        ],
                        [
                          1,
                          "#276419"
                        ]
                      ],
                      "sequential": [
                        [
                          0,
                          "#0d0887"
                        ],
                        [
                          0.1111111111111111,
                          "#46039f"
                        ],
                        [
                          0.2222222222222222,
                          "#7201a8"
                        ],
                        [
                          0.3333333333333333,
                          "#9c179e"
                        ],
                        [
                          0.4444444444444444,
                          "#bd3786"
                        ],
                        [
                          0.5555555555555556,
                          "#d8576b"
                        ],
                        [
                          0.6666666666666666,
                          "#ed7953"
                        ],
                        [
                          0.7777777777777778,
                          "#fb9f3a"
                        ],
                        [
                          0.8888888888888888,
                          "#fdca26"
                        ],
                        [
                          1,
                          "#f0f921"
                        ]
                      ],
                      "sequentialminus": [
                        [
                          0,
                          "#0d0887"
                        ],
                        [
                          0.1111111111111111,
                          "#46039f"
                        ],
                        [
                          0.2222222222222222,
                          "#7201a8"
                        ],
                        [
                          0.3333333333333333,
                          "#9c179e"
                        ],
                        [
                          0.4444444444444444,
                          "#bd3786"
                        ],
                        [
                          0.5555555555555556,
                          "#d8576b"
                        ],
                        [
                          0.6666666666666666,
                          "#ed7953"
                        ],
                        [
                          0.7777777777777778,
                          "#fb9f3a"
                        ],
                        [
                          0.8888888888888888,
                          "#fdca26"
                        ],
                        [
                          1,
                          "#f0f921"
                        ]
                      ]
                    },
                    "colorway": [
                      "#636efa",
                      "#EF553B",
                      "#00cc96",
                      "#ab63fa",
                      "#FFA15A",
                      "#19d3f3",
                      "#FF6692",
                      "#B6E880",
                      "#FF97FF",
                      "#FECB52"
                    ],
                    "font": {
                      "color": "#2a3f5f"
                    },
                    "geo": {
                      "bgcolor": "white",
                      "lakecolor": "white",
                      "landcolor": "white",
                      "showlakes": true,
                      "showland": true,
                      "subunitcolor": "#C8D4E3"
                    },
                    "hoverlabel": {
                      "align": "left"
                    },
                    "hovermode": "closest",
                    "mapbox": {
                      "style": "light"
                    },
                    "paper_bgcolor": "white",
                    "plot_bgcolor": "white",
                    "polar": {
                      "angularaxis": {
                        "gridcolor": "#EBF0F8",
                        "linecolor": "#EBF0F8",
                        "ticks": ""
                      },
                      "bgcolor": "white",
                      "radialaxis": {
                        "gridcolor": "#EBF0F8",
                        "linecolor": "#EBF0F8",
                        "ticks": ""
                      }
                    },
                    "scene": {
                      "xaxis": {
                        "backgroundcolor": "white",
                        "gridcolor": "#DFE8F3",
                        "gridwidth": 2,
                        "linecolor": "#EBF0F8",
                        "showbackground": true,
                        "ticks": "",
                        "zerolinecolor": "#EBF0F8"
                      },
                      "yaxis": {
                        "backgroundcolor": "white",
                        "gridcolor": "#DFE8F3",
                        "gridwidth": 2,
                        "linecolor": "#EBF0F8",
                        "showbackground": true,
                        "ticks": "",
                        "zerolinecolor": "#EBF0F8"
                      },
                      "zaxis": {
                        "backgroundcolor": "white",
                        "gridcolor": "#DFE8F3",
                        "gridwidth": 2,
                        "linecolor": "#EBF0F8",
                        "showbackground": true,
                        "ticks": "",
                        "zerolinecolor": "#EBF0F8"
                      }
                    },
                    "shapedefaults": {
                      "line": {
                        "color": "#2a3f5f"
                      }
                    },
                    "ternary": {
                      "aaxis": {
                        "gridcolor": "#DFE8F3",
                        "linecolor": "#A2B1C6",
                        "ticks": ""
                      },
                      "baxis": {
                        "gridcolor": "#DFE8F3",
                        "linecolor": "#A2B1C6",
                        "ticks": ""
                      },
                      "bgcolor": "white",
                      "caxis": {
                        "gridcolor": "#DFE8F3",
                        "linecolor": "#A2B1C6",
                        "ticks": ""
                      }
                    },
                    "title": {
                      "x": 0.05
                    },
                    "xaxis": {
                      "automargin": true,
                      "gridcolor": "#EBF0F8",
                      "linecolor": "#EBF0F8",
                      "ticks": "",
                      "title": {
                        "standoff": 15
                      },
                      "zerolinecolor": "#EBF0F8",
                      "zerolinewidth": 2
                    },
                    "yaxis": {
                      "automargin": true,
                      "gridcolor": "#EBF0F8",
                      "linecolor": "#EBF0F8",
                      "ticks": "",
                      "title": {
                        "standoff": 15
                      },
                      "zerolinecolor": "#EBF0F8",
                      "zerolinewidth": 2
                    }
                  }
                },
                "title": {
                  "text": "Evolução da produção dos items da cesta básica ao longo dos anos"
                },
                "xaxis": {
                  "anchor": "y",
                  "domain": [
                    0,
                    1
                  ],
                  "title": {
                    "text": "Ano"
                  }
                },
                "yaxis": {
                  "anchor": "x",
                  "domain": [
                    0,
                    1
                  ],
                  "title": {
                    "text": "Produçao"
                  }
                }
              }
            }
          },
          "metadata": {},
          "output_type": "display_data"
        }
      ],
      "source": [
        "fig = px.line(producao_2, title = 'Evolução da produção dos items da cesta básica ao longo dos anos', x = 'Ano', y = 'Produçao', color = 'Item',  labels = {'value': 'Produção (Toneladas)', 'variable' : 'Culturas'} )\n",
        "fig.update_layout(template = 'plotly_white')"
      ]
    },
    {
      "cell_type": "code",
      "execution_count": 97,
      "metadata": {},
      "outputs": [
        {
          "data": {
            "application/vnd.plotly.v1+json": {
              "config": {
                "plotlyServerURL": "https://plot.ly"
              },
              "data": [
                {
                  "alignmentgroup": "True",
                  "bingroup": "x",
                  "histfunc": "sum",
                  "hovertemplate": "Item=Arroz em casca<br>Ano=%{x}<br>sum of Produçao=%{y}<extra></extra>",
                  "legendgroup": "Arroz em casca",
                  "marker": {
                    "color": "#636efa",
                    "pattern": {
                      "shape": ""
                    }
                  },
                  "name": "Arroz em casca",
                  "nbinsx": 150,
                  "offsetgroup": "Arroz em casca",
                  "orientation": "v",
                  "showlegend": true,
                  "textposition": "outside",
                  "texttemplate": "%{y:.2s}",
                  "type": "histogram",
                  "x": [
                    1974,
                    1975,
                    1976,
                    1977,
                    1978,
                    1979,
                    1980,
                    1981,
                    1982,
                    1983,
                    1984,
                    1985,
                    1986,
                    1987,
                    1988,
                    1989,
                    1990,
                    1991,
                    1992,
                    1993,
                    1994,
                    1995,
                    1996,
                    1997,
                    1998,
                    1999,
                    2000,
                    2001,
                    2002,
                    2003,
                    2004,
                    2005,
                    2006,
                    2007,
                    2008,
                    2009,
                    2010,
                    2011,
                    2012,
                    2013,
                    2014,
                    2015,
                    2016,
                    2017,
                    2018,
                    2019,
                    2020
                  ],
                  "xaxis": "x",
                  "y": [
                    6764038,
                    7781538,
                    9757079,
                    8993696,
                    7296142,
                    7595214,
                    9775720,
                    8228326,
                    9734553,
                    7741753,
                    9027363,
                    9024555,
                    10374030,
                    10419029,
                    11809467,
                    11044453,
                    7420931,
                    9488007,
                    10006292,
                    10107310,
                    10540789,
                    11226064,
                    8652328,
                    8351665,
                    7716090,
                    11709694,
                    11134588,
                    10184185,
                    10445986,
                    10334603,
                    13277008,
                    13192863,
                    11526685,
                    11060741,
                    12061465,
                    12651144,
                    11235986,
                    13476994,
                    11549881,
                    11782549,
                    12175602,
                    12301201,
                    10622189,
                    12464766,
                    11808412,
                    10368639,
                    11091011
                  ],
                  "yaxis": "y"
                },
                {
                  "alignmentgroup": "True",
                  "bingroup": "x",
                  "histfunc": "sum",
                  "hovertemplate": "Item=Café (em grão)<br>Ano=%{x}<br>sum of Produçao=%{y}<extra></extra>",
                  "legendgroup": "Café (em grão)",
                  "marker": {
                    "color": "#EF553B",
                    "pattern": {
                      "shape": ""
                    }
                  },
                  "name": "Café (em grão)",
                  "nbinsx": 150,
                  "offsetgroup": "Café (em grão)",
                  "orientation": "v",
                  "showlegend": true,
                  "textposition": "outside",
                  "texttemplate": "%{y:.2s}",
                  "type": "histogram",
                  "x": [
                    1974,
                    1975,
                    1976,
                    1977,
                    1978,
                    1979,
                    1980,
                    1981,
                    1982,
                    1983,
                    1984,
                    1985,
                    1986,
                    1987,
                    1988,
                    1989,
                    1990,
                    1991,
                    1992,
                    1993,
                    1994,
                    1995,
                    1996,
                    1997,
                    1998,
                    1999,
                    2000,
                    2001,
                    2002,
                    2003,
                    2004,
                    2005,
                    2006,
                    2007,
                    2008,
                    2009,
                    2010,
                    2011,
                    2012,
                    2013,
                    2014,
                    2015,
                    2016,
                    2017,
                    2018,
                    2019,
                    2020
                  ],
                  "xaxis": "x",
                  "y": [
                    3230618,
                    2544596,
                    751969,
                    1950771,
                    2535323,
                    2665545,
                    2122391,
                    4064421,
                    1915861,
                    3343176,
                    2840563,
                    3821292,
                    2082811,
                    4405416,
                    2737660,
                    3059685,
                    2929711,
                    3040763,
                    2588745,
                    2557518,
                    2614578,
                    1860269,
                    2738391,
                    2457025,
                    3378731,
                    3263704,
                    3807124,
                    3639138,
                    2610524,
                    1987074,
                    2465710,
                    2140169,
                    2573368,
                    2249011,
                    2796927,
                    2440056,
                    2907265,
                    2700540,
                    3037534,
                    2964538,
                    2804070,
                    2647504,
                    3024466,
                    2684508,
                    3552729,
                    3011745,
                    3700231
                  ],
                  "yaxis": "y"
                },
                {
                  "alignmentgroup": "True",
                  "bingroup": "x",
                  "histfunc": "sum",
                  "hovertemplate": "Item=Cana-de-açúcar<br>Ano=%{x}<br>sum of Produçao=%{y}<extra></extra>",
                  "legendgroup": "Cana-de-açúcar",
                  "marker": {
                    "color": "#00cc96",
                    "pattern": {
                      "shape": ""
                    }
                  },
                  "name": "Cana-de-açúcar",
                  "nbinsx": 150,
                  "offsetgroup": "Cana-de-açúcar",
                  "orientation": "v",
                  "showlegend": true,
                  "textposition": "outside",
                  "texttemplate": "%{y:.2s}",
                  "type": "histogram",
                  "x": [
                    1974,
                    1975,
                    1976,
                    1977,
                    1978,
                    1979,
                    1980,
                    1981,
                    1982,
                    1983,
                    1984,
                    1985,
                    1986,
                    1987,
                    1988,
                    1989,
                    1990,
                    1991,
                    1992,
                    1993,
                    1994,
                    1995,
                    1996,
                    1997,
                    1998,
                    1999,
                    2000,
                    2001,
                    2002,
                    2003,
                    2004,
                    2005,
                    2006,
                    2007,
                    2008,
                    2009,
                    2010,
                    2011,
                    2012,
                    2013,
                    2014,
                    2015,
                    2016,
                    2017,
                    2018,
                    2019,
                    2020
                  ],
                  "xaxis": "x",
                  "y": [
                    95623685,
                    91524559,
                    103173449,
                    120081700,
                    129144950,
                    138895318,
                    148650563,
                    155924109,
                    186646607,
                    216036958,
                    222317847,
                    247199474,
                    239178319,
                    268741069,
                    258412865,
                    252642623,
                    262674150,
                    260887893,
                    271474875,
                    244530708,
                    292101835,
                    303699497,
                    317105981,
                    331612687,
                    345254972,
                    333847720,
                    326121011,
                    344292922,
                    364389416,
                    396012158,
                    415205835,
                    422956646,
                    477410655,
                    549707314,
                    645300182,
                    691606147,
                    717463793,
                    734006059,
                    722926450,
                    768090444,
                    736108487,
                    750290277,
                    768594154,
                    758646205,
                    747556774,
                    753470465,
                    757116855
                  ],
                  "yaxis": "y"
                },
                {
                  "alignmentgroup": "True",
                  "bingroup": "x",
                  "histfunc": "sum",
                  "hovertemplate": "Item=Feijão (em grão)<br>Ano=%{x}<br>sum of Produçao=%{y}<extra></extra>",
                  "legendgroup": "Feijão (em grão)",
                  "marker": {
                    "color": "#ab63fa",
                    "pattern": {
                      "shape": ""
                    }
                  },
                  "name": "Feijão (em grão)",
                  "nbinsx": 150,
                  "offsetgroup": "Feijão (em grão)",
                  "orientation": "v",
                  "showlegend": true,
                  "textposition": "outside",
                  "texttemplate": "%{y:.2s}",
                  "type": "histogram",
                  "x": [
                    1974,
                    1975,
                    1976,
                    1977,
                    1978,
                    1979,
                    1980,
                    1981,
                    1982,
                    1983,
                    1984,
                    1985,
                    1986,
                    1987,
                    1988,
                    1989,
                    1990,
                    1991,
                    1992,
                    1993,
                    1994,
                    1995,
                    1996,
                    1997,
                    1998,
                    1999,
                    2000,
                    2001,
                    2002,
                    2003,
                    2004,
                    2005,
                    2006,
                    2007,
                    2008,
                    2009,
                    2010,
                    2011,
                    2012,
                    2013,
                    2014,
                    2015,
                    2016,
                    2017,
                    2018,
                    2019,
                    2020
                  ],
                  "xaxis": "x",
                  "y": [
                    2238012,
                    2282466,
                    1840315,
                    2290007,
                    2193977,
                    2186343,
                    1968165,
                    2340947,
                    2902657,
                    1580546,
                    2625676,
                    2548738,
                    2209188,
                    2007230,
                    2808639,
                    2310546,
                    2234467,
                    2744711,
                    2797138,
                    2478325,
                    3369684,
                    2946168,
                    2452036,
                    2840243,
                    2191153,
                    2830915,
                    3056289,
                    2453681,
                    3064228,
                    3302038,
                    2967007,
                    3021641,
                    3457744,
                    3169356,
                    3461194,
                    3486763,
                    3158905,
                    3435366,
                    2794854,
                    2892599,
                    3294586,
                    3088926,
                    2621267,
                    3046079,
                    2916365,
                    2908075,
                    3035290
                  ],
                  "yaxis": "y"
                },
                {
                  "alignmentgroup": "True",
                  "bingroup": "x",
                  "histfunc": "sum",
                  "hovertemplate": "Item=Mandioca<br>Ano=%{x}<br>sum of Produçao=%{y}<extra></extra>",
                  "legendgroup": "Mandioca",
                  "marker": {
                    "color": "#FFA15A",
                    "pattern": {
                      "shape": ""
                    }
                  },
                  "name": "Mandioca",
                  "nbinsx": 150,
                  "offsetgroup": "Mandioca",
                  "orientation": "v",
                  "showlegend": true,
                  "textposition": "outside",
                  "texttemplate": "%{y:.2s}",
                  "type": "histogram",
                  "x": [
                    1974,
                    1975,
                    1976,
                    1977,
                    1978,
                    1979,
                    1980,
                    1981,
                    1982,
                    1983,
                    1984,
                    1985,
                    1986,
                    1987,
                    1988,
                    1989,
                    1990,
                    1991,
                    1992,
                    1993,
                    1994,
                    1995,
                    1996,
                    1997,
                    1998,
                    1999,
                    2000,
                    2001,
                    2002,
                    2003,
                    2004,
                    2005,
                    2006,
                    2007,
                    2008,
                    2009,
                    2010,
                    2011,
                    2012,
                    2013,
                    2014,
                    2015,
                    2016,
                    2017,
                    2018,
                    2019,
                    2020
                  ],
                  "xaxis": "x",
                  "y": [
                    24797636,
                    26117614,
                    25443053,
                    25929484,
                    25459408,
                    24961285,
                    23465649,
                    24516360,
                    24072320,
                    21847892,
                    21466222,
                    23124782,
                    25620600,
                    23464484,
                    21673849,
                    23668473,
                    24322133,
                    24537505,
                    21918600,
                    21855690,
                    24464293,
                    25422959,
                    17743155,
                    19896205,
                    19502717,
                    20864340,
                    23044190,
                    22580282,
                    23148303,
                    21961082,
                    23926553,
                    25872015,
                    26639013,
                    26541200,
                    26703039,
                    24403981,
                    24967052,
                    25349542,
                    23044557,
                    21484218,
                    23253514,
                    23059704,
                    21036314,
                    18501645,
                    17877163,
                    17593186,
                    18205120
                  ],
                  "yaxis": "y"
                },
                {
                  "alignmentgroup": "True",
                  "bingroup": "x",
                  "histfunc": "sum",
                  "hovertemplate": "Item=Milho (em grão)<br>Ano=%{x}<br>sum of Produçao=%{y}<extra></extra>",
                  "legendgroup": "Milho (em grão)",
                  "marker": {
                    "color": "#19d3f3",
                    "pattern": {
                      "shape": ""
                    }
                  },
                  "name": "Milho (em grão)",
                  "nbinsx": 150,
                  "offsetgroup": "Milho (em grão)",
                  "orientation": "v",
                  "showlegend": true,
                  "textposition": "outside",
                  "texttemplate": "%{y:.2s}",
                  "type": "histogram",
                  "x": [
                    1974,
                    1975,
                    1976,
                    1977,
                    1978,
                    1979,
                    1980,
                    1981,
                    1982,
                    1983,
                    1984,
                    1985,
                    1986,
                    1987,
                    1988,
                    1989,
                    1990,
                    1991,
                    1992,
                    1993,
                    1994,
                    1995,
                    1996,
                    1997,
                    1998,
                    1999,
                    2000,
                    2001,
                    2002,
                    2003,
                    2004,
                    2005,
                    2006,
                    2007,
                    2008,
                    2009,
                    2010,
                    2011,
                    2012,
                    2013,
                    2014,
                    2015,
                    2016,
                    2017,
                    2018,
                    2019,
                    2020
                  ],
                  "xaxis": "x",
                  "y": [
                    16273227,
                    16334516,
                    17751077,
                    19255936,
                    13569401,
                    16306380,
                    20372072,
                    21116908,
                    21842477,
                    18731216,
                    21164138,
                    22018180,
                    20530960,
                    26802769,
                    24748036,
                    26572592,
                    21347774,
                    23624340,
                    30506127,
                    30055633,
                    32487625,
                    36266951,
                    29652791,
                    32948044,
                    29601753,
                    32239479,
                    32321000,
                    41962475,
                    35940832,
                    48327323,
                    41787558,
                    35113312,
                    42661677,
                    52112217,
                    58933347,
                    50719822,
                    55364271,
                    55660235,
                    71072810,
                    80273172,
                    79881614,
                    85283074,
                    64188314,
                    97910658,
                    82366531,
                    101126409,
                    103963620
                  ],
                  "yaxis": "y"
                },
                {
                  "alignmentgroup": "True",
                  "bingroup": "x",
                  "histfunc": "sum",
                  "hovertemplate": "Item=Soja (em grão)<br>Ano=%{x}<br>sum of Produçao=%{y}<extra></extra>",
                  "legendgroup": "Soja (em grão)",
                  "marker": {
                    "color": "#FF6692",
                    "pattern": {
                      "shape": ""
                    }
                  },
                  "name": "Soja (em grão)",
                  "nbinsx": 150,
                  "offsetgroup": "Soja (em grão)",
                  "orientation": "v",
                  "showlegend": true,
                  "textposition": "outside",
                  "texttemplate": "%{y:.2s}",
                  "type": "histogram",
                  "x": [
                    1974,
                    1975,
                    1976,
                    1977,
                    1978,
                    1979,
                    1980,
                    1981,
                    1982,
                    1983,
                    1984,
                    1985,
                    1986,
                    1987,
                    1988,
                    1989,
                    1990,
                    1991,
                    1992,
                    1993,
                    1994,
                    1995,
                    1996,
                    1997,
                    1998,
                    1999,
                    2000,
                    2001,
                    2002,
                    2003,
                    2004,
                    2005,
                    2006,
                    2007,
                    2008,
                    2009,
                    2010,
                    2011,
                    2012,
                    2013,
                    2014,
                    2015,
                    2016,
                    2017,
                    2018,
                    2019,
                    2020
                  ],
                  "xaxis": "x",
                  "y": [
                    7876527,
                    9893008,
                    11227123,
                    12513406,
                    9540577,
                    10240306,
                    15155804,
                    15007367,
                    12836047,
                    14582347,
                    15540792,
                    18278585,
                    13330225,
                    16968827,
                    18016170,
                    24071360,
                    19897804,
                    14937806,
                    19214705,
                    22590978,
                    24931832,
                    25682637,
                    23166874,
                    26392636,
                    31307440,
                    30987476,
                    32820826,
                    37907259,
                    42107618,
                    51919440,
                    49549941,
                    51182074,
                    52464640,
                    57857172,
                    59833105,
                    57345382,
                    68756343,
                    74815447,
                    65848857,
                    81724477,
                    86760520,
                    97464936,
                    96394820,
                    114732101,
                    117912450,
                    114316829,
                    121797712
                  ],
                  "yaxis": "y"
                },
                {
                  "alignmentgroup": "True",
                  "bingroup": "x",
                  "histfunc": "sum",
                  "hovertemplate": "Item=Tomate<br>Ano=%{x}<br>sum of Produçao=%{y}<extra></extra>",
                  "legendgroup": "Tomate",
                  "marker": {
                    "color": "#B6E880",
                    "pattern": {
                      "shape": ""
                    }
                  },
                  "name": "Tomate",
                  "nbinsx": 150,
                  "offsetgroup": "Tomate",
                  "orientation": "v",
                  "showlegend": true,
                  "textposition": "outside",
                  "texttemplate": "%{y:.2s}",
                  "type": "histogram",
                  "x": [
                    1974,
                    1975,
                    1976,
                    1977,
                    1978,
                    1979,
                    1980,
                    1981,
                    1982,
                    1983,
                    1984,
                    1985,
                    1986,
                    1987,
                    1988,
                    1989,
                    1990,
                    1991,
                    1992,
                    1993,
                    1994,
                    1995,
                    1996,
                    1997,
                    1998,
                    1999,
                    2000,
                    2001,
                    2002,
                    2003,
                    2004,
                    2005,
                    2006,
                    2007,
                    2008,
                    2009,
                    2010,
                    2011,
                    2012,
                    2013,
                    2014,
                    2015,
                    2016,
                    2017,
                    2018,
                    2019,
                    2020
                  ],
                  "xaxis": "x",
                  "y": [
                    1144037,
                    1049724,
                    1166888,
                    1297508,
                    1464558,
                    1500799,
                    1535331,
                    1451713,
                    1742408,
                    1550778,
                    1817574,
                    1934610,
                    1846305,
                    2049324,
                    2406938,
                    2177467,
                    2260871,
                    2343811,
                    2141345,
                    2348498,
                    2688570,
                    2715016,
                    2648627,
                    2717965,
                    2784111,
                    3305053,
                    3004797,
                    3103363,
                    3652923,
                    3708602,
                    3515567,
                    3452973,
                    3362655,
                    3431232,
                    3867655,
                    4310477,
                    4106846,
                    4416652,
                    3873985,
                    4187646,
                    4302777,
                    4187729,
                    4166789,
                    4225414,
                    4126988,
                    3920997,
                    3753595
                  ],
                  "yaxis": "y"
                },
                {
                  "alignmentgroup": "True",
                  "bingroup": "x",
                  "histfunc": "sum",
                  "hovertemplate": "Item=Trigo (em grão)<br>Ano=%{x}<br>sum of Produçao=%{y}<extra></extra>",
                  "legendgroup": "Trigo (em grão)",
                  "marker": {
                    "color": "#FF97FF",
                    "pattern": {
                      "shape": ""
                    }
                  },
                  "name": "Trigo (em grão)",
                  "nbinsx": 150,
                  "offsetgroup": "Trigo (em grão)",
                  "orientation": "v",
                  "showlegend": true,
                  "textposition": "outside",
                  "texttemplate": "%{y:.2s}",
                  "type": "histogram",
                  "x": [
                    1974,
                    1975,
                    1976,
                    1977,
                    1978,
                    1979,
                    1980,
                    1981,
                    1982,
                    1983,
                    1984,
                    1985,
                    1986,
                    1987,
                    1988,
                    1989,
                    1990,
                    1991,
                    1992,
                    1993,
                    1994,
                    1995,
                    1996,
                    1997,
                    1998,
                    1999,
                    2000,
                    2001,
                    2002,
                    2003,
                    2004,
                    2005,
                    2006,
                    2007,
                    2008,
                    2009,
                    2010,
                    2011,
                    2012,
                    2013,
                    2014,
                    2015,
                    2016,
                    2017,
                    2018,
                    2019,
                    2020
                  ],
                  "xaxis": "x",
                  "y": [
                    2858530,
                    1788180,
                    3215745,
                    2066039,
                    2690888,
                    2926764,
                    2701613,
                    2209631,
                    1826945,
                    2236700,
                    1983157,
                    4320267,
                    5689680,
                    6034586,
                    5737971,
                    5552841,
                    3093791,
                    2916823,
                    2795598,
                    2197354,
                    2096259,
                    1533871,
                    3292777,
                    2489070,
                    2269847,
                    2461856,
                    1725792,
                    3366599,
                    3105658,
                    6153500,
                    5818846,
                    4658790,
                    2484848,
                    4114057,
                    6027131,
                    5055525,
                    6171250,
                    5690043,
                    4418388,
                    5738473,
                    6261895,
                    5508451,
                    6834421,
                    4342812,
                    5469236,
                    5590815,
                    6347987
                  ],
                  "yaxis": "y"
                }
              ],
              "layout": {
                "barmode": "relative",
                "legend": {
                  "title": {
                    "text": "Item"
                  },
                  "tracegroupgap": 0
                },
                "template": {
                  "data": {
                    "bar": [
                      {
                        "error_x": {
                          "color": "#2a3f5f"
                        },
                        "error_y": {
                          "color": "#2a3f5f"
                        },
                        "marker": {
                          "line": {
                            "color": "white",
                            "width": 0.5
                          },
                          "pattern": {
                            "fillmode": "overlay",
                            "size": 10,
                            "solidity": 0.2
                          }
                        },
                        "type": "bar"
                      }
                    ],
                    "barpolar": [
                      {
                        "marker": {
                          "line": {
                            "color": "white",
                            "width": 0.5
                          },
                          "pattern": {
                            "fillmode": "overlay",
                            "size": 10,
                            "solidity": 0.2
                          }
                        },
                        "type": "barpolar"
                      }
                    ],
                    "carpet": [
                      {
                        "aaxis": {
                          "endlinecolor": "#2a3f5f",
                          "gridcolor": "#C8D4E3",
                          "linecolor": "#C8D4E3",
                          "minorgridcolor": "#C8D4E3",
                          "startlinecolor": "#2a3f5f"
                        },
                        "baxis": {
                          "endlinecolor": "#2a3f5f",
                          "gridcolor": "#C8D4E3",
                          "linecolor": "#C8D4E3",
                          "minorgridcolor": "#C8D4E3",
                          "startlinecolor": "#2a3f5f"
                        },
                        "type": "carpet"
                      }
                    ],
                    "choropleth": [
                      {
                        "colorbar": {
                          "outlinewidth": 0,
                          "ticks": ""
                        },
                        "type": "choropleth"
                      }
                    ],
                    "contour": [
                      {
                        "colorbar": {
                          "outlinewidth": 0,
                          "ticks": ""
                        },
                        "colorscale": [
                          [
                            0,
                            "#0d0887"
                          ],
                          [
                            0.1111111111111111,
                            "#46039f"
                          ],
                          [
                            0.2222222222222222,
                            "#7201a8"
                          ],
                          [
                            0.3333333333333333,
                            "#9c179e"
                          ],
                          [
                            0.4444444444444444,
                            "#bd3786"
                          ],
                          [
                            0.5555555555555556,
                            "#d8576b"
                          ],
                          [
                            0.6666666666666666,
                            "#ed7953"
                          ],
                          [
                            0.7777777777777778,
                            "#fb9f3a"
                          ],
                          [
                            0.8888888888888888,
                            "#fdca26"
                          ],
                          [
                            1,
                            "#f0f921"
                          ]
                        ],
                        "type": "contour"
                      }
                    ],
                    "contourcarpet": [
                      {
                        "colorbar": {
                          "outlinewidth": 0,
                          "ticks": ""
                        },
                        "type": "contourcarpet"
                      }
                    ],
                    "heatmap": [
                      {
                        "colorbar": {
                          "outlinewidth": 0,
                          "ticks": ""
                        },
                        "colorscale": [
                          [
                            0,
                            "#0d0887"
                          ],
                          [
                            0.1111111111111111,
                            "#46039f"
                          ],
                          [
                            0.2222222222222222,
                            "#7201a8"
                          ],
                          [
                            0.3333333333333333,
                            "#9c179e"
                          ],
                          [
                            0.4444444444444444,
                            "#bd3786"
                          ],
                          [
                            0.5555555555555556,
                            "#d8576b"
                          ],
                          [
                            0.6666666666666666,
                            "#ed7953"
                          ],
                          [
                            0.7777777777777778,
                            "#fb9f3a"
                          ],
                          [
                            0.8888888888888888,
                            "#fdca26"
                          ],
                          [
                            1,
                            "#f0f921"
                          ]
                        ],
                        "type": "heatmap"
                      }
                    ],
                    "heatmapgl": [
                      {
                        "colorbar": {
                          "outlinewidth": 0,
                          "ticks": ""
                        },
                        "colorscale": [
                          [
                            0,
                            "#0d0887"
                          ],
                          [
                            0.1111111111111111,
                            "#46039f"
                          ],
                          [
                            0.2222222222222222,
                            "#7201a8"
                          ],
                          [
                            0.3333333333333333,
                            "#9c179e"
                          ],
                          [
                            0.4444444444444444,
                            "#bd3786"
                          ],
                          [
                            0.5555555555555556,
                            "#d8576b"
                          ],
                          [
                            0.6666666666666666,
                            "#ed7953"
                          ],
                          [
                            0.7777777777777778,
                            "#fb9f3a"
                          ],
                          [
                            0.8888888888888888,
                            "#fdca26"
                          ],
                          [
                            1,
                            "#f0f921"
                          ]
                        ],
                        "type": "heatmapgl"
                      }
                    ],
                    "histogram": [
                      {
                        "marker": {
                          "pattern": {
                            "fillmode": "overlay",
                            "size": 10,
                            "solidity": 0.2
                          }
                        },
                        "type": "histogram"
                      }
                    ],
                    "histogram2d": [
                      {
                        "colorbar": {
                          "outlinewidth": 0,
                          "ticks": ""
                        },
                        "colorscale": [
                          [
                            0,
                            "#0d0887"
                          ],
                          [
                            0.1111111111111111,
                            "#46039f"
                          ],
                          [
                            0.2222222222222222,
                            "#7201a8"
                          ],
                          [
                            0.3333333333333333,
                            "#9c179e"
                          ],
                          [
                            0.4444444444444444,
                            "#bd3786"
                          ],
                          [
                            0.5555555555555556,
                            "#d8576b"
                          ],
                          [
                            0.6666666666666666,
                            "#ed7953"
                          ],
                          [
                            0.7777777777777778,
                            "#fb9f3a"
                          ],
                          [
                            0.8888888888888888,
                            "#fdca26"
                          ],
                          [
                            1,
                            "#f0f921"
                          ]
                        ],
                        "type": "histogram2d"
                      }
                    ],
                    "histogram2dcontour": [
                      {
                        "colorbar": {
                          "outlinewidth": 0,
                          "ticks": ""
                        },
                        "colorscale": [
                          [
                            0,
                            "#0d0887"
                          ],
                          [
                            0.1111111111111111,
                            "#46039f"
                          ],
                          [
                            0.2222222222222222,
                            "#7201a8"
                          ],
                          [
                            0.3333333333333333,
                            "#9c179e"
                          ],
                          [
                            0.4444444444444444,
                            "#bd3786"
                          ],
                          [
                            0.5555555555555556,
                            "#d8576b"
                          ],
                          [
                            0.6666666666666666,
                            "#ed7953"
                          ],
                          [
                            0.7777777777777778,
                            "#fb9f3a"
                          ],
                          [
                            0.8888888888888888,
                            "#fdca26"
                          ],
                          [
                            1,
                            "#f0f921"
                          ]
                        ],
                        "type": "histogram2dcontour"
                      }
                    ],
                    "mesh3d": [
                      {
                        "colorbar": {
                          "outlinewidth": 0,
                          "ticks": ""
                        },
                        "type": "mesh3d"
                      }
                    ],
                    "parcoords": [
                      {
                        "line": {
                          "colorbar": {
                            "outlinewidth": 0,
                            "ticks": ""
                          }
                        },
                        "type": "parcoords"
                      }
                    ],
                    "pie": [
                      {
                        "automargin": true,
                        "type": "pie"
                      }
                    ],
                    "scatter": [
                      {
                        "marker": {
                          "colorbar": {
                            "outlinewidth": 0,
                            "ticks": ""
                          }
                        },
                        "type": "scatter"
                      }
                    ],
                    "scatter3d": [
                      {
                        "line": {
                          "colorbar": {
                            "outlinewidth": 0,
                            "ticks": ""
                          }
                        },
                        "marker": {
                          "colorbar": {
                            "outlinewidth": 0,
                            "ticks": ""
                          }
                        },
                        "type": "scatter3d"
                      }
                    ],
                    "scattercarpet": [
                      {
                        "marker": {
                          "colorbar": {
                            "outlinewidth": 0,
                            "ticks": ""
                          }
                        },
                        "type": "scattercarpet"
                      }
                    ],
                    "scattergeo": [
                      {
                        "marker": {
                          "colorbar": {
                            "outlinewidth": 0,
                            "ticks": ""
                          }
                        },
                        "type": "scattergeo"
                      }
                    ],
                    "scattergl": [
                      {
                        "marker": {
                          "colorbar": {
                            "outlinewidth": 0,
                            "ticks": ""
                          }
                        },
                        "type": "scattergl"
                      }
                    ],
                    "scattermapbox": [
                      {
                        "marker": {
                          "colorbar": {
                            "outlinewidth": 0,
                            "ticks": ""
                          }
                        },
                        "type": "scattermapbox"
                      }
                    ],
                    "scatterpolar": [
                      {
                        "marker": {
                          "colorbar": {
                            "outlinewidth": 0,
                            "ticks": ""
                          }
                        },
                        "type": "scatterpolar"
                      }
                    ],
                    "scatterpolargl": [
                      {
                        "marker": {
                          "colorbar": {
                            "outlinewidth": 0,
                            "ticks": ""
                          }
                        },
                        "type": "scatterpolargl"
                      }
                    ],
                    "scatterternary": [
                      {
                        "marker": {
                          "colorbar": {
                            "outlinewidth": 0,
                            "ticks": ""
                          }
                        },
                        "type": "scatterternary"
                      }
                    ],
                    "surface": [
                      {
                        "colorbar": {
                          "outlinewidth": 0,
                          "ticks": ""
                        },
                        "colorscale": [
                          [
                            0,
                            "#0d0887"
                          ],
                          [
                            0.1111111111111111,
                            "#46039f"
                          ],
                          [
                            0.2222222222222222,
                            "#7201a8"
                          ],
                          [
                            0.3333333333333333,
                            "#9c179e"
                          ],
                          [
                            0.4444444444444444,
                            "#bd3786"
                          ],
                          [
                            0.5555555555555556,
                            "#d8576b"
                          ],
                          [
                            0.6666666666666666,
                            "#ed7953"
                          ],
                          [
                            0.7777777777777778,
                            "#fb9f3a"
                          ],
                          [
                            0.8888888888888888,
                            "#fdca26"
                          ],
                          [
                            1,
                            "#f0f921"
                          ]
                        ],
                        "type": "surface"
                      }
                    ],
                    "table": [
                      {
                        "cells": {
                          "fill": {
                            "color": "#EBF0F8"
                          },
                          "line": {
                            "color": "white"
                          }
                        },
                        "header": {
                          "fill": {
                            "color": "#C8D4E3"
                          },
                          "line": {
                            "color": "white"
                          }
                        },
                        "type": "table"
                      }
                    ]
                  },
                  "layout": {
                    "annotationdefaults": {
                      "arrowcolor": "#2a3f5f",
                      "arrowhead": 0,
                      "arrowwidth": 1
                    },
                    "autotypenumbers": "strict",
                    "coloraxis": {
                      "colorbar": {
                        "outlinewidth": 0,
                        "ticks": ""
                      }
                    },
                    "colorscale": {
                      "diverging": [
                        [
                          0,
                          "#8e0152"
                        ],
                        [
                          0.1,
                          "#c51b7d"
                        ],
                        [
                          0.2,
                          "#de77ae"
                        ],
                        [
                          0.3,
                          "#f1b6da"
                        ],
                        [
                          0.4,
                          "#fde0ef"
                        ],
                        [
                          0.5,
                          "#f7f7f7"
                        ],
                        [
                          0.6,
                          "#e6f5d0"
                        ],
                        [
                          0.7,
                          "#b8e186"
                        ],
                        [
                          0.8,
                          "#7fbc41"
                        ],
                        [
                          0.9,
                          "#4d9221"
                        ],
                        [
                          1,
                          "#276419"
                        ]
                      ],
                      "sequential": [
                        [
                          0,
                          "#0d0887"
                        ],
                        [
                          0.1111111111111111,
                          "#46039f"
                        ],
                        [
                          0.2222222222222222,
                          "#7201a8"
                        ],
                        [
                          0.3333333333333333,
                          "#9c179e"
                        ],
                        [
                          0.4444444444444444,
                          "#bd3786"
                        ],
                        [
                          0.5555555555555556,
                          "#d8576b"
                        ],
                        [
                          0.6666666666666666,
                          "#ed7953"
                        ],
                        [
                          0.7777777777777778,
                          "#fb9f3a"
                        ],
                        [
                          0.8888888888888888,
                          "#fdca26"
                        ],
                        [
                          1,
                          "#f0f921"
                        ]
                      ],
                      "sequentialminus": [
                        [
                          0,
                          "#0d0887"
                        ],
                        [
                          0.1111111111111111,
                          "#46039f"
                        ],
                        [
                          0.2222222222222222,
                          "#7201a8"
                        ],
                        [
                          0.3333333333333333,
                          "#9c179e"
                        ],
                        [
                          0.4444444444444444,
                          "#bd3786"
                        ],
                        [
                          0.5555555555555556,
                          "#d8576b"
                        ],
                        [
                          0.6666666666666666,
                          "#ed7953"
                        ],
                        [
                          0.7777777777777778,
                          "#fb9f3a"
                        ],
                        [
                          0.8888888888888888,
                          "#fdca26"
                        ],
                        [
                          1,
                          "#f0f921"
                        ]
                      ]
                    },
                    "colorway": [
                      "#636efa",
                      "#EF553B",
                      "#00cc96",
                      "#ab63fa",
                      "#FFA15A",
                      "#19d3f3",
                      "#FF6692",
                      "#B6E880",
                      "#FF97FF",
                      "#FECB52"
                    ],
                    "font": {
                      "color": "#2a3f5f"
                    },
                    "geo": {
                      "bgcolor": "white",
                      "lakecolor": "white",
                      "landcolor": "white",
                      "showlakes": true,
                      "showland": true,
                      "subunitcolor": "#C8D4E3"
                    },
                    "hoverlabel": {
                      "align": "left"
                    },
                    "hovermode": "closest",
                    "mapbox": {
                      "style": "light"
                    },
                    "paper_bgcolor": "white",
                    "plot_bgcolor": "white",
                    "polar": {
                      "angularaxis": {
                        "gridcolor": "#EBF0F8",
                        "linecolor": "#EBF0F8",
                        "ticks": ""
                      },
                      "bgcolor": "white",
                      "radialaxis": {
                        "gridcolor": "#EBF0F8",
                        "linecolor": "#EBF0F8",
                        "ticks": ""
                      }
                    },
                    "scene": {
                      "xaxis": {
                        "backgroundcolor": "white",
                        "gridcolor": "#DFE8F3",
                        "gridwidth": 2,
                        "linecolor": "#EBF0F8",
                        "showbackground": true,
                        "ticks": "",
                        "zerolinecolor": "#EBF0F8"
                      },
                      "yaxis": {
                        "backgroundcolor": "white",
                        "gridcolor": "#DFE8F3",
                        "gridwidth": 2,
                        "linecolor": "#EBF0F8",
                        "showbackground": true,
                        "ticks": "",
                        "zerolinecolor": "#EBF0F8"
                      },
                      "zaxis": {
                        "backgroundcolor": "white",
                        "gridcolor": "#DFE8F3",
                        "gridwidth": 2,
                        "linecolor": "#EBF0F8",
                        "showbackground": true,
                        "ticks": "",
                        "zerolinecolor": "#EBF0F8"
                      }
                    },
                    "shapedefaults": {
                      "line": {
                        "color": "#2a3f5f"
                      }
                    },
                    "ternary": {
                      "aaxis": {
                        "gridcolor": "#DFE8F3",
                        "linecolor": "#A2B1C6",
                        "ticks": ""
                      },
                      "baxis": {
                        "gridcolor": "#DFE8F3",
                        "linecolor": "#A2B1C6",
                        "ticks": ""
                      },
                      "bgcolor": "white",
                      "caxis": {
                        "gridcolor": "#DFE8F3",
                        "linecolor": "#A2B1C6",
                        "ticks": ""
                      }
                    },
                    "title": {
                      "x": 0.05
                    },
                    "xaxis": {
                      "automargin": true,
                      "gridcolor": "#EBF0F8",
                      "linecolor": "#EBF0F8",
                      "ticks": "",
                      "title": {
                        "standoff": 15
                      },
                      "zerolinecolor": "#EBF0F8",
                      "zerolinewidth": 2
                    },
                    "yaxis": {
                      "automargin": true,
                      "gridcolor": "#EBF0F8",
                      "linecolor": "#EBF0F8",
                      "ticks": "",
                      "title": {
                        "standoff": 15
                      },
                      "zerolinecolor": "#EBF0F8",
                      "zerolinewidth": 2
                    }
                  }
                },
                "title": {
                  "text": "Produção dos items da cesta ao longo dos anos "
                },
                "xaxis": {
                  "anchor": "y",
                  "domain": [
                    0,
                    1
                  ],
                  "title": {
                    "text": "Ano"
                  }
                },
                "yaxis": {
                  "anchor": "x",
                  "domain": [
                    0,
                    1
                  ],
                  "title": {
                    "text": "sum of Produçao"
                  }
                }
              }
            }
          },
          "metadata": {},
          "output_type": "display_data"
        }
      ],
      "source": [
        "fig = px.histogram(producao_2, x = 'Ano', y = 'Produçao', title='Produção dos items da cesta ao longo dos anos ', color = 'Item',  labels = {'value': 'Produção (Toneladas)', 'variable' : 'Culturas'}, nbins =150)\n",
        "fig.update_layout(template = 'plotly_white')\n",
        "fig.update_traces(texttemplate = '%{y:.2s}', textposition = 'outside')\n"
      ]
    },
    {
      "cell_type": "code",
      "execution_count": 98,
      "metadata": {},
      "outputs": [],
      "source": [
        "import plotly.figure_factory as ff"
      ]
    },
    {
      "cell_type": "code",
      "execution_count": null,
      "metadata": {},
      "outputs": [],
      "source": []
    },
    {
      "cell_type": "markdown",
      "metadata": {},
      "source": [
        "#### Exploração inicial da POF\n",
        "\n",
        "<a href=\"https://sidra.ibge.gov.br/tabela/8157/\">Tabela 8157 - Aquisição alimentar domiciliar per capita anual por classes de rendimento total variação patrimonial mensal familiar e grupos, subgrupos e produtos</a>"
      ]
    },
    {
      "cell_type": "code",
      "execution_count": 99,
      "metadata": {},
      "outputs": [],
      "source": [
        "consumo = pd.read_excel('C:\\dcc-fellowship-ciencia-de-dados\\pof_rendimento_regiao_2.xlsx')"
      ]
    },
    {
      "cell_type": "markdown",
      "metadata": {},
      "source": [
        "   #### Verificando o shape do dataframe "
      ]
    },
    {
      "cell_type": "code",
      "execution_count": 100,
      "metadata": {},
      "outputs": [
        {
          "data": {
            "text/plain": [
              "(60, 9)"
            ]
          },
          "execution_count": 100,
          "metadata": {},
          "output_type": "execute_result"
        }
      ],
      "source": [
        "consumo.shape"
      ]
    },
    {
      "cell_type": "markdown",
      "metadata": {},
      "source": [
        "#### Legendas das classes de rendimento:\n",
        "* Até 1.908 Reais: F\n",
        "* Mais de 1.908 a 2.862 Reais: E\n",
        "* Mais de 2.862 a 5.724 Reais: D\n",
        "* Mais de 5.724 a 9.540 Reais: C\n",
        "* Mais de 9.540 a 14.310 Reais: B\n",
        "* Mais de 14.310 Reais: A"
      ]
    },
    {
      "cell_type": "code",
      "execution_count": 101,
      "metadata": {},
      "outputs": [
        {
          "data": {
            "text/html": [
              "<div>\n",
              "<style scoped>\n",
              "    .dataframe tbody tr th:only-of-type {\n",
              "        vertical-align: middle;\n",
              "    }\n",
              "\n",
              "    .dataframe tbody tr th {\n",
              "        vertical-align: top;\n",
              "    }\n",
              "\n",
              "    .dataframe thead th {\n",
              "        text-align: right;\n",
              "    }\n",
              "</style>\n",
              "<table border=\"1\" class=\"dataframe\">\n",
              "  <thead>\n",
              "    <tr style=\"text-align: right;\">\n",
              "      <th></th>\n",
              "      <th>Items</th>\n",
              "      <th>Região</th>\n",
              "      <th>Total</th>\n",
              "      <th>Classe F</th>\n",
              "      <th>Classe E</th>\n",
              "      <th>Classe D</th>\n",
              "      <th>Classe C</th>\n",
              "      <th>Classe B</th>\n",
              "      <th>Classe A</th>\n",
              "    </tr>\n",
              "  </thead>\n",
              "  <tbody>\n",
              "    <tr>\n",
              "      <th>0</th>\n",
              "      <td>Arroz polido</td>\n",
              "      <td>Brasil</td>\n",
              "      <td>18.22</td>\n",
              "      <td>20.48</td>\n",
              "      <td>20.28</td>\n",
              "      <td>18.80</td>\n",
              "      <td>14.86</td>\n",
              "      <td>15.57</td>\n",
              "      <td>12.40</td>\n",
              "    </tr>\n",
              "    <tr>\n",
              "      <th>1</th>\n",
              "      <td>Arroz polido</td>\n",
              "      <td>Norte</td>\n",
              "      <td>17.94</td>\n",
              "      <td>17.84</td>\n",
              "      <td>19.64</td>\n",
              "      <td>16.94</td>\n",
              "      <td>18.65</td>\n",
              "      <td>16.49</td>\n",
              "      <td>15.87</td>\n",
              "    </tr>\n",
              "    <tr>\n",
              "      <th>2</th>\n",
              "      <td>Arroz polido</td>\n",
              "      <td>Nordeste</td>\n",
              "      <td>20.33</td>\n",
              "      <td>22.35</td>\n",
              "      <td>22.21</td>\n",
              "      <td>19.58</td>\n",
              "      <td>14.12</td>\n",
              "      <td>15.28</td>\n",
              "      <td>10.86</td>\n",
              "    </tr>\n",
              "    <tr>\n",
              "      <th>3</th>\n",
              "      <td>Arroz polido</td>\n",
              "      <td>Sudeste</td>\n",
              "      <td>17.05</td>\n",
              "      <td>18.96</td>\n",
              "      <td>16.81</td>\n",
              "      <td>18.67</td>\n",
              "      <td>14.60</td>\n",
              "      <td>16.76</td>\n",
              "      <td>13.00</td>\n",
              "    </tr>\n",
              "    <tr>\n",
              "      <th>4</th>\n",
              "      <td>Arroz polido</td>\n",
              "      <td>Sul</td>\n",
              "      <td>14.70</td>\n",
              "      <td>15.58</td>\n",
              "      <td>19.33</td>\n",
              "      <td>15.77</td>\n",
              "      <td>12.16</td>\n",
              "      <td>11.29</td>\n",
              "      <td>10.46</td>\n",
              "    </tr>\n",
              "    <tr>\n",
              "      <th>5</th>\n",
              "      <td>Arroz polido</td>\n",
              "      <td>Centro-Oeste</td>\n",
              "      <td>24.07</td>\n",
              "      <td>27.03</td>\n",
              "      <td>32.29</td>\n",
              "      <td>24.80</td>\n",
              "      <td>21.73</td>\n",
              "      <td>18.18</td>\n",
              "      <td>12.88</td>\n",
              "    </tr>\n",
              "    <tr>\n",
              "      <th>6</th>\n",
              "      <td>Feijão-mulatinho</td>\n",
              "      <td>Brasil</td>\n",
              "      <td>0.69</td>\n",
              "      <td>0.89</td>\n",
              "      <td>0.88</td>\n",
              "      <td>0.68</td>\n",
              "      <td>0.46</td>\n",
              "      <td>0.33</td>\n",
              "      <td>0.44</td>\n",
              "    </tr>\n",
              "    <tr>\n",
              "      <th>7</th>\n",
              "      <td>Feijão-mulatinho</td>\n",
              "      <td>Norte</td>\n",
              "      <td>0.48</td>\n",
              "      <td>0.54</td>\n",
              "      <td>0.56</td>\n",
              "      <td>0.52</td>\n",
              "      <td>0.24</td>\n",
              "      <td>0.06</td>\n",
              "      <td>0.23</td>\n",
              "    </tr>\n",
              "    <tr>\n",
              "      <th>8</th>\n",
              "      <td>Feijão-mulatinho</td>\n",
              "      <td>Nordeste</td>\n",
              "      <td>1.47</td>\n",
              "      <td>1.42</td>\n",
              "      <td>1.69</td>\n",
              "      <td>1.42</td>\n",
              "      <td>1.80</td>\n",
              "      <td>0.85</td>\n",
              "      <td>0.74</td>\n",
              "    </tr>\n",
              "    <tr>\n",
              "      <th>9</th>\n",
              "      <td>Feijão-mulatinho</td>\n",
              "      <td>Sudeste</td>\n",
              "      <td>0.37</td>\n",
              "      <td>0.35</td>\n",
              "      <td>0.33</td>\n",
              "      <td>0.45</td>\n",
              "      <td>0.19</td>\n",
              "      <td>0.30</td>\n",
              "      <td>0.58</td>\n",
              "    </tr>\n",
              "  </tbody>\n",
              "</table>\n",
              "</div>"
            ],
            "text/plain": [
              "              Items        Região  Total  Classe F  Classe E  Classe D  \\\n",
              "0      Arroz polido        Brasil  18.22     20.48     20.28     18.80   \n",
              "1      Arroz polido         Norte  17.94     17.84     19.64     16.94   \n",
              "2      Arroz polido      Nordeste  20.33     22.35     22.21     19.58   \n",
              "3      Arroz polido       Sudeste  17.05     18.96     16.81     18.67   \n",
              "4      Arroz polido           Sul  14.70     15.58     19.33     15.77   \n",
              "5      Arroz polido  Centro-Oeste  24.07     27.03     32.29     24.80   \n",
              "6  Feijão-mulatinho        Brasil   0.69      0.89      0.88      0.68   \n",
              "7  Feijão-mulatinho         Norte   0.48      0.54      0.56      0.52   \n",
              "8  Feijão-mulatinho      Nordeste   1.47      1.42      1.69      1.42   \n",
              "9  Feijão-mulatinho       Sudeste   0.37      0.35      0.33      0.45   \n",
              "\n",
              "   Classe C  Classe B  Classe A  \n",
              "0     14.86     15.57     12.40  \n",
              "1     18.65     16.49     15.87  \n",
              "2     14.12     15.28     10.86  \n",
              "3     14.60     16.76     13.00  \n",
              "4     12.16     11.29     10.46  \n",
              "5     21.73     18.18     12.88  \n",
              "6      0.46      0.33      0.44  \n",
              "7      0.24      0.06      0.23  \n",
              "8      1.80      0.85      0.74  \n",
              "9      0.19      0.30      0.58  "
            ]
          },
          "execution_count": 101,
          "metadata": {},
          "output_type": "execute_result"
        }
      ],
      "source": [
        "consumo.head(10)"
      ]
    },
    {
      "cell_type": "markdown",
      "metadata": {},
      "source": [
        "#### Items da cesta básica"
      ]
    },
    {
      "cell_type": "code",
      "execution_count": 102,
      "metadata": {},
      "outputs": [
        {
          "name": "stdout",
          "output_type": "stream",
          "text": [
            " Arroz polido\n",
            "Feijão-mulatinho\n",
            "Feijão-preto\n",
            "Farinha de mandioca\n",
            "Farinha de trigo\n",
            "Fubá de milho\n",
            "Açúcar cristal\n",
            "Molho de tomate\n",
            "Óleo de soja\n",
            "Café moído\n"
          ]
        }
      ],
      "source": [
        "for i in list(consumo['Items'].unique()):\n",
        "    print(i)"
      ]
    },
    {
      "cell_type": "markdown",
      "metadata": {},
      "source": [
        "#### Agrupamento por items e região com relação ao total e as classes"
      ]
    },
    {
      "cell_type": "code",
      "execution_count": 103,
      "metadata": {},
      "outputs": [],
      "source": [
        "consumo_agrupado = consumo.groupby(['Items', 'Região']).mean()"
      ]
    },
    {
      "cell_type": "code",
      "execution_count": 104,
      "metadata": {},
      "outputs": [
        {
          "data": {
            "text/html": [
              "<div>\n",
              "<style scoped>\n",
              "    .dataframe tbody tr th:only-of-type {\n",
              "        vertical-align: middle;\n",
              "    }\n",
              "\n",
              "    .dataframe tbody tr th {\n",
              "        vertical-align: top;\n",
              "    }\n",
              "\n",
              "    .dataframe thead th {\n",
              "        text-align: right;\n",
              "    }\n",
              "</style>\n",
              "<table border=\"1\" class=\"dataframe\">\n",
              "  <thead>\n",
              "    <tr style=\"text-align: right;\">\n",
              "      <th></th>\n",
              "      <th></th>\n",
              "      <th>Total</th>\n",
              "      <th>Classe F</th>\n",
              "      <th>Classe E</th>\n",
              "      <th>Classe D</th>\n",
              "      <th>Classe C</th>\n",
              "      <th>Classe B</th>\n",
              "      <th>Classe A</th>\n",
              "    </tr>\n",
              "    <tr>\n",
              "      <th>Items</th>\n",
              "      <th>Região</th>\n",
              "      <th></th>\n",
              "      <th></th>\n",
              "      <th></th>\n",
              "      <th></th>\n",
              "      <th></th>\n",
              "      <th></th>\n",
              "      <th></th>\n",
              "    </tr>\n",
              "  </thead>\n",
              "  <tbody>\n",
              "    <tr>\n",
              "      <th rowspan=\"6\" valign=\"top\">Arroz polido</th>\n",
              "      <th>Brasil</th>\n",
              "      <td>18.22</td>\n",
              "      <td>20.48</td>\n",
              "      <td>20.28</td>\n",
              "      <td>18.80</td>\n",
              "      <td>14.86</td>\n",
              "      <td>15.57</td>\n",
              "      <td>12.40</td>\n",
              "    </tr>\n",
              "    <tr>\n",
              "      <th>Centro-Oeste</th>\n",
              "      <td>24.07</td>\n",
              "      <td>27.03</td>\n",
              "      <td>32.29</td>\n",
              "      <td>24.80</td>\n",
              "      <td>21.73</td>\n",
              "      <td>18.18</td>\n",
              "      <td>12.88</td>\n",
              "    </tr>\n",
              "    <tr>\n",
              "      <th>Nordeste</th>\n",
              "      <td>20.33</td>\n",
              "      <td>22.35</td>\n",
              "      <td>22.21</td>\n",
              "      <td>19.58</td>\n",
              "      <td>14.12</td>\n",
              "      <td>15.28</td>\n",
              "      <td>10.86</td>\n",
              "    </tr>\n",
              "    <tr>\n",
              "      <th>Norte</th>\n",
              "      <td>17.94</td>\n",
              "      <td>17.84</td>\n",
              "      <td>19.64</td>\n",
              "      <td>16.94</td>\n",
              "      <td>18.65</td>\n",
              "      <td>16.49</td>\n",
              "      <td>15.87</td>\n",
              "    </tr>\n",
              "    <tr>\n",
              "      <th>Sudeste</th>\n",
              "      <td>17.05</td>\n",
              "      <td>18.96</td>\n",
              "      <td>16.81</td>\n",
              "      <td>18.67</td>\n",
              "      <td>14.60</td>\n",
              "      <td>16.76</td>\n",
              "      <td>13.00</td>\n",
              "    </tr>\n",
              "    <tr>\n",
              "      <th>Sul</th>\n",
              "      <td>14.70</td>\n",
              "      <td>15.58</td>\n",
              "      <td>19.33</td>\n",
              "      <td>15.77</td>\n",
              "      <td>12.16</td>\n",
              "      <td>11.29</td>\n",
              "      <td>10.46</td>\n",
              "    </tr>\n",
              "    <tr>\n",
              "      <th rowspan=\"6\" valign=\"top\">Açúcar cristal</th>\n",
              "      <th>Brasil</th>\n",
              "      <td>6.05</td>\n",
              "      <td>6.27</td>\n",
              "      <td>6.68</td>\n",
              "      <td>6.64</td>\n",
              "      <td>5.62</td>\n",
              "      <td>4.15</td>\n",
              "      <td>3.49</td>\n",
              "    </tr>\n",
              "    <tr>\n",
              "      <th>Centro-Oeste</th>\n",
              "      <td>7.89</td>\n",
              "      <td>9.15</td>\n",
              "      <td>9.35</td>\n",
              "      <td>7.30</td>\n",
              "      <td>8.22</td>\n",
              "      <td>5.85</td>\n",
              "      <td>6.77</td>\n",
              "    </tr>\n",
              "    <tr>\n",
              "      <th>Nordeste</th>\n",
              "      <td>7.13</td>\n",
              "      <td>6.60</td>\n",
              "      <td>7.36</td>\n",
              "      <td>8.18</td>\n",
              "      <td>7.04</td>\n",
              "      <td>5.20</td>\n",
              "      <td>5.23</td>\n",
              "    </tr>\n",
              "    <tr>\n",
              "      <th>Norte</th>\n",
              "      <td>5.81</td>\n",
              "      <td>5.14</td>\n",
              "      <td>5.96</td>\n",
              "      <td>5.66</td>\n",
              "      <td>7.97</td>\n",
              "      <td>5.92</td>\n",
              "      <td>7.44</td>\n",
              "    </tr>\n",
              "    <tr>\n",
              "      <th>Sudeste</th>\n",
              "      <td>5.49</td>\n",
              "      <td>5.80</td>\n",
              "      <td>5.91</td>\n",
              "      <td>6.44</td>\n",
              "      <td>5.41</td>\n",
              "      <td>3.50</td>\n",
              "      <td>2.21</td>\n",
              "    </tr>\n",
              "    <tr>\n",
              "      <th>Sul</th>\n",
              "      <td>4.78</td>\n",
              "      <td>6.19</td>\n",
              "      <td>6.30</td>\n",
              "      <td>5.11</td>\n",
              "      <td>3.37</td>\n",
              "      <td>4.03</td>\n",
              "      <td>2.82</td>\n",
              "    </tr>\n",
              "    <tr>\n",
              "      <th rowspan=\"6\" valign=\"top\">Café moído</th>\n",
              "      <th>Brasil</th>\n",
              "      <td>2.38</td>\n",
              "      <td>2.22</td>\n",
              "      <td>2.37</td>\n",
              "      <td>2.40</td>\n",
              "      <td>2.35</td>\n",
              "      <td>2.52</td>\n",
              "      <td>2.83</td>\n",
              "    </tr>\n",
              "    <tr>\n",
              "      <th>Centro-Oeste</th>\n",
              "      <td>2.28</td>\n",
              "      <td>2.05</td>\n",
              "      <td>2.59</td>\n",
              "      <td>2.10</td>\n",
              "      <td>2.56</td>\n",
              "      <td>1.96</td>\n",
              "      <td>2.44</td>\n",
              "    </tr>\n",
              "    <tr>\n",
              "      <th>Nordeste</th>\n",
              "      <td>2.34</td>\n",
              "      <td>2.31</td>\n",
              "      <td>2.51</td>\n",
              "      <td>2.29</td>\n",
              "      <td>2.18</td>\n",
              "      <td>2.05</td>\n",
              "      <td>2.65</td>\n",
              "    </tr>\n",
              "    <tr>\n",
              "      <th>Norte</th>\n",
              "      <td>2.05</td>\n",
              "      <td>2.00</td>\n",
              "      <td>2.11</td>\n",
              "      <td>2.05</td>\n",
              "      <td>2.17</td>\n",
              "      <td>2.15</td>\n",
              "      <td>1.71</td>\n",
              "    </tr>\n",
              "    <tr>\n",
              "      <th>Sudeste</th>\n",
              "      <td>2.53</td>\n",
              "      <td>2.17</td>\n",
              "      <td>2.23</td>\n",
              "      <td>2.63</td>\n",
              "      <td>2.50</td>\n",
              "      <td>2.77</td>\n",
              "      <td>3.14</td>\n",
              "    </tr>\n",
              "    <tr>\n",
              "      <th>Sul</th>\n",
              "      <td>2.30</td>\n",
              "      <td>2.31</td>\n",
              "      <td>2.52</td>\n",
              "      <td>2.25</td>\n",
              "      <td>2.07</td>\n",
              "      <td>2.49</td>\n",
              "      <td>2.54</td>\n",
              "    </tr>\n",
              "    <tr>\n",
              "      <th rowspan=\"2\" valign=\"top\">Farinha de mandioca</th>\n",
              "      <th>Brasil</th>\n",
              "      <td>2.33</td>\n",
              "      <td>3.83</td>\n",
              "      <td>3.09</td>\n",
              "      <td>1.86</td>\n",
              "      <td>1.39</td>\n",
              "      <td>0.99</td>\n",
              "      <td>1.02</td>\n",
              "    </tr>\n",
              "    <tr>\n",
              "      <th>Centro-Oeste</th>\n",
              "      <td>0.59</td>\n",
              "      <td>0.58</td>\n",
              "      <td>0.61</td>\n",
              "      <td>0.53</td>\n",
              "      <td>0.64</td>\n",
              "      <td>0.65</td>\n",
              "      <td>0.71</td>\n",
              "    </tr>\n",
              "  </tbody>\n",
              "</table>\n",
              "</div>"
            ],
            "text/plain": [
              "                                  Total  Classe F  Classe E  Classe D  \\\n",
              "Items               Região                                              \n",
              " Arroz polido       Brasil        18.22     20.48     20.28     18.80   \n",
              "                    Centro-Oeste  24.07     27.03     32.29     24.80   \n",
              "                    Nordeste      20.33     22.35     22.21     19.58   \n",
              "                    Norte         17.94     17.84     19.64     16.94   \n",
              "                    Sudeste       17.05     18.96     16.81     18.67   \n",
              "                    Sul           14.70     15.58     19.33     15.77   \n",
              "Açúcar cristal      Brasil         6.05      6.27      6.68      6.64   \n",
              "                    Centro-Oeste   7.89      9.15      9.35      7.30   \n",
              "                    Nordeste       7.13      6.60      7.36      8.18   \n",
              "                    Norte          5.81      5.14      5.96      5.66   \n",
              "                    Sudeste        5.49      5.80      5.91      6.44   \n",
              "                    Sul            4.78      6.19      6.30      5.11   \n",
              "Café moído          Brasil         2.38      2.22      2.37      2.40   \n",
              "                    Centro-Oeste   2.28      2.05      2.59      2.10   \n",
              "                    Nordeste       2.34      2.31      2.51      2.29   \n",
              "                    Norte          2.05      2.00      2.11      2.05   \n",
              "                    Sudeste        2.53      2.17      2.23      2.63   \n",
              "                    Sul            2.30      2.31      2.52      2.25   \n",
              "Farinha de mandioca Brasil         2.33      3.83      3.09      1.86   \n",
              "                    Centro-Oeste   0.59      0.58      0.61      0.53   \n",
              "\n",
              "                                  Classe C  Classe B  Classe A  \n",
              "Items               Região                                      \n",
              " Arroz polido       Brasil           14.86     15.57     12.40  \n",
              "                    Centro-Oeste     21.73     18.18     12.88  \n",
              "                    Nordeste         14.12     15.28     10.86  \n",
              "                    Norte            18.65     16.49     15.87  \n",
              "                    Sudeste          14.60     16.76     13.00  \n",
              "                    Sul              12.16     11.29     10.46  \n",
              "Açúcar cristal      Brasil            5.62      4.15      3.49  \n",
              "                    Centro-Oeste      8.22      5.85      6.77  \n",
              "                    Nordeste          7.04      5.20      5.23  \n",
              "                    Norte             7.97      5.92      7.44  \n",
              "                    Sudeste           5.41      3.50      2.21  \n",
              "                    Sul               3.37      4.03      2.82  \n",
              "Café moído          Brasil            2.35      2.52      2.83  \n",
              "                    Centro-Oeste      2.56      1.96      2.44  \n",
              "                    Nordeste          2.18      2.05      2.65  \n",
              "                    Norte             2.17      2.15      1.71  \n",
              "                    Sudeste           2.50      2.77      3.14  \n",
              "                    Sul               2.07      2.49      2.54  \n",
              "Farinha de mandioca Brasil            1.39      0.99      1.02  \n",
              "                    Centro-Oeste      0.64      0.65      0.71  "
            ]
          },
          "execution_count": 104,
          "metadata": {},
          "output_type": "execute_result"
        }
      ],
      "source": [
        "consumo_agrupado.head(20)"
      ]
    },
    {
      "cell_type": "markdown",
      "metadata": {},
      "source": [
        "#### Análise de valores nulos\n"
      ]
    },
    {
      "cell_type": "code",
      "execution_count": 105,
      "metadata": {},
      "outputs": [
        {
          "data": {
            "text/plain": [
              "Items       0\n",
              "Região      0\n",
              "Total       0\n",
              "Classe F    0\n",
              "Classe E    0\n",
              "Classe D    0\n",
              "Classe C    0\n",
              "Classe B    0\n",
              "Classe A    0\n",
              "dtype: int64"
            ]
          },
          "execution_count": 105,
          "metadata": {},
          "output_type": "execute_result"
        }
      ],
      "source": [
        "consumo.isnull().sum()"
      ]
    },
    {
      "cell_type": "markdown",
      "metadata": {},
      "source": [
        "### Centralidade, dispersão e boxplot \n"
      ]
    },
    {
      "cell_type": "code",
      "execution_count": 106,
      "metadata": {},
      "outputs": [
        {
          "data": {
            "text/html": [
              "<div>\n",
              "<style scoped>\n",
              "    .dataframe tbody tr th:only-of-type {\n",
              "        vertical-align: middle;\n",
              "    }\n",
              "\n",
              "    .dataframe tbody tr th {\n",
              "        vertical-align: top;\n",
              "    }\n",
              "\n",
              "    .dataframe thead th {\n",
              "        text-align: right;\n",
              "    }\n",
              "</style>\n",
              "<table border=\"1\" class=\"dataframe\">\n",
              "  <thead>\n",
              "    <tr style=\"text-align: right;\">\n",
              "      <th></th>\n",
              "      <th>Total</th>\n",
              "      <th>Classe F</th>\n",
              "      <th>Classe E</th>\n",
              "      <th>Classe D</th>\n",
              "      <th>Classe C</th>\n",
              "      <th>Classe B</th>\n",
              "      <th>Classe A</th>\n",
              "    </tr>\n",
              "  </thead>\n",
              "  <tbody>\n",
              "    <tr>\n",
              "      <th>count</th>\n",
              "      <td>60.000000</td>\n",
              "      <td>60.000000</td>\n",
              "      <td>60.000000</td>\n",
              "      <td>60.000000</td>\n",
              "      <td>60.000000</td>\n",
              "      <td>60.000000</td>\n",
              "      <td>60.000000</td>\n",
              "    </tr>\n",
              "    <tr>\n",
              "      <th>mean</th>\n",
              "      <td>4.141833</td>\n",
              "      <td>4.357167</td>\n",
              "      <td>4.615500</td>\n",
              "      <td>4.245167</td>\n",
              "      <td>3.810167</td>\n",
              "      <td>3.487500</td>\n",
              "      <td>3.120667</td>\n",
              "    </tr>\n",
              "    <tr>\n",
              "      <th>std</th>\n",
              "      <td>5.472537</td>\n",
              "      <td>6.013702</td>\n",
              "      <td>6.489149</td>\n",
              "      <td>5.577094</td>\n",
              "      <td>4.806215</td>\n",
              "      <td>4.487416</td>\n",
              "      <td>3.621941</td>\n",
              "    </tr>\n",
              "    <tr>\n",
              "      <th>min</th>\n",
              "      <td>0.290000</td>\n",
              "      <td>0.170000</td>\n",
              "      <td>0.180000</td>\n",
              "      <td>0.290000</td>\n",
              "      <td>0.120000</td>\n",
              "      <td>0.060000</td>\n",
              "      <td>0.080000</td>\n",
              "    </tr>\n",
              "    <tr>\n",
              "      <th>25%</th>\n",
              "      <td>0.802500</td>\n",
              "      <td>0.657500</td>\n",
              "      <td>0.845000</td>\n",
              "      <td>0.830000</td>\n",
              "      <td>0.790000</td>\n",
              "      <td>0.822500</td>\n",
              "      <td>0.737500</td>\n",
              "    </tr>\n",
              "    <tr>\n",
              "      <th>50%</th>\n",
              "      <td>2.140000</td>\n",
              "      <td>2.025000</td>\n",
              "      <td>2.005000</td>\n",
              "      <td>1.965000</td>\n",
              "      <td>1.780000</td>\n",
              "      <td>1.920000</td>\n",
              "      <td>1.825000</td>\n",
              "    </tr>\n",
              "    <tr>\n",
              "      <th>75%</th>\n",
              "      <td>5.002500</td>\n",
              "      <td>5.215000</td>\n",
              "      <td>5.677500</td>\n",
              "      <td>5.432500</td>\n",
              "      <td>4.855000</td>\n",
              "      <td>4.060000</td>\n",
              "      <td>3.392500</td>\n",
              "    </tr>\n",
              "    <tr>\n",
              "      <th>max</th>\n",
              "      <td>24.070000</td>\n",
              "      <td>27.030000</td>\n",
              "      <td>32.290000</td>\n",
              "      <td>24.800000</td>\n",
              "      <td>21.730000</td>\n",
              "      <td>18.180000</td>\n",
              "      <td>15.870000</td>\n",
              "    </tr>\n",
              "  </tbody>\n",
              "</table>\n",
              "</div>"
            ],
            "text/plain": [
              "           Total   Classe F   Classe E   Classe D   Classe C   Classe B  \\\n",
              "count  60.000000  60.000000  60.000000  60.000000  60.000000  60.000000   \n",
              "mean    4.141833   4.357167   4.615500   4.245167   3.810167   3.487500   \n",
              "std     5.472537   6.013702   6.489149   5.577094   4.806215   4.487416   \n",
              "min     0.290000   0.170000   0.180000   0.290000   0.120000   0.060000   \n",
              "25%     0.802500   0.657500   0.845000   0.830000   0.790000   0.822500   \n",
              "50%     2.140000   2.025000   2.005000   1.965000   1.780000   1.920000   \n",
              "75%     5.002500   5.215000   5.677500   5.432500   4.855000   4.060000   \n",
              "max    24.070000  27.030000  32.290000  24.800000  21.730000  18.180000   \n",
              "\n",
              "        Classe A  \n",
              "count  60.000000  \n",
              "mean    3.120667  \n",
              "std     3.621941  \n",
              "min     0.080000  \n",
              "25%     0.737500  \n",
              "50%     1.825000  \n",
              "75%     3.392500  \n",
              "max    15.870000  "
            ]
          },
          "execution_count": 106,
          "metadata": {},
          "output_type": "execute_result"
        }
      ],
      "source": [
        "consumo.describe()"
      ]
    },
    {
      "cell_type": "markdown",
      "metadata": {},
      "source": [
        "#### Separando o dataframe por região\n"
      ]
    },
    {
      "cell_type": "code",
      "execution_count": 107,
      "metadata": {},
      "outputs": [],
      "source": [
        "consumo_nordeste = consumo.query(\"Região == 'Nordeste'\")\n",
        "consumo_centro_oeste = consumo.query(\"Região == 'Centro-Oeste'\")\n",
        "consumo_norte = consumo.query(\"Região == 'Norte'\")\n",
        "consumo_sul = consumo.query(\"Região == 'Sul'\")\n",
        "consumo_sudeste = consumo.query(\"Região == 'Sudeste'\")\n",
        "consumo_brasil = consumo.query(\"Região == 'Brasil'\")"
      ]
    },
    {
      "cell_type": "markdown",
      "metadata": {},
      "source": [
        "* Boxplots por região"
      ]
    },
    {
      "cell_type": "code",
      "execution_count": 108,
      "metadata": {},
      "outputs": [
        {
          "data": {
            "application/vnd.plotly.v1+json": {
              "config": {
                "plotlyServerURL": "https://plot.ly"
              },
              "data": [
                {
                  "alignmentgroup": "True",
                  "hovertemplate": "Total=%{x}<br>Items=%{y}<extra></extra>",
                  "legendgroup": "",
                  "marker": {
                    "color": "#636efa"
                  },
                  "name": "",
                  "notched": false,
                  "offsetgroup": "",
                  "orientation": "h",
                  "showlegend": false,
                  "type": "box",
                  "x": [
                    20.33,
                    1.47,
                    0.58,
                    3.87,
                    0.81,
                    2.54,
                    7.13,
                    0.46,
                    3.47,
                    2.34
                  ],
                  "x0": " ",
                  "xaxis": "x",
                  "y": [
                    " Arroz polido",
                    "Feijão-mulatinho",
                    "Feijão-preto",
                    "Farinha de mandioca",
                    "Farinha de trigo",
                    "Fubá de milho",
                    "Açúcar cristal",
                    "Molho de tomate",
                    "Óleo de soja",
                    "Café moído"
                  ],
                  "y0": " ",
                  "yaxis": "y"
                }
              ],
              "layout": {
                "boxmode": "group",
                "legend": {
                  "tracegroupgap": 0
                },
                "margin": {
                  "t": 60
                },
                "template": {
                  "data": {
                    "bar": [
                      {
                        "error_x": {
                          "color": "#2a3f5f"
                        },
                        "error_y": {
                          "color": "#2a3f5f"
                        },
                        "marker": {
                          "line": {
                            "color": "#E5ECF6",
                            "width": 0.5
                          },
                          "pattern": {
                            "fillmode": "overlay",
                            "size": 10,
                            "solidity": 0.2
                          }
                        },
                        "type": "bar"
                      }
                    ],
                    "barpolar": [
                      {
                        "marker": {
                          "line": {
                            "color": "#E5ECF6",
                            "width": 0.5
                          },
                          "pattern": {
                            "fillmode": "overlay",
                            "size": 10,
                            "solidity": 0.2
                          }
                        },
                        "type": "barpolar"
                      }
                    ],
                    "carpet": [
                      {
                        "aaxis": {
                          "endlinecolor": "#2a3f5f",
                          "gridcolor": "white",
                          "linecolor": "white",
                          "minorgridcolor": "white",
                          "startlinecolor": "#2a3f5f"
                        },
                        "baxis": {
                          "endlinecolor": "#2a3f5f",
                          "gridcolor": "white",
                          "linecolor": "white",
                          "minorgridcolor": "white",
                          "startlinecolor": "#2a3f5f"
                        },
                        "type": "carpet"
                      }
                    ],
                    "choropleth": [
                      {
                        "colorbar": {
                          "outlinewidth": 0,
                          "ticks": ""
                        },
                        "type": "choropleth"
                      }
                    ],
                    "contour": [
                      {
                        "colorbar": {
                          "outlinewidth": 0,
                          "ticks": ""
                        },
                        "colorscale": [
                          [
                            0,
                            "#0d0887"
                          ],
                          [
                            0.1111111111111111,
                            "#46039f"
                          ],
                          [
                            0.2222222222222222,
                            "#7201a8"
                          ],
                          [
                            0.3333333333333333,
                            "#9c179e"
                          ],
                          [
                            0.4444444444444444,
                            "#bd3786"
                          ],
                          [
                            0.5555555555555556,
                            "#d8576b"
                          ],
                          [
                            0.6666666666666666,
                            "#ed7953"
                          ],
                          [
                            0.7777777777777778,
                            "#fb9f3a"
                          ],
                          [
                            0.8888888888888888,
                            "#fdca26"
                          ],
                          [
                            1,
                            "#f0f921"
                          ]
                        ],
                        "type": "contour"
                      }
                    ],
                    "contourcarpet": [
                      {
                        "colorbar": {
                          "outlinewidth": 0,
                          "ticks": ""
                        },
                        "type": "contourcarpet"
                      }
                    ],
                    "heatmap": [
                      {
                        "colorbar": {
                          "outlinewidth": 0,
                          "ticks": ""
                        },
                        "colorscale": [
                          [
                            0,
                            "#0d0887"
                          ],
                          [
                            0.1111111111111111,
                            "#46039f"
                          ],
                          [
                            0.2222222222222222,
                            "#7201a8"
                          ],
                          [
                            0.3333333333333333,
                            "#9c179e"
                          ],
                          [
                            0.4444444444444444,
                            "#bd3786"
                          ],
                          [
                            0.5555555555555556,
                            "#d8576b"
                          ],
                          [
                            0.6666666666666666,
                            "#ed7953"
                          ],
                          [
                            0.7777777777777778,
                            "#fb9f3a"
                          ],
                          [
                            0.8888888888888888,
                            "#fdca26"
                          ],
                          [
                            1,
                            "#f0f921"
                          ]
                        ],
                        "type": "heatmap"
                      }
                    ],
                    "heatmapgl": [
                      {
                        "colorbar": {
                          "outlinewidth": 0,
                          "ticks": ""
                        },
                        "colorscale": [
                          [
                            0,
                            "#0d0887"
                          ],
                          [
                            0.1111111111111111,
                            "#46039f"
                          ],
                          [
                            0.2222222222222222,
                            "#7201a8"
                          ],
                          [
                            0.3333333333333333,
                            "#9c179e"
                          ],
                          [
                            0.4444444444444444,
                            "#bd3786"
                          ],
                          [
                            0.5555555555555556,
                            "#d8576b"
                          ],
                          [
                            0.6666666666666666,
                            "#ed7953"
                          ],
                          [
                            0.7777777777777778,
                            "#fb9f3a"
                          ],
                          [
                            0.8888888888888888,
                            "#fdca26"
                          ],
                          [
                            1,
                            "#f0f921"
                          ]
                        ],
                        "type": "heatmapgl"
                      }
                    ],
                    "histogram": [
                      {
                        "marker": {
                          "pattern": {
                            "fillmode": "overlay",
                            "size": 10,
                            "solidity": 0.2
                          }
                        },
                        "type": "histogram"
                      }
                    ],
                    "histogram2d": [
                      {
                        "colorbar": {
                          "outlinewidth": 0,
                          "ticks": ""
                        },
                        "colorscale": [
                          [
                            0,
                            "#0d0887"
                          ],
                          [
                            0.1111111111111111,
                            "#46039f"
                          ],
                          [
                            0.2222222222222222,
                            "#7201a8"
                          ],
                          [
                            0.3333333333333333,
                            "#9c179e"
                          ],
                          [
                            0.4444444444444444,
                            "#bd3786"
                          ],
                          [
                            0.5555555555555556,
                            "#d8576b"
                          ],
                          [
                            0.6666666666666666,
                            "#ed7953"
                          ],
                          [
                            0.7777777777777778,
                            "#fb9f3a"
                          ],
                          [
                            0.8888888888888888,
                            "#fdca26"
                          ],
                          [
                            1,
                            "#f0f921"
                          ]
                        ],
                        "type": "histogram2d"
                      }
                    ],
                    "histogram2dcontour": [
                      {
                        "colorbar": {
                          "outlinewidth": 0,
                          "ticks": ""
                        },
                        "colorscale": [
                          [
                            0,
                            "#0d0887"
                          ],
                          [
                            0.1111111111111111,
                            "#46039f"
                          ],
                          [
                            0.2222222222222222,
                            "#7201a8"
                          ],
                          [
                            0.3333333333333333,
                            "#9c179e"
                          ],
                          [
                            0.4444444444444444,
                            "#bd3786"
                          ],
                          [
                            0.5555555555555556,
                            "#d8576b"
                          ],
                          [
                            0.6666666666666666,
                            "#ed7953"
                          ],
                          [
                            0.7777777777777778,
                            "#fb9f3a"
                          ],
                          [
                            0.8888888888888888,
                            "#fdca26"
                          ],
                          [
                            1,
                            "#f0f921"
                          ]
                        ],
                        "type": "histogram2dcontour"
                      }
                    ],
                    "mesh3d": [
                      {
                        "colorbar": {
                          "outlinewidth": 0,
                          "ticks": ""
                        },
                        "type": "mesh3d"
                      }
                    ],
                    "parcoords": [
                      {
                        "line": {
                          "colorbar": {
                            "outlinewidth": 0,
                            "ticks": ""
                          }
                        },
                        "type": "parcoords"
                      }
                    ],
                    "pie": [
                      {
                        "automargin": true,
                        "type": "pie"
                      }
                    ],
                    "scatter": [
                      {
                        "marker": {
                          "colorbar": {
                            "outlinewidth": 0,
                            "ticks": ""
                          }
                        },
                        "type": "scatter"
                      }
                    ],
                    "scatter3d": [
                      {
                        "line": {
                          "colorbar": {
                            "outlinewidth": 0,
                            "ticks": ""
                          }
                        },
                        "marker": {
                          "colorbar": {
                            "outlinewidth": 0,
                            "ticks": ""
                          }
                        },
                        "type": "scatter3d"
                      }
                    ],
                    "scattercarpet": [
                      {
                        "marker": {
                          "colorbar": {
                            "outlinewidth": 0,
                            "ticks": ""
                          }
                        },
                        "type": "scattercarpet"
                      }
                    ],
                    "scattergeo": [
                      {
                        "marker": {
                          "colorbar": {
                            "outlinewidth": 0,
                            "ticks": ""
                          }
                        },
                        "type": "scattergeo"
                      }
                    ],
                    "scattergl": [
                      {
                        "marker": {
                          "colorbar": {
                            "outlinewidth": 0,
                            "ticks": ""
                          }
                        },
                        "type": "scattergl"
                      }
                    ],
                    "scattermapbox": [
                      {
                        "marker": {
                          "colorbar": {
                            "outlinewidth": 0,
                            "ticks": ""
                          }
                        },
                        "type": "scattermapbox"
                      }
                    ],
                    "scatterpolar": [
                      {
                        "marker": {
                          "colorbar": {
                            "outlinewidth": 0,
                            "ticks": ""
                          }
                        },
                        "type": "scatterpolar"
                      }
                    ],
                    "scatterpolargl": [
                      {
                        "marker": {
                          "colorbar": {
                            "outlinewidth": 0,
                            "ticks": ""
                          }
                        },
                        "type": "scatterpolargl"
                      }
                    ],
                    "scatterternary": [
                      {
                        "marker": {
                          "colorbar": {
                            "outlinewidth": 0,
                            "ticks": ""
                          }
                        },
                        "type": "scatterternary"
                      }
                    ],
                    "surface": [
                      {
                        "colorbar": {
                          "outlinewidth": 0,
                          "ticks": ""
                        },
                        "colorscale": [
                          [
                            0,
                            "#0d0887"
                          ],
                          [
                            0.1111111111111111,
                            "#46039f"
                          ],
                          [
                            0.2222222222222222,
                            "#7201a8"
                          ],
                          [
                            0.3333333333333333,
                            "#9c179e"
                          ],
                          [
                            0.4444444444444444,
                            "#bd3786"
                          ],
                          [
                            0.5555555555555556,
                            "#d8576b"
                          ],
                          [
                            0.6666666666666666,
                            "#ed7953"
                          ],
                          [
                            0.7777777777777778,
                            "#fb9f3a"
                          ],
                          [
                            0.8888888888888888,
                            "#fdca26"
                          ],
                          [
                            1,
                            "#f0f921"
                          ]
                        ],
                        "type": "surface"
                      }
                    ],
                    "table": [
                      {
                        "cells": {
                          "fill": {
                            "color": "#EBF0F8"
                          },
                          "line": {
                            "color": "white"
                          }
                        },
                        "header": {
                          "fill": {
                            "color": "#C8D4E3"
                          },
                          "line": {
                            "color": "white"
                          }
                        },
                        "type": "table"
                      }
                    ]
                  },
                  "layout": {
                    "annotationdefaults": {
                      "arrowcolor": "#2a3f5f",
                      "arrowhead": 0,
                      "arrowwidth": 1
                    },
                    "autotypenumbers": "strict",
                    "coloraxis": {
                      "colorbar": {
                        "outlinewidth": 0,
                        "ticks": ""
                      }
                    },
                    "colorscale": {
                      "diverging": [
                        [
                          0,
                          "#8e0152"
                        ],
                        [
                          0.1,
                          "#c51b7d"
                        ],
                        [
                          0.2,
                          "#de77ae"
                        ],
                        [
                          0.3,
                          "#f1b6da"
                        ],
                        [
                          0.4,
                          "#fde0ef"
                        ],
                        [
                          0.5,
                          "#f7f7f7"
                        ],
                        [
                          0.6,
                          "#e6f5d0"
                        ],
                        [
                          0.7,
                          "#b8e186"
                        ],
                        [
                          0.8,
                          "#7fbc41"
                        ],
                        [
                          0.9,
                          "#4d9221"
                        ],
                        [
                          1,
                          "#276419"
                        ]
                      ],
                      "sequential": [
                        [
                          0,
                          "#0d0887"
                        ],
                        [
                          0.1111111111111111,
                          "#46039f"
                        ],
                        [
                          0.2222222222222222,
                          "#7201a8"
                        ],
                        [
                          0.3333333333333333,
                          "#9c179e"
                        ],
                        [
                          0.4444444444444444,
                          "#bd3786"
                        ],
                        [
                          0.5555555555555556,
                          "#d8576b"
                        ],
                        [
                          0.6666666666666666,
                          "#ed7953"
                        ],
                        [
                          0.7777777777777778,
                          "#fb9f3a"
                        ],
                        [
                          0.8888888888888888,
                          "#fdca26"
                        ],
                        [
                          1,
                          "#f0f921"
                        ]
                      ],
                      "sequentialminus": [
                        [
                          0,
                          "#0d0887"
                        ],
                        [
                          0.1111111111111111,
                          "#46039f"
                        ],
                        [
                          0.2222222222222222,
                          "#7201a8"
                        ],
                        [
                          0.3333333333333333,
                          "#9c179e"
                        ],
                        [
                          0.4444444444444444,
                          "#bd3786"
                        ],
                        [
                          0.5555555555555556,
                          "#d8576b"
                        ],
                        [
                          0.6666666666666666,
                          "#ed7953"
                        ],
                        [
                          0.7777777777777778,
                          "#fb9f3a"
                        ],
                        [
                          0.8888888888888888,
                          "#fdca26"
                        ],
                        [
                          1,
                          "#f0f921"
                        ]
                      ]
                    },
                    "colorway": [
                      "#636efa",
                      "#EF553B",
                      "#00cc96",
                      "#ab63fa",
                      "#FFA15A",
                      "#19d3f3",
                      "#FF6692",
                      "#B6E880",
                      "#FF97FF",
                      "#FECB52"
                    ],
                    "font": {
                      "color": "#2a3f5f"
                    },
                    "geo": {
                      "bgcolor": "white",
                      "lakecolor": "white",
                      "landcolor": "#E5ECF6",
                      "showlakes": true,
                      "showland": true,
                      "subunitcolor": "white"
                    },
                    "hoverlabel": {
                      "align": "left"
                    },
                    "hovermode": "closest",
                    "mapbox": {
                      "style": "light"
                    },
                    "paper_bgcolor": "white",
                    "plot_bgcolor": "#E5ECF6",
                    "polar": {
                      "angularaxis": {
                        "gridcolor": "white",
                        "linecolor": "white",
                        "ticks": ""
                      },
                      "bgcolor": "#E5ECF6",
                      "radialaxis": {
                        "gridcolor": "white",
                        "linecolor": "white",
                        "ticks": ""
                      }
                    },
                    "scene": {
                      "xaxis": {
                        "backgroundcolor": "#E5ECF6",
                        "gridcolor": "white",
                        "gridwidth": 2,
                        "linecolor": "white",
                        "showbackground": true,
                        "ticks": "",
                        "zerolinecolor": "white"
                      },
                      "yaxis": {
                        "backgroundcolor": "#E5ECF6",
                        "gridcolor": "white",
                        "gridwidth": 2,
                        "linecolor": "white",
                        "showbackground": true,
                        "ticks": "",
                        "zerolinecolor": "white"
                      },
                      "zaxis": {
                        "backgroundcolor": "#E5ECF6",
                        "gridcolor": "white",
                        "gridwidth": 2,
                        "linecolor": "white",
                        "showbackground": true,
                        "ticks": "",
                        "zerolinecolor": "white"
                      }
                    },
                    "shapedefaults": {
                      "line": {
                        "color": "#2a3f5f"
                      }
                    },
                    "ternary": {
                      "aaxis": {
                        "gridcolor": "white",
                        "linecolor": "white",
                        "ticks": ""
                      },
                      "baxis": {
                        "gridcolor": "white",
                        "linecolor": "white",
                        "ticks": ""
                      },
                      "bgcolor": "#E5ECF6",
                      "caxis": {
                        "gridcolor": "white",
                        "linecolor": "white",
                        "ticks": ""
                      }
                    },
                    "title": {
                      "x": 0.05
                    },
                    "xaxis": {
                      "automargin": true,
                      "gridcolor": "white",
                      "linecolor": "white",
                      "ticks": "",
                      "title": {
                        "standoff": 15
                      },
                      "zerolinecolor": "white",
                      "zerolinewidth": 2
                    },
                    "yaxis": {
                      "automargin": true,
                      "gridcolor": "white",
                      "linecolor": "white",
                      "ticks": "",
                      "title": {
                        "standoff": 15
                      },
                      "zerolinecolor": "white",
                      "zerolinewidth": 2
                    }
                  }
                },
                "xaxis": {
                  "anchor": "y",
                  "domain": [
                    0,
                    1
                  ],
                  "title": {
                    "text": "Total"
                  }
                },
                "yaxis": {
                  "anchor": "x",
                  "domain": [
                    0,
                    1
                  ],
                  "title": {
                    "text": "Items"
                  }
                }
              }
            }
          },
          "metadata": {},
          "output_type": "display_data"
        }
      ],
      "source": [
        "fig = px.box(consumo_nordeste, y = 'Items', x ='Total')\n",
        "fig.show()"
      ]
    },
    {
      "cell_type": "markdown",
      "metadata": {},
      "source": [
        "#### Dentre os alimentos da cesta básica, qual o mais consumido por região?"
      ]
    },
    {
      "cell_type": "markdown",
      "metadata": {},
      "source": [
        "* Região nordeste"
      ]
    },
    {
      "cell_type": "code",
      "execution_count": 109,
      "metadata": {},
      "outputs": [
        {
          "data": {
            "application/vnd.plotly.v1+json": {
              "config": {
                "plotlyServerURL": "https://plot.ly"
              },
              "data": [
                {
                  "alignmentgroup": "True",
                  "hovertemplate": "variable=Classe A<br>Alimentos=%{x}<br>Consumo anual per capita (kg)=%{y}<extra></extra>",
                  "legendgroup": "Classe A",
                  "marker": {
                    "color": "#636efa",
                    "pattern": {
                      "shape": ""
                    }
                  },
                  "name": "Classe A",
                  "offsetgroup": "Classe A",
                  "orientation": "v",
                  "showlegend": true,
                  "textposition": "auto",
                  "type": "bar",
                  "x": [
                    " Arroz polido",
                    "Feijão-mulatinho",
                    "Feijão-preto",
                    "Farinha de mandioca",
                    "Farinha de trigo",
                    "Fubá de milho",
                    "Açúcar cristal",
                    "Molho de tomate",
                    "Óleo de soja",
                    "Café moído"
                  ],
                  "xaxis": "x",
                  "y": [
                    10.86,
                    0.74,
                    1.04,
                    3.84,
                    1.73,
                    0.73,
                    5.23,
                    1.26,
                    2.38,
                    2.65
                  ],
                  "yaxis": "y"
                },
                {
                  "alignmentgroup": "True",
                  "hovertemplate": "variable=Classe B<br>Alimentos=%{x}<br>Consumo anual per capita (kg)=%{y}<extra></extra>",
                  "legendgroup": "Classe B",
                  "marker": {
                    "color": "#EF553B",
                    "pattern": {
                      "shape": ""
                    }
                  },
                  "name": "Classe B",
                  "offsetgroup": "Classe B",
                  "orientation": "v",
                  "showlegend": true,
                  "textposition": "auto",
                  "type": "bar",
                  "x": [
                    " Arroz polido",
                    "Feijão-mulatinho",
                    "Feijão-preto",
                    "Farinha de mandioca",
                    "Farinha de trigo",
                    "Fubá de milho",
                    "Açúcar cristal",
                    "Molho de tomate",
                    "Óleo de soja",
                    "Café moído"
                  ],
                  "xaxis": "x",
                  "y": [
                    15.28,
                    0.85,
                    0.89,
                    1.79,
                    1.29,
                    1.58,
                    5.2,
                    0.85,
                    2.16,
                    2.05
                  ],
                  "yaxis": "y"
                },
                {
                  "alignmentgroup": "True",
                  "hovertemplate": "variable=Classe C<br>Alimentos=%{x}<br>Consumo anual per capita (kg)=%{y}<extra></extra>",
                  "legendgroup": "Classe C",
                  "marker": {
                    "color": "#00cc96",
                    "pattern": {
                      "shape": ""
                    }
                  },
                  "name": "Classe C",
                  "offsetgroup": "Classe C",
                  "orientation": "v",
                  "showlegend": true,
                  "textposition": "auto",
                  "type": "bar",
                  "x": [
                    " Arroz polido",
                    "Feijão-mulatinho",
                    "Feijão-preto",
                    "Farinha de mandioca",
                    "Farinha de trigo",
                    "Fubá de milho",
                    "Açúcar cristal",
                    "Molho de tomate",
                    "Óleo de soja",
                    "Café moído"
                  ],
                  "xaxis": "x",
                  "y": [
                    14.12,
                    1.8,
                    0.69,
                    3.15,
                    0.9,
                    1.49,
                    7.04,
                    0.79,
                    2.93,
                    2.18
                  ],
                  "yaxis": "y"
                },
                {
                  "alignmentgroup": "True",
                  "hovertemplate": "variable=Classe D<br>Alimentos=%{x}<br>Consumo anual per capita (kg)=%{y}<extra></extra>",
                  "legendgroup": "Classe D",
                  "marker": {
                    "color": "#ab63fa",
                    "pattern": {
                      "shape": ""
                    }
                  },
                  "name": "Classe D",
                  "offsetgroup": "Classe D",
                  "orientation": "v",
                  "showlegend": true,
                  "textposition": "auto",
                  "type": "bar",
                  "x": [
                    " Arroz polido",
                    "Feijão-mulatinho",
                    "Feijão-preto",
                    "Farinha de mandioca",
                    "Farinha de trigo",
                    "Fubá de milho",
                    "Açúcar cristal",
                    "Molho de tomate",
                    "Óleo de soja",
                    "Café moído"
                  ],
                  "xaxis": "x",
                  "y": [
                    19.58,
                    1.42,
                    0.61,
                    3.46,
                    1.01,
                    1.93,
                    8.18,
                    0.53,
                    3.28,
                    2.29
                  ],
                  "yaxis": "y"
                },
                {
                  "alignmentgroup": "True",
                  "hovertemplate": "variable=Classe E<br>Alimentos=%{x}<br>Consumo anual per capita (kg)=%{y}<extra></extra>",
                  "legendgroup": "Classe E",
                  "marker": {
                    "color": "#FFA15A",
                    "pattern": {
                      "shape": ""
                    }
                  },
                  "name": "Classe E",
                  "offsetgroup": "Classe E",
                  "orientation": "v",
                  "showlegend": true,
                  "textposition": "auto",
                  "type": "bar",
                  "x": [
                    " Arroz polido",
                    "Feijão-mulatinho",
                    "Feijão-preto",
                    "Farinha de mandioca",
                    "Farinha de trigo",
                    "Fubá de milho",
                    "Açúcar cristal",
                    "Molho de tomate",
                    "Óleo de soja",
                    "Café moído"
                  ],
                  "xaxis": "x",
                  "y": [
                    22.21,
                    1.69,
                    0.52,
                    4.56,
                    0.71,
                    2.52,
                    7.36,
                    0.47,
                    3.8,
                    2.51
                  ],
                  "yaxis": "y"
                }
              ],
              "layout": {
                "barmode": "group",
                "legend": {
                  "title": {
                    "text": "variable"
                  },
                  "tracegroupgap": 0
                },
                "template": {
                  "data": {
                    "bar": [
                      {
                        "error_x": {
                          "color": "#2a3f5f"
                        },
                        "error_y": {
                          "color": "#2a3f5f"
                        },
                        "marker": {
                          "line": {
                            "color": "#E5ECF6",
                            "width": 0.5
                          },
                          "pattern": {
                            "fillmode": "overlay",
                            "size": 10,
                            "solidity": 0.2
                          }
                        },
                        "type": "bar"
                      }
                    ],
                    "barpolar": [
                      {
                        "marker": {
                          "line": {
                            "color": "#E5ECF6",
                            "width": 0.5
                          },
                          "pattern": {
                            "fillmode": "overlay",
                            "size": 10,
                            "solidity": 0.2
                          }
                        },
                        "type": "barpolar"
                      }
                    ],
                    "carpet": [
                      {
                        "aaxis": {
                          "endlinecolor": "#2a3f5f",
                          "gridcolor": "white",
                          "linecolor": "white",
                          "minorgridcolor": "white",
                          "startlinecolor": "#2a3f5f"
                        },
                        "baxis": {
                          "endlinecolor": "#2a3f5f",
                          "gridcolor": "white",
                          "linecolor": "white",
                          "minorgridcolor": "white",
                          "startlinecolor": "#2a3f5f"
                        },
                        "type": "carpet"
                      }
                    ],
                    "choropleth": [
                      {
                        "colorbar": {
                          "outlinewidth": 0,
                          "ticks": ""
                        },
                        "type": "choropleth"
                      }
                    ],
                    "contour": [
                      {
                        "colorbar": {
                          "outlinewidth": 0,
                          "ticks": ""
                        },
                        "colorscale": [
                          [
                            0,
                            "#0d0887"
                          ],
                          [
                            0.1111111111111111,
                            "#46039f"
                          ],
                          [
                            0.2222222222222222,
                            "#7201a8"
                          ],
                          [
                            0.3333333333333333,
                            "#9c179e"
                          ],
                          [
                            0.4444444444444444,
                            "#bd3786"
                          ],
                          [
                            0.5555555555555556,
                            "#d8576b"
                          ],
                          [
                            0.6666666666666666,
                            "#ed7953"
                          ],
                          [
                            0.7777777777777778,
                            "#fb9f3a"
                          ],
                          [
                            0.8888888888888888,
                            "#fdca26"
                          ],
                          [
                            1,
                            "#f0f921"
                          ]
                        ],
                        "type": "contour"
                      }
                    ],
                    "contourcarpet": [
                      {
                        "colorbar": {
                          "outlinewidth": 0,
                          "ticks": ""
                        },
                        "type": "contourcarpet"
                      }
                    ],
                    "heatmap": [
                      {
                        "colorbar": {
                          "outlinewidth": 0,
                          "ticks": ""
                        },
                        "colorscale": [
                          [
                            0,
                            "#0d0887"
                          ],
                          [
                            0.1111111111111111,
                            "#46039f"
                          ],
                          [
                            0.2222222222222222,
                            "#7201a8"
                          ],
                          [
                            0.3333333333333333,
                            "#9c179e"
                          ],
                          [
                            0.4444444444444444,
                            "#bd3786"
                          ],
                          [
                            0.5555555555555556,
                            "#d8576b"
                          ],
                          [
                            0.6666666666666666,
                            "#ed7953"
                          ],
                          [
                            0.7777777777777778,
                            "#fb9f3a"
                          ],
                          [
                            0.8888888888888888,
                            "#fdca26"
                          ],
                          [
                            1,
                            "#f0f921"
                          ]
                        ],
                        "type": "heatmap"
                      }
                    ],
                    "heatmapgl": [
                      {
                        "colorbar": {
                          "outlinewidth": 0,
                          "ticks": ""
                        },
                        "colorscale": [
                          [
                            0,
                            "#0d0887"
                          ],
                          [
                            0.1111111111111111,
                            "#46039f"
                          ],
                          [
                            0.2222222222222222,
                            "#7201a8"
                          ],
                          [
                            0.3333333333333333,
                            "#9c179e"
                          ],
                          [
                            0.4444444444444444,
                            "#bd3786"
                          ],
                          [
                            0.5555555555555556,
                            "#d8576b"
                          ],
                          [
                            0.6666666666666666,
                            "#ed7953"
                          ],
                          [
                            0.7777777777777778,
                            "#fb9f3a"
                          ],
                          [
                            0.8888888888888888,
                            "#fdca26"
                          ],
                          [
                            1,
                            "#f0f921"
                          ]
                        ],
                        "type": "heatmapgl"
                      }
                    ],
                    "histogram": [
                      {
                        "marker": {
                          "pattern": {
                            "fillmode": "overlay",
                            "size": 10,
                            "solidity": 0.2
                          }
                        },
                        "type": "histogram"
                      }
                    ],
                    "histogram2d": [
                      {
                        "colorbar": {
                          "outlinewidth": 0,
                          "ticks": ""
                        },
                        "colorscale": [
                          [
                            0,
                            "#0d0887"
                          ],
                          [
                            0.1111111111111111,
                            "#46039f"
                          ],
                          [
                            0.2222222222222222,
                            "#7201a8"
                          ],
                          [
                            0.3333333333333333,
                            "#9c179e"
                          ],
                          [
                            0.4444444444444444,
                            "#bd3786"
                          ],
                          [
                            0.5555555555555556,
                            "#d8576b"
                          ],
                          [
                            0.6666666666666666,
                            "#ed7953"
                          ],
                          [
                            0.7777777777777778,
                            "#fb9f3a"
                          ],
                          [
                            0.8888888888888888,
                            "#fdca26"
                          ],
                          [
                            1,
                            "#f0f921"
                          ]
                        ],
                        "type": "histogram2d"
                      }
                    ],
                    "histogram2dcontour": [
                      {
                        "colorbar": {
                          "outlinewidth": 0,
                          "ticks": ""
                        },
                        "colorscale": [
                          [
                            0,
                            "#0d0887"
                          ],
                          [
                            0.1111111111111111,
                            "#46039f"
                          ],
                          [
                            0.2222222222222222,
                            "#7201a8"
                          ],
                          [
                            0.3333333333333333,
                            "#9c179e"
                          ],
                          [
                            0.4444444444444444,
                            "#bd3786"
                          ],
                          [
                            0.5555555555555556,
                            "#d8576b"
                          ],
                          [
                            0.6666666666666666,
                            "#ed7953"
                          ],
                          [
                            0.7777777777777778,
                            "#fb9f3a"
                          ],
                          [
                            0.8888888888888888,
                            "#fdca26"
                          ],
                          [
                            1,
                            "#f0f921"
                          ]
                        ],
                        "type": "histogram2dcontour"
                      }
                    ],
                    "mesh3d": [
                      {
                        "colorbar": {
                          "outlinewidth": 0,
                          "ticks": ""
                        },
                        "type": "mesh3d"
                      }
                    ],
                    "parcoords": [
                      {
                        "line": {
                          "colorbar": {
                            "outlinewidth": 0,
                            "ticks": ""
                          }
                        },
                        "type": "parcoords"
                      }
                    ],
                    "pie": [
                      {
                        "automargin": true,
                        "type": "pie"
                      }
                    ],
                    "scatter": [
                      {
                        "marker": {
                          "colorbar": {
                            "outlinewidth": 0,
                            "ticks": ""
                          }
                        },
                        "type": "scatter"
                      }
                    ],
                    "scatter3d": [
                      {
                        "line": {
                          "colorbar": {
                            "outlinewidth": 0,
                            "ticks": ""
                          }
                        },
                        "marker": {
                          "colorbar": {
                            "outlinewidth": 0,
                            "ticks": ""
                          }
                        },
                        "type": "scatter3d"
                      }
                    ],
                    "scattercarpet": [
                      {
                        "marker": {
                          "colorbar": {
                            "outlinewidth": 0,
                            "ticks": ""
                          }
                        },
                        "type": "scattercarpet"
                      }
                    ],
                    "scattergeo": [
                      {
                        "marker": {
                          "colorbar": {
                            "outlinewidth": 0,
                            "ticks": ""
                          }
                        },
                        "type": "scattergeo"
                      }
                    ],
                    "scattergl": [
                      {
                        "marker": {
                          "colorbar": {
                            "outlinewidth": 0,
                            "ticks": ""
                          }
                        },
                        "type": "scattergl"
                      }
                    ],
                    "scattermapbox": [
                      {
                        "marker": {
                          "colorbar": {
                            "outlinewidth": 0,
                            "ticks": ""
                          }
                        },
                        "type": "scattermapbox"
                      }
                    ],
                    "scatterpolar": [
                      {
                        "marker": {
                          "colorbar": {
                            "outlinewidth": 0,
                            "ticks": ""
                          }
                        },
                        "type": "scatterpolar"
                      }
                    ],
                    "scatterpolargl": [
                      {
                        "marker": {
                          "colorbar": {
                            "outlinewidth": 0,
                            "ticks": ""
                          }
                        },
                        "type": "scatterpolargl"
                      }
                    ],
                    "scatterternary": [
                      {
                        "marker": {
                          "colorbar": {
                            "outlinewidth": 0,
                            "ticks": ""
                          }
                        },
                        "type": "scatterternary"
                      }
                    ],
                    "surface": [
                      {
                        "colorbar": {
                          "outlinewidth": 0,
                          "ticks": ""
                        },
                        "colorscale": [
                          [
                            0,
                            "#0d0887"
                          ],
                          [
                            0.1111111111111111,
                            "#46039f"
                          ],
                          [
                            0.2222222222222222,
                            "#7201a8"
                          ],
                          [
                            0.3333333333333333,
                            "#9c179e"
                          ],
                          [
                            0.4444444444444444,
                            "#bd3786"
                          ],
                          [
                            0.5555555555555556,
                            "#d8576b"
                          ],
                          [
                            0.6666666666666666,
                            "#ed7953"
                          ],
                          [
                            0.7777777777777778,
                            "#fb9f3a"
                          ],
                          [
                            0.8888888888888888,
                            "#fdca26"
                          ],
                          [
                            1,
                            "#f0f921"
                          ]
                        ],
                        "type": "surface"
                      }
                    ],
                    "table": [
                      {
                        "cells": {
                          "fill": {
                            "color": "#EBF0F8"
                          },
                          "line": {
                            "color": "white"
                          }
                        },
                        "header": {
                          "fill": {
                            "color": "#C8D4E3"
                          },
                          "line": {
                            "color": "white"
                          }
                        },
                        "type": "table"
                      }
                    ]
                  },
                  "layout": {
                    "annotationdefaults": {
                      "arrowcolor": "#2a3f5f",
                      "arrowhead": 0,
                      "arrowwidth": 1
                    },
                    "autotypenumbers": "strict",
                    "coloraxis": {
                      "colorbar": {
                        "outlinewidth": 0,
                        "ticks": ""
                      }
                    },
                    "colorscale": {
                      "diverging": [
                        [
                          0,
                          "#8e0152"
                        ],
                        [
                          0.1,
                          "#c51b7d"
                        ],
                        [
                          0.2,
                          "#de77ae"
                        ],
                        [
                          0.3,
                          "#f1b6da"
                        ],
                        [
                          0.4,
                          "#fde0ef"
                        ],
                        [
                          0.5,
                          "#f7f7f7"
                        ],
                        [
                          0.6,
                          "#e6f5d0"
                        ],
                        [
                          0.7,
                          "#b8e186"
                        ],
                        [
                          0.8,
                          "#7fbc41"
                        ],
                        [
                          0.9,
                          "#4d9221"
                        ],
                        [
                          1,
                          "#276419"
                        ]
                      ],
                      "sequential": [
                        [
                          0,
                          "#0d0887"
                        ],
                        [
                          0.1111111111111111,
                          "#46039f"
                        ],
                        [
                          0.2222222222222222,
                          "#7201a8"
                        ],
                        [
                          0.3333333333333333,
                          "#9c179e"
                        ],
                        [
                          0.4444444444444444,
                          "#bd3786"
                        ],
                        [
                          0.5555555555555556,
                          "#d8576b"
                        ],
                        [
                          0.6666666666666666,
                          "#ed7953"
                        ],
                        [
                          0.7777777777777778,
                          "#fb9f3a"
                        ],
                        [
                          0.8888888888888888,
                          "#fdca26"
                        ],
                        [
                          1,
                          "#f0f921"
                        ]
                      ],
                      "sequentialminus": [
                        [
                          0,
                          "#0d0887"
                        ],
                        [
                          0.1111111111111111,
                          "#46039f"
                        ],
                        [
                          0.2222222222222222,
                          "#7201a8"
                        ],
                        [
                          0.3333333333333333,
                          "#9c179e"
                        ],
                        [
                          0.4444444444444444,
                          "#bd3786"
                        ],
                        [
                          0.5555555555555556,
                          "#d8576b"
                        ],
                        [
                          0.6666666666666666,
                          "#ed7953"
                        ],
                        [
                          0.7777777777777778,
                          "#fb9f3a"
                        ],
                        [
                          0.8888888888888888,
                          "#fdca26"
                        ],
                        [
                          1,
                          "#f0f921"
                        ]
                      ]
                    },
                    "colorway": [
                      "#636efa",
                      "#EF553B",
                      "#00cc96",
                      "#ab63fa",
                      "#FFA15A",
                      "#19d3f3",
                      "#FF6692",
                      "#B6E880",
                      "#FF97FF",
                      "#FECB52"
                    ],
                    "font": {
                      "color": "#2a3f5f"
                    },
                    "geo": {
                      "bgcolor": "white",
                      "lakecolor": "white",
                      "landcolor": "#E5ECF6",
                      "showlakes": true,
                      "showland": true,
                      "subunitcolor": "white"
                    },
                    "hoverlabel": {
                      "align": "left"
                    },
                    "hovermode": "closest",
                    "mapbox": {
                      "style": "light"
                    },
                    "paper_bgcolor": "white",
                    "plot_bgcolor": "#E5ECF6",
                    "polar": {
                      "angularaxis": {
                        "gridcolor": "white",
                        "linecolor": "white",
                        "ticks": ""
                      },
                      "bgcolor": "#E5ECF6",
                      "radialaxis": {
                        "gridcolor": "white",
                        "linecolor": "white",
                        "ticks": ""
                      }
                    },
                    "scene": {
                      "xaxis": {
                        "backgroundcolor": "#E5ECF6",
                        "gridcolor": "white",
                        "gridwidth": 2,
                        "linecolor": "white",
                        "showbackground": true,
                        "ticks": "",
                        "zerolinecolor": "white"
                      },
                      "yaxis": {
                        "backgroundcolor": "#E5ECF6",
                        "gridcolor": "white",
                        "gridwidth": 2,
                        "linecolor": "white",
                        "showbackground": true,
                        "ticks": "",
                        "zerolinecolor": "white"
                      },
                      "zaxis": {
                        "backgroundcolor": "#E5ECF6",
                        "gridcolor": "white",
                        "gridwidth": 2,
                        "linecolor": "white",
                        "showbackground": true,
                        "ticks": "",
                        "zerolinecolor": "white"
                      }
                    },
                    "shapedefaults": {
                      "line": {
                        "color": "#2a3f5f"
                      }
                    },
                    "ternary": {
                      "aaxis": {
                        "gridcolor": "white",
                        "linecolor": "white",
                        "ticks": ""
                      },
                      "baxis": {
                        "gridcolor": "white",
                        "linecolor": "white",
                        "ticks": ""
                      },
                      "bgcolor": "#E5ECF6",
                      "caxis": {
                        "gridcolor": "white",
                        "linecolor": "white",
                        "ticks": ""
                      }
                    },
                    "title": {
                      "x": 0.05
                    },
                    "xaxis": {
                      "automargin": true,
                      "gridcolor": "white",
                      "linecolor": "white",
                      "ticks": "",
                      "title": {
                        "standoff": 15
                      },
                      "zerolinecolor": "white",
                      "zerolinewidth": 2
                    },
                    "yaxis": {
                      "automargin": true,
                      "gridcolor": "white",
                      "linecolor": "white",
                      "ticks": "",
                      "title": {
                        "standoff": 15
                      },
                      "zerolinecolor": "white",
                      "zerolinewidth": 2
                    }
                  }
                },
                "title": {
                  "text": "Consumo de alimentos por classe na regiao nordeste"
                },
                "xaxis": {
                  "anchor": "y",
                  "domain": [
                    0,
                    1
                  ],
                  "title": {
                    "text": "Alimentos"
                  }
                },
                "yaxis": {
                  "anchor": "x",
                  "domain": [
                    0,
                    1
                  ],
                  "title": {
                    "text": "Consumo anual per capita (kg)"
                  }
                }
              }
            }
          },
          "metadata": {},
          "output_type": "display_data"
        }
      ],
      "source": [
        "fig = px.bar(consumo_nordeste, x = 'Items', barmode= 'group', y = ['Classe A', 'Classe B', 'Classe C', 'Classe D', 'Classe E'], title = 'Consumo de alimentos por classe na regiao nordeste', labels= {'Items': 'Alimentos', 'value': 'Consumo anual per capita (kg)' })\n",
        "fig.show()"
      ]
    },
    {
      "cell_type": "markdown",
      "metadata": {},
      "source": [
        "* Região Norte"
      ]
    },
    {
      "cell_type": "code",
      "execution_count": 110,
      "metadata": {},
      "outputs": [
        {
          "data": {
            "application/vnd.plotly.v1+json": {
              "config": {
                "plotlyServerURL": "https://plot.ly"
              },
              "data": [
                {
                  "alignmentgroup": "True",
                  "hovertemplate": "variable=Classe A<br>Alimentos=%{x}<br>Consumo anual per capita (kg)=%{y}<extra></extra>",
                  "legendgroup": "Classe A",
                  "marker": {
                    "color": "#636efa",
                    "pattern": {
                      "shape": ""
                    }
                  },
                  "name": "Classe A",
                  "offsetgroup": "Classe A",
                  "orientation": "v",
                  "showlegend": true,
                  "textposition": "auto",
                  "type": "bar",
                  "x": [
                    " Arroz polido",
                    "Feijão-mulatinho",
                    "Feijão-preto",
                    "Farinha de mandioca",
                    "Farinha de trigo",
                    "Fubá de milho",
                    "Açúcar cristal",
                    "Molho de tomate",
                    "Óleo de soja",
                    "Café moído"
                  ],
                  "xaxis": "x",
                  "y": [
                    15.87,
                    0.23,
                    1.5,
                    4.54,
                    0.42,
                    1.12,
                    7.44,
                    0.71,
                    3.36,
                    1.71
                  ],
                  "yaxis": "y"
                },
                {
                  "alignmentgroup": "True",
                  "hovertemplate": "variable=Classe B<br>Alimentos=%{x}<br>Consumo anual per capita (kg)=%{y}<extra></extra>",
                  "legendgroup": "Classe B",
                  "marker": {
                    "color": "#EF553B",
                    "pattern": {
                      "shape": ""
                    }
                  },
                  "name": "Classe B",
                  "offsetgroup": "Classe B",
                  "orientation": "v",
                  "showlegend": true,
                  "textposition": "auto",
                  "type": "bar",
                  "x": [
                    " Arroz polido",
                    "Feijão-mulatinho",
                    "Feijão-preto",
                    "Farinha de mandioca",
                    "Farinha de trigo",
                    "Fubá de milho",
                    "Açúcar cristal",
                    "Molho de tomate",
                    "Óleo de soja",
                    "Café moído"
                  ],
                  "xaxis": "x",
                  "y": [
                    16.49,
                    0.06,
                    0.71,
                    8.01,
                    0.96,
                    0.32,
                    5.92,
                    1.07,
                    2.95,
                    2.15
                  ],
                  "yaxis": "y"
                },
                {
                  "alignmentgroup": "True",
                  "hovertemplate": "variable=Classe C<br>Alimentos=%{x}<br>Consumo anual per capita (kg)=%{y}<extra></extra>",
                  "legendgroup": "Classe C",
                  "marker": {
                    "color": "#00cc96",
                    "pattern": {
                      "shape": ""
                    }
                  },
                  "name": "Classe C",
                  "offsetgroup": "Classe C",
                  "orientation": "v",
                  "showlegend": true,
                  "textposition": "auto",
                  "type": "bar",
                  "x": [
                    " Arroz polido",
                    "Feijão-mulatinho",
                    "Feijão-preto",
                    "Farinha de mandioca",
                    "Farinha de trigo",
                    "Fubá de milho",
                    "Açúcar cristal",
                    "Molho de tomate",
                    "Óleo de soja",
                    "Café moído"
                  ],
                  "xaxis": "x",
                  "y": [
                    18.65,
                    0.24,
                    0.79,
                    11.27,
                    1.66,
                    0.82,
                    7.97,
                    0.61,
                    4.09,
                    2.17
                  ],
                  "yaxis": "y"
                },
                {
                  "alignmentgroup": "True",
                  "hovertemplate": "variable=Classe D<br>Alimentos=%{x}<br>Consumo anual per capita (kg)=%{y}<extra></extra>",
                  "legendgroup": "Classe D",
                  "marker": {
                    "color": "#ab63fa",
                    "pattern": {
                      "shape": ""
                    }
                  },
                  "name": "Classe D",
                  "offsetgroup": "Classe D",
                  "orientation": "v",
                  "showlegend": true,
                  "textposition": "auto",
                  "type": "bar",
                  "x": [
                    " Arroz polido",
                    "Feijão-mulatinho",
                    "Feijão-preto",
                    "Farinha de mandioca",
                    "Farinha de trigo",
                    "Fubá de milho",
                    "Açúcar cristal",
                    "Molho de tomate",
                    "Óleo de soja",
                    "Café moído"
                  ],
                  "xaxis": "x",
                  "y": [
                    16.94,
                    0.52,
                    1.11,
                    9.6,
                    1.8,
                    0.84,
                    5.66,
                    0.29,
                    4.52,
                    2.05
                  ],
                  "yaxis": "y"
                },
                {
                  "alignmentgroup": "True",
                  "hovertemplate": "variable=Classe E<br>Alimentos=%{x}<br>Consumo anual per capita (kg)=%{y}<extra></extra>",
                  "legendgroup": "Classe E",
                  "marker": {
                    "color": "#FFA15A",
                    "pattern": {
                      "shape": ""
                    }
                  },
                  "name": "Classe E",
                  "offsetgroup": "Classe E",
                  "orientation": "v",
                  "showlegend": true,
                  "textposition": "auto",
                  "type": "bar",
                  "x": [
                    " Arroz polido",
                    "Feijão-mulatinho",
                    "Feijão-preto",
                    "Farinha de mandioca",
                    "Farinha de trigo",
                    "Fubá de milho",
                    "Açúcar cristal",
                    "Molho de tomate",
                    "Óleo de soja",
                    "Café moído"
                  ],
                  "xaxis": "x",
                  "y": [
                    19.64,
                    0.56,
                    0.69,
                    12.01,
                    1.13,
                    0.88,
                    5.96,
                    0.18,
                    4.17,
                    2.11
                  ],
                  "yaxis": "y"
                }
              ],
              "layout": {
                "barmode": "group",
                "legend": {
                  "title": {
                    "text": "variable"
                  },
                  "tracegroupgap": 0
                },
                "template": {
                  "data": {
                    "bar": [
                      {
                        "error_x": {
                          "color": "#2a3f5f"
                        },
                        "error_y": {
                          "color": "#2a3f5f"
                        },
                        "marker": {
                          "line": {
                            "color": "#E5ECF6",
                            "width": 0.5
                          },
                          "pattern": {
                            "fillmode": "overlay",
                            "size": 10,
                            "solidity": 0.2
                          }
                        },
                        "type": "bar"
                      }
                    ],
                    "barpolar": [
                      {
                        "marker": {
                          "line": {
                            "color": "#E5ECF6",
                            "width": 0.5
                          },
                          "pattern": {
                            "fillmode": "overlay",
                            "size": 10,
                            "solidity": 0.2
                          }
                        },
                        "type": "barpolar"
                      }
                    ],
                    "carpet": [
                      {
                        "aaxis": {
                          "endlinecolor": "#2a3f5f",
                          "gridcolor": "white",
                          "linecolor": "white",
                          "minorgridcolor": "white",
                          "startlinecolor": "#2a3f5f"
                        },
                        "baxis": {
                          "endlinecolor": "#2a3f5f",
                          "gridcolor": "white",
                          "linecolor": "white",
                          "minorgridcolor": "white",
                          "startlinecolor": "#2a3f5f"
                        },
                        "type": "carpet"
                      }
                    ],
                    "choropleth": [
                      {
                        "colorbar": {
                          "outlinewidth": 0,
                          "ticks": ""
                        },
                        "type": "choropleth"
                      }
                    ],
                    "contour": [
                      {
                        "colorbar": {
                          "outlinewidth": 0,
                          "ticks": ""
                        },
                        "colorscale": [
                          [
                            0,
                            "#0d0887"
                          ],
                          [
                            0.1111111111111111,
                            "#46039f"
                          ],
                          [
                            0.2222222222222222,
                            "#7201a8"
                          ],
                          [
                            0.3333333333333333,
                            "#9c179e"
                          ],
                          [
                            0.4444444444444444,
                            "#bd3786"
                          ],
                          [
                            0.5555555555555556,
                            "#d8576b"
                          ],
                          [
                            0.6666666666666666,
                            "#ed7953"
                          ],
                          [
                            0.7777777777777778,
                            "#fb9f3a"
                          ],
                          [
                            0.8888888888888888,
                            "#fdca26"
                          ],
                          [
                            1,
                            "#f0f921"
                          ]
                        ],
                        "type": "contour"
                      }
                    ],
                    "contourcarpet": [
                      {
                        "colorbar": {
                          "outlinewidth": 0,
                          "ticks": ""
                        },
                        "type": "contourcarpet"
                      }
                    ],
                    "heatmap": [
                      {
                        "colorbar": {
                          "outlinewidth": 0,
                          "ticks": ""
                        },
                        "colorscale": [
                          [
                            0,
                            "#0d0887"
                          ],
                          [
                            0.1111111111111111,
                            "#46039f"
                          ],
                          [
                            0.2222222222222222,
                            "#7201a8"
                          ],
                          [
                            0.3333333333333333,
                            "#9c179e"
                          ],
                          [
                            0.4444444444444444,
                            "#bd3786"
                          ],
                          [
                            0.5555555555555556,
                            "#d8576b"
                          ],
                          [
                            0.6666666666666666,
                            "#ed7953"
                          ],
                          [
                            0.7777777777777778,
                            "#fb9f3a"
                          ],
                          [
                            0.8888888888888888,
                            "#fdca26"
                          ],
                          [
                            1,
                            "#f0f921"
                          ]
                        ],
                        "type": "heatmap"
                      }
                    ],
                    "heatmapgl": [
                      {
                        "colorbar": {
                          "outlinewidth": 0,
                          "ticks": ""
                        },
                        "colorscale": [
                          [
                            0,
                            "#0d0887"
                          ],
                          [
                            0.1111111111111111,
                            "#46039f"
                          ],
                          [
                            0.2222222222222222,
                            "#7201a8"
                          ],
                          [
                            0.3333333333333333,
                            "#9c179e"
                          ],
                          [
                            0.4444444444444444,
                            "#bd3786"
                          ],
                          [
                            0.5555555555555556,
                            "#d8576b"
                          ],
                          [
                            0.6666666666666666,
                            "#ed7953"
                          ],
                          [
                            0.7777777777777778,
                            "#fb9f3a"
                          ],
                          [
                            0.8888888888888888,
                            "#fdca26"
                          ],
                          [
                            1,
                            "#f0f921"
                          ]
                        ],
                        "type": "heatmapgl"
                      }
                    ],
                    "histogram": [
                      {
                        "marker": {
                          "pattern": {
                            "fillmode": "overlay",
                            "size": 10,
                            "solidity": 0.2
                          }
                        },
                        "type": "histogram"
                      }
                    ],
                    "histogram2d": [
                      {
                        "colorbar": {
                          "outlinewidth": 0,
                          "ticks": ""
                        },
                        "colorscale": [
                          [
                            0,
                            "#0d0887"
                          ],
                          [
                            0.1111111111111111,
                            "#46039f"
                          ],
                          [
                            0.2222222222222222,
                            "#7201a8"
                          ],
                          [
                            0.3333333333333333,
                            "#9c179e"
                          ],
                          [
                            0.4444444444444444,
                            "#bd3786"
                          ],
                          [
                            0.5555555555555556,
                            "#d8576b"
                          ],
                          [
                            0.6666666666666666,
                            "#ed7953"
                          ],
                          [
                            0.7777777777777778,
                            "#fb9f3a"
                          ],
                          [
                            0.8888888888888888,
                            "#fdca26"
                          ],
                          [
                            1,
                            "#f0f921"
                          ]
                        ],
                        "type": "histogram2d"
                      }
                    ],
                    "histogram2dcontour": [
                      {
                        "colorbar": {
                          "outlinewidth": 0,
                          "ticks": ""
                        },
                        "colorscale": [
                          [
                            0,
                            "#0d0887"
                          ],
                          [
                            0.1111111111111111,
                            "#46039f"
                          ],
                          [
                            0.2222222222222222,
                            "#7201a8"
                          ],
                          [
                            0.3333333333333333,
                            "#9c179e"
                          ],
                          [
                            0.4444444444444444,
                            "#bd3786"
                          ],
                          [
                            0.5555555555555556,
                            "#d8576b"
                          ],
                          [
                            0.6666666666666666,
                            "#ed7953"
                          ],
                          [
                            0.7777777777777778,
                            "#fb9f3a"
                          ],
                          [
                            0.8888888888888888,
                            "#fdca26"
                          ],
                          [
                            1,
                            "#f0f921"
                          ]
                        ],
                        "type": "histogram2dcontour"
                      }
                    ],
                    "mesh3d": [
                      {
                        "colorbar": {
                          "outlinewidth": 0,
                          "ticks": ""
                        },
                        "type": "mesh3d"
                      }
                    ],
                    "parcoords": [
                      {
                        "line": {
                          "colorbar": {
                            "outlinewidth": 0,
                            "ticks": ""
                          }
                        },
                        "type": "parcoords"
                      }
                    ],
                    "pie": [
                      {
                        "automargin": true,
                        "type": "pie"
                      }
                    ],
                    "scatter": [
                      {
                        "marker": {
                          "colorbar": {
                            "outlinewidth": 0,
                            "ticks": ""
                          }
                        },
                        "type": "scatter"
                      }
                    ],
                    "scatter3d": [
                      {
                        "line": {
                          "colorbar": {
                            "outlinewidth": 0,
                            "ticks": ""
                          }
                        },
                        "marker": {
                          "colorbar": {
                            "outlinewidth": 0,
                            "ticks": ""
                          }
                        },
                        "type": "scatter3d"
                      }
                    ],
                    "scattercarpet": [
                      {
                        "marker": {
                          "colorbar": {
                            "outlinewidth": 0,
                            "ticks": ""
                          }
                        },
                        "type": "scattercarpet"
                      }
                    ],
                    "scattergeo": [
                      {
                        "marker": {
                          "colorbar": {
                            "outlinewidth": 0,
                            "ticks": ""
                          }
                        },
                        "type": "scattergeo"
                      }
                    ],
                    "scattergl": [
                      {
                        "marker": {
                          "colorbar": {
                            "outlinewidth": 0,
                            "ticks": ""
                          }
                        },
                        "type": "scattergl"
                      }
                    ],
                    "scattermapbox": [
                      {
                        "marker": {
                          "colorbar": {
                            "outlinewidth": 0,
                            "ticks": ""
                          }
                        },
                        "type": "scattermapbox"
                      }
                    ],
                    "scatterpolar": [
                      {
                        "marker": {
                          "colorbar": {
                            "outlinewidth": 0,
                            "ticks": ""
                          }
                        },
                        "type": "scatterpolar"
                      }
                    ],
                    "scatterpolargl": [
                      {
                        "marker": {
                          "colorbar": {
                            "outlinewidth": 0,
                            "ticks": ""
                          }
                        },
                        "type": "scatterpolargl"
                      }
                    ],
                    "scatterternary": [
                      {
                        "marker": {
                          "colorbar": {
                            "outlinewidth": 0,
                            "ticks": ""
                          }
                        },
                        "type": "scatterternary"
                      }
                    ],
                    "surface": [
                      {
                        "colorbar": {
                          "outlinewidth": 0,
                          "ticks": ""
                        },
                        "colorscale": [
                          [
                            0,
                            "#0d0887"
                          ],
                          [
                            0.1111111111111111,
                            "#46039f"
                          ],
                          [
                            0.2222222222222222,
                            "#7201a8"
                          ],
                          [
                            0.3333333333333333,
                            "#9c179e"
                          ],
                          [
                            0.4444444444444444,
                            "#bd3786"
                          ],
                          [
                            0.5555555555555556,
                            "#d8576b"
                          ],
                          [
                            0.6666666666666666,
                            "#ed7953"
                          ],
                          [
                            0.7777777777777778,
                            "#fb9f3a"
                          ],
                          [
                            0.8888888888888888,
                            "#fdca26"
                          ],
                          [
                            1,
                            "#f0f921"
                          ]
                        ],
                        "type": "surface"
                      }
                    ],
                    "table": [
                      {
                        "cells": {
                          "fill": {
                            "color": "#EBF0F8"
                          },
                          "line": {
                            "color": "white"
                          }
                        },
                        "header": {
                          "fill": {
                            "color": "#C8D4E3"
                          },
                          "line": {
                            "color": "white"
                          }
                        },
                        "type": "table"
                      }
                    ]
                  },
                  "layout": {
                    "annotationdefaults": {
                      "arrowcolor": "#2a3f5f",
                      "arrowhead": 0,
                      "arrowwidth": 1
                    },
                    "autotypenumbers": "strict",
                    "coloraxis": {
                      "colorbar": {
                        "outlinewidth": 0,
                        "ticks": ""
                      }
                    },
                    "colorscale": {
                      "diverging": [
                        [
                          0,
                          "#8e0152"
                        ],
                        [
                          0.1,
                          "#c51b7d"
                        ],
                        [
                          0.2,
                          "#de77ae"
                        ],
                        [
                          0.3,
                          "#f1b6da"
                        ],
                        [
                          0.4,
                          "#fde0ef"
                        ],
                        [
                          0.5,
                          "#f7f7f7"
                        ],
                        [
                          0.6,
                          "#e6f5d0"
                        ],
                        [
                          0.7,
                          "#b8e186"
                        ],
                        [
                          0.8,
                          "#7fbc41"
                        ],
                        [
                          0.9,
                          "#4d9221"
                        ],
                        [
                          1,
                          "#276419"
                        ]
                      ],
                      "sequential": [
                        [
                          0,
                          "#0d0887"
                        ],
                        [
                          0.1111111111111111,
                          "#46039f"
                        ],
                        [
                          0.2222222222222222,
                          "#7201a8"
                        ],
                        [
                          0.3333333333333333,
                          "#9c179e"
                        ],
                        [
                          0.4444444444444444,
                          "#bd3786"
                        ],
                        [
                          0.5555555555555556,
                          "#d8576b"
                        ],
                        [
                          0.6666666666666666,
                          "#ed7953"
                        ],
                        [
                          0.7777777777777778,
                          "#fb9f3a"
                        ],
                        [
                          0.8888888888888888,
                          "#fdca26"
                        ],
                        [
                          1,
                          "#f0f921"
                        ]
                      ],
                      "sequentialminus": [
                        [
                          0,
                          "#0d0887"
                        ],
                        [
                          0.1111111111111111,
                          "#46039f"
                        ],
                        [
                          0.2222222222222222,
                          "#7201a8"
                        ],
                        [
                          0.3333333333333333,
                          "#9c179e"
                        ],
                        [
                          0.4444444444444444,
                          "#bd3786"
                        ],
                        [
                          0.5555555555555556,
                          "#d8576b"
                        ],
                        [
                          0.6666666666666666,
                          "#ed7953"
                        ],
                        [
                          0.7777777777777778,
                          "#fb9f3a"
                        ],
                        [
                          0.8888888888888888,
                          "#fdca26"
                        ],
                        [
                          1,
                          "#f0f921"
                        ]
                      ]
                    },
                    "colorway": [
                      "#636efa",
                      "#EF553B",
                      "#00cc96",
                      "#ab63fa",
                      "#FFA15A",
                      "#19d3f3",
                      "#FF6692",
                      "#B6E880",
                      "#FF97FF",
                      "#FECB52"
                    ],
                    "font": {
                      "color": "#2a3f5f"
                    },
                    "geo": {
                      "bgcolor": "white",
                      "lakecolor": "white",
                      "landcolor": "#E5ECF6",
                      "showlakes": true,
                      "showland": true,
                      "subunitcolor": "white"
                    },
                    "hoverlabel": {
                      "align": "left"
                    },
                    "hovermode": "closest",
                    "mapbox": {
                      "style": "light"
                    },
                    "paper_bgcolor": "white",
                    "plot_bgcolor": "#E5ECF6",
                    "polar": {
                      "angularaxis": {
                        "gridcolor": "white",
                        "linecolor": "white",
                        "ticks": ""
                      },
                      "bgcolor": "#E5ECF6",
                      "radialaxis": {
                        "gridcolor": "white",
                        "linecolor": "white",
                        "ticks": ""
                      }
                    },
                    "scene": {
                      "xaxis": {
                        "backgroundcolor": "#E5ECF6",
                        "gridcolor": "white",
                        "gridwidth": 2,
                        "linecolor": "white",
                        "showbackground": true,
                        "ticks": "",
                        "zerolinecolor": "white"
                      },
                      "yaxis": {
                        "backgroundcolor": "#E5ECF6",
                        "gridcolor": "white",
                        "gridwidth": 2,
                        "linecolor": "white",
                        "showbackground": true,
                        "ticks": "",
                        "zerolinecolor": "white"
                      },
                      "zaxis": {
                        "backgroundcolor": "#E5ECF6",
                        "gridcolor": "white",
                        "gridwidth": 2,
                        "linecolor": "white",
                        "showbackground": true,
                        "ticks": "",
                        "zerolinecolor": "white"
                      }
                    },
                    "shapedefaults": {
                      "line": {
                        "color": "#2a3f5f"
                      }
                    },
                    "ternary": {
                      "aaxis": {
                        "gridcolor": "white",
                        "linecolor": "white",
                        "ticks": ""
                      },
                      "baxis": {
                        "gridcolor": "white",
                        "linecolor": "white",
                        "ticks": ""
                      },
                      "bgcolor": "#E5ECF6",
                      "caxis": {
                        "gridcolor": "white",
                        "linecolor": "white",
                        "ticks": ""
                      }
                    },
                    "title": {
                      "x": 0.05
                    },
                    "xaxis": {
                      "automargin": true,
                      "gridcolor": "white",
                      "linecolor": "white",
                      "ticks": "",
                      "title": {
                        "standoff": 15
                      },
                      "zerolinecolor": "white",
                      "zerolinewidth": 2
                    },
                    "yaxis": {
                      "automargin": true,
                      "gridcolor": "white",
                      "linecolor": "white",
                      "ticks": "",
                      "title": {
                        "standoff": 15
                      },
                      "zerolinecolor": "white",
                      "zerolinewidth": 2
                    }
                  }
                },
                "title": {
                  "text": "Consumo de alimentos por classe na regiao norte"
                },
                "xaxis": {
                  "anchor": "y",
                  "domain": [
                    0,
                    1
                  ],
                  "title": {
                    "text": "Alimentos"
                  }
                },
                "yaxis": {
                  "anchor": "x",
                  "domain": [
                    0,
                    1
                  ],
                  "title": {
                    "text": "Consumo anual per capita (kg)"
                  }
                }
              }
            }
          },
          "metadata": {},
          "output_type": "display_data"
        }
      ],
      "source": [
        "fig = px.bar(consumo_norte, barmode = 'group', x = 'Items', y = ['Classe A', 'Classe B', 'Classe C', 'Classe D', 'Classe E'], title = 'Consumo de alimentos por classe na regiao norte', labels= {'Items': 'Alimentos', 'value': 'Consumo anual per capita (kg)' })\n",
        "fig.show()"
      ]
    },
    {
      "cell_type": "markdown",
      "metadata": {},
      "source": [
        "* Região Centro-Oeste"
      ]
    },
    {
      "cell_type": "code",
      "execution_count": 111,
      "metadata": {},
      "outputs": [
        {
          "data": {
            "application/vnd.plotly.v1+json": {
              "config": {
                "plotlyServerURL": "https://plot.ly"
              },
              "data": [
                {
                  "alignmentgroup": "True",
                  "hovertemplate": "variable=Classe A<br>Alimentos=%{x}<br>Consumo anual per capita (kg)=%{y}<extra></extra>",
                  "legendgroup": "Classe A",
                  "marker": {
                    "color": "#636efa",
                    "pattern": {
                      "shape": ""
                    }
                  },
                  "name": "Classe A",
                  "offsetgroup": "Classe A",
                  "orientation": "v",
                  "showlegend": true,
                  "textposition": "auto",
                  "type": "bar",
                  "x": [
                    " Arroz polido",
                    "Feijão-mulatinho",
                    "Feijão-preto",
                    "Farinha de mandioca",
                    "Farinha de trigo",
                    "Fubá de milho",
                    "Açúcar cristal",
                    "Molho de tomate",
                    "Óleo de soja",
                    "Café moído"
                  ],
                  "xaxis": "x",
                  "y": [
                    15.87,
                    0.23,
                    1.5,
                    4.54,
                    0.42,
                    1.12,
                    7.44,
                    0.71,
                    3.36,
                    1.71
                  ],
                  "yaxis": "y"
                },
                {
                  "alignmentgroup": "True",
                  "hovertemplate": "variable=Classe B<br>Alimentos=%{x}<br>Consumo anual per capita (kg)=%{y}<extra></extra>",
                  "legendgroup": "Classe B",
                  "marker": {
                    "color": "#EF553B",
                    "pattern": {
                      "shape": ""
                    }
                  },
                  "name": "Classe B",
                  "offsetgroup": "Classe B",
                  "orientation": "v",
                  "showlegend": true,
                  "textposition": "auto",
                  "type": "bar",
                  "x": [
                    " Arroz polido",
                    "Feijão-mulatinho",
                    "Feijão-preto",
                    "Farinha de mandioca",
                    "Farinha de trigo",
                    "Fubá de milho",
                    "Açúcar cristal",
                    "Molho de tomate",
                    "Óleo de soja",
                    "Café moído"
                  ],
                  "xaxis": "x",
                  "y": [
                    16.49,
                    0.06,
                    0.71,
                    8.01,
                    0.96,
                    0.32,
                    5.92,
                    1.07,
                    2.95,
                    2.15
                  ],
                  "yaxis": "y"
                },
                {
                  "alignmentgroup": "True",
                  "hovertemplate": "variable=Classe C<br>Alimentos=%{x}<br>Consumo anual per capita (kg)=%{y}<extra></extra>",
                  "legendgroup": "Classe C",
                  "marker": {
                    "color": "#00cc96",
                    "pattern": {
                      "shape": ""
                    }
                  },
                  "name": "Classe C",
                  "offsetgroup": "Classe C",
                  "orientation": "v",
                  "showlegend": true,
                  "textposition": "auto",
                  "type": "bar",
                  "x": [
                    " Arroz polido",
                    "Feijão-mulatinho",
                    "Feijão-preto",
                    "Farinha de mandioca",
                    "Farinha de trigo",
                    "Fubá de milho",
                    "Açúcar cristal",
                    "Molho de tomate",
                    "Óleo de soja",
                    "Café moído"
                  ],
                  "xaxis": "x",
                  "y": [
                    18.65,
                    0.24,
                    0.79,
                    11.27,
                    1.66,
                    0.82,
                    7.97,
                    0.61,
                    4.09,
                    2.17
                  ],
                  "yaxis": "y"
                },
                {
                  "alignmentgroup": "True",
                  "hovertemplate": "variable=Classe D<br>Alimentos=%{x}<br>Consumo anual per capita (kg)=%{y}<extra></extra>",
                  "legendgroup": "Classe D",
                  "marker": {
                    "color": "#ab63fa",
                    "pattern": {
                      "shape": ""
                    }
                  },
                  "name": "Classe D",
                  "offsetgroup": "Classe D",
                  "orientation": "v",
                  "showlegend": true,
                  "textposition": "auto",
                  "type": "bar",
                  "x": [
                    " Arroz polido",
                    "Feijão-mulatinho",
                    "Feijão-preto",
                    "Farinha de mandioca",
                    "Farinha de trigo",
                    "Fubá de milho",
                    "Açúcar cristal",
                    "Molho de tomate",
                    "Óleo de soja",
                    "Café moído"
                  ],
                  "xaxis": "x",
                  "y": [
                    16.94,
                    0.52,
                    1.11,
                    9.6,
                    1.8,
                    0.84,
                    5.66,
                    0.29,
                    4.52,
                    2.05
                  ],
                  "yaxis": "y"
                },
                {
                  "alignmentgroup": "True",
                  "hovertemplate": "variable=Classe E<br>Alimentos=%{x}<br>Consumo anual per capita (kg)=%{y}<extra></extra>",
                  "legendgroup": "Classe E",
                  "marker": {
                    "color": "#FFA15A",
                    "pattern": {
                      "shape": ""
                    }
                  },
                  "name": "Classe E",
                  "offsetgroup": "Classe E",
                  "orientation": "v",
                  "showlegend": true,
                  "textposition": "auto",
                  "type": "bar",
                  "x": [
                    " Arroz polido",
                    "Feijão-mulatinho",
                    "Feijão-preto",
                    "Farinha de mandioca",
                    "Farinha de trigo",
                    "Fubá de milho",
                    "Açúcar cristal",
                    "Molho de tomate",
                    "Óleo de soja",
                    "Café moído"
                  ],
                  "xaxis": "x",
                  "y": [
                    19.64,
                    0.56,
                    0.69,
                    12.01,
                    1.13,
                    0.88,
                    5.96,
                    0.18,
                    4.17,
                    2.11
                  ],
                  "yaxis": "y"
                }
              ],
              "layout": {
                "barmode": "group",
                "legend": {
                  "title": {
                    "text": "variable"
                  },
                  "tracegroupgap": 0
                },
                "template": {
                  "data": {
                    "bar": [
                      {
                        "error_x": {
                          "color": "#2a3f5f"
                        },
                        "error_y": {
                          "color": "#2a3f5f"
                        },
                        "marker": {
                          "line": {
                            "color": "#E5ECF6",
                            "width": 0.5
                          },
                          "pattern": {
                            "fillmode": "overlay",
                            "size": 10,
                            "solidity": 0.2
                          }
                        },
                        "type": "bar"
                      }
                    ],
                    "barpolar": [
                      {
                        "marker": {
                          "line": {
                            "color": "#E5ECF6",
                            "width": 0.5
                          },
                          "pattern": {
                            "fillmode": "overlay",
                            "size": 10,
                            "solidity": 0.2
                          }
                        },
                        "type": "barpolar"
                      }
                    ],
                    "carpet": [
                      {
                        "aaxis": {
                          "endlinecolor": "#2a3f5f",
                          "gridcolor": "white",
                          "linecolor": "white",
                          "minorgridcolor": "white",
                          "startlinecolor": "#2a3f5f"
                        },
                        "baxis": {
                          "endlinecolor": "#2a3f5f",
                          "gridcolor": "white",
                          "linecolor": "white",
                          "minorgridcolor": "white",
                          "startlinecolor": "#2a3f5f"
                        },
                        "type": "carpet"
                      }
                    ],
                    "choropleth": [
                      {
                        "colorbar": {
                          "outlinewidth": 0,
                          "ticks": ""
                        },
                        "type": "choropleth"
                      }
                    ],
                    "contour": [
                      {
                        "colorbar": {
                          "outlinewidth": 0,
                          "ticks": ""
                        },
                        "colorscale": [
                          [
                            0,
                            "#0d0887"
                          ],
                          [
                            0.1111111111111111,
                            "#46039f"
                          ],
                          [
                            0.2222222222222222,
                            "#7201a8"
                          ],
                          [
                            0.3333333333333333,
                            "#9c179e"
                          ],
                          [
                            0.4444444444444444,
                            "#bd3786"
                          ],
                          [
                            0.5555555555555556,
                            "#d8576b"
                          ],
                          [
                            0.6666666666666666,
                            "#ed7953"
                          ],
                          [
                            0.7777777777777778,
                            "#fb9f3a"
                          ],
                          [
                            0.8888888888888888,
                            "#fdca26"
                          ],
                          [
                            1,
                            "#f0f921"
                          ]
                        ],
                        "type": "contour"
                      }
                    ],
                    "contourcarpet": [
                      {
                        "colorbar": {
                          "outlinewidth": 0,
                          "ticks": ""
                        },
                        "type": "contourcarpet"
                      }
                    ],
                    "heatmap": [
                      {
                        "colorbar": {
                          "outlinewidth": 0,
                          "ticks": ""
                        },
                        "colorscale": [
                          [
                            0,
                            "#0d0887"
                          ],
                          [
                            0.1111111111111111,
                            "#46039f"
                          ],
                          [
                            0.2222222222222222,
                            "#7201a8"
                          ],
                          [
                            0.3333333333333333,
                            "#9c179e"
                          ],
                          [
                            0.4444444444444444,
                            "#bd3786"
                          ],
                          [
                            0.5555555555555556,
                            "#d8576b"
                          ],
                          [
                            0.6666666666666666,
                            "#ed7953"
                          ],
                          [
                            0.7777777777777778,
                            "#fb9f3a"
                          ],
                          [
                            0.8888888888888888,
                            "#fdca26"
                          ],
                          [
                            1,
                            "#f0f921"
                          ]
                        ],
                        "type": "heatmap"
                      }
                    ],
                    "heatmapgl": [
                      {
                        "colorbar": {
                          "outlinewidth": 0,
                          "ticks": ""
                        },
                        "colorscale": [
                          [
                            0,
                            "#0d0887"
                          ],
                          [
                            0.1111111111111111,
                            "#46039f"
                          ],
                          [
                            0.2222222222222222,
                            "#7201a8"
                          ],
                          [
                            0.3333333333333333,
                            "#9c179e"
                          ],
                          [
                            0.4444444444444444,
                            "#bd3786"
                          ],
                          [
                            0.5555555555555556,
                            "#d8576b"
                          ],
                          [
                            0.6666666666666666,
                            "#ed7953"
                          ],
                          [
                            0.7777777777777778,
                            "#fb9f3a"
                          ],
                          [
                            0.8888888888888888,
                            "#fdca26"
                          ],
                          [
                            1,
                            "#f0f921"
                          ]
                        ],
                        "type": "heatmapgl"
                      }
                    ],
                    "histogram": [
                      {
                        "marker": {
                          "pattern": {
                            "fillmode": "overlay",
                            "size": 10,
                            "solidity": 0.2
                          }
                        },
                        "type": "histogram"
                      }
                    ],
                    "histogram2d": [
                      {
                        "colorbar": {
                          "outlinewidth": 0,
                          "ticks": ""
                        },
                        "colorscale": [
                          [
                            0,
                            "#0d0887"
                          ],
                          [
                            0.1111111111111111,
                            "#46039f"
                          ],
                          [
                            0.2222222222222222,
                            "#7201a8"
                          ],
                          [
                            0.3333333333333333,
                            "#9c179e"
                          ],
                          [
                            0.4444444444444444,
                            "#bd3786"
                          ],
                          [
                            0.5555555555555556,
                            "#d8576b"
                          ],
                          [
                            0.6666666666666666,
                            "#ed7953"
                          ],
                          [
                            0.7777777777777778,
                            "#fb9f3a"
                          ],
                          [
                            0.8888888888888888,
                            "#fdca26"
                          ],
                          [
                            1,
                            "#f0f921"
                          ]
                        ],
                        "type": "histogram2d"
                      }
                    ],
                    "histogram2dcontour": [
                      {
                        "colorbar": {
                          "outlinewidth": 0,
                          "ticks": ""
                        },
                        "colorscale": [
                          [
                            0,
                            "#0d0887"
                          ],
                          [
                            0.1111111111111111,
                            "#46039f"
                          ],
                          [
                            0.2222222222222222,
                            "#7201a8"
                          ],
                          [
                            0.3333333333333333,
                            "#9c179e"
                          ],
                          [
                            0.4444444444444444,
                            "#bd3786"
                          ],
                          [
                            0.5555555555555556,
                            "#d8576b"
                          ],
                          [
                            0.6666666666666666,
                            "#ed7953"
                          ],
                          [
                            0.7777777777777778,
                            "#fb9f3a"
                          ],
                          [
                            0.8888888888888888,
                            "#fdca26"
                          ],
                          [
                            1,
                            "#f0f921"
                          ]
                        ],
                        "type": "histogram2dcontour"
                      }
                    ],
                    "mesh3d": [
                      {
                        "colorbar": {
                          "outlinewidth": 0,
                          "ticks": ""
                        },
                        "type": "mesh3d"
                      }
                    ],
                    "parcoords": [
                      {
                        "line": {
                          "colorbar": {
                            "outlinewidth": 0,
                            "ticks": ""
                          }
                        },
                        "type": "parcoords"
                      }
                    ],
                    "pie": [
                      {
                        "automargin": true,
                        "type": "pie"
                      }
                    ],
                    "scatter": [
                      {
                        "marker": {
                          "colorbar": {
                            "outlinewidth": 0,
                            "ticks": ""
                          }
                        },
                        "type": "scatter"
                      }
                    ],
                    "scatter3d": [
                      {
                        "line": {
                          "colorbar": {
                            "outlinewidth": 0,
                            "ticks": ""
                          }
                        },
                        "marker": {
                          "colorbar": {
                            "outlinewidth": 0,
                            "ticks": ""
                          }
                        },
                        "type": "scatter3d"
                      }
                    ],
                    "scattercarpet": [
                      {
                        "marker": {
                          "colorbar": {
                            "outlinewidth": 0,
                            "ticks": ""
                          }
                        },
                        "type": "scattercarpet"
                      }
                    ],
                    "scattergeo": [
                      {
                        "marker": {
                          "colorbar": {
                            "outlinewidth": 0,
                            "ticks": ""
                          }
                        },
                        "type": "scattergeo"
                      }
                    ],
                    "scattergl": [
                      {
                        "marker": {
                          "colorbar": {
                            "outlinewidth": 0,
                            "ticks": ""
                          }
                        },
                        "type": "scattergl"
                      }
                    ],
                    "scattermapbox": [
                      {
                        "marker": {
                          "colorbar": {
                            "outlinewidth": 0,
                            "ticks": ""
                          }
                        },
                        "type": "scattermapbox"
                      }
                    ],
                    "scatterpolar": [
                      {
                        "marker": {
                          "colorbar": {
                            "outlinewidth": 0,
                            "ticks": ""
                          }
                        },
                        "type": "scatterpolar"
                      }
                    ],
                    "scatterpolargl": [
                      {
                        "marker": {
                          "colorbar": {
                            "outlinewidth": 0,
                            "ticks": ""
                          }
                        },
                        "type": "scatterpolargl"
                      }
                    ],
                    "scatterternary": [
                      {
                        "marker": {
                          "colorbar": {
                            "outlinewidth": 0,
                            "ticks": ""
                          }
                        },
                        "type": "scatterternary"
                      }
                    ],
                    "surface": [
                      {
                        "colorbar": {
                          "outlinewidth": 0,
                          "ticks": ""
                        },
                        "colorscale": [
                          [
                            0,
                            "#0d0887"
                          ],
                          [
                            0.1111111111111111,
                            "#46039f"
                          ],
                          [
                            0.2222222222222222,
                            "#7201a8"
                          ],
                          [
                            0.3333333333333333,
                            "#9c179e"
                          ],
                          [
                            0.4444444444444444,
                            "#bd3786"
                          ],
                          [
                            0.5555555555555556,
                            "#d8576b"
                          ],
                          [
                            0.6666666666666666,
                            "#ed7953"
                          ],
                          [
                            0.7777777777777778,
                            "#fb9f3a"
                          ],
                          [
                            0.8888888888888888,
                            "#fdca26"
                          ],
                          [
                            1,
                            "#f0f921"
                          ]
                        ],
                        "type": "surface"
                      }
                    ],
                    "table": [
                      {
                        "cells": {
                          "fill": {
                            "color": "#EBF0F8"
                          },
                          "line": {
                            "color": "white"
                          }
                        },
                        "header": {
                          "fill": {
                            "color": "#C8D4E3"
                          },
                          "line": {
                            "color": "white"
                          }
                        },
                        "type": "table"
                      }
                    ]
                  },
                  "layout": {
                    "annotationdefaults": {
                      "arrowcolor": "#2a3f5f",
                      "arrowhead": 0,
                      "arrowwidth": 1
                    },
                    "autotypenumbers": "strict",
                    "coloraxis": {
                      "colorbar": {
                        "outlinewidth": 0,
                        "ticks": ""
                      }
                    },
                    "colorscale": {
                      "diverging": [
                        [
                          0,
                          "#8e0152"
                        ],
                        [
                          0.1,
                          "#c51b7d"
                        ],
                        [
                          0.2,
                          "#de77ae"
                        ],
                        [
                          0.3,
                          "#f1b6da"
                        ],
                        [
                          0.4,
                          "#fde0ef"
                        ],
                        [
                          0.5,
                          "#f7f7f7"
                        ],
                        [
                          0.6,
                          "#e6f5d0"
                        ],
                        [
                          0.7,
                          "#b8e186"
                        ],
                        [
                          0.8,
                          "#7fbc41"
                        ],
                        [
                          0.9,
                          "#4d9221"
                        ],
                        [
                          1,
                          "#276419"
                        ]
                      ],
                      "sequential": [
                        [
                          0,
                          "#0d0887"
                        ],
                        [
                          0.1111111111111111,
                          "#46039f"
                        ],
                        [
                          0.2222222222222222,
                          "#7201a8"
                        ],
                        [
                          0.3333333333333333,
                          "#9c179e"
                        ],
                        [
                          0.4444444444444444,
                          "#bd3786"
                        ],
                        [
                          0.5555555555555556,
                          "#d8576b"
                        ],
                        [
                          0.6666666666666666,
                          "#ed7953"
                        ],
                        [
                          0.7777777777777778,
                          "#fb9f3a"
                        ],
                        [
                          0.8888888888888888,
                          "#fdca26"
                        ],
                        [
                          1,
                          "#f0f921"
                        ]
                      ],
                      "sequentialminus": [
                        [
                          0,
                          "#0d0887"
                        ],
                        [
                          0.1111111111111111,
                          "#46039f"
                        ],
                        [
                          0.2222222222222222,
                          "#7201a8"
                        ],
                        [
                          0.3333333333333333,
                          "#9c179e"
                        ],
                        [
                          0.4444444444444444,
                          "#bd3786"
                        ],
                        [
                          0.5555555555555556,
                          "#d8576b"
                        ],
                        [
                          0.6666666666666666,
                          "#ed7953"
                        ],
                        [
                          0.7777777777777778,
                          "#fb9f3a"
                        ],
                        [
                          0.8888888888888888,
                          "#fdca26"
                        ],
                        [
                          1,
                          "#f0f921"
                        ]
                      ]
                    },
                    "colorway": [
                      "#636efa",
                      "#EF553B",
                      "#00cc96",
                      "#ab63fa",
                      "#FFA15A",
                      "#19d3f3",
                      "#FF6692",
                      "#B6E880",
                      "#FF97FF",
                      "#FECB52"
                    ],
                    "font": {
                      "color": "#2a3f5f"
                    },
                    "geo": {
                      "bgcolor": "white",
                      "lakecolor": "white",
                      "landcolor": "#E5ECF6",
                      "showlakes": true,
                      "showland": true,
                      "subunitcolor": "white"
                    },
                    "hoverlabel": {
                      "align": "left"
                    },
                    "hovermode": "closest",
                    "mapbox": {
                      "style": "light"
                    },
                    "paper_bgcolor": "white",
                    "plot_bgcolor": "#E5ECF6",
                    "polar": {
                      "angularaxis": {
                        "gridcolor": "white",
                        "linecolor": "white",
                        "ticks": ""
                      },
                      "bgcolor": "#E5ECF6",
                      "radialaxis": {
                        "gridcolor": "white",
                        "linecolor": "white",
                        "ticks": ""
                      }
                    },
                    "scene": {
                      "xaxis": {
                        "backgroundcolor": "#E5ECF6",
                        "gridcolor": "white",
                        "gridwidth": 2,
                        "linecolor": "white",
                        "showbackground": true,
                        "ticks": "",
                        "zerolinecolor": "white"
                      },
                      "yaxis": {
                        "backgroundcolor": "#E5ECF6",
                        "gridcolor": "white",
                        "gridwidth": 2,
                        "linecolor": "white",
                        "showbackground": true,
                        "ticks": "",
                        "zerolinecolor": "white"
                      },
                      "zaxis": {
                        "backgroundcolor": "#E5ECF6",
                        "gridcolor": "white",
                        "gridwidth": 2,
                        "linecolor": "white",
                        "showbackground": true,
                        "ticks": "",
                        "zerolinecolor": "white"
                      }
                    },
                    "shapedefaults": {
                      "line": {
                        "color": "#2a3f5f"
                      }
                    },
                    "ternary": {
                      "aaxis": {
                        "gridcolor": "white",
                        "linecolor": "white",
                        "ticks": ""
                      },
                      "baxis": {
                        "gridcolor": "white",
                        "linecolor": "white",
                        "ticks": ""
                      },
                      "bgcolor": "#E5ECF6",
                      "caxis": {
                        "gridcolor": "white",
                        "linecolor": "white",
                        "ticks": ""
                      }
                    },
                    "title": {
                      "x": 0.05
                    },
                    "xaxis": {
                      "automargin": true,
                      "gridcolor": "white",
                      "linecolor": "white",
                      "ticks": "",
                      "title": {
                        "standoff": 15
                      },
                      "zerolinecolor": "white",
                      "zerolinewidth": 2
                    },
                    "yaxis": {
                      "automargin": true,
                      "gridcolor": "white",
                      "linecolor": "white",
                      "ticks": "",
                      "title": {
                        "standoff": 15
                      },
                      "zerolinecolor": "white",
                      "zerolinewidth": 2
                    }
                  }
                },
                "title": {
                  "text": "Consumo de alimentos por classe na regiao centro-oeste"
                },
                "xaxis": {
                  "anchor": "y",
                  "domain": [
                    0,
                    1
                  ],
                  "title": {
                    "text": "Alimentos"
                  }
                },
                "yaxis": {
                  "anchor": "x",
                  "domain": [
                    0,
                    1
                  ],
                  "title": {
                    "text": "Consumo anual per capita (kg)"
                  }
                }
              }
            }
          },
          "metadata": {},
          "output_type": "display_data"
        }
      ],
      "source": [
        "fig = px.bar(consumo_norte, barmode = 'group', x = 'Items', y = ['Classe A', 'Classe B', 'Classe C', 'Classe D', 'Classe E'], title = 'Consumo de alimentos por classe na regiao centro-oeste', labels= {'Items': 'Alimentos', 'value': 'Consumo anual per capita (kg)' })\n",
        "fig.show()"
      ]
    },
    {
      "cell_type": "markdown",
      "metadata": {},
      "source": [
        "* Região Sul "
      ]
    },
    {
      "cell_type": "code",
      "execution_count": 112,
      "metadata": {},
      "outputs": [
        {
          "data": {
            "application/vnd.plotly.v1+json": {
              "config": {
                "plotlyServerURL": "https://plot.ly"
              },
              "data": [
                {
                  "alignmentgroup": "True",
                  "hovertemplate": "variable=Classe A<br>Alimentos=%{x}<br>Consumo anual per capita (kg)=%{y}<extra></extra>",
                  "legendgroup": "Classe A",
                  "marker": {
                    "color": "#636efa",
                    "pattern": {
                      "shape": ""
                    }
                  },
                  "name": "Classe A",
                  "offsetgroup": "Classe A",
                  "orientation": "v",
                  "showlegend": true,
                  "textposition": "auto",
                  "type": "bar",
                  "x": [
                    " Arroz polido",
                    "Feijão-mulatinho",
                    "Feijão-preto",
                    "Farinha de mandioca",
                    "Farinha de trigo",
                    "Fubá de milho",
                    "Açúcar cristal",
                    "Molho de tomate",
                    "Óleo de soja",
                    "Café moído"
                  ],
                  "xaxis": "x",
                  "y": [
                    10.46,
                    0.08,
                    2.21,
                    0.36,
                    6.39,
                    0.57,
                    2.82,
                    1.74,
                    4.32,
                    2.54
                  ],
                  "yaxis": "y"
                },
                {
                  "alignmentgroup": "True",
                  "hovertemplate": "variable=Classe B<br>Alimentos=%{x}<br>Consumo anual per capita (kg)=%{y}<extra></extra>",
                  "legendgroup": "Classe B",
                  "marker": {
                    "color": "#EF553B",
                    "pattern": {
                      "shape": ""
                    }
                  },
                  "name": "Classe B",
                  "offsetgroup": "Classe B",
                  "orientation": "v",
                  "showlegend": true,
                  "textposition": "auto",
                  "type": "bar",
                  "x": [
                    " Arroz polido",
                    "Feijão-mulatinho",
                    "Feijão-preto",
                    "Farinha de mandioca",
                    "Farinha de trigo",
                    "Fubá de milho",
                    "Açúcar cristal",
                    "Molho de tomate",
                    "Óleo de soja",
                    "Café moído"
                  ],
                  "xaxis": "x",
                  "y": [
                    11.29,
                    0.06,
                    2,
                    0.34,
                    5.94,
                    0.9,
                    4.03,
                    1.38,
                    4.03,
                    2.49
                  ],
                  "yaxis": "y"
                },
                {
                  "alignmentgroup": "True",
                  "hovertemplate": "variable=Classe C<br>Alimentos=%{x}<br>Consumo anual per capita (kg)=%{y}<extra></extra>",
                  "legendgroup": "Classe C",
                  "marker": {
                    "color": "#00cc96",
                    "pattern": {
                      "shape": ""
                    }
                  },
                  "name": "Classe C",
                  "offsetgroup": "Classe C",
                  "orientation": "v",
                  "showlegend": true,
                  "textposition": "auto",
                  "type": "bar",
                  "x": [
                    " Arroz polido",
                    "Feijão-mulatinho",
                    "Feijão-preto",
                    "Farinha de mandioca",
                    "Farinha de trigo",
                    "Fubá de milho",
                    "Açúcar cristal",
                    "Molho de tomate",
                    "Óleo de soja",
                    "Café moído"
                  ],
                  "xaxis": "x",
                  "y": [
                    12.16,
                    0.12,
                    2.33,
                    0.33,
                    6.47,
                    0.78,
                    3.37,
                    1.24,
                    4.81,
                    2.07
                  ],
                  "yaxis": "y"
                },
                {
                  "alignmentgroup": "True",
                  "hovertemplate": "variable=Classe D<br>Alimentos=%{x}<br>Consumo anual per capita (kg)=%{y}<extra></extra>",
                  "legendgroup": "Classe D",
                  "marker": {
                    "color": "#ab63fa",
                    "pattern": {
                      "shape": ""
                    }
                  },
                  "name": "Classe D",
                  "offsetgroup": "Classe D",
                  "orientation": "v",
                  "showlegend": true,
                  "textposition": "auto",
                  "type": "bar",
                  "x": [
                    " Arroz polido",
                    "Feijão-mulatinho",
                    "Feijão-preto",
                    "Farinha de mandioca",
                    "Farinha de trigo",
                    "Fubá de milho",
                    "Açúcar cristal",
                    "Molho de tomate",
                    "Óleo de soja",
                    "Café moído"
                  ],
                  "xaxis": "x",
                  "y": [
                    15.77,
                    0.36,
                    2.78,
                    0.43,
                    8.59,
                    1.23,
                    5.11,
                    0.95,
                    5.39,
                    2.25
                  ],
                  "yaxis": "y"
                },
                {
                  "alignmentgroup": "True",
                  "hovertemplate": "variable=Classe E<br>Alimentos=%{x}<br>Consumo anual per capita (kg)=%{y}<extra></extra>",
                  "legendgroup": "Classe E",
                  "marker": {
                    "color": "#FFA15A",
                    "pattern": {
                      "shape": ""
                    }
                  },
                  "name": "Classe E",
                  "offsetgroup": "Classe E",
                  "orientation": "v",
                  "showlegend": true,
                  "textposition": "auto",
                  "type": "bar",
                  "x": [
                    " Arroz polido",
                    "Feijão-mulatinho",
                    "Feijão-preto",
                    "Farinha de mandioca",
                    "Farinha de trigo",
                    "Fubá de milho",
                    "Açúcar cristal",
                    "Molho de tomate",
                    "Óleo de soja",
                    "Café moído"
                  ],
                  "xaxis": "x",
                  "y": [
                    19.33,
                    0.54,
                    3.39,
                    0.45,
                    7.75,
                    1.2,
                    6.3,
                    1.04,
                    5.6,
                    2.52
                  ],
                  "yaxis": "y"
                }
              ],
              "layout": {
                "barmode": "group",
                "legend": {
                  "title": {
                    "text": "variable"
                  },
                  "tracegroupgap": 0
                },
                "template": {
                  "data": {
                    "bar": [
                      {
                        "error_x": {
                          "color": "#2a3f5f"
                        },
                        "error_y": {
                          "color": "#2a3f5f"
                        },
                        "marker": {
                          "line": {
                            "color": "#E5ECF6",
                            "width": 0.5
                          },
                          "pattern": {
                            "fillmode": "overlay",
                            "size": 10,
                            "solidity": 0.2
                          }
                        },
                        "type": "bar"
                      }
                    ],
                    "barpolar": [
                      {
                        "marker": {
                          "line": {
                            "color": "#E5ECF6",
                            "width": 0.5
                          },
                          "pattern": {
                            "fillmode": "overlay",
                            "size": 10,
                            "solidity": 0.2
                          }
                        },
                        "type": "barpolar"
                      }
                    ],
                    "carpet": [
                      {
                        "aaxis": {
                          "endlinecolor": "#2a3f5f",
                          "gridcolor": "white",
                          "linecolor": "white",
                          "minorgridcolor": "white",
                          "startlinecolor": "#2a3f5f"
                        },
                        "baxis": {
                          "endlinecolor": "#2a3f5f",
                          "gridcolor": "white",
                          "linecolor": "white",
                          "minorgridcolor": "white",
                          "startlinecolor": "#2a3f5f"
                        },
                        "type": "carpet"
                      }
                    ],
                    "choropleth": [
                      {
                        "colorbar": {
                          "outlinewidth": 0,
                          "ticks": ""
                        },
                        "type": "choropleth"
                      }
                    ],
                    "contour": [
                      {
                        "colorbar": {
                          "outlinewidth": 0,
                          "ticks": ""
                        },
                        "colorscale": [
                          [
                            0,
                            "#0d0887"
                          ],
                          [
                            0.1111111111111111,
                            "#46039f"
                          ],
                          [
                            0.2222222222222222,
                            "#7201a8"
                          ],
                          [
                            0.3333333333333333,
                            "#9c179e"
                          ],
                          [
                            0.4444444444444444,
                            "#bd3786"
                          ],
                          [
                            0.5555555555555556,
                            "#d8576b"
                          ],
                          [
                            0.6666666666666666,
                            "#ed7953"
                          ],
                          [
                            0.7777777777777778,
                            "#fb9f3a"
                          ],
                          [
                            0.8888888888888888,
                            "#fdca26"
                          ],
                          [
                            1,
                            "#f0f921"
                          ]
                        ],
                        "type": "contour"
                      }
                    ],
                    "contourcarpet": [
                      {
                        "colorbar": {
                          "outlinewidth": 0,
                          "ticks": ""
                        },
                        "type": "contourcarpet"
                      }
                    ],
                    "heatmap": [
                      {
                        "colorbar": {
                          "outlinewidth": 0,
                          "ticks": ""
                        },
                        "colorscale": [
                          [
                            0,
                            "#0d0887"
                          ],
                          [
                            0.1111111111111111,
                            "#46039f"
                          ],
                          [
                            0.2222222222222222,
                            "#7201a8"
                          ],
                          [
                            0.3333333333333333,
                            "#9c179e"
                          ],
                          [
                            0.4444444444444444,
                            "#bd3786"
                          ],
                          [
                            0.5555555555555556,
                            "#d8576b"
                          ],
                          [
                            0.6666666666666666,
                            "#ed7953"
                          ],
                          [
                            0.7777777777777778,
                            "#fb9f3a"
                          ],
                          [
                            0.8888888888888888,
                            "#fdca26"
                          ],
                          [
                            1,
                            "#f0f921"
                          ]
                        ],
                        "type": "heatmap"
                      }
                    ],
                    "heatmapgl": [
                      {
                        "colorbar": {
                          "outlinewidth": 0,
                          "ticks": ""
                        },
                        "colorscale": [
                          [
                            0,
                            "#0d0887"
                          ],
                          [
                            0.1111111111111111,
                            "#46039f"
                          ],
                          [
                            0.2222222222222222,
                            "#7201a8"
                          ],
                          [
                            0.3333333333333333,
                            "#9c179e"
                          ],
                          [
                            0.4444444444444444,
                            "#bd3786"
                          ],
                          [
                            0.5555555555555556,
                            "#d8576b"
                          ],
                          [
                            0.6666666666666666,
                            "#ed7953"
                          ],
                          [
                            0.7777777777777778,
                            "#fb9f3a"
                          ],
                          [
                            0.8888888888888888,
                            "#fdca26"
                          ],
                          [
                            1,
                            "#f0f921"
                          ]
                        ],
                        "type": "heatmapgl"
                      }
                    ],
                    "histogram": [
                      {
                        "marker": {
                          "pattern": {
                            "fillmode": "overlay",
                            "size": 10,
                            "solidity": 0.2
                          }
                        },
                        "type": "histogram"
                      }
                    ],
                    "histogram2d": [
                      {
                        "colorbar": {
                          "outlinewidth": 0,
                          "ticks": ""
                        },
                        "colorscale": [
                          [
                            0,
                            "#0d0887"
                          ],
                          [
                            0.1111111111111111,
                            "#46039f"
                          ],
                          [
                            0.2222222222222222,
                            "#7201a8"
                          ],
                          [
                            0.3333333333333333,
                            "#9c179e"
                          ],
                          [
                            0.4444444444444444,
                            "#bd3786"
                          ],
                          [
                            0.5555555555555556,
                            "#d8576b"
                          ],
                          [
                            0.6666666666666666,
                            "#ed7953"
                          ],
                          [
                            0.7777777777777778,
                            "#fb9f3a"
                          ],
                          [
                            0.8888888888888888,
                            "#fdca26"
                          ],
                          [
                            1,
                            "#f0f921"
                          ]
                        ],
                        "type": "histogram2d"
                      }
                    ],
                    "histogram2dcontour": [
                      {
                        "colorbar": {
                          "outlinewidth": 0,
                          "ticks": ""
                        },
                        "colorscale": [
                          [
                            0,
                            "#0d0887"
                          ],
                          [
                            0.1111111111111111,
                            "#46039f"
                          ],
                          [
                            0.2222222222222222,
                            "#7201a8"
                          ],
                          [
                            0.3333333333333333,
                            "#9c179e"
                          ],
                          [
                            0.4444444444444444,
                            "#bd3786"
                          ],
                          [
                            0.5555555555555556,
                            "#d8576b"
                          ],
                          [
                            0.6666666666666666,
                            "#ed7953"
                          ],
                          [
                            0.7777777777777778,
                            "#fb9f3a"
                          ],
                          [
                            0.8888888888888888,
                            "#fdca26"
                          ],
                          [
                            1,
                            "#f0f921"
                          ]
                        ],
                        "type": "histogram2dcontour"
                      }
                    ],
                    "mesh3d": [
                      {
                        "colorbar": {
                          "outlinewidth": 0,
                          "ticks": ""
                        },
                        "type": "mesh3d"
                      }
                    ],
                    "parcoords": [
                      {
                        "line": {
                          "colorbar": {
                            "outlinewidth": 0,
                            "ticks": ""
                          }
                        },
                        "type": "parcoords"
                      }
                    ],
                    "pie": [
                      {
                        "automargin": true,
                        "type": "pie"
                      }
                    ],
                    "scatter": [
                      {
                        "marker": {
                          "colorbar": {
                            "outlinewidth": 0,
                            "ticks": ""
                          }
                        },
                        "type": "scatter"
                      }
                    ],
                    "scatter3d": [
                      {
                        "line": {
                          "colorbar": {
                            "outlinewidth": 0,
                            "ticks": ""
                          }
                        },
                        "marker": {
                          "colorbar": {
                            "outlinewidth": 0,
                            "ticks": ""
                          }
                        },
                        "type": "scatter3d"
                      }
                    ],
                    "scattercarpet": [
                      {
                        "marker": {
                          "colorbar": {
                            "outlinewidth": 0,
                            "ticks": ""
                          }
                        },
                        "type": "scattercarpet"
                      }
                    ],
                    "scattergeo": [
                      {
                        "marker": {
                          "colorbar": {
                            "outlinewidth": 0,
                            "ticks": ""
                          }
                        },
                        "type": "scattergeo"
                      }
                    ],
                    "scattergl": [
                      {
                        "marker": {
                          "colorbar": {
                            "outlinewidth": 0,
                            "ticks": ""
                          }
                        },
                        "type": "scattergl"
                      }
                    ],
                    "scattermapbox": [
                      {
                        "marker": {
                          "colorbar": {
                            "outlinewidth": 0,
                            "ticks": ""
                          }
                        },
                        "type": "scattermapbox"
                      }
                    ],
                    "scatterpolar": [
                      {
                        "marker": {
                          "colorbar": {
                            "outlinewidth": 0,
                            "ticks": ""
                          }
                        },
                        "type": "scatterpolar"
                      }
                    ],
                    "scatterpolargl": [
                      {
                        "marker": {
                          "colorbar": {
                            "outlinewidth": 0,
                            "ticks": ""
                          }
                        },
                        "type": "scatterpolargl"
                      }
                    ],
                    "scatterternary": [
                      {
                        "marker": {
                          "colorbar": {
                            "outlinewidth": 0,
                            "ticks": ""
                          }
                        },
                        "type": "scatterternary"
                      }
                    ],
                    "surface": [
                      {
                        "colorbar": {
                          "outlinewidth": 0,
                          "ticks": ""
                        },
                        "colorscale": [
                          [
                            0,
                            "#0d0887"
                          ],
                          [
                            0.1111111111111111,
                            "#46039f"
                          ],
                          [
                            0.2222222222222222,
                            "#7201a8"
                          ],
                          [
                            0.3333333333333333,
                            "#9c179e"
                          ],
                          [
                            0.4444444444444444,
                            "#bd3786"
                          ],
                          [
                            0.5555555555555556,
                            "#d8576b"
                          ],
                          [
                            0.6666666666666666,
                            "#ed7953"
                          ],
                          [
                            0.7777777777777778,
                            "#fb9f3a"
                          ],
                          [
                            0.8888888888888888,
                            "#fdca26"
                          ],
                          [
                            1,
                            "#f0f921"
                          ]
                        ],
                        "type": "surface"
                      }
                    ],
                    "table": [
                      {
                        "cells": {
                          "fill": {
                            "color": "#EBF0F8"
                          },
                          "line": {
                            "color": "white"
                          }
                        },
                        "header": {
                          "fill": {
                            "color": "#C8D4E3"
                          },
                          "line": {
                            "color": "white"
                          }
                        },
                        "type": "table"
                      }
                    ]
                  },
                  "layout": {
                    "annotationdefaults": {
                      "arrowcolor": "#2a3f5f",
                      "arrowhead": 0,
                      "arrowwidth": 1
                    },
                    "autotypenumbers": "strict",
                    "coloraxis": {
                      "colorbar": {
                        "outlinewidth": 0,
                        "ticks": ""
                      }
                    },
                    "colorscale": {
                      "diverging": [
                        [
                          0,
                          "#8e0152"
                        ],
                        [
                          0.1,
                          "#c51b7d"
                        ],
                        [
                          0.2,
                          "#de77ae"
                        ],
                        [
                          0.3,
                          "#f1b6da"
                        ],
                        [
                          0.4,
                          "#fde0ef"
                        ],
                        [
                          0.5,
                          "#f7f7f7"
                        ],
                        [
                          0.6,
                          "#e6f5d0"
                        ],
                        [
                          0.7,
                          "#b8e186"
                        ],
                        [
                          0.8,
                          "#7fbc41"
                        ],
                        [
                          0.9,
                          "#4d9221"
                        ],
                        [
                          1,
                          "#276419"
                        ]
                      ],
                      "sequential": [
                        [
                          0,
                          "#0d0887"
                        ],
                        [
                          0.1111111111111111,
                          "#46039f"
                        ],
                        [
                          0.2222222222222222,
                          "#7201a8"
                        ],
                        [
                          0.3333333333333333,
                          "#9c179e"
                        ],
                        [
                          0.4444444444444444,
                          "#bd3786"
                        ],
                        [
                          0.5555555555555556,
                          "#d8576b"
                        ],
                        [
                          0.6666666666666666,
                          "#ed7953"
                        ],
                        [
                          0.7777777777777778,
                          "#fb9f3a"
                        ],
                        [
                          0.8888888888888888,
                          "#fdca26"
                        ],
                        [
                          1,
                          "#f0f921"
                        ]
                      ],
                      "sequentialminus": [
                        [
                          0,
                          "#0d0887"
                        ],
                        [
                          0.1111111111111111,
                          "#46039f"
                        ],
                        [
                          0.2222222222222222,
                          "#7201a8"
                        ],
                        [
                          0.3333333333333333,
                          "#9c179e"
                        ],
                        [
                          0.4444444444444444,
                          "#bd3786"
                        ],
                        [
                          0.5555555555555556,
                          "#d8576b"
                        ],
                        [
                          0.6666666666666666,
                          "#ed7953"
                        ],
                        [
                          0.7777777777777778,
                          "#fb9f3a"
                        ],
                        [
                          0.8888888888888888,
                          "#fdca26"
                        ],
                        [
                          1,
                          "#f0f921"
                        ]
                      ]
                    },
                    "colorway": [
                      "#636efa",
                      "#EF553B",
                      "#00cc96",
                      "#ab63fa",
                      "#FFA15A",
                      "#19d3f3",
                      "#FF6692",
                      "#B6E880",
                      "#FF97FF",
                      "#FECB52"
                    ],
                    "font": {
                      "color": "#2a3f5f"
                    },
                    "geo": {
                      "bgcolor": "white",
                      "lakecolor": "white",
                      "landcolor": "#E5ECF6",
                      "showlakes": true,
                      "showland": true,
                      "subunitcolor": "white"
                    },
                    "hoverlabel": {
                      "align": "left"
                    },
                    "hovermode": "closest",
                    "mapbox": {
                      "style": "light"
                    },
                    "paper_bgcolor": "white",
                    "plot_bgcolor": "#E5ECF6",
                    "polar": {
                      "angularaxis": {
                        "gridcolor": "white",
                        "linecolor": "white",
                        "ticks": ""
                      },
                      "bgcolor": "#E5ECF6",
                      "radialaxis": {
                        "gridcolor": "white",
                        "linecolor": "white",
                        "ticks": ""
                      }
                    },
                    "scene": {
                      "xaxis": {
                        "backgroundcolor": "#E5ECF6",
                        "gridcolor": "white",
                        "gridwidth": 2,
                        "linecolor": "white",
                        "showbackground": true,
                        "ticks": "",
                        "zerolinecolor": "white"
                      },
                      "yaxis": {
                        "backgroundcolor": "#E5ECF6",
                        "gridcolor": "white",
                        "gridwidth": 2,
                        "linecolor": "white",
                        "showbackground": true,
                        "ticks": "",
                        "zerolinecolor": "white"
                      },
                      "zaxis": {
                        "backgroundcolor": "#E5ECF6",
                        "gridcolor": "white",
                        "gridwidth": 2,
                        "linecolor": "white",
                        "showbackground": true,
                        "ticks": "",
                        "zerolinecolor": "white"
                      }
                    },
                    "shapedefaults": {
                      "line": {
                        "color": "#2a3f5f"
                      }
                    },
                    "ternary": {
                      "aaxis": {
                        "gridcolor": "white",
                        "linecolor": "white",
                        "ticks": ""
                      },
                      "baxis": {
                        "gridcolor": "white",
                        "linecolor": "white",
                        "ticks": ""
                      },
                      "bgcolor": "#E5ECF6",
                      "caxis": {
                        "gridcolor": "white",
                        "linecolor": "white",
                        "ticks": ""
                      }
                    },
                    "title": {
                      "x": 0.05
                    },
                    "xaxis": {
                      "automargin": true,
                      "gridcolor": "white",
                      "linecolor": "white",
                      "ticks": "",
                      "title": {
                        "standoff": 15
                      },
                      "zerolinecolor": "white",
                      "zerolinewidth": 2
                    },
                    "yaxis": {
                      "automargin": true,
                      "gridcolor": "white",
                      "linecolor": "white",
                      "ticks": "",
                      "title": {
                        "standoff": 15
                      },
                      "zerolinecolor": "white",
                      "zerolinewidth": 2
                    }
                  }
                },
                "title": {
                  "text": "Consumo de alimentos por classe na regiao sul"
                },
                "xaxis": {
                  "anchor": "y",
                  "domain": [
                    0,
                    1
                  ],
                  "title": {
                    "text": "Alimentos"
                  }
                },
                "yaxis": {
                  "anchor": "x",
                  "domain": [
                    0,
                    1
                  ],
                  "title": {
                    "text": "Consumo anual per capita (kg)"
                  }
                }
              }
            }
          },
          "metadata": {},
          "output_type": "display_data"
        }
      ],
      "source": [
        "fig = px.bar(consumo_sul, barmode = 'group', x = 'Items', y = ['Classe A', 'Classe B', 'Classe C', 'Classe D', 'Classe E'], title = 'Consumo de alimentos por classe na regiao sul', labels= {'Items': 'Alimentos', 'value': 'Consumo anual per capita (kg)' })\n",
        "fig.show()\n"
      ]
    },
    {
      "cell_type": "markdown",
      "metadata": {},
      "source": [
        "* Região Sudeste"
      ]
    },
    {
      "cell_type": "code",
      "execution_count": 113,
      "metadata": {},
      "outputs": [
        {
          "data": {
            "application/vnd.plotly.v1+json": {
              "config": {
                "plotlyServerURL": "https://plot.ly"
              },
              "data": [
                {
                  "alignmentgroup": "True",
                  "hovertemplate": "variable=Classe A<br>Alimentos=%{x}<br>Consumo anual per capita (kg)=%{y}<extra></extra>",
                  "legendgroup": "Classe A",
                  "marker": {
                    "color": "#636efa",
                    "pattern": {
                      "shape": ""
                    }
                  },
                  "name": "Classe A",
                  "offsetgroup": "Classe A",
                  "orientation": "v",
                  "showlegend": true,
                  "textposition": "auto",
                  "type": "bar",
                  "x": [
                    " Arroz polido",
                    "Feijão-mulatinho",
                    "Feijão-preto",
                    "Farinha de mandioca",
                    "Farinha de trigo",
                    "Fubá de milho",
                    "Açúcar cristal",
                    "Molho de tomate",
                    "Óleo de soja",
                    "Café moído"
                  ],
                  "xaxis": "x",
                  "y": [
                    13,
                    0.58,
                    0.82,
                    0.38,
                    1.91,
                    0.45,
                    2.21,
                    2,
                    3.01,
                    3.14
                  ],
                  "yaxis": "y"
                },
                {
                  "alignmentgroup": "True",
                  "hovertemplate": "variable=Classe B<br>Alimentos=%{x}<br>Consumo anual per capita (kg)=%{y}<extra></extra>",
                  "legendgroup": "Classe B",
                  "marker": {
                    "color": "#EF553B",
                    "pattern": {
                      "shape": ""
                    }
                  },
                  "name": "Classe B",
                  "offsetgroup": "Classe B",
                  "orientation": "v",
                  "showlegend": true,
                  "textposition": "auto",
                  "type": "bar",
                  "x": [
                    " Arroz polido",
                    "Feijão-mulatinho",
                    "Feijão-preto",
                    "Farinha de mandioca",
                    "Farinha de trigo",
                    "Fubá de milho",
                    "Açúcar cristal",
                    "Molho de tomate",
                    "Óleo de soja",
                    "Café moído"
                  ],
                  "xaxis": "x",
                  "y": [
                    16.76,
                    0.3,
                    1.88,
                    0.51,
                    2.38,
                    0.39,
                    3.5,
                    2.03,
                    4.64,
                    2.77
                  ],
                  "yaxis": "y"
                },
                {
                  "alignmentgroup": "True",
                  "hovertemplate": "variable=Classe C<br>Alimentos=%{x}<br>Consumo anual per capita (kg)=%{y}<extra></extra>",
                  "legendgroup": "Classe C",
                  "marker": {
                    "color": "#00cc96",
                    "pattern": {
                      "shape": ""
                    }
                  },
                  "name": "Classe C",
                  "offsetgroup": "Classe C",
                  "orientation": "v",
                  "showlegend": true,
                  "textposition": "auto",
                  "type": "bar",
                  "x": [
                    " Arroz polido",
                    "Feijão-mulatinho",
                    "Feijão-preto",
                    "Farinha de mandioca",
                    "Farinha de trigo",
                    "Fubá de milho",
                    "Açúcar cristal",
                    "Molho de tomate",
                    "Óleo de soja",
                    "Café moído"
                  ],
                  "xaxis": "x",
                  "y": [
                    14.6,
                    0.19,
                    1.32,
                    0.37,
                    1.74,
                    0.69,
                    5.41,
                    1.51,
                    5.26,
                    2.5
                  ],
                  "yaxis": "y"
                },
                {
                  "alignmentgroup": "True",
                  "hovertemplate": "variable=Classe D<br>Alimentos=%{x}<br>Consumo anual per capita (kg)=%{y}<extra></extra>",
                  "legendgroup": "Classe D",
                  "marker": {
                    "color": "#ab63fa",
                    "pattern": {
                      "shape": ""
                    }
                  },
                  "name": "Classe D",
                  "offsetgroup": "Classe D",
                  "orientation": "v",
                  "showlegend": true,
                  "textposition": "auto",
                  "type": "bar",
                  "x": [
                    " Arroz polido",
                    "Feijão-mulatinho",
                    "Feijão-preto",
                    "Farinha de mandioca",
                    "Farinha de trigo",
                    "Fubá de milho",
                    "Açúcar cristal",
                    "Molho de tomate",
                    "Óleo de soja",
                    "Café moído"
                  ],
                  "xaxis": "x",
                  "y": [
                    18.67,
                    0.45,
                    1.53,
                    0.6,
                    1.6,
                    0.8,
                    6.44,
                    1.44,
                    5.56,
                    2.63
                  ],
                  "yaxis": "y"
                },
                {
                  "alignmentgroup": "True",
                  "hovertemplate": "variable=Classe E<br>Alimentos=%{x}<br>Consumo anual per capita (kg)=%{y}<extra></extra>",
                  "legendgroup": "Classe E",
                  "marker": {
                    "color": "#FFA15A",
                    "pattern": {
                      "shape": ""
                    }
                  },
                  "name": "Classe E",
                  "offsetgroup": "Classe E",
                  "orientation": "v",
                  "showlegend": true,
                  "textposition": "auto",
                  "type": "bar",
                  "x": [
                    " Arroz polido",
                    "Feijão-mulatinho",
                    "Feijão-preto",
                    "Farinha de mandioca",
                    "Farinha de trigo",
                    "Fubá de milho",
                    "Açúcar cristal",
                    "Molho de tomate",
                    "Óleo de soja",
                    "Café moído"
                  ],
                  "xaxis": "x",
                  "y": [
                    16.81,
                    0.33,
                    1.64,
                    0.74,
                    1.41,
                    0.9,
                    5.91,
                    0.97,
                    4.75,
                    2.23
                  ],
                  "yaxis": "y"
                }
              ],
              "layout": {
                "barmode": "group",
                "legend": {
                  "title": {
                    "text": "variable"
                  },
                  "tracegroupgap": 0
                },
                "template": {
                  "data": {
                    "bar": [
                      {
                        "error_x": {
                          "color": "#2a3f5f"
                        },
                        "error_y": {
                          "color": "#2a3f5f"
                        },
                        "marker": {
                          "line": {
                            "color": "#E5ECF6",
                            "width": 0.5
                          },
                          "pattern": {
                            "fillmode": "overlay",
                            "size": 10,
                            "solidity": 0.2
                          }
                        },
                        "type": "bar"
                      }
                    ],
                    "barpolar": [
                      {
                        "marker": {
                          "line": {
                            "color": "#E5ECF6",
                            "width": 0.5
                          },
                          "pattern": {
                            "fillmode": "overlay",
                            "size": 10,
                            "solidity": 0.2
                          }
                        },
                        "type": "barpolar"
                      }
                    ],
                    "carpet": [
                      {
                        "aaxis": {
                          "endlinecolor": "#2a3f5f",
                          "gridcolor": "white",
                          "linecolor": "white",
                          "minorgridcolor": "white",
                          "startlinecolor": "#2a3f5f"
                        },
                        "baxis": {
                          "endlinecolor": "#2a3f5f",
                          "gridcolor": "white",
                          "linecolor": "white",
                          "minorgridcolor": "white",
                          "startlinecolor": "#2a3f5f"
                        },
                        "type": "carpet"
                      }
                    ],
                    "choropleth": [
                      {
                        "colorbar": {
                          "outlinewidth": 0,
                          "ticks": ""
                        },
                        "type": "choropleth"
                      }
                    ],
                    "contour": [
                      {
                        "colorbar": {
                          "outlinewidth": 0,
                          "ticks": ""
                        },
                        "colorscale": [
                          [
                            0,
                            "#0d0887"
                          ],
                          [
                            0.1111111111111111,
                            "#46039f"
                          ],
                          [
                            0.2222222222222222,
                            "#7201a8"
                          ],
                          [
                            0.3333333333333333,
                            "#9c179e"
                          ],
                          [
                            0.4444444444444444,
                            "#bd3786"
                          ],
                          [
                            0.5555555555555556,
                            "#d8576b"
                          ],
                          [
                            0.6666666666666666,
                            "#ed7953"
                          ],
                          [
                            0.7777777777777778,
                            "#fb9f3a"
                          ],
                          [
                            0.8888888888888888,
                            "#fdca26"
                          ],
                          [
                            1,
                            "#f0f921"
                          ]
                        ],
                        "type": "contour"
                      }
                    ],
                    "contourcarpet": [
                      {
                        "colorbar": {
                          "outlinewidth": 0,
                          "ticks": ""
                        },
                        "type": "contourcarpet"
                      }
                    ],
                    "heatmap": [
                      {
                        "colorbar": {
                          "outlinewidth": 0,
                          "ticks": ""
                        },
                        "colorscale": [
                          [
                            0,
                            "#0d0887"
                          ],
                          [
                            0.1111111111111111,
                            "#46039f"
                          ],
                          [
                            0.2222222222222222,
                            "#7201a8"
                          ],
                          [
                            0.3333333333333333,
                            "#9c179e"
                          ],
                          [
                            0.4444444444444444,
                            "#bd3786"
                          ],
                          [
                            0.5555555555555556,
                            "#d8576b"
                          ],
                          [
                            0.6666666666666666,
                            "#ed7953"
                          ],
                          [
                            0.7777777777777778,
                            "#fb9f3a"
                          ],
                          [
                            0.8888888888888888,
                            "#fdca26"
                          ],
                          [
                            1,
                            "#f0f921"
                          ]
                        ],
                        "type": "heatmap"
                      }
                    ],
                    "heatmapgl": [
                      {
                        "colorbar": {
                          "outlinewidth": 0,
                          "ticks": ""
                        },
                        "colorscale": [
                          [
                            0,
                            "#0d0887"
                          ],
                          [
                            0.1111111111111111,
                            "#46039f"
                          ],
                          [
                            0.2222222222222222,
                            "#7201a8"
                          ],
                          [
                            0.3333333333333333,
                            "#9c179e"
                          ],
                          [
                            0.4444444444444444,
                            "#bd3786"
                          ],
                          [
                            0.5555555555555556,
                            "#d8576b"
                          ],
                          [
                            0.6666666666666666,
                            "#ed7953"
                          ],
                          [
                            0.7777777777777778,
                            "#fb9f3a"
                          ],
                          [
                            0.8888888888888888,
                            "#fdca26"
                          ],
                          [
                            1,
                            "#f0f921"
                          ]
                        ],
                        "type": "heatmapgl"
                      }
                    ],
                    "histogram": [
                      {
                        "marker": {
                          "pattern": {
                            "fillmode": "overlay",
                            "size": 10,
                            "solidity": 0.2
                          }
                        },
                        "type": "histogram"
                      }
                    ],
                    "histogram2d": [
                      {
                        "colorbar": {
                          "outlinewidth": 0,
                          "ticks": ""
                        },
                        "colorscale": [
                          [
                            0,
                            "#0d0887"
                          ],
                          [
                            0.1111111111111111,
                            "#46039f"
                          ],
                          [
                            0.2222222222222222,
                            "#7201a8"
                          ],
                          [
                            0.3333333333333333,
                            "#9c179e"
                          ],
                          [
                            0.4444444444444444,
                            "#bd3786"
                          ],
                          [
                            0.5555555555555556,
                            "#d8576b"
                          ],
                          [
                            0.6666666666666666,
                            "#ed7953"
                          ],
                          [
                            0.7777777777777778,
                            "#fb9f3a"
                          ],
                          [
                            0.8888888888888888,
                            "#fdca26"
                          ],
                          [
                            1,
                            "#f0f921"
                          ]
                        ],
                        "type": "histogram2d"
                      }
                    ],
                    "histogram2dcontour": [
                      {
                        "colorbar": {
                          "outlinewidth": 0,
                          "ticks": ""
                        },
                        "colorscale": [
                          [
                            0,
                            "#0d0887"
                          ],
                          [
                            0.1111111111111111,
                            "#46039f"
                          ],
                          [
                            0.2222222222222222,
                            "#7201a8"
                          ],
                          [
                            0.3333333333333333,
                            "#9c179e"
                          ],
                          [
                            0.4444444444444444,
                            "#bd3786"
                          ],
                          [
                            0.5555555555555556,
                            "#d8576b"
                          ],
                          [
                            0.6666666666666666,
                            "#ed7953"
                          ],
                          [
                            0.7777777777777778,
                            "#fb9f3a"
                          ],
                          [
                            0.8888888888888888,
                            "#fdca26"
                          ],
                          [
                            1,
                            "#f0f921"
                          ]
                        ],
                        "type": "histogram2dcontour"
                      }
                    ],
                    "mesh3d": [
                      {
                        "colorbar": {
                          "outlinewidth": 0,
                          "ticks": ""
                        },
                        "type": "mesh3d"
                      }
                    ],
                    "parcoords": [
                      {
                        "line": {
                          "colorbar": {
                            "outlinewidth": 0,
                            "ticks": ""
                          }
                        },
                        "type": "parcoords"
                      }
                    ],
                    "pie": [
                      {
                        "automargin": true,
                        "type": "pie"
                      }
                    ],
                    "scatter": [
                      {
                        "marker": {
                          "colorbar": {
                            "outlinewidth": 0,
                            "ticks": ""
                          }
                        },
                        "type": "scatter"
                      }
                    ],
                    "scatter3d": [
                      {
                        "line": {
                          "colorbar": {
                            "outlinewidth": 0,
                            "ticks": ""
                          }
                        },
                        "marker": {
                          "colorbar": {
                            "outlinewidth": 0,
                            "ticks": ""
                          }
                        },
                        "type": "scatter3d"
                      }
                    ],
                    "scattercarpet": [
                      {
                        "marker": {
                          "colorbar": {
                            "outlinewidth": 0,
                            "ticks": ""
                          }
                        },
                        "type": "scattercarpet"
                      }
                    ],
                    "scattergeo": [
                      {
                        "marker": {
                          "colorbar": {
                            "outlinewidth": 0,
                            "ticks": ""
                          }
                        },
                        "type": "scattergeo"
                      }
                    ],
                    "scattergl": [
                      {
                        "marker": {
                          "colorbar": {
                            "outlinewidth": 0,
                            "ticks": ""
                          }
                        },
                        "type": "scattergl"
                      }
                    ],
                    "scattermapbox": [
                      {
                        "marker": {
                          "colorbar": {
                            "outlinewidth": 0,
                            "ticks": ""
                          }
                        },
                        "type": "scattermapbox"
                      }
                    ],
                    "scatterpolar": [
                      {
                        "marker": {
                          "colorbar": {
                            "outlinewidth": 0,
                            "ticks": ""
                          }
                        },
                        "type": "scatterpolar"
                      }
                    ],
                    "scatterpolargl": [
                      {
                        "marker": {
                          "colorbar": {
                            "outlinewidth": 0,
                            "ticks": ""
                          }
                        },
                        "type": "scatterpolargl"
                      }
                    ],
                    "scatterternary": [
                      {
                        "marker": {
                          "colorbar": {
                            "outlinewidth": 0,
                            "ticks": ""
                          }
                        },
                        "type": "scatterternary"
                      }
                    ],
                    "surface": [
                      {
                        "colorbar": {
                          "outlinewidth": 0,
                          "ticks": ""
                        },
                        "colorscale": [
                          [
                            0,
                            "#0d0887"
                          ],
                          [
                            0.1111111111111111,
                            "#46039f"
                          ],
                          [
                            0.2222222222222222,
                            "#7201a8"
                          ],
                          [
                            0.3333333333333333,
                            "#9c179e"
                          ],
                          [
                            0.4444444444444444,
                            "#bd3786"
                          ],
                          [
                            0.5555555555555556,
                            "#d8576b"
                          ],
                          [
                            0.6666666666666666,
                            "#ed7953"
                          ],
                          [
                            0.7777777777777778,
                            "#fb9f3a"
                          ],
                          [
                            0.8888888888888888,
                            "#fdca26"
                          ],
                          [
                            1,
                            "#f0f921"
                          ]
                        ],
                        "type": "surface"
                      }
                    ],
                    "table": [
                      {
                        "cells": {
                          "fill": {
                            "color": "#EBF0F8"
                          },
                          "line": {
                            "color": "white"
                          }
                        },
                        "header": {
                          "fill": {
                            "color": "#C8D4E3"
                          },
                          "line": {
                            "color": "white"
                          }
                        },
                        "type": "table"
                      }
                    ]
                  },
                  "layout": {
                    "annotationdefaults": {
                      "arrowcolor": "#2a3f5f",
                      "arrowhead": 0,
                      "arrowwidth": 1
                    },
                    "autotypenumbers": "strict",
                    "coloraxis": {
                      "colorbar": {
                        "outlinewidth": 0,
                        "ticks": ""
                      }
                    },
                    "colorscale": {
                      "diverging": [
                        [
                          0,
                          "#8e0152"
                        ],
                        [
                          0.1,
                          "#c51b7d"
                        ],
                        [
                          0.2,
                          "#de77ae"
                        ],
                        [
                          0.3,
                          "#f1b6da"
                        ],
                        [
                          0.4,
                          "#fde0ef"
                        ],
                        [
                          0.5,
                          "#f7f7f7"
                        ],
                        [
                          0.6,
                          "#e6f5d0"
                        ],
                        [
                          0.7,
                          "#b8e186"
                        ],
                        [
                          0.8,
                          "#7fbc41"
                        ],
                        [
                          0.9,
                          "#4d9221"
                        ],
                        [
                          1,
                          "#276419"
                        ]
                      ],
                      "sequential": [
                        [
                          0,
                          "#0d0887"
                        ],
                        [
                          0.1111111111111111,
                          "#46039f"
                        ],
                        [
                          0.2222222222222222,
                          "#7201a8"
                        ],
                        [
                          0.3333333333333333,
                          "#9c179e"
                        ],
                        [
                          0.4444444444444444,
                          "#bd3786"
                        ],
                        [
                          0.5555555555555556,
                          "#d8576b"
                        ],
                        [
                          0.6666666666666666,
                          "#ed7953"
                        ],
                        [
                          0.7777777777777778,
                          "#fb9f3a"
                        ],
                        [
                          0.8888888888888888,
                          "#fdca26"
                        ],
                        [
                          1,
                          "#f0f921"
                        ]
                      ],
                      "sequentialminus": [
                        [
                          0,
                          "#0d0887"
                        ],
                        [
                          0.1111111111111111,
                          "#46039f"
                        ],
                        [
                          0.2222222222222222,
                          "#7201a8"
                        ],
                        [
                          0.3333333333333333,
                          "#9c179e"
                        ],
                        [
                          0.4444444444444444,
                          "#bd3786"
                        ],
                        [
                          0.5555555555555556,
                          "#d8576b"
                        ],
                        [
                          0.6666666666666666,
                          "#ed7953"
                        ],
                        [
                          0.7777777777777778,
                          "#fb9f3a"
                        ],
                        [
                          0.8888888888888888,
                          "#fdca26"
                        ],
                        [
                          1,
                          "#f0f921"
                        ]
                      ]
                    },
                    "colorway": [
                      "#636efa",
                      "#EF553B",
                      "#00cc96",
                      "#ab63fa",
                      "#FFA15A",
                      "#19d3f3",
                      "#FF6692",
                      "#B6E880",
                      "#FF97FF",
                      "#FECB52"
                    ],
                    "font": {
                      "color": "#2a3f5f"
                    },
                    "geo": {
                      "bgcolor": "white",
                      "lakecolor": "white",
                      "landcolor": "#E5ECF6",
                      "showlakes": true,
                      "showland": true,
                      "subunitcolor": "white"
                    },
                    "hoverlabel": {
                      "align": "left"
                    },
                    "hovermode": "closest",
                    "mapbox": {
                      "style": "light"
                    },
                    "paper_bgcolor": "white",
                    "plot_bgcolor": "#E5ECF6",
                    "polar": {
                      "angularaxis": {
                        "gridcolor": "white",
                        "linecolor": "white",
                        "ticks": ""
                      },
                      "bgcolor": "#E5ECF6",
                      "radialaxis": {
                        "gridcolor": "white",
                        "linecolor": "white",
                        "ticks": ""
                      }
                    },
                    "scene": {
                      "xaxis": {
                        "backgroundcolor": "#E5ECF6",
                        "gridcolor": "white",
                        "gridwidth": 2,
                        "linecolor": "white",
                        "showbackground": true,
                        "ticks": "",
                        "zerolinecolor": "white"
                      },
                      "yaxis": {
                        "backgroundcolor": "#E5ECF6",
                        "gridcolor": "white",
                        "gridwidth": 2,
                        "linecolor": "white",
                        "showbackground": true,
                        "ticks": "",
                        "zerolinecolor": "white"
                      },
                      "zaxis": {
                        "backgroundcolor": "#E5ECF6",
                        "gridcolor": "white",
                        "gridwidth": 2,
                        "linecolor": "white",
                        "showbackground": true,
                        "ticks": "",
                        "zerolinecolor": "white"
                      }
                    },
                    "shapedefaults": {
                      "line": {
                        "color": "#2a3f5f"
                      }
                    },
                    "ternary": {
                      "aaxis": {
                        "gridcolor": "white",
                        "linecolor": "white",
                        "ticks": ""
                      },
                      "baxis": {
                        "gridcolor": "white",
                        "linecolor": "white",
                        "ticks": ""
                      },
                      "bgcolor": "#E5ECF6",
                      "caxis": {
                        "gridcolor": "white",
                        "linecolor": "white",
                        "ticks": ""
                      }
                    },
                    "title": {
                      "x": 0.05
                    },
                    "xaxis": {
                      "automargin": true,
                      "gridcolor": "white",
                      "linecolor": "white",
                      "ticks": "",
                      "title": {
                        "standoff": 15
                      },
                      "zerolinecolor": "white",
                      "zerolinewidth": 2
                    },
                    "yaxis": {
                      "automargin": true,
                      "gridcolor": "white",
                      "linecolor": "white",
                      "ticks": "",
                      "title": {
                        "standoff": 15
                      },
                      "zerolinecolor": "white",
                      "zerolinewidth": 2
                    }
                  }
                },
                "title": {
                  "text": "Consumo de alimentos por classe na regiao sudeste"
                },
                "xaxis": {
                  "anchor": "y",
                  "domain": [
                    0,
                    1
                  ],
                  "title": {
                    "text": "Alimentos"
                  }
                },
                "yaxis": {
                  "anchor": "x",
                  "domain": [
                    0,
                    1
                  ],
                  "title": {
                    "text": "Consumo anual per capita (kg)"
                  }
                }
              }
            }
          },
          "metadata": {},
          "output_type": "display_data"
        }
      ],
      "source": [
        "fig = px.bar(consumo_sudeste, barmode = 'group', x = 'Items', y = ['Classe A', 'Classe B', 'Classe C', 'Classe D', 'Classe E'], title = 'Consumo de alimentos por classe na regiao sudeste', labels= {'Items': 'Alimentos', 'value': 'Consumo anual per capita (kg)' })\n",
        "fig.show()\n"
      ]
    },
    {
      "cell_type": "markdown",
      "metadata": {},
      "source": [
        "* Brasil"
      ]
    },
    {
      "cell_type": "code",
      "execution_count": 114,
      "metadata": {},
      "outputs": [
        {
          "data": {
            "application/vnd.plotly.v1+json": {
              "config": {
                "plotlyServerURL": "https://plot.ly"
              },
              "data": [
                {
                  "alignmentgroup": "True",
                  "hovertemplate": "variable=Classe A<br>Alimentos=%{x}<br>Consumo anual per capita (kg)=%{y}<extra></extra>",
                  "legendgroup": "Classe A",
                  "marker": {
                    "color": "#636efa",
                    "pattern": {
                      "shape": ""
                    }
                  },
                  "name": "Classe A",
                  "offsetgroup": "Classe A",
                  "orientation": "v",
                  "showlegend": true,
                  "textposition": "auto",
                  "type": "bar",
                  "x": [
                    " Arroz polido",
                    "Feijão-mulatinho",
                    "Feijão-preto",
                    "Farinha de mandioca",
                    "Farinha de trigo",
                    "Fubá de milho",
                    "Açúcar cristal",
                    "Molho de tomate",
                    "Óleo de soja",
                    "Café moído"
                  ],
                  "xaxis": "x",
                  "y": [
                    12.4,
                    0.44,
                    1.11,
                    1.02,
                    2.54,
                    0.52,
                    3.49,
                    1.74,
                    3.32,
                    2.83
                  ],
                  "yaxis": "y"
                },
                {
                  "alignmentgroup": "True",
                  "hovertemplate": "variable=Classe B<br>Alimentos=%{x}<br>Consumo anual per capita (kg)=%{y}<extra></extra>",
                  "legendgroup": "Classe B",
                  "marker": {
                    "color": "#EF553B",
                    "pattern": {
                      "shape": ""
                    }
                  },
                  "name": "Classe B",
                  "offsetgroup": "Classe B",
                  "orientation": "v",
                  "showlegend": true,
                  "textposition": "auto",
                  "type": "bar",
                  "x": [
                    " Arroz polido",
                    "Feijão-mulatinho",
                    "Feijão-preto",
                    "Farinha de mandioca",
                    "Farinha de trigo",
                    "Fubá de milho",
                    "Açúcar cristal",
                    "Molho de tomate",
                    "Óleo de soja",
                    "Café moído"
                  ],
                  "xaxis": "x",
                  "y": [
                    15.57,
                    0.33,
                    1.62,
                    0.99,
                    2.82,
                    0.67,
                    4.15,
                    1.57,
                    4.21,
                    2.52
                  ],
                  "yaxis": "y"
                },
                {
                  "alignmentgroup": "True",
                  "hovertemplate": "variable=Classe C<br>Alimentos=%{x}<br>Consumo anual per capita (kg)=%{y}<extra></extra>",
                  "legendgroup": "Classe C",
                  "marker": {
                    "color": "#00cc96",
                    "pattern": {
                      "shape": ""
                    }
                  },
                  "name": "Classe C",
                  "offsetgroup": "Classe C",
                  "orientation": "v",
                  "showlegend": true,
                  "textposition": "auto",
                  "type": "bar",
                  "x": [
                    " Arroz polido",
                    "Feijão-mulatinho",
                    "Feijão-preto",
                    "Farinha de mandioca",
                    "Farinha de trigo",
                    "Fubá de milho",
                    "Açúcar cristal",
                    "Molho de tomate",
                    "Óleo de soja",
                    "Café moído"
                  ],
                  "xaxis": "x",
                  "y": [
                    14.86,
                    0.46,
                    1.32,
                    1.39,
                    2.56,
                    0.83,
                    5.62,
                    1.26,
                    4.74,
                    2.35
                  ],
                  "yaxis": "y"
                },
                {
                  "alignmentgroup": "True",
                  "hovertemplate": "variable=Classe D<br>Alimentos=%{x}<br>Consumo anual per capita (kg)=%{y}<extra></extra>",
                  "legendgroup": "Classe D",
                  "marker": {
                    "color": "#ab63fa",
                    "pattern": {
                      "shape": ""
                    }
                  },
                  "name": "Classe D",
                  "offsetgroup": "Classe D",
                  "orientation": "v",
                  "showlegend": true,
                  "textposition": "auto",
                  "type": "bar",
                  "x": [
                    " Arroz polido",
                    "Feijão-mulatinho",
                    "Feijão-preto",
                    "Farinha de mandioca",
                    "Farinha de trigo",
                    "Fubá de milho",
                    "Açúcar cristal",
                    "Molho de tomate",
                    "Óleo de soja",
                    "Café moído"
                  ],
                  "xaxis": "x",
                  "y": [
                    18.8,
                    0.68,
                    1.39,
                    1.86,
                    2.62,
                    1.09,
                    6.64,
                    1,
                    5,
                    2.4
                  ],
                  "yaxis": "y"
                },
                {
                  "alignmentgroup": "True",
                  "hovertemplate": "variable=Classe E<br>Alimentos=%{x}<br>Consumo anual per capita (kg)=%{y}<extra></extra>",
                  "legendgroup": "Classe E",
                  "marker": {
                    "color": "#FFA15A",
                    "pattern": {
                      "shape": ""
                    }
                  },
                  "name": "Classe E",
                  "offsetgroup": "Classe E",
                  "orientation": "v",
                  "showlegend": true,
                  "textposition": "auto",
                  "type": "bar",
                  "x": [
                    " Arroz polido",
                    "Feijão-mulatinho",
                    "Feijão-preto",
                    "Farinha de mandioca",
                    "Farinha de trigo",
                    "Fubá de milho",
                    "Açúcar cristal",
                    "Molho de tomate",
                    "Óleo de soja",
                    "Café moído"
                  ],
                  "xaxis": "x",
                  "y": [
                    20.28,
                    0.88,
                    1.3,
                    3.09,
                    1.9,
                    1.45,
                    6.68,
                    0.69,
                    4.65,
                    2.37
                  ],
                  "yaxis": "y"
                }
              ],
              "layout": {
                "barmode": "group",
                "legend": {
                  "title": {
                    "text": "variable"
                  },
                  "tracegroupgap": 0
                },
                "template": {
                  "data": {
                    "bar": [
                      {
                        "error_x": {
                          "color": "#2a3f5f"
                        },
                        "error_y": {
                          "color": "#2a3f5f"
                        },
                        "marker": {
                          "line": {
                            "color": "#E5ECF6",
                            "width": 0.5
                          },
                          "pattern": {
                            "fillmode": "overlay",
                            "size": 10,
                            "solidity": 0.2
                          }
                        },
                        "type": "bar"
                      }
                    ],
                    "barpolar": [
                      {
                        "marker": {
                          "line": {
                            "color": "#E5ECF6",
                            "width": 0.5
                          },
                          "pattern": {
                            "fillmode": "overlay",
                            "size": 10,
                            "solidity": 0.2
                          }
                        },
                        "type": "barpolar"
                      }
                    ],
                    "carpet": [
                      {
                        "aaxis": {
                          "endlinecolor": "#2a3f5f",
                          "gridcolor": "white",
                          "linecolor": "white",
                          "minorgridcolor": "white",
                          "startlinecolor": "#2a3f5f"
                        },
                        "baxis": {
                          "endlinecolor": "#2a3f5f",
                          "gridcolor": "white",
                          "linecolor": "white",
                          "minorgridcolor": "white",
                          "startlinecolor": "#2a3f5f"
                        },
                        "type": "carpet"
                      }
                    ],
                    "choropleth": [
                      {
                        "colorbar": {
                          "outlinewidth": 0,
                          "ticks": ""
                        },
                        "type": "choropleth"
                      }
                    ],
                    "contour": [
                      {
                        "colorbar": {
                          "outlinewidth": 0,
                          "ticks": ""
                        },
                        "colorscale": [
                          [
                            0,
                            "#0d0887"
                          ],
                          [
                            0.1111111111111111,
                            "#46039f"
                          ],
                          [
                            0.2222222222222222,
                            "#7201a8"
                          ],
                          [
                            0.3333333333333333,
                            "#9c179e"
                          ],
                          [
                            0.4444444444444444,
                            "#bd3786"
                          ],
                          [
                            0.5555555555555556,
                            "#d8576b"
                          ],
                          [
                            0.6666666666666666,
                            "#ed7953"
                          ],
                          [
                            0.7777777777777778,
                            "#fb9f3a"
                          ],
                          [
                            0.8888888888888888,
                            "#fdca26"
                          ],
                          [
                            1,
                            "#f0f921"
                          ]
                        ],
                        "type": "contour"
                      }
                    ],
                    "contourcarpet": [
                      {
                        "colorbar": {
                          "outlinewidth": 0,
                          "ticks": ""
                        },
                        "type": "contourcarpet"
                      }
                    ],
                    "heatmap": [
                      {
                        "colorbar": {
                          "outlinewidth": 0,
                          "ticks": ""
                        },
                        "colorscale": [
                          [
                            0,
                            "#0d0887"
                          ],
                          [
                            0.1111111111111111,
                            "#46039f"
                          ],
                          [
                            0.2222222222222222,
                            "#7201a8"
                          ],
                          [
                            0.3333333333333333,
                            "#9c179e"
                          ],
                          [
                            0.4444444444444444,
                            "#bd3786"
                          ],
                          [
                            0.5555555555555556,
                            "#d8576b"
                          ],
                          [
                            0.6666666666666666,
                            "#ed7953"
                          ],
                          [
                            0.7777777777777778,
                            "#fb9f3a"
                          ],
                          [
                            0.8888888888888888,
                            "#fdca26"
                          ],
                          [
                            1,
                            "#f0f921"
                          ]
                        ],
                        "type": "heatmap"
                      }
                    ],
                    "heatmapgl": [
                      {
                        "colorbar": {
                          "outlinewidth": 0,
                          "ticks": ""
                        },
                        "colorscale": [
                          [
                            0,
                            "#0d0887"
                          ],
                          [
                            0.1111111111111111,
                            "#46039f"
                          ],
                          [
                            0.2222222222222222,
                            "#7201a8"
                          ],
                          [
                            0.3333333333333333,
                            "#9c179e"
                          ],
                          [
                            0.4444444444444444,
                            "#bd3786"
                          ],
                          [
                            0.5555555555555556,
                            "#d8576b"
                          ],
                          [
                            0.6666666666666666,
                            "#ed7953"
                          ],
                          [
                            0.7777777777777778,
                            "#fb9f3a"
                          ],
                          [
                            0.8888888888888888,
                            "#fdca26"
                          ],
                          [
                            1,
                            "#f0f921"
                          ]
                        ],
                        "type": "heatmapgl"
                      }
                    ],
                    "histogram": [
                      {
                        "marker": {
                          "pattern": {
                            "fillmode": "overlay",
                            "size": 10,
                            "solidity": 0.2
                          }
                        },
                        "type": "histogram"
                      }
                    ],
                    "histogram2d": [
                      {
                        "colorbar": {
                          "outlinewidth": 0,
                          "ticks": ""
                        },
                        "colorscale": [
                          [
                            0,
                            "#0d0887"
                          ],
                          [
                            0.1111111111111111,
                            "#46039f"
                          ],
                          [
                            0.2222222222222222,
                            "#7201a8"
                          ],
                          [
                            0.3333333333333333,
                            "#9c179e"
                          ],
                          [
                            0.4444444444444444,
                            "#bd3786"
                          ],
                          [
                            0.5555555555555556,
                            "#d8576b"
                          ],
                          [
                            0.6666666666666666,
                            "#ed7953"
                          ],
                          [
                            0.7777777777777778,
                            "#fb9f3a"
                          ],
                          [
                            0.8888888888888888,
                            "#fdca26"
                          ],
                          [
                            1,
                            "#f0f921"
                          ]
                        ],
                        "type": "histogram2d"
                      }
                    ],
                    "histogram2dcontour": [
                      {
                        "colorbar": {
                          "outlinewidth": 0,
                          "ticks": ""
                        },
                        "colorscale": [
                          [
                            0,
                            "#0d0887"
                          ],
                          [
                            0.1111111111111111,
                            "#46039f"
                          ],
                          [
                            0.2222222222222222,
                            "#7201a8"
                          ],
                          [
                            0.3333333333333333,
                            "#9c179e"
                          ],
                          [
                            0.4444444444444444,
                            "#bd3786"
                          ],
                          [
                            0.5555555555555556,
                            "#d8576b"
                          ],
                          [
                            0.6666666666666666,
                            "#ed7953"
                          ],
                          [
                            0.7777777777777778,
                            "#fb9f3a"
                          ],
                          [
                            0.8888888888888888,
                            "#fdca26"
                          ],
                          [
                            1,
                            "#f0f921"
                          ]
                        ],
                        "type": "histogram2dcontour"
                      }
                    ],
                    "mesh3d": [
                      {
                        "colorbar": {
                          "outlinewidth": 0,
                          "ticks": ""
                        },
                        "type": "mesh3d"
                      }
                    ],
                    "parcoords": [
                      {
                        "line": {
                          "colorbar": {
                            "outlinewidth": 0,
                            "ticks": ""
                          }
                        },
                        "type": "parcoords"
                      }
                    ],
                    "pie": [
                      {
                        "automargin": true,
                        "type": "pie"
                      }
                    ],
                    "scatter": [
                      {
                        "marker": {
                          "colorbar": {
                            "outlinewidth": 0,
                            "ticks": ""
                          }
                        },
                        "type": "scatter"
                      }
                    ],
                    "scatter3d": [
                      {
                        "line": {
                          "colorbar": {
                            "outlinewidth": 0,
                            "ticks": ""
                          }
                        },
                        "marker": {
                          "colorbar": {
                            "outlinewidth": 0,
                            "ticks": ""
                          }
                        },
                        "type": "scatter3d"
                      }
                    ],
                    "scattercarpet": [
                      {
                        "marker": {
                          "colorbar": {
                            "outlinewidth": 0,
                            "ticks": ""
                          }
                        },
                        "type": "scattercarpet"
                      }
                    ],
                    "scattergeo": [
                      {
                        "marker": {
                          "colorbar": {
                            "outlinewidth": 0,
                            "ticks": ""
                          }
                        },
                        "type": "scattergeo"
                      }
                    ],
                    "scattergl": [
                      {
                        "marker": {
                          "colorbar": {
                            "outlinewidth": 0,
                            "ticks": ""
                          }
                        },
                        "type": "scattergl"
                      }
                    ],
                    "scattermapbox": [
                      {
                        "marker": {
                          "colorbar": {
                            "outlinewidth": 0,
                            "ticks": ""
                          }
                        },
                        "type": "scattermapbox"
                      }
                    ],
                    "scatterpolar": [
                      {
                        "marker": {
                          "colorbar": {
                            "outlinewidth": 0,
                            "ticks": ""
                          }
                        },
                        "type": "scatterpolar"
                      }
                    ],
                    "scatterpolargl": [
                      {
                        "marker": {
                          "colorbar": {
                            "outlinewidth": 0,
                            "ticks": ""
                          }
                        },
                        "type": "scatterpolargl"
                      }
                    ],
                    "scatterternary": [
                      {
                        "marker": {
                          "colorbar": {
                            "outlinewidth": 0,
                            "ticks": ""
                          }
                        },
                        "type": "scatterternary"
                      }
                    ],
                    "surface": [
                      {
                        "colorbar": {
                          "outlinewidth": 0,
                          "ticks": ""
                        },
                        "colorscale": [
                          [
                            0,
                            "#0d0887"
                          ],
                          [
                            0.1111111111111111,
                            "#46039f"
                          ],
                          [
                            0.2222222222222222,
                            "#7201a8"
                          ],
                          [
                            0.3333333333333333,
                            "#9c179e"
                          ],
                          [
                            0.4444444444444444,
                            "#bd3786"
                          ],
                          [
                            0.5555555555555556,
                            "#d8576b"
                          ],
                          [
                            0.6666666666666666,
                            "#ed7953"
                          ],
                          [
                            0.7777777777777778,
                            "#fb9f3a"
                          ],
                          [
                            0.8888888888888888,
                            "#fdca26"
                          ],
                          [
                            1,
                            "#f0f921"
                          ]
                        ],
                        "type": "surface"
                      }
                    ],
                    "table": [
                      {
                        "cells": {
                          "fill": {
                            "color": "#EBF0F8"
                          },
                          "line": {
                            "color": "white"
                          }
                        },
                        "header": {
                          "fill": {
                            "color": "#C8D4E3"
                          },
                          "line": {
                            "color": "white"
                          }
                        },
                        "type": "table"
                      }
                    ]
                  },
                  "layout": {
                    "annotationdefaults": {
                      "arrowcolor": "#2a3f5f",
                      "arrowhead": 0,
                      "arrowwidth": 1
                    },
                    "autotypenumbers": "strict",
                    "coloraxis": {
                      "colorbar": {
                        "outlinewidth": 0,
                        "ticks": ""
                      }
                    },
                    "colorscale": {
                      "diverging": [
                        [
                          0,
                          "#8e0152"
                        ],
                        [
                          0.1,
                          "#c51b7d"
                        ],
                        [
                          0.2,
                          "#de77ae"
                        ],
                        [
                          0.3,
                          "#f1b6da"
                        ],
                        [
                          0.4,
                          "#fde0ef"
                        ],
                        [
                          0.5,
                          "#f7f7f7"
                        ],
                        [
                          0.6,
                          "#e6f5d0"
                        ],
                        [
                          0.7,
                          "#b8e186"
                        ],
                        [
                          0.8,
                          "#7fbc41"
                        ],
                        [
                          0.9,
                          "#4d9221"
                        ],
                        [
                          1,
                          "#276419"
                        ]
                      ],
                      "sequential": [
                        [
                          0,
                          "#0d0887"
                        ],
                        [
                          0.1111111111111111,
                          "#46039f"
                        ],
                        [
                          0.2222222222222222,
                          "#7201a8"
                        ],
                        [
                          0.3333333333333333,
                          "#9c179e"
                        ],
                        [
                          0.4444444444444444,
                          "#bd3786"
                        ],
                        [
                          0.5555555555555556,
                          "#d8576b"
                        ],
                        [
                          0.6666666666666666,
                          "#ed7953"
                        ],
                        [
                          0.7777777777777778,
                          "#fb9f3a"
                        ],
                        [
                          0.8888888888888888,
                          "#fdca26"
                        ],
                        [
                          1,
                          "#f0f921"
                        ]
                      ],
                      "sequentialminus": [
                        [
                          0,
                          "#0d0887"
                        ],
                        [
                          0.1111111111111111,
                          "#46039f"
                        ],
                        [
                          0.2222222222222222,
                          "#7201a8"
                        ],
                        [
                          0.3333333333333333,
                          "#9c179e"
                        ],
                        [
                          0.4444444444444444,
                          "#bd3786"
                        ],
                        [
                          0.5555555555555556,
                          "#d8576b"
                        ],
                        [
                          0.6666666666666666,
                          "#ed7953"
                        ],
                        [
                          0.7777777777777778,
                          "#fb9f3a"
                        ],
                        [
                          0.8888888888888888,
                          "#fdca26"
                        ],
                        [
                          1,
                          "#f0f921"
                        ]
                      ]
                    },
                    "colorway": [
                      "#636efa",
                      "#EF553B",
                      "#00cc96",
                      "#ab63fa",
                      "#FFA15A",
                      "#19d3f3",
                      "#FF6692",
                      "#B6E880",
                      "#FF97FF",
                      "#FECB52"
                    ],
                    "font": {
                      "color": "#2a3f5f"
                    },
                    "geo": {
                      "bgcolor": "white",
                      "lakecolor": "white",
                      "landcolor": "#E5ECF6",
                      "showlakes": true,
                      "showland": true,
                      "subunitcolor": "white"
                    },
                    "hoverlabel": {
                      "align": "left"
                    },
                    "hovermode": "closest",
                    "mapbox": {
                      "style": "light"
                    },
                    "paper_bgcolor": "white",
                    "plot_bgcolor": "#E5ECF6",
                    "polar": {
                      "angularaxis": {
                        "gridcolor": "white",
                        "linecolor": "white",
                        "ticks": ""
                      },
                      "bgcolor": "#E5ECF6",
                      "radialaxis": {
                        "gridcolor": "white",
                        "linecolor": "white",
                        "ticks": ""
                      }
                    },
                    "scene": {
                      "xaxis": {
                        "backgroundcolor": "#E5ECF6",
                        "gridcolor": "white",
                        "gridwidth": 2,
                        "linecolor": "white",
                        "showbackground": true,
                        "ticks": "",
                        "zerolinecolor": "white"
                      },
                      "yaxis": {
                        "backgroundcolor": "#E5ECF6",
                        "gridcolor": "white",
                        "gridwidth": 2,
                        "linecolor": "white",
                        "showbackground": true,
                        "ticks": "",
                        "zerolinecolor": "white"
                      },
                      "zaxis": {
                        "backgroundcolor": "#E5ECF6",
                        "gridcolor": "white",
                        "gridwidth": 2,
                        "linecolor": "white",
                        "showbackground": true,
                        "ticks": "",
                        "zerolinecolor": "white"
                      }
                    },
                    "shapedefaults": {
                      "line": {
                        "color": "#2a3f5f"
                      }
                    },
                    "ternary": {
                      "aaxis": {
                        "gridcolor": "white",
                        "linecolor": "white",
                        "ticks": ""
                      },
                      "baxis": {
                        "gridcolor": "white",
                        "linecolor": "white",
                        "ticks": ""
                      },
                      "bgcolor": "#E5ECF6",
                      "caxis": {
                        "gridcolor": "white",
                        "linecolor": "white",
                        "ticks": ""
                      }
                    },
                    "title": {
                      "x": 0.05
                    },
                    "xaxis": {
                      "automargin": true,
                      "gridcolor": "white",
                      "linecolor": "white",
                      "ticks": "",
                      "title": {
                        "standoff": 15
                      },
                      "zerolinecolor": "white",
                      "zerolinewidth": 2
                    },
                    "yaxis": {
                      "automargin": true,
                      "gridcolor": "white",
                      "linecolor": "white",
                      "ticks": "",
                      "title": {
                        "standoff": 15
                      },
                      "zerolinecolor": "white",
                      "zerolinewidth": 2
                    }
                  }
                },
                "title": {
                  "text": "Consumo de alimentos por classe na regiao Brasil"
                },
                "xaxis": {
                  "anchor": "y",
                  "domain": [
                    0,
                    1
                  ],
                  "title": {
                    "text": "Alimentos"
                  }
                },
                "yaxis": {
                  "anchor": "x",
                  "domain": [
                    0,
                    1
                  ],
                  "title": {
                    "text": "Consumo anual per capita (kg)"
                  }
                }
              }
            }
          },
          "metadata": {},
          "output_type": "display_data"
        }
      ],
      "source": [
        "fig = px.bar(consumo_brasil, barmode = 'group', x = 'Items', y = ['Classe A', 'Classe B', 'Classe C', 'Classe D', 'Classe E'], title = 'Consumo de alimentos por classe na regiao Brasil', labels= {'Items': 'Alimentos', 'value': 'Consumo anual per capita (kg)' })\n",
        "fig.show()"
      ]
    },
    {
      "cell_type": "code",
      "execution_count": null,
      "metadata": {},
      "outputs": [],
      "source": []
    }
  ],
  "metadata": {
    "colab": {
      "provenance": []
    },
    "kernelspec": {
      "display_name": "Python 3.9.12 ('base')",
      "language": "python",
      "name": "python3"
    },
    "language_info": {
      "codemirror_mode": {
        "name": "ipython",
        "version": 3
      },
      "file_extension": ".py",
      "mimetype": "text/x-python",
      "name": "python",
      "nbconvert_exporter": "python",
      "pygments_lexer": "ipython3",
      "version": "3.9.12"
    },
    "vscode": {
      "interpreter": {
        "hash": "3a0de9df006df342b5e4296aedaeaf87f8585c794651fec65fd5881a82402807"
      }
    }
  },
  "nbformat": 4,
  "nbformat_minor": 0
}
