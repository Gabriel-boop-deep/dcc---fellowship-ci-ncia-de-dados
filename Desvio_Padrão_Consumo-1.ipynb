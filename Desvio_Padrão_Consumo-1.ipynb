{
  "nbformat": 4,
  "nbformat_minor": 0,
  "metadata": {
    "colab": {
      "provenance": [],
      "collapsed_sections": []
    },
    "kernelspec": {
      "name": "python3",
      "display_name": "Python 3"
    },
    "language_info": {
      "name": "python"
    }
  },
  "cells": [
    {
      "cell_type": "code",
      "source": [
        "#importando as bibliotecas\n",
        "import pandas as pd\n",
        "import plotly.express as px\n",
        "import seaborn as sns\n",
        "import numpy as np"
      ],
      "metadata": {
        "id": "DAlMjRarSIDS"
      },
      "execution_count": 1,
      "outputs": []
    },
    {
      "cell_type": "code",
      "source": [
        "caminho_consumo_2='/content/drive/MyDrive/DCC_SIRIUS/consumo_2.xlsx'"
      ],
      "metadata": {
        "id": "wIbKuEORSFCE"
      },
      "execution_count": 2,
      "outputs": []
    },
    {
      "cell_type": "code",
      "source": [
        "consumo_2=pd.read_excel(caminho_consumo_2)\n",
        "consumo_2.head(1)"
      ],
      "metadata": {
        "colab": {
          "base_uri": "https://localhost:8080/",
          "height": 81
        },
        "id": "jH7P0zwQSSH-",
        "outputId": "d9789bc9-a0ba-4e51-ce60-1d41cfb17b0a"
      },
      "execution_count": 3,
      "outputs": [
        {
          "output_type": "execute_result",
          "data": {
            "text/plain": [
              "   Unnamed: 0          Items  Região  Total    Classe  Produção (t)\n",
              "0           0   Arroz polido  Brasil  18.22  Classe F         20.48"
            ],
            "text/html": [
              "\n",
              "  <div id=\"df-ee010487-4860-4450-b357-22b7235890b2\">\n",
              "    <div class=\"colab-df-container\">\n",
              "      <div>\n",
              "<style scoped>\n",
              "    .dataframe tbody tr th:only-of-type {\n",
              "        vertical-align: middle;\n",
              "    }\n",
              "\n",
              "    .dataframe tbody tr th {\n",
              "        vertical-align: top;\n",
              "    }\n",
              "\n",
              "    .dataframe thead th {\n",
              "        text-align: right;\n",
              "    }\n",
              "</style>\n",
              "<table border=\"1\" class=\"dataframe\">\n",
              "  <thead>\n",
              "    <tr style=\"text-align: right;\">\n",
              "      <th></th>\n",
              "      <th>Unnamed: 0</th>\n",
              "      <th>Items</th>\n",
              "      <th>Região</th>\n",
              "      <th>Total</th>\n",
              "      <th>Classe</th>\n",
              "      <th>Produção (t)</th>\n",
              "    </tr>\n",
              "  </thead>\n",
              "  <tbody>\n",
              "    <tr>\n",
              "      <th>0</th>\n",
              "      <td>0</td>\n",
              "      <td>Arroz polido</td>\n",
              "      <td>Brasil</td>\n",
              "      <td>18.22</td>\n",
              "      <td>Classe F</td>\n",
              "      <td>20.48</td>\n",
              "    </tr>\n",
              "  </tbody>\n",
              "</table>\n",
              "</div>\n",
              "      <button class=\"colab-df-convert\" onclick=\"convertToInteractive('df-ee010487-4860-4450-b357-22b7235890b2')\"\n",
              "              title=\"Convert this dataframe to an interactive table.\"\n",
              "              style=\"display:none;\">\n",
              "        \n",
              "  <svg xmlns=\"http://www.w3.org/2000/svg\" height=\"24px\"viewBox=\"0 0 24 24\"\n",
              "       width=\"24px\">\n",
              "    <path d=\"M0 0h24v24H0V0z\" fill=\"none\"/>\n",
              "    <path d=\"M18.56 5.44l.94 2.06.94-2.06 2.06-.94-2.06-.94-.94-2.06-.94 2.06-2.06.94zm-11 1L8.5 8.5l.94-2.06 2.06-.94-2.06-.94L8.5 2.5l-.94 2.06-2.06.94zm10 10l.94 2.06.94-2.06 2.06-.94-2.06-.94-.94-2.06-.94 2.06-2.06.94z\"/><path d=\"M17.41 7.96l-1.37-1.37c-.4-.4-.92-.59-1.43-.59-.52 0-1.04.2-1.43.59L10.3 9.45l-7.72 7.72c-.78.78-.78 2.05 0 2.83L4 21.41c.39.39.9.59 1.41.59.51 0 1.02-.2 1.41-.59l7.78-7.78 2.81-2.81c.8-.78.8-2.07 0-2.86zM5.41 20L4 18.59l7.72-7.72 1.47 1.35L5.41 20z\"/>\n",
              "  </svg>\n",
              "      </button>\n",
              "      \n",
              "  <style>\n",
              "    .colab-df-container {\n",
              "      display:flex;\n",
              "      flex-wrap:wrap;\n",
              "      gap: 12px;\n",
              "    }\n",
              "\n",
              "    .colab-df-convert {\n",
              "      background-color: #E8F0FE;\n",
              "      border: none;\n",
              "      border-radius: 50%;\n",
              "      cursor: pointer;\n",
              "      display: none;\n",
              "      fill: #1967D2;\n",
              "      height: 32px;\n",
              "      padding: 0 0 0 0;\n",
              "      width: 32px;\n",
              "    }\n",
              "\n",
              "    .colab-df-convert:hover {\n",
              "      background-color: #E2EBFA;\n",
              "      box-shadow: 0px 1px 2px rgba(60, 64, 67, 0.3), 0px 1px 3px 1px rgba(60, 64, 67, 0.15);\n",
              "      fill: #174EA6;\n",
              "    }\n",
              "\n",
              "    [theme=dark] .colab-df-convert {\n",
              "      background-color: #3B4455;\n",
              "      fill: #D2E3FC;\n",
              "    }\n",
              "\n",
              "    [theme=dark] .colab-df-convert:hover {\n",
              "      background-color: #434B5C;\n",
              "      box-shadow: 0px 1px 3px 1px rgba(0, 0, 0, 0.15);\n",
              "      filter: drop-shadow(0px 1px 2px rgba(0, 0, 0, 0.3));\n",
              "      fill: #FFFFFF;\n",
              "    }\n",
              "  </style>\n",
              "\n",
              "      <script>\n",
              "        const buttonEl =\n",
              "          document.querySelector('#df-ee010487-4860-4450-b357-22b7235890b2 button.colab-df-convert');\n",
              "        buttonEl.style.display =\n",
              "          google.colab.kernel.accessAllowed ? 'block' : 'none';\n",
              "\n",
              "        async function convertToInteractive(key) {\n",
              "          const element = document.querySelector('#df-ee010487-4860-4450-b357-22b7235890b2');\n",
              "          const dataTable =\n",
              "            await google.colab.kernel.invokeFunction('convertToInteractive',\n",
              "                                                     [key], {});\n",
              "          if (!dataTable) return;\n",
              "\n",
              "          const docLinkHtml = 'Like what you see? Visit the ' +\n",
              "            '<a target=\"_blank\" href=https://colab.research.google.com/notebooks/data_table.ipynb>data table notebook</a>'\n",
              "            + ' to learn more about interactive tables.';\n",
              "          element.innerHTML = '';\n",
              "          dataTable['output_type'] = 'display_data';\n",
              "          await google.colab.output.renderOutput(dataTable, element);\n",
              "          const docLink = document.createElement('div');\n",
              "          docLink.innerHTML = docLinkHtml;\n",
              "          element.appendChild(docLink);\n",
              "        }\n",
              "      </script>\n",
              "    </div>\n",
              "  </div>\n",
              "  "
            ]
          },
          "metadata": {},
          "execution_count": 3
        }
      ]
    },
    {
      "cell_type": "code",
      "source": [
        "consumo_2.columns"
      ],
      "metadata": {
        "colab": {
          "base_uri": "https://localhost:8080/"
        },
        "id": "fL5LPyWyTOIj",
        "outputId": "8498ce70-061a-4c85-c600-e126f957d4c5"
      },
      "execution_count": 4,
      "outputs": [
        {
          "output_type": "execute_result",
          "data": {
            "text/plain": [
              "Index(['Unnamed: 0', 'Items', 'Região', 'Total', 'Classe', 'Produção (t)'], dtype='object')"
            ]
          },
          "metadata": {},
          "execution_count": 4
        }
      ]
    },
    {
      "cell_type": "code",
      "source": [
        "consumo_2=consumo_2[['Items', 'Região', 'Total', 'Classe', 'Produção (t)']]\n",
        "consumo_2=consumo_2.rename(columns={'Produção (t)':'Consumo percapita'})"
      ],
      "metadata": {
        "id": "eTuStyX_Soy8"
      },
      "execution_count": 5,
      "outputs": []
    },
    {
      "cell_type": "code",
      "source": [
        "consumo_2.Items.unique()"
      ],
      "metadata": {
        "colab": {
          "base_uri": "https://localhost:8080/"
        },
        "id": "xK3jFjoVYLAv",
        "outputId": "1bc387ff-08f7-4ad4-abec-332023650eed"
      },
      "execution_count": 6,
      "outputs": [
        {
          "output_type": "execute_result",
          "data": {
            "text/plain": [
              "array([' Arroz polido', 'Feijão-mulatinho', 'Feijão-preto',\n",
              "       'Farinha de mandioca', 'Farinha de trigo', 'Fubá de milho',\n",
              "       'Açúcar cristal', 'Molho de tomate', 'Óleo de soja', 'Café moído'],\n",
              "      dtype=object)"
            ]
          },
          "metadata": {},
          "execution_count": 6
        }
      ]
    },
    {
      "cell_type": "code",
      "source": [
        "consumo_2.loc[consumo_2['Items'].isin(['Feijão-mulatinho','Feijão-preto']),'Items']='Feijão'"
      ],
      "metadata": {
        "id": "H1mx697uX_jJ"
      },
      "execution_count": 7,
      "outputs": []
    },
    {
      "cell_type": "code",
      "source": [
        "consumo_2.head()"
      ],
      "metadata": {
        "colab": {
          "base_uri": "https://localhost:8080/",
          "height": 206
        },
        "id": "ClsIU_IJTerV",
        "outputId": "92c91574-e163-448f-9830-6e23b27d9fdd"
      },
      "execution_count": 8,
      "outputs": [
        {
          "output_type": "execute_result",
          "data": {
            "text/plain": [
              "           Items    Região  Total    Classe  Consumo percapita\n",
              "0   Arroz polido    Brasil  18.22  Classe F              20.48\n",
              "1   Arroz polido     Norte  17.94  Classe F              17.84\n",
              "2   Arroz polido  Nordeste  20.33  Classe F              22.35\n",
              "3   Arroz polido   Sudeste  17.05  Classe F              18.96\n",
              "4   Arroz polido       Sul  14.70  Classe F              15.58"
            ],
            "text/html": [
              "\n",
              "  <div id=\"df-4ed50a21-70bb-4542-8544-c76f53a36e6c\">\n",
              "    <div class=\"colab-df-container\">\n",
              "      <div>\n",
              "<style scoped>\n",
              "    .dataframe tbody tr th:only-of-type {\n",
              "        vertical-align: middle;\n",
              "    }\n",
              "\n",
              "    .dataframe tbody tr th {\n",
              "        vertical-align: top;\n",
              "    }\n",
              "\n",
              "    .dataframe thead th {\n",
              "        text-align: right;\n",
              "    }\n",
              "</style>\n",
              "<table border=\"1\" class=\"dataframe\">\n",
              "  <thead>\n",
              "    <tr style=\"text-align: right;\">\n",
              "      <th></th>\n",
              "      <th>Items</th>\n",
              "      <th>Região</th>\n",
              "      <th>Total</th>\n",
              "      <th>Classe</th>\n",
              "      <th>Consumo percapita</th>\n",
              "    </tr>\n",
              "  </thead>\n",
              "  <tbody>\n",
              "    <tr>\n",
              "      <th>0</th>\n",
              "      <td>Arroz polido</td>\n",
              "      <td>Brasil</td>\n",
              "      <td>18.22</td>\n",
              "      <td>Classe F</td>\n",
              "      <td>20.48</td>\n",
              "    </tr>\n",
              "    <tr>\n",
              "      <th>1</th>\n",
              "      <td>Arroz polido</td>\n",
              "      <td>Norte</td>\n",
              "      <td>17.94</td>\n",
              "      <td>Classe F</td>\n",
              "      <td>17.84</td>\n",
              "    </tr>\n",
              "    <tr>\n",
              "      <th>2</th>\n",
              "      <td>Arroz polido</td>\n",
              "      <td>Nordeste</td>\n",
              "      <td>20.33</td>\n",
              "      <td>Classe F</td>\n",
              "      <td>22.35</td>\n",
              "    </tr>\n",
              "    <tr>\n",
              "      <th>3</th>\n",
              "      <td>Arroz polido</td>\n",
              "      <td>Sudeste</td>\n",
              "      <td>17.05</td>\n",
              "      <td>Classe F</td>\n",
              "      <td>18.96</td>\n",
              "    </tr>\n",
              "    <tr>\n",
              "      <th>4</th>\n",
              "      <td>Arroz polido</td>\n",
              "      <td>Sul</td>\n",
              "      <td>14.70</td>\n",
              "      <td>Classe F</td>\n",
              "      <td>15.58</td>\n",
              "    </tr>\n",
              "  </tbody>\n",
              "</table>\n",
              "</div>\n",
              "      <button class=\"colab-df-convert\" onclick=\"convertToInteractive('df-4ed50a21-70bb-4542-8544-c76f53a36e6c')\"\n",
              "              title=\"Convert this dataframe to an interactive table.\"\n",
              "              style=\"display:none;\">\n",
              "        \n",
              "  <svg xmlns=\"http://www.w3.org/2000/svg\" height=\"24px\"viewBox=\"0 0 24 24\"\n",
              "       width=\"24px\">\n",
              "    <path d=\"M0 0h24v24H0V0z\" fill=\"none\"/>\n",
              "    <path d=\"M18.56 5.44l.94 2.06.94-2.06 2.06-.94-2.06-.94-.94-2.06-.94 2.06-2.06.94zm-11 1L8.5 8.5l.94-2.06 2.06-.94-2.06-.94L8.5 2.5l-.94 2.06-2.06.94zm10 10l.94 2.06.94-2.06 2.06-.94-2.06-.94-.94-2.06-.94 2.06-2.06.94z\"/><path d=\"M17.41 7.96l-1.37-1.37c-.4-.4-.92-.59-1.43-.59-.52 0-1.04.2-1.43.59L10.3 9.45l-7.72 7.72c-.78.78-.78 2.05 0 2.83L4 21.41c.39.39.9.59 1.41.59.51 0 1.02-.2 1.41-.59l7.78-7.78 2.81-2.81c.8-.78.8-2.07 0-2.86zM5.41 20L4 18.59l7.72-7.72 1.47 1.35L5.41 20z\"/>\n",
              "  </svg>\n",
              "      </button>\n",
              "      \n",
              "  <style>\n",
              "    .colab-df-container {\n",
              "      display:flex;\n",
              "      flex-wrap:wrap;\n",
              "      gap: 12px;\n",
              "    }\n",
              "\n",
              "    .colab-df-convert {\n",
              "      background-color: #E8F0FE;\n",
              "      border: none;\n",
              "      border-radius: 50%;\n",
              "      cursor: pointer;\n",
              "      display: none;\n",
              "      fill: #1967D2;\n",
              "      height: 32px;\n",
              "      padding: 0 0 0 0;\n",
              "      width: 32px;\n",
              "    }\n",
              "\n",
              "    .colab-df-convert:hover {\n",
              "      background-color: #E2EBFA;\n",
              "      box-shadow: 0px 1px 2px rgba(60, 64, 67, 0.3), 0px 1px 3px 1px rgba(60, 64, 67, 0.15);\n",
              "      fill: #174EA6;\n",
              "    }\n",
              "\n",
              "    [theme=dark] .colab-df-convert {\n",
              "      background-color: #3B4455;\n",
              "      fill: #D2E3FC;\n",
              "    }\n",
              "\n",
              "    [theme=dark] .colab-df-convert:hover {\n",
              "      background-color: #434B5C;\n",
              "      box-shadow: 0px 1px 3px 1px rgba(0, 0, 0, 0.15);\n",
              "      filter: drop-shadow(0px 1px 2px rgba(0, 0, 0, 0.3));\n",
              "      fill: #FFFFFF;\n",
              "    }\n",
              "  </style>\n",
              "\n",
              "      <script>\n",
              "        const buttonEl =\n",
              "          document.querySelector('#df-4ed50a21-70bb-4542-8544-c76f53a36e6c button.colab-df-convert');\n",
              "        buttonEl.style.display =\n",
              "          google.colab.kernel.accessAllowed ? 'block' : 'none';\n",
              "\n",
              "        async function convertToInteractive(key) {\n",
              "          const element = document.querySelector('#df-4ed50a21-70bb-4542-8544-c76f53a36e6c');\n",
              "          const dataTable =\n",
              "            await google.colab.kernel.invokeFunction('convertToInteractive',\n",
              "                                                     [key], {});\n",
              "          if (!dataTable) return;\n",
              "\n",
              "          const docLinkHtml = 'Like what you see? Visit the ' +\n",
              "            '<a target=\"_blank\" href=https://colab.research.google.com/notebooks/data_table.ipynb>data table notebook</a>'\n",
              "            + ' to learn more about interactive tables.';\n",
              "          element.innerHTML = '';\n",
              "          dataTable['output_type'] = 'display_data';\n",
              "          await google.colab.output.renderOutput(dataTable, element);\n",
              "          const docLink = document.createElement('div');\n",
              "          docLink.innerHTML = docLinkHtml;\n",
              "          element.appendChild(docLink);\n",
              "        }\n",
              "      </script>\n",
              "    </div>\n",
              "  </div>\n",
              "  "
            ]
          },
          "metadata": {},
          "execution_count": 8
        }
      ]
    },
    {
      "cell_type": "code",
      "source": [
        "fig1=px.scatter(consumo_2,x='Região',y='Consumo percapita',color='Items')\n",
        "fig1.update_layout(\n",
        "    title='Distribuição do consumo percapita dos alimentos por região'\n",
        ")"
      ],
      "metadata": {
        "colab": {
          "base_uri": "https://localhost:8080/",
          "height": 542
        },
        "id": "Z4QeATgUTtzJ",
        "outputId": "ebe59d84-0051-46ef-f927-5304bf55138f"
      },
      "execution_count": 9,
      "outputs": [
        {
          "output_type": "display_data",
          "data": {
            "text/html": [
              "<html>\n",
              "<head><meta charset=\"utf-8\" /></head>\n",
              "<body>\n",
              "    <div>            <script src=\"https://cdnjs.cloudflare.com/ajax/libs/mathjax/2.7.5/MathJax.js?config=TeX-AMS-MML_SVG\"></script><script type=\"text/javascript\">if (window.MathJax) {MathJax.Hub.Config({SVG: {font: \"STIX-Web\"}});}</script>                <script type=\"text/javascript\">window.PlotlyConfig = {MathJaxConfig: 'local'};</script>\n",
              "        <script src=\"https://cdn.plot.ly/plotly-2.8.3.min.js\"></script>                <div id=\"47b02a5b-da28-45e1-9c0a-4740cc08c346\" class=\"plotly-graph-div\" style=\"height:525px; width:100%;\"></div>            <script type=\"text/javascript\">                                    window.PLOTLYENV=window.PLOTLYENV || {};                                    if (document.getElementById(\"47b02a5b-da28-45e1-9c0a-4740cc08c346\")) {                    Plotly.newPlot(                        \"47b02a5b-da28-45e1-9c0a-4740cc08c346\",                        [{\"hovertemplate\":\"Items= Arroz polido<br>Regi\\u00e3o=%{x}<br>Consumo percapita=%{y}<extra></extra>\",\"legendgroup\":\" Arroz polido\",\"marker\":{\"color\":\"#636efa\",\"symbol\":\"circle\"},\"mode\":\"markers\",\"name\":\" Arroz polido\",\"orientation\":\"v\",\"showlegend\":true,\"x\":[\"Brasil\",\"Norte\",\"Nordeste\",\"Sudeste\",\"Sul\",\"Centro-Oeste\",\"Brasil\",\"Norte\",\"Nordeste\",\"Sudeste\",\"Sul\",\"Centro-Oeste\",\"Brasil\",\"Norte\",\"Nordeste\",\"Sudeste\",\"Sul\",\"Centro-Oeste\",\"Brasil\",\"Norte\",\"Nordeste\",\"Sudeste\",\"Sul\",\"Centro-Oeste\",\"Brasil\",\"Norte\",\"Nordeste\",\"Sudeste\",\"Sul\",\"Centro-Oeste\",\"Brasil\",\"Norte\",\"Nordeste\",\"Sudeste\",\"Sul\",\"Centro-Oeste\"],\"xaxis\":\"x\",\"y\":[20.48,17.84,22.35,18.96,15.58,27.03,20.28,19.64,22.21,16.81,19.33,32.29,18.8,16.94,19.58,18.67,15.77,24.8,14.86,18.65,14.12,14.6,12.16,21.73,15.57,16.49,15.28,16.76,11.29,18.18,12.4,15.87,10.86,13.0,10.46,12.88],\"yaxis\":\"y\",\"type\":\"scatter\"},{\"hovertemplate\":\"Items=Feij\\u00e3o<br>Regi\\u00e3o=%{x}<br>Consumo percapita=%{y}<extra></extra>\",\"legendgroup\":\"Feij\\u00e3o\",\"marker\":{\"color\":\"#EF553B\",\"symbol\":\"circle\"},\"mode\":\"markers\",\"name\":\"Feij\\u00e3o\",\"orientation\":\"v\",\"showlegend\":true,\"x\":[\"Brasil\",\"Norte\",\"Nordeste\",\"Sudeste\",\"Sul\",\"Centro-Oeste\",\"Brasil\",\"Norte\",\"Nordeste\",\"Sudeste\",\"Sul\",\"Centro-Oeste\",\"Brasil\",\"Norte\",\"Nordeste\",\"Sudeste\",\"Sul\",\"Centro-Oeste\",\"Brasil\",\"Norte\",\"Nordeste\",\"Sudeste\",\"Sul\",\"Centro-Oeste\",\"Brasil\",\"Norte\",\"Nordeste\",\"Sudeste\",\"Sul\",\"Centro-Oeste\",\"Brasil\",\"Norte\",\"Nordeste\",\"Sudeste\",\"Sul\",\"Centro-Oeste\",\"Brasil\",\"Norte\",\"Nordeste\",\"Sudeste\",\"Sul\",\"Centro-Oeste\",\"Brasil\",\"Norte\",\"Nordeste\",\"Sudeste\",\"Sul\",\"Centro-Oeste\",\"Brasil\",\"Norte\",\"Nordeste\",\"Sudeste\",\"Sul\",\"Centro-Oeste\",\"Brasil\",\"Norte\",\"Nordeste\",\"Sudeste\",\"Sul\",\"Centro-Oeste\",\"Brasil\",\"Norte\",\"Nordeste\",\"Sudeste\",\"Sul\",\"Centro-Oeste\",\"Brasil\",\"Norte\",\"Nordeste\",\"Sudeste\",\"Sul\",\"Centro-Oeste\"],\"xaxis\":\"x\",\"y\":[0.89,0.54,1.42,0.35,0.42,0.67,1.09,0.6,0.5,1.84,3.38,0.23,0.88,0.56,1.69,0.33,0.54,0.98,1.3,0.69,0.52,1.64,3.39,0.59,0.68,0.52,1.42,0.45,0.36,0.77,1.39,1.11,0.61,1.53,2.78,0.38,0.46,0.24,1.8,0.19,0.12,0.71,1.32,0.79,0.69,1.32,2.33,0.36,0.33,0.06,0.85,0.3,0.06,0.36,1.62,0.71,0.89,1.88,2.0,0.74,0.44,0.23,0.74,0.58,0.08,0.08,1.11,1.5,1.04,0.82,2.21,0.85],\"yaxis\":\"y\",\"type\":\"scatter\"},{\"hovertemplate\":\"Items=Farinha de mandioca<br>Regi\\u00e3o=%{x}<br>Consumo percapita=%{y}<extra></extra>\",\"legendgroup\":\"Farinha de mandioca\",\"marker\":{\"color\":\"#00cc96\",\"symbol\":\"circle\"},\"mode\":\"markers\",\"name\":\"Farinha de mandioca\",\"orientation\":\"v\",\"showlegend\":true,\"x\":[\"Brasil\",\"Norte\",\"Nordeste\",\"Sudeste\",\"Sul\",\"Centro-Oeste\",\"Brasil\",\"Norte\",\"Nordeste\",\"Sudeste\",\"Sul\",\"Centro-Oeste\",\"Brasil\",\"Norte\",\"Nordeste\",\"Sudeste\",\"Sul\",\"Centro-Oeste\",\"Brasil\",\"Norte\",\"Nordeste\",\"Sudeste\",\"Sul\",\"Centro-Oeste\",\"Brasil\",\"Norte\",\"Nordeste\",\"Sudeste\",\"Sul\",\"Centro-Oeste\",\"Brasil\",\"Norte\",\"Nordeste\",\"Sudeste\",\"Sul\",\"Centro-Oeste\"],\"xaxis\":\"x\",\"y\":[3.83,11.6,4.1,0.83,0.52,0.58,3.09,12.01,4.56,0.74,0.45,0.61,1.86,9.6,3.46,0.6,0.43,0.53,1.39,11.27,3.15,0.37,0.33,0.64,0.99,8.01,1.79,0.51,0.34,0.65,1.02,4.54,3.84,0.38,0.36,0.71],\"yaxis\":\"y\",\"type\":\"scatter\"},{\"hovertemplate\":\"Items=Farinha de trigo<br>Regi\\u00e3o=%{x}<br>Consumo percapita=%{y}<extra></extra>\",\"legendgroup\":\"Farinha de trigo\",\"marker\":{\"color\":\"#ab63fa\",\"symbol\":\"circle\"},\"mode\":\"markers\",\"name\":\"Farinha de trigo\",\"orientation\":\"v\",\"showlegend\":true,\"x\":[\"Brasil\",\"Norte\",\"Nordeste\",\"Sudeste\",\"Sul\",\"Centro-Oeste\",\"Brasil\",\"Norte\",\"Nordeste\",\"Sudeste\",\"Sul\",\"Centro-Oeste\",\"Brasil\",\"Norte\",\"Nordeste\",\"Sudeste\",\"Sul\",\"Centro-Oeste\",\"Brasil\",\"Norte\",\"Nordeste\",\"Sudeste\",\"Sul\",\"Centro-Oeste\",\"Brasil\",\"Norte\",\"Nordeste\",\"Sudeste\",\"Sul\",\"Centro-Oeste\",\"Brasil\",\"Norte\",\"Nordeste\",\"Sudeste\",\"Sul\",\"Centro-Oeste\"],\"xaxis\":\"x\",\"y\":[1.43,0.86,0.6,1.41,7.39,1.21,1.9,1.13,0.71,1.41,7.75,1.66,2.62,1.8,1.01,1.6,8.59,2.0,2.56,1.66,0.9,1.74,6.47,1.76,2.82,0.96,1.29,2.38,5.94,1.77,2.54,0.42,1.73,1.91,6.39,1.68],\"yaxis\":\"y\",\"type\":\"scatter\"},{\"hovertemplate\":\"Items=Fub\\u00e1 de milho<br>Regi\\u00e3o=%{x}<br>Consumo percapita=%{y}<extra></extra>\",\"legendgroup\":\"Fub\\u00e1 de milho\",\"marker\":{\"color\":\"#FFA15A\",\"symbol\":\"circle\"},\"mode\":\"markers\",\"name\":\"Fub\\u00e1 de milho\",\"orientation\":\"v\",\"showlegend\":true,\"x\":[\"Brasil\",\"Norte\",\"Nordeste\",\"Sudeste\",\"Sul\",\"Centro-Oeste\",\"Brasil\",\"Norte\",\"Nordeste\",\"Sudeste\",\"Sul\",\"Centro-Oeste\",\"Brasil\",\"Norte\",\"Nordeste\",\"Sudeste\",\"Sul\",\"Centro-Oeste\",\"Brasil\",\"Norte\",\"Nordeste\",\"Sudeste\",\"Sul\",\"Centro-Oeste\",\"Brasil\",\"Norte\",\"Nordeste\",\"Sudeste\",\"Sul\",\"Centro-Oeste\",\"Brasil\",\"Norte\",\"Nordeste\",\"Sudeste\",\"Sul\",\"Centro-Oeste\"],\"xaxis\":\"x\",\"y\":[2.16,0.92,3.46,1.17,1.2,0.57,1.45,0.88,2.52,0.9,1.2,0.47,1.09,0.84,1.93,0.8,1.23,0.38,0.83,0.82,1.49,0.69,0.78,0.64,0.67,0.32,1.58,0.39,0.9,0.48,0.52,1.12,0.73,0.45,0.57,0.39],\"yaxis\":\"y\",\"type\":\"scatter\"},{\"hovertemplate\":\"Items=A\\u00e7\\u00facar cristal<br>Regi\\u00e3o=%{x}<br>Consumo percapita=%{y}<extra></extra>\",\"legendgroup\":\"A\\u00e7\\u00facar cristal\",\"marker\":{\"color\":\"#19d3f3\",\"symbol\":\"circle\"},\"mode\":\"markers\",\"name\":\"A\\u00e7\\u00facar cristal\",\"orientation\":\"v\",\"showlegend\":true,\"x\":[\"Brasil\",\"Norte\",\"Nordeste\",\"Sudeste\",\"Sul\",\"Centro-Oeste\",\"Brasil\",\"Norte\",\"Nordeste\",\"Sudeste\",\"Sul\",\"Centro-Oeste\",\"Brasil\",\"Norte\",\"Nordeste\",\"Sudeste\",\"Sul\",\"Centro-Oeste\",\"Brasil\",\"Norte\",\"Nordeste\",\"Sudeste\",\"Sul\",\"Centro-Oeste\",\"Brasil\",\"Norte\",\"Nordeste\",\"Sudeste\",\"Sul\",\"Centro-Oeste\",\"Brasil\",\"Norte\",\"Nordeste\",\"Sudeste\",\"Sul\",\"Centro-Oeste\"],\"xaxis\":\"x\",\"y\":[6.27,5.14,6.6,5.8,6.19,9.15,6.68,5.96,7.36,5.91,6.3,9.35,6.64,5.66,8.18,6.44,5.11,7.3,5.62,7.97,7.04,5.41,3.37,8.22,4.15,5.92,5.2,3.5,4.03,5.85,3.49,7.44,5.23,2.21,2.82,6.77],\"yaxis\":\"y\",\"type\":\"scatter\"},{\"hovertemplate\":\"Items=Molho de tomate<br>Regi\\u00e3o=%{x}<br>Consumo percapita=%{y}<extra></extra>\",\"legendgroup\":\"Molho de tomate\",\"marker\":{\"color\":\"#FF6692\",\"symbol\":\"circle\"},\"mode\":\"markers\",\"name\":\"Molho de tomate\",\"orientation\":\"v\",\"showlegend\":true,\"x\":[\"Brasil\",\"Norte\",\"Nordeste\",\"Sudeste\",\"Sul\",\"Centro-Oeste\",\"Brasil\",\"Norte\",\"Nordeste\",\"Sudeste\",\"Sul\",\"Centro-Oeste\",\"Brasil\",\"Norte\",\"Nordeste\",\"Sudeste\",\"Sul\",\"Centro-Oeste\",\"Brasil\",\"Norte\",\"Nordeste\",\"Sudeste\",\"Sul\",\"Centro-Oeste\",\"Brasil\",\"Norte\",\"Nordeste\",\"Sudeste\",\"Sul\",\"Centro-Oeste\",\"Brasil\",\"Norte\",\"Nordeste\",\"Sudeste\",\"Sul\",\"Centro-Oeste\"],\"xaxis\":\"x\",\"y\":[0.46,0.17,0.23,0.95,0.62,0.5,0.69,0.18,0.47,0.97,1.04,0.36,1.0,0.29,0.53,1.44,0.95,0.54,1.26,0.61,0.79,1.51,1.24,0.98,1.57,1.07,0.85,2.03,1.38,0.65,1.74,0.71,1.26,2.0,1.74,1.45],\"yaxis\":\"y\",\"type\":\"scatter\"},{\"hovertemplate\":\"Items=\\u00d3leo de soja<br>Regi\\u00e3o=%{x}<br>Consumo percapita=%{y}<extra></extra>\",\"legendgroup\":\"\\u00d3leo de soja\",\"marker\":{\"color\":\"#B6E880\",\"symbol\":\"circle\"},\"mode\":\"markers\",\"name\":\"\\u00d3leo de soja\",\"orientation\":\"v\",\"showlegend\":true,\"x\":[\"Brasil\",\"Norte\",\"Nordeste\",\"Sudeste\",\"Sul\",\"Centro-Oeste\",\"Brasil\",\"Norte\",\"Nordeste\",\"Sudeste\",\"Sul\",\"Centro-Oeste\",\"Brasil\",\"Norte\",\"Nordeste\",\"Sudeste\",\"Sul\",\"Centro-Oeste\",\"Brasil\",\"Norte\",\"Nordeste\",\"Sudeste\",\"Sul\",\"Centro-Oeste\",\"Brasil\",\"Norte\",\"Nordeste\",\"Sudeste\",\"Sul\",\"Centro-Oeste\",\"Brasil\",\"Norte\",\"Nordeste\",\"Sudeste\",\"Sul\",\"Centro-Oeste\"],\"xaxis\":\"x\",\"y\":[4.28,3.94,3.74,4.68,5.44,6.2,4.65,4.17,3.8,4.75,5.6,7.25,5.0,4.52,3.28,5.56,5.39,6.23,4.74,4.09,2.93,5.26,4.81,4.99,4.21,2.95,2.16,4.64,4.03,5.96,3.32,3.36,2.38,3.01,4.32,4.23],\"yaxis\":\"y\",\"type\":\"scatter\"},{\"hovertemplate\":\"Items=Caf\\u00e9 mo\\u00eddo<br>Regi\\u00e3o=%{x}<br>Consumo percapita=%{y}<extra></extra>\",\"legendgroup\":\"Caf\\u00e9 mo\\u00eddo\",\"marker\":{\"color\":\"#FF97FF\",\"symbol\":\"circle\"},\"mode\":\"markers\",\"name\":\"Caf\\u00e9 mo\\u00eddo\",\"orientation\":\"v\",\"showlegend\":true,\"x\":[\"Brasil\",\"Norte\",\"Nordeste\",\"Sudeste\",\"Sul\",\"Centro-Oeste\",\"Brasil\",\"Norte\",\"Nordeste\",\"Sudeste\",\"Sul\",\"Centro-Oeste\",\"Brasil\",\"Norte\",\"Nordeste\",\"Sudeste\",\"Sul\",\"Centro-Oeste\",\"Brasil\",\"Norte\",\"Nordeste\",\"Sudeste\",\"Sul\",\"Centro-Oeste\",\"Brasil\",\"Norte\",\"Nordeste\",\"Sudeste\",\"Sul\",\"Centro-Oeste\",\"Brasil\",\"Norte\",\"Nordeste\",\"Sudeste\",\"Sul\",\"Centro-Oeste\"],\"xaxis\":\"x\",\"y\":[2.22,2.0,2.31,2.17,2.31,2.05,2.37,2.11,2.51,2.23,2.52,2.59,2.4,2.05,2.29,2.63,2.25,2.1,2.35,2.17,2.18,2.5,2.07,2.56,2.52,2.15,2.05,2.77,2.49,1.96,2.83,1.71,2.65,3.14,2.54,2.44],\"yaxis\":\"y\",\"type\":\"scatter\"}],                        {\"template\":{\"data\":{\"bar\":[{\"error_x\":{\"color\":\"#2a3f5f\"},\"error_y\":{\"color\":\"#2a3f5f\"},\"marker\":{\"line\":{\"color\":\"#E5ECF6\",\"width\":0.5},\"pattern\":{\"fillmode\":\"overlay\",\"size\":10,\"solidity\":0.2}},\"type\":\"bar\"}],\"barpolar\":[{\"marker\":{\"line\":{\"color\":\"#E5ECF6\",\"width\":0.5},\"pattern\":{\"fillmode\":\"overlay\",\"size\":10,\"solidity\":0.2}},\"type\":\"barpolar\"}],\"carpet\":[{\"aaxis\":{\"endlinecolor\":\"#2a3f5f\",\"gridcolor\":\"white\",\"linecolor\":\"white\",\"minorgridcolor\":\"white\",\"startlinecolor\":\"#2a3f5f\"},\"baxis\":{\"endlinecolor\":\"#2a3f5f\",\"gridcolor\":\"white\",\"linecolor\":\"white\",\"minorgridcolor\":\"white\",\"startlinecolor\":\"#2a3f5f\"},\"type\":\"carpet\"}],\"choropleth\":[{\"colorbar\":{\"outlinewidth\":0,\"ticks\":\"\"},\"type\":\"choropleth\"}],\"contour\":[{\"colorbar\":{\"outlinewidth\":0,\"ticks\":\"\"},\"colorscale\":[[0.0,\"#0d0887\"],[0.1111111111111111,\"#46039f\"],[0.2222222222222222,\"#7201a8\"],[0.3333333333333333,\"#9c179e\"],[0.4444444444444444,\"#bd3786\"],[0.5555555555555556,\"#d8576b\"],[0.6666666666666666,\"#ed7953\"],[0.7777777777777778,\"#fb9f3a\"],[0.8888888888888888,\"#fdca26\"],[1.0,\"#f0f921\"]],\"type\":\"contour\"}],\"contourcarpet\":[{\"colorbar\":{\"outlinewidth\":0,\"ticks\":\"\"},\"type\":\"contourcarpet\"}],\"heatmap\":[{\"colorbar\":{\"outlinewidth\":0,\"ticks\":\"\"},\"colorscale\":[[0.0,\"#0d0887\"],[0.1111111111111111,\"#46039f\"],[0.2222222222222222,\"#7201a8\"],[0.3333333333333333,\"#9c179e\"],[0.4444444444444444,\"#bd3786\"],[0.5555555555555556,\"#d8576b\"],[0.6666666666666666,\"#ed7953\"],[0.7777777777777778,\"#fb9f3a\"],[0.8888888888888888,\"#fdca26\"],[1.0,\"#f0f921\"]],\"type\":\"heatmap\"}],\"heatmapgl\":[{\"colorbar\":{\"outlinewidth\":0,\"ticks\":\"\"},\"colorscale\":[[0.0,\"#0d0887\"],[0.1111111111111111,\"#46039f\"],[0.2222222222222222,\"#7201a8\"],[0.3333333333333333,\"#9c179e\"],[0.4444444444444444,\"#bd3786\"],[0.5555555555555556,\"#d8576b\"],[0.6666666666666666,\"#ed7953\"],[0.7777777777777778,\"#fb9f3a\"],[0.8888888888888888,\"#fdca26\"],[1.0,\"#f0f921\"]],\"type\":\"heatmapgl\"}],\"histogram\":[{\"marker\":{\"pattern\":{\"fillmode\":\"overlay\",\"size\":10,\"solidity\":0.2}},\"type\":\"histogram\"}],\"histogram2d\":[{\"colorbar\":{\"outlinewidth\":0,\"ticks\":\"\"},\"colorscale\":[[0.0,\"#0d0887\"],[0.1111111111111111,\"#46039f\"],[0.2222222222222222,\"#7201a8\"],[0.3333333333333333,\"#9c179e\"],[0.4444444444444444,\"#bd3786\"],[0.5555555555555556,\"#d8576b\"],[0.6666666666666666,\"#ed7953\"],[0.7777777777777778,\"#fb9f3a\"],[0.8888888888888888,\"#fdca26\"],[1.0,\"#f0f921\"]],\"type\":\"histogram2d\"}],\"histogram2dcontour\":[{\"colorbar\":{\"outlinewidth\":0,\"ticks\":\"\"},\"colorscale\":[[0.0,\"#0d0887\"],[0.1111111111111111,\"#46039f\"],[0.2222222222222222,\"#7201a8\"],[0.3333333333333333,\"#9c179e\"],[0.4444444444444444,\"#bd3786\"],[0.5555555555555556,\"#d8576b\"],[0.6666666666666666,\"#ed7953\"],[0.7777777777777778,\"#fb9f3a\"],[0.8888888888888888,\"#fdca26\"],[1.0,\"#f0f921\"]],\"type\":\"histogram2dcontour\"}],\"mesh3d\":[{\"colorbar\":{\"outlinewidth\":0,\"ticks\":\"\"},\"type\":\"mesh3d\"}],\"parcoords\":[{\"line\":{\"colorbar\":{\"outlinewidth\":0,\"ticks\":\"\"}},\"type\":\"parcoords\"}],\"pie\":[{\"automargin\":true,\"type\":\"pie\"}],\"scatter\":[{\"marker\":{\"colorbar\":{\"outlinewidth\":0,\"ticks\":\"\"}},\"type\":\"scatter\"}],\"scatter3d\":[{\"line\":{\"colorbar\":{\"outlinewidth\":0,\"ticks\":\"\"}},\"marker\":{\"colorbar\":{\"outlinewidth\":0,\"ticks\":\"\"}},\"type\":\"scatter3d\"}],\"scattercarpet\":[{\"marker\":{\"colorbar\":{\"outlinewidth\":0,\"ticks\":\"\"}},\"type\":\"scattercarpet\"}],\"scattergeo\":[{\"marker\":{\"colorbar\":{\"outlinewidth\":0,\"ticks\":\"\"}},\"type\":\"scattergeo\"}],\"scattergl\":[{\"marker\":{\"colorbar\":{\"outlinewidth\":0,\"ticks\":\"\"}},\"type\":\"scattergl\"}],\"scattermapbox\":[{\"marker\":{\"colorbar\":{\"outlinewidth\":0,\"ticks\":\"\"}},\"type\":\"scattermapbox\"}],\"scatterpolar\":[{\"marker\":{\"colorbar\":{\"outlinewidth\":0,\"ticks\":\"\"}},\"type\":\"scatterpolar\"}],\"scatterpolargl\":[{\"marker\":{\"colorbar\":{\"outlinewidth\":0,\"ticks\":\"\"}},\"type\":\"scatterpolargl\"}],\"scatterternary\":[{\"marker\":{\"colorbar\":{\"outlinewidth\":0,\"ticks\":\"\"}},\"type\":\"scatterternary\"}],\"surface\":[{\"colorbar\":{\"outlinewidth\":0,\"ticks\":\"\"},\"colorscale\":[[0.0,\"#0d0887\"],[0.1111111111111111,\"#46039f\"],[0.2222222222222222,\"#7201a8\"],[0.3333333333333333,\"#9c179e\"],[0.4444444444444444,\"#bd3786\"],[0.5555555555555556,\"#d8576b\"],[0.6666666666666666,\"#ed7953\"],[0.7777777777777778,\"#fb9f3a\"],[0.8888888888888888,\"#fdca26\"],[1.0,\"#f0f921\"]],\"type\":\"surface\"}],\"table\":[{\"cells\":{\"fill\":{\"color\":\"#EBF0F8\"},\"line\":{\"color\":\"white\"}},\"header\":{\"fill\":{\"color\":\"#C8D4E3\"},\"line\":{\"color\":\"white\"}},\"type\":\"table\"}]},\"layout\":{\"annotationdefaults\":{\"arrowcolor\":\"#2a3f5f\",\"arrowhead\":0,\"arrowwidth\":1},\"autotypenumbers\":\"strict\",\"coloraxis\":{\"colorbar\":{\"outlinewidth\":0,\"ticks\":\"\"}},\"colorscale\":{\"diverging\":[[0,\"#8e0152\"],[0.1,\"#c51b7d\"],[0.2,\"#de77ae\"],[0.3,\"#f1b6da\"],[0.4,\"#fde0ef\"],[0.5,\"#f7f7f7\"],[0.6,\"#e6f5d0\"],[0.7,\"#b8e186\"],[0.8,\"#7fbc41\"],[0.9,\"#4d9221\"],[1,\"#276419\"]],\"sequential\":[[0.0,\"#0d0887\"],[0.1111111111111111,\"#46039f\"],[0.2222222222222222,\"#7201a8\"],[0.3333333333333333,\"#9c179e\"],[0.4444444444444444,\"#bd3786\"],[0.5555555555555556,\"#d8576b\"],[0.6666666666666666,\"#ed7953\"],[0.7777777777777778,\"#fb9f3a\"],[0.8888888888888888,\"#fdca26\"],[1.0,\"#f0f921\"]],\"sequentialminus\":[[0.0,\"#0d0887\"],[0.1111111111111111,\"#46039f\"],[0.2222222222222222,\"#7201a8\"],[0.3333333333333333,\"#9c179e\"],[0.4444444444444444,\"#bd3786\"],[0.5555555555555556,\"#d8576b\"],[0.6666666666666666,\"#ed7953\"],[0.7777777777777778,\"#fb9f3a\"],[0.8888888888888888,\"#fdca26\"],[1.0,\"#f0f921\"]]},\"colorway\":[\"#636efa\",\"#EF553B\",\"#00cc96\",\"#ab63fa\",\"#FFA15A\",\"#19d3f3\",\"#FF6692\",\"#B6E880\",\"#FF97FF\",\"#FECB52\"],\"font\":{\"color\":\"#2a3f5f\"},\"geo\":{\"bgcolor\":\"white\",\"lakecolor\":\"white\",\"landcolor\":\"#E5ECF6\",\"showlakes\":true,\"showland\":true,\"subunitcolor\":\"white\"},\"hoverlabel\":{\"align\":\"left\"},\"hovermode\":\"closest\",\"mapbox\":{\"style\":\"light\"},\"paper_bgcolor\":\"white\",\"plot_bgcolor\":\"#E5ECF6\",\"polar\":{\"angularaxis\":{\"gridcolor\":\"white\",\"linecolor\":\"white\",\"ticks\":\"\"},\"bgcolor\":\"#E5ECF6\",\"radialaxis\":{\"gridcolor\":\"white\",\"linecolor\":\"white\",\"ticks\":\"\"}},\"scene\":{\"xaxis\":{\"backgroundcolor\":\"#E5ECF6\",\"gridcolor\":\"white\",\"gridwidth\":2,\"linecolor\":\"white\",\"showbackground\":true,\"ticks\":\"\",\"zerolinecolor\":\"white\"},\"yaxis\":{\"backgroundcolor\":\"#E5ECF6\",\"gridcolor\":\"white\",\"gridwidth\":2,\"linecolor\":\"white\",\"showbackground\":true,\"ticks\":\"\",\"zerolinecolor\":\"white\"},\"zaxis\":{\"backgroundcolor\":\"#E5ECF6\",\"gridcolor\":\"white\",\"gridwidth\":2,\"linecolor\":\"white\",\"showbackground\":true,\"ticks\":\"\",\"zerolinecolor\":\"white\"}},\"shapedefaults\":{\"line\":{\"color\":\"#2a3f5f\"}},\"ternary\":{\"aaxis\":{\"gridcolor\":\"white\",\"linecolor\":\"white\",\"ticks\":\"\"},\"baxis\":{\"gridcolor\":\"white\",\"linecolor\":\"white\",\"ticks\":\"\"},\"bgcolor\":\"#E5ECF6\",\"caxis\":{\"gridcolor\":\"white\",\"linecolor\":\"white\",\"ticks\":\"\"}},\"title\":{\"x\":0.05},\"xaxis\":{\"automargin\":true,\"gridcolor\":\"white\",\"linecolor\":\"white\",\"ticks\":\"\",\"title\":{\"standoff\":15},\"zerolinecolor\":\"white\",\"zerolinewidth\":2},\"yaxis\":{\"automargin\":true,\"gridcolor\":\"white\",\"linecolor\":\"white\",\"ticks\":\"\",\"title\":{\"standoff\":15},\"zerolinecolor\":\"white\",\"zerolinewidth\":2}}},\"xaxis\":{\"anchor\":\"y\",\"domain\":[0.0,1.0],\"title\":{\"text\":\"Regi\\u00e3o\"}},\"yaxis\":{\"anchor\":\"x\",\"domain\":[0.0,1.0],\"title\":{\"text\":\"Consumo percapita\"}},\"legend\":{\"title\":{\"text\":\"Items\"},\"tracegroupgap\":0},\"margin\":{\"t\":60},\"title\":{\"text\":\"Distribui\\u00e7\\u00e3o do consumo percapita dos alimentos por regi\\u00e3o\"}},                        {\"responsive\": true}                    ).then(function(){\n",
              "                            \n",
              "var gd = document.getElementById('47b02a5b-da28-45e1-9c0a-4740cc08c346');\n",
              "var x = new MutationObserver(function (mutations, observer) {{\n",
              "        var display = window.getComputedStyle(gd).display;\n",
              "        if (!display || display === 'none') {{\n",
              "            console.log([gd, 'removed!']);\n",
              "            Plotly.purge(gd);\n",
              "            observer.disconnect();\n",
              "        }}\n",
              "}});\n",
              "\n",
              "// Listen for the removal of the full notebook cells\n",
              "var notebookContainer = gd.closest('#notebook-container');\n",
              "if (notebookContainer) {{\n",
              "    x.observe(notebookContainer, {childList: true});\n",
              "}}\n",
              "\n",
              "// Listen for the clearing of the current output cell\n",
              "var outputEl = gd.closest('.output');\n",
              "if (outputEl) {{\n",
              "    x.observe(outputEl, {childList: true});\n",
              "}}\n",
              "\n",
              "                        })                };                            </script>        </div>\n",
              "</body>\n",
              "</html>"
            ]
          },
          "metadata": {}
        }
      ]
    },
    {
      "cell_type": "code",
      "source": [
        "fig1=px.scatter(consumo_2,x='Classe',y='Consumo percapita',color='Items')\n",
        "fig1.update_layout(\n",
        "    title='Distribuição do consumo percapita dos alimentos por Classe'\n",
        ")"
      ],
      "metadata": {
        "id": "AaegOHzDZ1IM",
        "outputId": "b430f99d-e485-4999-e0db-2bf1e2d53038",
        "colab": {
          "base_uri": "https://localhost:8080/",
          "height": 542
        }
      },
      "execution_count": 10,
      "outputs": [
        {
          "output_type": "display_data",
          "data": {
            "text/html": [
              "<html>\n",
              "<head><meta charset=\"utf-8\" /></head>\n",
              "<body>\n",
              "    <div>            <script src=\"https://cdnjs.cloudflare.com/ajax/libs/mathjax/2.7.5/MathJax.js?config=TeX-AMS-MML_SVG\"></script><script type=\"text/javascript\">if (window.MathJax) {MathJax.Hub.Config({SVG: {font: \"STIX-Web\"}});}</script>                <script type=\"text/javascript\">window.PlotlyConfig = {MathJaxConfig: 'local'};</script>\n",
              "        <script src=\"https://cdn.plot.ly/plotly-2.8.3.min.js\"></script>                <div id=\"d266a3fd-b716-4195-b8b6-ca65b554e493\" class=\"plotly-graph-div\" style=\"height:525px; width:100%;\"></div>            <script type=\"text/javascript\">                                    window.PLOTLYENV=window.PLOTLYENV || {};                                    if (document.getElementById(\"d266a3fd-b716-4195-b8b6-ca65b554e493\")) {                    Plotly.newPlot(                        \"d266a3fd-b716-4195-b8b6-ca65b554e493\",                        [{\"hovertemplate\":\"Items= Arroz polido<br>Classe=%{x}<br>Consumo percapita=%{y}<extra></extra>\",\"legendgroup\":\" Arroz polido\",\"marker\":{\"color\":\"#636efa\",\"symbol\":\"circle\"},\"mode\":\"markers\",\"name\":\" Arroz polido\",\"orientation\":\"v\",\"showlegend\":true,\"x\":[\"Classe F\",\"Classe F\",\"Classe F\",\"Classe F\",\"Classe F\",\"Classe F\",\"Classe E\",\"Classe E\",\"Classe E\",\"Classe E\",\"Classe E\",\"Classe E\",\"Classe D\",\"Classe D\",\"Classe D\",\"Classe D\",\"Classe D\",\"Classe D\",\"Classe C\",\"Classe C\",\"Classe C\",\"Classe C\",\"Classe C\",\"Classe C\",\"Classe B\",\"Classe B\",\"Classe B\",\"Classe B\",\"Classe B\",\"Classe B\",\"Classe A\",\"Classe A\",\"Classe A\",\"Classe A\",\"Classe A\",\"Classe A\"],\"xaxis\":\"x\",\"y\":[20.48,17.84,22.35,18.96,15.58,27.03,20.28,19.64,22.21,16.81,19.33,32.29,18.8,16.94,19.58,18.67,15.77,24.8,14.86,18.65,14.12,14.6,12.16,21.73,15.57,16.49,15.28,16.76,11.29,18.18,12.4,15.87,10.86,13.0,10.46,12.88],\"yaxis\":\"y\",\"type\":\"scatter\"},{\"hovertemplate\":\"Items=Feij\\u00e3o<br>Classe=%{x}<br>Consumo percapita=%{y}<extra></extra>\",\"legendgroup\":\"Feij\\u00e3o\",\"marker\":{\"color\":\"#EF553B\",\"symbol\":\"circle\"},\"mode\":\"markers\",\"name\":\"Feij\\u00e3o\",\"orientation\":\"v\",\"showlegend\":true,\"x\":[\"Classe F\",\"Classe F\",\"Classe F\",\"Classe F\",\"Classe F\",\"Classe F\",\"Classe F\",\"Classe F\",\"Classe F\",\"Classe F\",\"Classe F\",\"Classe F\",\"Classe E\",\"Classe E\",\"Classe E\",\"Classe E\",\"Classe E\",\"Classe E\",\"Classe E\",\"Classe E\",\"Classe E\",\"Classe E\",\"Classe E\",\"Classe E\",\"Classe D\",\"Classe D\",\"Classe D\",\"Classe D\",\"Classe D\",\"Classe D\",\"Classe D\",\"Classe D\",\"Classe D\",\"Classe D\",\"Classe D\",\"Classe D\",\"Classe C\",\"Classe C\",\"Classe C\",\"Classe C\",\"Classe C\",\"Classe C\",\"Classe C\",\"Classe C\",\"Classe C\",\"Classe C\",\"Classe C\",\"Classe C\",\"Classe B\",\"Classe B\",\"Classe B\",\"Classe B\",\"Classe B\",\"Classe B\",\"Classe B\",\"Classe B\",\"Classe B\",\"Classe B\",\"Classe B\",\"Classe B\",\"Classe A\",\"Classe A\",\"Classe A\",\"Classe A\",\"Classe A\",\"Classe A\",\"Classe A\",\"Classe A\",\"Classe A\",\"Classe A\",\"Classe A\",\"Classe A\"],\"xaxis\":\"x\",\"y\":[0.89,0.54,1.42,0.35,0.42,0.67,1.09,0.6,0.5,1.84,3.38,0.23,0.88,0.56,1.69,0.33,0.54,0.98,1.3,0.69,0.52,1.64,3.39,0.59,0.68,0.52,1.42,0.45,0.36,0.77,1.39,1.11,0.61,1.53,2.78,0.38,0.46,0.24,1.8,0.19,0.12,0.71,1.32,0.79,0.69,1.32,2.33,0.36,0.33,0.06,0.85,0.3,0.06,0.36,1.62,0.71,0.89,1.88,2.0,0.74,0.44,0.23,0.74,0.58,0.08,0.08,1.11,1.5,1.04,0.82,2.21,0.85],\"yaxis\":\"y\",\"type\":\"scatter\"},{\"hovertemplate\":\"Items=Farinha de mandioca<br>Classe=%{x}<br>Consumo percapita=%{y}<extra></extra>\",\"legendgroup\":\"Farinha de mandioca\",\"marker\":{\"color\":\"#00cc96\",\"symbol\":\"circle\"},\"mode\":\"markers\",\"name\":\"Farinha de mandioca\",\"orientation\":\"v\",\"showlegend\":true,\"x\":[\"Classe F\",\"Classe F\",\"Classe F\",\"Classe F\",\"Classe F\",\"Classe F\",\"Classe E\",\"Classe E\",\"Classe E\",\"Classe E\",\"Classe E\",\"Classe E\",\"Classe D\",\"Classe D\",\"Classe D\",\"Classe D\",\"Classe D\",\"Classe D\",\"Classe C\",\"Classe C\",\"Classe C\",\"Classe C\",\"Classe C\",\"Classe C\",\"Classe B\",\"Classe B\",\"Classe B\",\"Classe B\",\"Classe B\",\"Classe B\",\"Classe A\",\"Classe A\",\"Classe A\",\"Classe A\",\"Classe A\",\"Classe A\"],\"xaxis\":\"x\",\"y\":[3.83,11.6,4.1,0.83,0.52,0.58,3.09,12.01,4.56,0.74,0.45,0.61,1.86,9.6,3.46,0.6,0.43,0.53,1.39,11.27,3.15,0.37,0.33,0.64,0.99,8.01,1.79,0.51,0.34,0.65,1.02,4.54,3.84,0.38,0.36,0.71],\"yaxis\":\"y\",\"type\":\"scatter\"},{\"hovertemplate\":\"Items=Farinha de trigo<br>Classe=%{x}<br>Consumo percapita=%{y}<extra></extra>\",\"legendgroup\":\"Farinha de trigo\",\"marker\":{\"color\":\"#ab63fa\",\"symbol\":\"circle\"},\"mode\":\"markers\",\"name\":\"Farinha de trigo\",\"orientation\":\"v\",\"showlegend\":true,\"x\":[\"Classe F\",\"Classe F\",\"Classe F\",\"Classe F\",\"Classe F\",\"Classe F\",\"Classe E\",\"Classe E\",\"Classe E\",\"Classe E\",\"Classe E\",\"Classe E\",\"Classe D\",\"Classe D\",\"Classe D\",\"Classe D\",\"Classe D\",\"Classe D\",\"Classe C\",\"Classe C\",\"Classe C\",\"Classe C\",\"Classe C\",\"Classe C\",\"Classe B\",\"Classe B\",\"Classe B\",\"Classe B\",\"Classe B\",\"Classe B\",\"Classe A\",\"Classe A\",\"Classe A\",\"Classe A\",\"Classe A\",\"Classe A\"],\"xaxis\":\"x\",\"y\":[1.43,0.86,0.6,1.41,7.39,1.21,1.9,1.13,0.71,1.41,7.75,1.66,2.62,1.8,1.01,1.6,8.59,2.0,2.56,1.66,0.9,1.74,6.47,1.76,2.82,0.96,1.29,2.38,5.94,1.77,2.54,0.42,1.73,1.91,6.39,1.68],\"yaxis\":\"y\",\"type\":\"scatter\"},{\"hovertemplate\":\"Items=Fub\\u00e1 de milho<br>Classe=%{x}<br>Consumo percapita=%{y}<extra></extra>\",\"legendgroup\":\"Fub\\u00e1 de milho\",\"marker\":{\"color\":\"#FFA15A\",\"symbol\":\"circle\"},\"mode\":\"markers\",\"name\":\"Fub\\u00e1 de milho\",\"orientation\":\"v\",\"showlegend\":true,\"x\":[\"Classe F\",\"Classe F\",\"Classe F\",\"Classe F\",\"Classe F\",\"Classe F\",\"Classe E\",\"Classe E\",\"Classe E\",\"Classe E\",\"Classe E\",\"Classe E\",\"Classe D\",\"Classe D\",\"Classe D\",\"Classe D\",\"Classe D\",\"Classe D\",\"Classe C\",\"Classe C\",\"Classe C\",\"Classe C\",\"Classe C\",\"Classe C\",\"Classe B\",\"Classe B\",\"Classe B\",\"Classe B\",\"Classe B\",\"Classe B\",\"Classe A\",\"Classe A\",\"Classe A\",\"Classe A\",\"Classe A\",\"Classe A\"],\"xaxis\":\"x\",\"y\":[2.16,0.92,3.46,1.17,1.2,0.57,1.45,0.88,2.52,0.9,1.2,0.47,1.09,0.84,1.93,0.8,1.23,0.38,0.83,0.82,1.49,0.69,0.78,0.64,0.67,0.32,1.58,0.39,0.9,0.48,0.52,1.12,0.73,0.45,0.57,0.39],\"yaxis\":\"y\",\"type\":\"scatter\"},{\"hovertemplate\":\"Items=A\\u00e7\\u00facar cristal<br>Classe=%{x}<br>Consumo percapita=%{y}<extra></extra>\",\"legendgroup\":\"A\\u00e7\\u00facar cristal\",\"marker\":{\"color\":\"#19d3f3\",\"symbol\":\"circle\"},\"mode\":\"markers\",\"name\":\"A\\u00e7\\u00facar cristal\",\"orientation\":\"v\",\"showlegend\":true,\"x\":[\"Classe F\",\"Classe F\",\"Classe F\",\"Classe F\",\"Classe F\",\"Classe F\",\"Classe E\",\"Classe E\",\"Classe E\",\"Classe E\",\"Classe E\",\"Classe E\",\"Classe D\",\"Classe D\",\"Classe D\",\"Classe D\",\"Classe D\",\"Classe D\",\"Classe C\",\"Classe C\",\"Classe C\",\"Classe C\",\"Classe C\",\"Classe C\",\"Classe B\",\"Classe B\",\"Classe B\",\"Classe B\",\"Classe B\",\"Classe B\",\"Classe A\",\"Classe A\",\"Classe A\",\"Classe A\",\"Classe A\",\"Classe A\"],\"xaxis\":\"x\",\"y\":[6.27,5.14,6.6,5.8,6.19,9.15,6.68,5.96,7.36,5.91,6.3,9.35,6.64,5.66,8.18,6.44,5.11,7.3,5.62,7.97,7.04,5.41,3.37,8.22,4.15,5.92,5.2,3.5,4.03,5.85,3.49,7.44,5.23,2.21,2.82,6.77],\"yaxis\":\"y\",\"type\":\"scatter\"},{\"hovertemplate\":\"Items=Molho de tomate<br>Classe=%{x}<br>Consumo percapita=%{y}<extra></extra>\",\"legendgroup\":\"Molho de tomate\",\"marker\":{\"color\":\"#FF6692\",\"symbol\":\"circle\"},\"mode\":\"markers\",\"name\":\"Molho de tomate\",\"orientation\":\"v\",\"showlegend\":true,\"x\":[\"Classe F\",\"Classe F\",\"Classe F\",\"Classe F\",\"Classe F\",\"Classe F\",\"Classe E\",\"Classe E\",\"Classe E\",\"Classe E\",\"Classe E\",\"Classe E\",\"Classe D\",\"Classe D\",\"Classe D\",\"Classe D\",\"Classe D\",\"Classe D\",\"Classe C\",\"Classe C\",\"Classe C\",\"Classe C\",\"Classe C\",\"Classe C\",\"Classe B\",\"Classe B\",\"Classe B\",\"Classe B\",\"Classe B\",\"Classe B\",\"Classe A\",\"Classe A\",\"Classe A\",\"Classe A\",\"Classe A\",\"Classe A\"],\"xaxis\":\"x\",\"y\":[0.46,0.17,0.23,0.95,0.62,0.5,0.69,0.18,0.47,0.97,1.04,0.36,1.0,0.29,0.53,1.44,0.95,0.54,1.26,0.61,0.79,1.51,1.24,0.98,1.57,1.07,0.85,2.03,1.38,0.65,1.74,0.71,1.26,2.0,1.74,1.45],\"yaxis\":\"y\",\"type\":\"scatter\"},{\"hovertemplate\":\"Items=\\u00d3leo de soja<br>Classe=%{x}<br>Consumo percapita=%{y}<extra></extra>\",\"legendgroup\":\"\\u00d3leo de soja\",\"marker\":{\"color\":\"#B6E880\",\"symbol\":\"circle\"},\"mode\":\"markers\",\"name\":\"\\u00d3leo de soja\",\"orientation\":\"v\",\"showlegend\":true,\"x\":[\"Classe F\",\"Classe F\",\"Classe F\",\"Classe F\",\"Classe F\",\"Classe F\",\"Classe E\",\"Classe E\",\"Classe E\",\"Classe E\",\"Classe E\",\"Classe E\",\"Classe D\",\"Classe D\",\"Classe D\",\"Classe D\",\"Classe D\",\"Classe D\",\"Classe C\",\"Classe C\",\"Classe C\",\"Classe C\",\"Classe C\",\"Classe C\",\"Classe B\",\"Classe B\",\"Classe B\",\"Classe B\",\"Classe B\",\"Classe B\",\"Classe A\",\"Classe A\",\"Classe A\",\"Classe A\",\"Classe A\",\"Classe A\"],\"xaxis\":\"x\",\"y\":[4.28,3.94,3.74,4.68,5.44,6.2,4.65,4.17,3.8,4.75,5.6,7.25,5.0,4.52,3.28,5.56,5.39,6.23,4.74,4.09,2.93,5.26,4.81,4.99,4.21,2.95,2.16,4.64,4.03,5.96,3.32,3.36,2.38,3.01,4.32,4.23],\"yaxis\":\"y\",\"type\":\"scatter\"},{\"hovertemplate\":\"Items=Caf\\u00e9 mo\\u00eddo<br>Classe=%{x}<br>Consumo percapita=%{y}<extra></extra>\",\"legendgroup\":\"Caf\\u00e9 mo\\u00eddo\",\"marker\":{\"color\":\"#FF97FF\",\"symbol\":\"circle\"},\"mode\":\"markers\",\"name\":\"Caf\\u00e9 mo\\u00eddo\",\"orientation\":\"v\",\"showlegend\":true,\"x\":[\"Classe F\",\"Classe F\",\"Classe F\",\"Classe F\",\"Classe F\",\"Classe F\",\"Classe E\",\"Classe E\",\"Classe E\",\"Classe E\",\"Classe E\",\"Classe E\",\"Classe D\",\"Classe D\",\"Classe D\",\"Classe D\",\"Classe D\",\"Classe D\",\"Classe C\",\"Classe C\",\"Classe C\",\"Classe C\",\"Classe C\",\"Classe C\",\"Classe B\",\"Classe B\",\"Classe B\",\"Classe B\",\"Classe B\",\"Classe B\",\"Classe A\",\"Classe A\",\"Classe A\",\"Classe A\",\"Classe A\",\"Classe A\"],\"xaxis\":\"x\",\"y\":[2.22,2.0,2.31,2.17,2.31,2.05,2.37,2.11,2.51,2.23,2.52,2.59,2.4,2.05,2.29,2.63,2.25,2.1,2.35,2.17,2.18,2.5,2.07,2.56,2.52,2.15,2.05,2.77,2.49,1.96,2.83,1.71,2.65,3.14,2.54,2.44],\"yaxis\":\"y\",\"type\":\"scatter\"}],                        {\"template\":{\"data\":{\"bar\":[{\"error_x\":{\"color\":\"#2a3f5f\"},\"error_y\":{\"color\":\"#2a3f5f\"},\"marker\":{\"line\":{\"color\":\"#E5ECF6\",\"width\":0.5},\"pattern\":{\"fillmode\":\"overlay\",\"size\":10,\"solidity\":0.2}},\"type\":\"bar\"}],\"barpolar\":[{\"marker\":{\"line\":{\"color\":\"#E5ECF6\",\"width\":0.5},\"pattern\":{\"fillmode\":\"overlay\",\"size\":10,\"solidity\":0.2}},\"type\":\"barpolar\"}],\"carpet\":[{\"aaxis\":{\"endlinecolor\":\"#2a3f5f\",\"gridcolor\":\"white\",\"linecolor\":\"white\",\"minorgridcolor\":\"white\",\"startlinecolor\":\"#2a3f5f\"},\"baxis\":{\"endlinecolor\":\"#2a3f5f\",\"gridcolor\":\"white\",\"linecolor\":\"white\",\"minorgridcolor\":\"white\",\"startlinecolor\":\"#2a3f5f\"},\"type\":\"carpet\"}],\"choropleth\":[{\"colorbar\":{\"outlinewidth\":0,\"ticks\":\"\"},\"type\":\"choropleth\"}],\"contour\":[{\"colorbar\":{\"outlinewidth\":0,\"ticks\":\"\"},\"colorscale\":[[0.0,\"#0d0887\"],[0.1111111111111111,\"#46039f\"],[0.2222222222222222,\"#7201a8\"],[0.3333333333333333,\"#9c179e\"],[0.4444444444444444,\"#bd3786\"],[0.5555555555555556,\"#d8576b\"],[0.6666666666666666,\"#ed7953\"],[0.7777777777777778,\"#fb9f3a\"],[0.8888888888888888,\"#fdca26\"],[1.0,\"#f0f921\"]],\"type\":\"contour\"}],\"contourcarpet\":[{\"colorbar\":{\"outlinewidth\":0,\"ticks\":\"\"},\"type\":\"contourcarpet\"}],\"heatmap\":[{\"colorbar\":{\"outlinewidth\":0,\"ticks\":\"\"},\"colorscale\":[[0.0,\"#0d0887\"],[0.1111111111111111,\"#46039f\"],[0.2222222222222222,\"#7201a8\"],[0.3333333333333333,\"#9c179e\"],[0.4444444444444444,\"#bd3786\"],[0.5555555555555556,\"#d8576b\"],[0.6666666666666666,\"#ed7953\"],[0.7777777777777778,\"#fb9f3a\"],[0.8888888888888888,\"#fdca26\"],[1.0,\"#f0f921\"]],\"type\":\"heatmap\"}],\"heatmapgl\":[{\"colorbar\":{\"outlinewidth\":0,\"ticks\":\"\"},\"colorscale\":[[0.0,\"#0d0887\"],[0.1111111111111111,\"#46039f\"],[0.2222222222222222,\"#7201a8\"],[0.3333333333333333,\"#9c179e\"],[0.4444444444444444,\"#bd3786\"],[0.5555555555555556,\"#d8576b\"],[0.6666666666666666,\"#ed7953\"],[0.7777777777777778,\"#fb9f3a\"],[0.8888888888888888,\"#fdca26\"],[1.0,\"#f0f921\"]],\"type\":\"heatmapgl\"}],\"histogram\":[{\"marker\":{\"pattern\":{\"fillmode\":\"overlay\",\"size\":10,\"solidity\":0.2}},\"type\":\"histogram\"}],\"histogram2d\":[{\"colorbar\":{\"outlinewidth\":0,\"ticks\":\"\"},\"colorscale\":[[0.0,\"#0d0887\"],[0.1111111111111111,\"#46039f\"],[0.2222222222222222,\"#7201a8\"],[0.3333333333333333,\"#9c179e\"],[0.4444444444444444,\"#bd3786\"],[0.5555555555555556,\"#d8576b\"],[0.6666666666666666,\"#ed7953\"],[0.7777777777777778,\"#fb9f3a\"],[0.8888888888888888,\"#fdca26\"],[1.0,\"#f0f921\"]],\"type\":\"histogram2d\"}],\"histogram2dcontour\":[{\"colorbar\":{\"outlinewidth\":0,\"ticks\":\"\"},\"colorscale\":[[0.0,\"#0d0887\"],[0.1111111111111111,\"#46039f\"],[0.2222222222222222,\"#7201a8\"],[0.3333333333333333,\"#9c179e\"],[0.4444444444444444,\"#bd3786\"],[0.5555555555555556,\"#d8576b\"],[0.6666666666666666,\"#ed7953\"],[0.7777777777777778,\"#fb9f3a\"],[0.8888888888888888,\"#fdca26\"],[1.0,\"#f0f921\"]],\"type\":\"histogram2dcontour\"}],\"mesh3d\":[{\"colorbar\":{\"outlinewidth\":0,\"ticks\":\"\"},\"type\":\"mesh3d\"}],\"parcoords\":[{\"line\":{\"colorbar\":{\"outlinewidth\":0,\"ticks\":\"\"}},\"type\":\"parcoords\"}],\"pie\":[{\"automargin\":true,\"type\":\"pie\"}],\"scatter\":[{\"marker\":{\"colorbar\":{\"outlinewidth\":0,\"ticks\":\"\"}},\"type\":\"scatter\"}],\"scatter3d\":[{\"line\":{\"colorbar\":{\"outlinewidth\":0,\"ticks\":\"\"}},\"marker\":{\"colorbar\":{\"outlinewidth\":0,\"ticks\":\"\"}},\"type\":\"scatter3d\"}],\"scattercarpet\":[{\"marker\":{\"colorbar\":{\"outlinewidth\":0,\"ticks\":\"\"}},\"type\":\"scattercarpet\"}],\"scattergeo\":[{\"marker\":{\"colorbar\":{\"outlinewidth\":0,\"ticks\":\"\"}},\"type\":\"scattergeo\"}],\"scattergl\":[{\"marker\":{\"colorbar\":{\"outlinewidth\":0,\"ticks\":\"\"}},\"type\":\"scattergl\"}],\"scattermapbox\":[{\"marker\":{\"colorbar\":{\"outlinewidth\":0,\"ticks\":\"\"}},\"type\":\"scattermapbox\"}],\"scatterpolar\":[{\"marker\":{\"colorbar\":{\"outlinewidth\":0,\"ticks\":\"\"}},\"type\":\"scatterpolar\"}],\"scatterpolargl\":[{\"marker\":{\"colorbar\":{\"outlinewidth\":0,\"ticks\":\"\"}},\"type\":\"scatterpolargl\"}],\"scatterternary\":[{\"marker\":{\"colorbar\":{\"outlinewidth\":0,\"ticks\":\"\"}},\"type\":\"scatterternary\"}],\"surface\":[{\"colorbar\":{\"outlinewidth\":0,\"ticks\":\"\"},\"colorscale\":[[0.0,\"#0d0887\"],[0.1111111111111111,\"#46039f\"],[0.2222222222222222,\"#7201a8\"],[0.3333333333333333,\"#9c179e\"],[0.4444444444444444,\"#bd3786\"],[0.5555555555555556,\"#d8576b\"],[0.6666666666666666,\"#ed7953\"],[0.7777777777777778,\"#fb9f3a\"],[0.8888888888888888,\"#fdca26\"],[1.0,\"#f0f921\"]],\"type\":\"surface\"}],\"table\":[{\"cells\":{\"fill\":{\"color\":\"#EBF0F8\"},\"line\":{\"color\":\"white\"}},\"header\":{\"fill\":{\"color\":\"#C8D4E3\"},\"line\":{\"color\":\"white\"}},\"type\":\"table\"}]},\"layout\":{\"annotationdefaults\":{\"arrowcolor\":\"#2a3f5f\",\"arrowhead\":0,\"arrowwidth\":1},\"autotypenumbers\":\"strict\",\"coloraxis\":{\"colorbar\":{\"outlinewidth\":0,\"ticks\":\"\"}},\"colorscale\":{\"diverging\":[[0,\"#8e0152\"],[0.1,\"#c51b7d\"],[0.2,\"#de77ae\"],[0.3,\"#f1b6da\"],[0.4,\"#fde0ef\"],[0.5,\"#f7f7f7\"],[0.6,\"#e6f5d0\"],[0.7,\"#b8e186\"],[0.8,\"#7fbc41\"],[0.9,\"#4d9221\"],[1,\"#276419\"]],\"sequential\":[[0.0,\"#0d0887\"],[0.1111111111111111,\"#46039f\"],[0.2222222222222222,\"#7201a8\"],[0.3333333333333333,\"#9c179e\"],[0.4444444444444444,\"#bd3786\"],[0.5555555555555556,\"#d8576b\"],[0.6666666666666666,\"#ed7953\"],[0.7777777777777778,\"#fb9f3a\"],[0.8888888888888888,\"#fdca26\"],[1.0,\"#f0f921\"]],\"sequentialminus\":[[0.0,\"#0d0887\"],[0.1111111111111111,\"#46039f\"],[0.2222222222222222,\"#7201a8\"],[0.3333333333333333,\"#9c179e\"],[0.4444444444444444,\"#bd3786\"],[0.5555555555555556,\"#d8576b\"],[0.6666666666666666,\"#ed7953\"],[0.7777777777777778,\"#fb9f3a\"],[0.8888888888888888,\"#fdca26\"],[1.0,\"#f0f921\"]]},\"colorway\":[\"#636efa\",\"#EF553B\",\"#00cc96\",\"#ab63fa\",\"#FFA15A\",\"#19d3f3\",\"#FF6692\",\"#B6E880\",\"#FF97FF\",\"#FECB52\"],\"font\":{\"color\":\"#2a3f5f\"},\"geo\":{\"bgcolor\":\"white\",\"lakecolor\":\"white\",\"landcolor\":\"#E5ECF6\",\"showlakes\":true,\"showland\":true,\"subunitcolor\":\"white\"},\"hoverlabel\":{\"align\":\"left\"},\"hovermode\":\"closest\",\"mapbox\":{\"style\":\"light\"},\"paper_bgcolor\":\"white\",\"plot_bgcolor\":\"#E5ECF6\",\"polar\":{\"angularaxis\":{\"gridcolor\":\"white\",\"linecolor\":\"white\",\"ticks\":\"\"},\"bgcolor\":\"#E5ECF6\",\"radialaxis\":{\"gridcolor\":\"white\",\"linecolor\":\"white\",\"ticks\":\"\"}},\"scene\":{\"xaxis\":{\"backgroundcolor\":\"#E5ECF6\",\"gridcolor\":\"white\",\"gridwidth\":2,\"linecolor\":\"white\",\"showbackground\":true,\"ticks\":\"\",\"zerolinecolor\":\"white\"},\"yaxis\":{\"backgroundcolor\":\"#E5ECF6\",\"gridcolor\":\"white\",\"gridwidth\":2,\"linecolor\":\"white\",\"showbackground\":true,\"ticks\":\"\",\"zerolinecolor\":\"white\"},\"zaxis\":{\"backgroundcolor\":\"#E5ECF6\",\"gridcolor\":\"white\",\"gridwidth\":2,\"linecolor\":\"white\",\"showbackground\":true,\"ticks\":\"\",\"zerolinecolor\":\"white\"}},\"shapedefaults\":{\"line\":{\"color\":\"#2a3f5f\"}},\"ternary\":{\"aaxis\":{\"gridcolor\":\"white\",\"linecolor\":\"white\",\"ticks\":\"\"},\"baxis\":{\"gridcolor\":\"white\",\"linecolor\":\"white\",\"ticks\":\"\"},\"bgcolor\":\"#E5ECF6\",\"caxis\":{\"gridcolor\":\"white\",\"linecolor\":\"white\",\"ticks\":\"\"}},\"title\":{\"x\":0.05},\"xaxis\":{\"automargin\":true,\"gridcolor\":\"white\",\"linecolor\":\"white\",\"ticks\":\"\",\"title\":{\"standoff\":15},\"zerolinecolor\":\"white\",\"zerolinewidth\":2},\"yaxis\":{\"automargin\":true,\"gridcolor\":\"white\",\"linecolor\":\"white\",\"ticks\":\"\",\"title\":{\"standoff\":15},\"zerolinecolor\":\"white\",\"zerolinewidth\":2}}},\"xaxis\":{\"anchor\":\"y\",\"domain\":[0.0,1.0],\"title\":{\"text\":\"Classe\"}},\"yaxis\":{\"anchor\":\"x\",\"domain\":[0.0,1.0],\"title\":{\"text\":\"Consumo percapita\"}},\"legend\":{\"title\":{\"text\":\"Items\"},\"tracegroupgap\":0},\"margin\":{\"t\":60},\"title\":{\"text\":\"Distribui\\u00e7\\u00e3o do consumo percapita dos alimentos por Classe\"}},                        {\"responsive\": true}                    ).then(function(){\n",
              "                            \n",
              "var gd = document.getElementById('d266a3fd-b716-4195-b8b6-ca65b554e493');\n",
              "var x = new MutationObserver(function (mutations, observer) {{\n",
              "        var display = window.getComputedStyle(gd).display;\n",
              "        if (!display || display === 'none') {{\n",
              "            console.log([gd, 'removed!']);\n",
              "            Plotly.purge(gd);\n",
              "            observer.disconnect();\n",
              "        }}\n",
              "}});\n",
              "\n",
              "// Listen for the removal of the full notebook cells\n",
              "var notebookContainer = gd.closest('#notebook-container');\n",
              "if (notebookContainer) {{\n",
              "    x.observe(notebookContainer, {childList: true});\n",
              "}}\n",
              "\n",
              "// Listen for the clearing of the current output cell\n",
              "var outputEl = gd.closest('.output');\n",
              "if (outputEl) {{\n",
              "    x.observe(outputEl, {childList: true});\n",
              "}}\n",
              "\n",
              "                        })                };                            </script>        </div>\n",
              "</body>\n",
              "</html>"
            ]
          },
          "metadata": {}
        }
      ]
    },
    {
      "cell_type": "code",
      "source": [
        "consu_desvio1=consumo_2.groupby(['Região','Items'])['Consumo percapita'].std().reset_index()\n",
        "consu_desvio2=consumo_2.groupby(['Classe','Items'])['Consumo percapita'].std().reset_index()"
      ],
      "metadata": {
        "id": "omwkA71dWRbD"
      },
      "execution_count": 11,
      "outputs": []
    },
    {
      "cell_type": "code",
      "source": [
        "consu_desvio1.head()"
      ],
      "metadata": {
        "colab": {
          "base_uri": "https://localhost:8080/",
          "height": 206
        },
        "id": "BAdxERa3Y_WL",
        "outputId": "b78a6f76-6853-46d1-bed9-0eccf40a1306"
      },
      "execution_count": 12,
      "outputs": [
        {
          "output_type": "execute_result",
          "data": {
            "text/plain": [
              "   Região                Items  Consumo percapita\n",
              "0  Brasil         Arroz polido           3.282315\n",
              "1  Brasil       Açúcar cristal           1.353377\n",
              "2  Brasil           Café moído           0.210278\n",
              "3  Brasil  Farinha de mandioca           1.175057\n",
              "4  Brasil     Farinha de trigo           0.531805"
            ],
            "text/html": [
              "\n",
              "  <div id=\"df-52425645-1cae-4cfa-a0b5-b023d9d3e839\">\n",
              "    <div class=\"colab-df-container\">\n",
              "      <div>\n",
              "<style scoped>\n",
              "    .dataframe tbody tr th:only-of-type {\n",
              "        vertical-align: middle;\n",
              "    }\n",
              "\n",
              "    .dataframe tbody tr th {\n",
              "        vertical-align: top;\n",
              "    }\n",
              "\n",
              "    .dataframe thead th {\n",
              "        text-align: right;\n",
              "    }\n",
              "</style>\n",
              "<table border=\"1\" class=\"dataframe\">\n",
              "  <thead>\n",
              "    <tr style=\"text-align: right;\">\n",
              "      <th></th>\n",
              "      <th>Região</th>\n",
              "      <th>Items</th>\n",
              "      <th>Consumo percapita</th>\n",
              "    </tr>\n",
              "  </thead>\n",
              "  <tbody>\n",
              "    <tr>\n",
              "      <th>0</th>\n",
              "      <td>Brasil</td>\n",
              "      <td>Arroz polido</td>\n",
              "      <td>3.282315</td>\n",
              "    </tr>\n",
              "    <tr>\n",
              "      <th>1</th>\n",
              "      <td>Brasil</td>\n",
              "      <td>Açúcar cristal</td>\n",
              "      <td>1.353377</td>\n",
              "    </tr>\n",
              "    <tr>\n",
              "      <th>2</th>\n",
              "      <td>Brasil</td>\n",
              "      <td>Café moído</td>\n",
              "      <td>0.210278</td>\n",
              "    </tr>\n",
              "    <tr>\n",
              "      <th>3</th>\n",
              "      <td>Brasil</td>\n",
              "      <td>Farinha de mandioca</td>\n",
              "      <td>1.175057</td>\n",
              "    </tr>\n",
              "    <tr>\n",
              "      <th>4</th>\n",
              "      <td>Brasil</td>\n",
              "      <td>Farinha de trigo</td>\n",
              "      <td>0.531805</td>\n",
              "    </tr>\n",
              "  </tbody>\n",
              "</table>\n",
              "</div>\n",
              "      <button class=\"colab-df-convert\" onclick=\"convertToInteractive('df-52425645-1cae-4cfa-a0b5-b023d9d3e839')\"\n",
              "              title=\"Convert this dataframe to an interactive table.\"\n",
              "              style=\"display:none;\">\n",
              "        \n",
              "  <svg xmlns=\"http://www.w3.org/2000/svg\" height=\"24px\"viewBox=\"0 0 24 24\"\n",
              "       width=\"24px\">\n",
              "    <path d=\"M0 0h24v24H0V0z\" fill=\"none\"/>\n",
              "    <path d=\"M18.56 5.44l.94 2.06.94-2.06 2.06-.94-2.06-.94-.94-2.06-.94 2.06-2.06.94zm-11 1L8.5 8.5l.94-2.06 2.06-.94-2.06-.94L8.5 2.5l-.94 2.06-2.06.94zm10 10l.94 2.06.94-2.06 2.06-.94-2.06-.94-.94-2.06-.94 2.06-2.06.94z\"/><path d=\"M17.41 7.96l-1.37-1.37c-.4-.4-.92-.59-1.43-.59-.52 0-1.04.2-1.43.59L10.3 9.45l-7.72 7.72c-.78.78-.78 2.05 0 2.83L4 21.41c.39.39.9.59 1.41.59.51 0 1.02-.2 1.41-.59l7.78-7.78 2.81-2.81c.8-.78.8-2.07 0-2.86zM5.41 20L4 18.59l7.72-7.72 1.47 1.35L5.41 20z\"/>\n",
              "  </svg>\n",
              "      </button>\n",
              "      \n",
              "  <style>\n",
              "    .colab-df-container {\n",
              "      display:flex;\n",
              "      flex-wrap:wrap;\n",
              "      gap: 12px;\n",
              "    }\n",
              "\n",
              "    .colab-df-convert {\n",
              "      background-color: #E8F0FE;\n",
              "      border: none;\n",
              "      border-radius: 50%;\n",
              "      cursor: pointer;\n",
              "      display: none;\n",
              "      fill: #1967D2;\n",
              "      height: 32px;\n",
              "      padding: 0 0 0 0;\n",
              "      width: 32px;\n",
              "    }\n",
              "\n",
              "    .colab-df-convert:hover {\n",
              "      background-color: #E2EBFA;\n",
              "      box-shadow: 0px 1px 2px rgba(60, 64, 67, 0.3), 0px 1px 3px 1px rgba(60, 64, 67, 0.15);\n",
              "      fill: #174EA6;\n",
              "    }\n",
              "\n",
              "    [theme=dark] .colab-df-convert {\n",
              "      background-color: #3B4455;\n",
              "      fill: #D2E3FC;\n",
              "    }\n",
              "\n",
              "    [theme=dark] .colab-df-convert:hover {\n",
              "      background-color: #434B5C;\n",
              "      box-shadow: 0px 1px 3px 1px rgba(0, 0, 0, 0.15);\n",
              "      filter: drop-shadow(0px 1px 2px rgba(0, 0, 0, 0.3));\n",
              "      fill: #FFFFFF;\n",
              "    }\n",
              "  </style>\n",
              "\n",
              "      <script>\n",
              "        const buttonEl =\n",
              "          document.querySelector('#df-52425645-1cae-4cfa-a0b5-b023d9d3e839 button.colab-df-convert');\n",
              "        buttonEl.style.display =\n",
              "          google.colab.kernel.accessAllowed ? 'block' : 'none';\n",
              "\n",
              "        async function convertToInteractive(key) {\n",
              "          const element = document.querySelector('#df-52425645-1cae-4cfa-a0b5-b023d9d3e839');\n",
              "          const dataTable =\n",
              "            await google.colab.kernel.invokeFunction('convertToInteractive',\n",
              "                                                     [key], {});\n",
              "          if (!dataTable) return;\n",
              "\n",
              "          const docLinkHtml = 'Like what you see? Visit the ' +\n",
              "            '<a target=\"_blank\" href=https://colab.research.google.com/notebooks/data_table.ipynb>data table notebook</a>'\n",
              "            + ' to learn more about interactive tables.';\n",
              "          element.innerHTML = '';\n",
              "          dataTable['output_type'] = 'display_data';\n",
              "          await google.colab.output.renderOutput(dataTable, element);\n",
              "          const docLink = document.createElement('div');\n",
              "          docLink.innerHTML = docLinkHtml;\n",
              "          element.appendChild(docLink);\n",
              "        }\n",
              "      </script>\n",
              "    </div>\n",
              "  </div>\n",
              "  "
            ]
          },
          "metadata": {},
          "execution_count": 12
        }
      ]
    },
    {
      "cell_type": "code",
      "source": [
        "consu_desvio2.head()"
      ],
      "metadata": {
        "colab": {
          "base_uri": "https://localhost:8080/",
          "height": 206
        },
        "id": "kXw7xQ08ZRs6",
        "outputId": "4235c992-21f1-4abc-ef17-acb6452808f7"
      },
      "execution_count": 13,
      "outputs": [
        {
          "output_type": "execute_result",
          "data": {
            "text/plain": [
              "     Classe                Items  Consumo percapita\n",
              "0  Classe A         Arroz polido           1.927469\n",
              "1  Classe A       Açúcar cristal           2.156961\n",
              "2  Classe A           Café moído           0.480475\n",
              "3  Classe A  Farinha de mandioca           1.873781\n",
              "4  Classe A     Farinha de trigo           2.052089"
            ],
            "text/html": [
              "\n",
              "  <div id=\"df-d1173250-9913-4a4b-a47e-b1f1010109c1\">\n",
              "    <div class=\"colab-df-container\">\n",
              "      <div>\n",
              "<style scoped>\n",
              "    .dataframe tbody tr th:only-of-type {\n",
              "        vertical-align: middle;\n",
              "    }\n",
              "\n",
              "    .dataframe tbody tr th {\n",
              "        vertical-align: top;\n",
              "    }\n",
              "\n",
              "    .dataframe thead th {\n",
              "        text-align: right;\n",
              "    }\n",
              "</style>\n",
              "<table border=\"1\" class=\"dataframe\">\n",
              "  <thead>\n",
              "    <tr style=\"text-align: right;\">\n",
              "      <th></th>\n",
              "      <th>Classe</th>\n",
              "      <th>Items</th>\n",
              "      <th>Consumo percapita</th>\n",
              "    </tr>\n",
              "  </thead>\n",
              "  <tbody>\n",
              "    <tr>\n",
              "      <th>0</th>\n",
              "      <td>Classe A</td>\n",
              "      <td>Arroz polido</td>\n",
              "      <td>1.927469</td>\n",
              "    </tr>\n",
              "    <tr>\n",
              "      <th>1</th>\n",
              "      <td>Classe A</td>\n",
              "      <td>Açúcar cristal</td>\n",
              "      <td>2.156961</td>\n",
              "    </tr>\n",
              "    <tr>\n",
              "      <th>2</th>\n",
              "      <td>Classe A</td>\n",
              "      <td>Café moído</td>\n",
              "      <td>0.480475</td>\n",
              "    </tr>\n",
              "    <tr>\n",
              "      <th>3</th>\n",
              "      <td>Classe A</td>\n",
              "      <td>Farinha de mandioca</td>\n",
              "      <td>1.873781</td>\n",
              "    </tr>\n",
              "    <tr>\n",
              "      <th>4</th>\n",
              "      <td>Classe A</td>\n",
              "      <td>Farinha de trigo</td>\n",
              "      <td>2.052089</td>\n",
              "    </tr>\n",
              "  </tbody>\n",
              "</table>\n",
              "</div>\n",
              "      <button class=\"colab-df-convert\" onclick=\"convertToInteractive('df-d1173250-9913-4a4b-a47e-b1f1010109c1')\"\n",
              "              title=\"Convert this dataframe to an interactive table.\"\n",
              "              style=\"display:none;\">\n",
              "        \n",
              "  <svg xmlns=\"http://www.w3.org/2000/svg\" height=\"24px\"viewBox=\"0 0 24 24\"\n",
              "       width=\"24px\">\n",
              "    <path d=\"M0 0h24v24H0V0z\" fill=\"none\"/>\n",
              "    <path d=\"M18.56 5.44l.94 2.06.94-2.06 2.06-.94-2.06-.94-.94-2.06-.94 2.06-2.06.94zm-11 1L8.5 8.5l.94-2.06 2.06-.94-2.06-.94L8.5 2.5l-.94 2.06-2.06.94zm10 10l.94 2.06.94-2.06 2.06-.94-2.06-.94-.94-2.06-.94 2.06-2.06.94z\"/><path d=\"M17.41 7.96l-1.37-1.37c-.4-.4-.92-.59-1.43-.59-.52 0-1.04.2-1.43.59L10.3 9.45l-7.72 7.72c-.78.78-.78 2.05 0 2.83L4 21.41c.39.39.9.59 1.41.59.51 0 1.02-.2 1.41-.59l7.78-7.78 2.81-2.81c.8-.78.8-2.07 0-2.86zM5.41 20L4 18.59l7.72-7.72 1.47 1.35L5.41 20z\"/>\n",
              "  </svg>\n",
              "      </button>\n",
              "      \n",
              "  <style>\n",
              "    .colab-df-container {\n",
              "      display:flex;\n",
              "      flex-wrap:wrap;\n",
              "      gap: 12px;\n",
              "    }\n",
              "\n",
              "    .colab-df-convert {\n",
              "      background-color: #E8F0FE;\n",
              "      border: none;\n",
              "      border-radius: 50%;\n",
              "      cursor: pointer;\n",
              "      display: none;\n",
              "      fill: #1967D2;\n",
              "      height: 32px;\n",
              "      padding: 0 0 0 0;\n",
              "      width: 32px;\n",
              "    }\n",
              "\n",
              "    .colab-df-convert:hover {\n",
              "      background-color: #E2EBFA;\n",
              "      box-shadow: 0px 1px 2px rgba(60, 64, 67, 0.3), 0px 1px 3px 1px rgba(60, 64, 67, 0.15);\n",
              "      fill: #174EA6;\n",
              "    }\n",
              "\n",
              "    [theme=dark] .colab-df-convert {\n",
              "      background-color: #3B4455;\n",
              "      fill: #D2E3FC;\n",
              "    }\n",
              "\n",
              "    [theme=dark] .colab-df-convert:hover {\n",
              "      background-color: #434B5C;\n",
              "      box-shadow: 0px 1px 3px 1px rgba(0, 0, 0, 0.15);\n",
              "      filter: drop-shadow(0px 1px 2px rgba(0, 0, 0, 0.3));\n",
              "      fill: #FFFFFF;\n",
              "    }\n",
              "  </style>\n",
              "\n",
              "      <script>\n",
              "        const buttonEl =\n",
              "          document.querySelector('#df-d1173250-9913-4a4b-a47e-b1f1010109c1 button.colab-df-convert');\n",
              "        buttonEl.style.display =\n",
              "          google.colab.kernel.accessAllowed ? 'block' : 'none';\n",
              "\n",
              "        async function convertToInteractive(key) {\n",
              "          const element = document.querySelector('#df-d1173250-9913-4a4b-a47e-b1f1010109c1');\n",
              "          const dataTable =\n",
              "            await google.colab.kernel.invokeFunction('convertToInteractive',\n",
              "                                                     [key], {});\n",
              "          if (!dataTable) return;\n",
              "\n",
              "          const docLinkHtml = 'Like what you see? Visit the ' +\n",
              "            '<a target=\"_blank\" href=https://colab.research.google.com/notebooks/data_table.ipynb>data table notebook</a>'\n",
              "            + ' to learn more about interactive tables.';\n",
              "          element.innerHTML = '';\n",
              "          dataTable['output_type'] = 'display_data';\n",
              "          await google.colab.output.renderOutput(dataTable, element);\n",
              "          const docLink = document.createElement('div');\n",
              "          docLink.innerHTML = docLinkHtml;\n",
              "          element.appendChild(docLink);\n",
              "        }\n",
              "      </script>\n",
              "    </div>\n",
              "  </div>\n",
              "  "
            ]
          },
          "metadata": {},
          "execution_count": 13
        }
      ]
    },
    {
      "cell_type": "code",
      "source": [
        "fig2=px.scatter(consu_desvio1,x='Região',y='Consumo percapita',color='Items')\n",
        "fig2.update_layout(\n",
        "    title='Desvio-Padrão do consumo alimentar dos Items por Região',\n",
        "    yaxis_title='Desvio padrão'\n",
        ")"
      ],
      "metadata": {
        "colab": {
          "base_uri": "https://localhost:8080/",
          "height": 542
        },
        "id": "vayQFQEWXK63",
        "outputId": "7b243a9c-a540-4fd2-8dda-a13990038fba"
      },
      "execution_count": 16,
      "outputs": [
        {
          "output_type": "display_data",
          "data": {
            "text/html": [
              "<html>\n",
              "<head><meta charset=\"utf-8\" /></head>\n",
              "<body>\n",
              "    <div>            <script src=\"https://cdnjs.cloudflare.com/ajax/libs/mathjax/2.7.5/MathJax.js?config=TeX-AMS-MML_SVG\"></script><script type=\"text/javascript\">if (window.MathJax) {MathJax.Hub.Config({SVG: {font: \"STIX-Web\"}});}</script>                <script type=\"text/javascript\">window.PlotlyConfig = {MathJaxConfig: 'local'};</script>\n",
              "        <script src=\"https://cdn.plot.ly/plotly-2.8.3.min.js\"></script>                <div id=\"b1b17101-f225-42c3-9a9b-fc558e0a102a\" class=\"plotly-graph-div\" style=\"height:525px; width:100%;\"></div>            <script type=\"text/javascript\">                                    window.PLOTLYENV=window.PLOTLYENV || {};                                    if (document.getElementById(\"b1b17101-f225-42c3-9a9b-fc558e0a102a\")) {                    Plotly.newPlot(                        \"b1b17101-f225-42c3-9a9b-fc558e0a102a\",                        [{\"hovertemplate\":\"Items= Arroz polido<br>Regi\\u00e3o=%{x}<br>Consumo percapita=%{y}<extra></extra>\",\"legendgroup\":\" Arroz polido\",\"marker\":{\"color\":\"#636efa\",\"symbol\":\"circle\"},\"mode\":\"markers\",\"name\":\" Arroz polido\",\"orientation\":\"v\",\"showlegend\":true,\"x\":[\"Brasil\",\"Centro-Oeste\",\"Nordeste\",\"Norte\",\"Sudeste\",\"Sul\"],\"xaxis\":\"x\",\"y\":[3.2823147320145893,6.824172965764177,4.69926377212431,1.412620496335327,2.3141967648984965,3.3835331632284396],\"yaxis\":\"y\",\"type\":\"scatter\"},{\"hovertemplate\":\"Items=A\\u00e7\\u00facar cristal<br>Regi\\u00e3o=%{x}<br>Consumo percapita=%{y}<extra></extra>\",\"legendgroup\":\"A\\u00e7\\u00facar cristal\",\"marker\":{\"color\":\"#EF553B\",\"symbol\":\"circle\"},\"mode\":\"markers\",\"name\":\"A\\u00e7\\u00facar cristal\",\"orientation\":\"v\",\"showlegend\":true,\"x\":[\"Brasil\",\"Centro-Oeste\",\"Nordeste\",\"Norte\",\"Sudeste\",\"Sul\"],\"xaxis\":\"x\",\"y\":[1.3533772570868772,1.3791688318210595,1.1920137023820936,1.1036016793511447,1.6525787928769593,1.4612551682258195],\"yaxis\":\"y\",\"type\":\"scatter\"},{\"hovertemplate\":\"Items=Caf\\u00e9 mo\\u00eddo<br>Regi\\u00e3o=%{x}<br>Consumo percapita=%{y}<extra></extra>\",\"legendgroup\":\"Caf\\u00e9 mo\\u00eddo\",\"marker\":{\"color\":\"#00cc96\",\"symbol\":\"circle\"},\"mode\":\"markers\",\"name\":\"Caf\\u00e9 mo\\u00eddo\",\"orientation\":\"v\",\"showlegend\":true,\"x\":[\"Brasil\",\"Centro-Oeste\",\"Nordeste\",\"Norte\",\"Sudeste\",\"Sul\"],\"xaxis\":\"x\",\"y\":[0.21027759430492518,0.27847202133547755,0.21802905005220435,0.16975472502014982,0.36025916597175806,0.1862972535134823],\"yaxis\":\"y\",\"type\":\"scatter\"},{\"hovertemplate\":\"Items=Farinha de mandioca<br>Regi\\u00e3o=%{x}<br>Consumo percapita=%{y}<extra></extra>\",\"legendgroup\":\"Farinha de mandioca\",\"marker\":{\"color\":\"#ab63fa\",\"symbol\":\"circle\"},\"mode\":\"markers\",\"name\":\"Farinha de mandioca\",\"orientation\":\"v\",\"showlegend\":true,\"x\":[\"Brasil\",\"Centro-Oeste\",\"Nordeste\",\"Norte\",\"Sudeste\",\"Sul\"],\"xaxis\":\"x\",\"y\":[1.1750574454042662,0.06196773353931861,0.9639225418396783,2.852176362008493,0.18819316317727022,0.07449832212875668],\"yaxis\":\"y\",\"type\":\"scatter\"},{\"hovertemplate\":\"Items=Farinha de trigo<br>Regi\\u00e3o=%{x}<br>Consumo percapita=%{y}<extra></extra>\",\"legendgroup\":\"Farinha de trigo\",\"marker\":{\"color\":\"#FFA15A\",\"symbol\":\"circle\"},\"mode\":\"markers\",\"name\":\"Farinha de trigo\",\"orientation\":\"v\",\"showlegend\":true,\"x\":[\"Brasil\",\"Centro-Oeste\",\"Nordeste\",\"Norte\",\"Sudeste\",\"Sul\"],\"xaxis\":\"x\",\"y\":[0.5318051021442598,0.26007691170113506,0.41511444205182746,0.5167752574056411,0.3676637956974641,0.9972445370452858],\"yaxis\":\"y\",\"type\":\"scatter\"},{\"hovertemplate\":\"Items=Feij\\u00e3o<br>Regi\\u00e3o=%{x}<br>Consumo percapita=%{y}<extra></extra>\",\"legendgroup\":\"Feij\\u00e3o\",\"marker\":{\"color\":\"#19d3f3\",\"symbol\":\"circle\"},\"mode\":\"markers\",\"name\":\"Feij\\u00e3o\",\"orientation\":\"v\",\"showlegend\":true,\"x\":[\"Brasil\",\"Centro-Oeste\",\"Nordeste\",\"Norte\",\"Sudeste\",\"Sul\"],\"xaxis\":\"x\",\"y\":[0.4169250713875518,0.2737284653215166,0.4571544066452291,0.39148803147462735,0.6572872394558676,1.3335129613850094],\"yaxis\":\"y\",\"type\":\"scatter\"},{\"hovertemplate\":\"Items=Fub\\u00e1 de milho<br>Regi\\u00e3o=%{x}<br>Consumo percapita=%{y}<extra></extra>\",\"legendgroup\":\"Fub\\u00e1 de milho\",\"marker\":{\"color\":\"#FF6692\",\"symbol\":\"circle\"},\"mode\":\"markers\",\"name\":\"Fub\\u00e1 de milho\",\"orientation\":\"v\",\"showlegend\":true,\"x\":[\"Brasil\",\"Centro-Oeste\",\"Nordeste\",\"Norte\",\"Sudeste\",\"Sul\"],\"xaxis\":\"x\",\"y\":[0.6063002556489648,0.1014724921674178,0.9425797932624415,0.26605763786568254,0.2908378700696776,0.27342274960214996],\"yaxis\":\"y\",\"type\":\"scatter\"},{\"hovertemplate\":\"Items=Molho de tomate<br>Regi\\u00e3o=%{x}<br>Consumo percapita=%{y}<extra></extra>\",\"legendgroup\":\"Molho de tomate\",\"marker\":{\"color\":\"#B6E880\",\"symbol\":\"circle\"},\"mode\":\"markers\",\"name\":\"Molho de tomate\",\"orientation\":\"v\",\"showlegend\":true,\"x\":[\"Brasil\",\"Centro-Oeste\",\"Nordeste\",\"Norte\",\"Sudeste\",\"Sul\"],\"xaxis\":\"x\",\"y\":[0.4982770313791315,0.402873015560321,0.3594671983181034,0.356749211631925,0.47251102279911594,0.38504112334485346],\"yaxis\":\"y\",\"type\":\"scatter\"},{\"hovertemplate\":\"Items=\\u00d3leo de soja<br>Regi\\u00e3o=%{x}<br>Consumo percapita=%{y}<extra></extra>\",\"legendgroup\":\"\\u00d3leo de soja\",\"marker\":{\"color\":\"#FF97FF\",\"symbol\":\"circle\"},\"mode\":\"markers\",\"name\":\"\\u00d3leo de soja\",\"orientation\":\"v\",\"showlegend\":true,\"x\":[\"Brasil\",\"Centro-Oeste\",\"Nordeste\",\"Norte\",\"Sudeste\",\"Sul\"],\"xaxis\":\"x\",\"y\":[0.5913261931173581,1.0576766991855304,0.6851106966517649,0.577283870090501,0.8832666641507534,0.6507047461534811],\"yaxis\":\"y\",\"type\":\"scatter\"}],                        {\"template\":{\"data\":{\"bar\":[{\"error_x\":{\"color\":\"#2a3f5f\"},\"error_y\":{\"color\":\"#2a3f5f\"},\"marker\":{\"line\":{\"color\":\"#E5ECF6\",\"width\":0.5},\"pattern\":{\"fillmode\":\"overlay\",\"size\":10,\"solidity\":0.2}},\"type\":\"bar\"}],\"barpolar\":[{\"marker\":{\"line\":{\"color\":\"#E5ECF6\",\"width\":0.5},\"pattern\":{\"fillmode\":\"overlay\",\"size\":10,\"solidity\":0.2}},\"type\":\"barpolar\"}],\"carpet\":[{\"aaxis\":{\"endlinecolor\":\"#2a3f5f\",\"gridcolor\":\"white\",\"linecolor\":\"white\",\"minorgridcolor\":\"white\",\"startlinecolor\":\"#2a3f5f\"},\"baxis\":{\"endlinecolor\":\"#2a3f5f\",\"gridcolor\":\"white\",\"linecolor\":\"white\",\"minorgridcolor\":\"white\",\"startlinecolor\":\"#2a3f5f\"},\"type\":\"carpet\"}],\"choropleth\":[{\"colorbar\":{\"outlinewidth\":0,\"ticks\":\"\"},\"type\":\"choropleth\"}],\"contour\":[{\"colorbar\":{\"outlinewidth\":0,\"ticks\":\"\"},\"colorscale\":[[0.0,\"#0d0887\"],[0.1111111111111111,\"#46039f\"],[0.2222222222222222,\"#7201a8\"],[0.3333333333333333,\"#9c179e\"],[0.4444444444444444,\"#bd3786\"],[0.5555555555555556,\"#d8576b\"],[0.6666666666666666,\"#ed7953\"],[0.7777777777777778,\"#fb9f3a\"],[0.8888888888888888,\"#fdca26\"],[1.0,\"#f0f921\"]],\"type\":\"contour\"}],\"contourcarpet\":[{\"colorbar\":{\"outlinewidth\":0,\"ticks\":\"\"},\"type\":\"contourcarpet\"}],\"heatmap\":[{\"colorbar\":{\"outlinewidth\":0,\"ticks\":\"\"},\"colorscale\":[[0.0,\"#0d0887\"],[0.1111111111111111,\"#46039f\"],[0.2222222222222222,\"#7201a8\"],[0.3333333333333333,\"#9c179e\"],[0.4444444444444444,\"#bd3786\"],[0.5555555555555556,\"#d8576b\"],[0.6666666666666666,\"#ed7953\"],[0.7777777777777778,\"#fb9f3a\"],[0.8888888888888888,\"#fdca26\"],[1.0,\"#f0f921\"]],\"type\":\"heatmap\"}],\"heatmapgl\":[{\"colorbar\":{\"outlinewidth\":0,\"ticks\":\"\"},\"colorscale\":[[0.0,\"#0d0887\"],[0.1111111111111111,\"#46039f\"],[0.2222222222222222,\"#7201a8\"],[0.3333333333333333,\"#9c179e\"],[0.4444444444444444,\"#bd3786\"],[0.5555555555555556,\"#d8576b\"],[0.6666666666666666,\"#ed7953\"],[0.7777777777777778,\"#fb9f3a\"],[0.8888888888888888,\"#fdca26\"],[1.0,\"#f0f921\"]],\"type\":\"heatmapgl\"}],\"histogram\":[{\"marker\":{\"pattern\":{\"fillmode\":\"overlay\",\"size\":10,\"solidity\":0.2}},\"type\":\"histogram\"}],\"histogram2d\":[{\"colorbar\":{\"outlinewidth\":0,\"ticks\":\"\"},\"colorscale\":[[0.0,\"#0d0887\"],[0.1111111111111111,\"#46039f\"],[0.2222222222222222,\"#7201a8\"],[0.3333333333333333,\"#9c179e\"],[0.4444444444444444,\"#bd3786\"],[0.5555555555555556,\"#d8576b\"],[0.6666666666666666,\"#ed7953\"],[0.7777777777777778,\"#fb9f3a\"],[0.8888888888888888,\"#fdca26\"],[1.0,\"#f0f921\"]],\"type\":\"histogram2d\"}],\"histogram2dcontour\":[{\"colorbar\":{\"outlinewidth\":0,\"ticks\":\"\"},\"colorscale\":[[0.0,\"#0d0887\"],[0.1111111111111111,\"#46039f\"],[0.2222222222222222,\"#7201a8\"],[0.3333333333333333,\"#9c179e\"],[0.4444444444444444,\"#bd3786\"],[0.5555555555555556,\"#d8576b\"],[0.6666666666666666,\"#ed7953\"],[0.7777777777777778,\"#fb9f3a\"],[0.8888888888888888,\"#fdca26\"],[1.0,\"#f0f921\"]],\"type\":\"histogram2dcontour\"}],\"mesh3d\":[{\"colorbar\":{\"outlinewidth\":0,\"ticks\":\"\"},\"type\":\"mesh3d\"}],\"parcoords\":[{\"line\":{\"colorbar\":{\"outlinewidth\":0,\"ticks\":\"\"}},\"type\":\"parcoords\"}],\"pie\":[{\"automargin\":true,\"type\":\"pie\"}],\"scatter\":[{\"marker\":{\"colorbar\":{\"outlinewidth\":0,\"ticks\":\"\"}},\"type\":\"scatter\"}],\"scatter3d\":[{\"line\":{\"colorbar\":{\"outlinewidth\":0,\"ticks\":\"\"}},\"marker\":{\"colorbar\":{\"outlinewidth\":0,\"ticks\":\"\"}},\"type\":\"scatter3d\"}],\"scattercarpet\":[{\"marker\":{\"colorbar\":{\"outlinewidth\":0,\"ticks\":\"\"}},\"type\":\"scattercarpet\"}],\"scattergeo\":[{\"marker\":{\"colorbar\":{\"outlinewidth\":0,\"ticks\":\"\"}},\"type\":\"scattergeo\"}],\"scattergl\":[{\"marker\":{\"colorbar\":{\"outlinewidth\":0,\"ticks\":\"\"}},\"type\":\"scattergl\"}],\"scattermapbox\":[{\"marker\":{\"colorbar\":{\"outlinewidth\":0,\"ticks\":\"\"}},\"type\":\"scattermapbox\"}],\"scatterpolar\":[{\"marker\":{\"colorbar\":{\"outlinewidth\":0,\"ticks\":\"\"}},\"type\":\"scatterpolar\"}],\"scatterpolargl\":[{\"marker\":{\"colorbar\":{\"outlinewidth\":0,\"ticks\":\"\"}},\"type\":\"scatterpolargl\"}],\"scatterternary\":[{\"marker\":{\"colorbar\":{\"outlinewidth\":0,\"ticks\":\"\"}},\"type\":\"scatterternary\"}],\"surface\":[{\"colorbar\":{\"outlinewidth\":0,\"ticks\":\"\"},\"colorscale\":[[0.0,\"#0d0887\"],[0.1111111111111111,\"#46039f\"],[0.2222222222222222,\"#7201a8\"],[0.3333333333333333,\"#9c179e\"],[0.4444444444444444,\"#bd3786\"],[0.5555555555555556,\"#d8576b\"],[0.6666666666666666,\"#ed7953\"],[0.7777777777777778,\"#fb9f3a\"],[0.8888888888888888,\"#fdca26\"],[1.0,\"#f0f921\"]],\"type\":\"surface\"}],\"table\":[{\"cells\":{\"fill\":{\"color\":\"#EBF0F8\"},\"line\":{\"color\":\"white\"}},\"header\":{\"fill\":{\"color\":\"#C8D4E3\"},\"line\":{\"color\":\"white\"}},\"type\":\"table\"}]},\"layout\":{\"annotationdefaults\":{\"arrowcolor\":\"#2a3f5f\",\"arrowhead\":0,\"arrowwidth\":1},\"autotypenumbers\":\"strict\",\"coloraxis\":{\"colorbar\":{\"outlinewidth\":0,\"ticks\":\"\"}},\"colorscale\":{\"diverging\":[[0,\"#8e0152\"],[0.1,\"#c51b7d\"],[0.2,\"#de77ae\"],[0.3,\"#f1b6da\"],[0.4,\"#fde0ef\"],[0.5,\"#f7f7f7\"],[0.6,\"#e6f5d0\"],[0.7,\"#b8e186\"],[0.8,\"#7fbc41\"],[0.9,\"#4d9221\"],[1,\"#276419\"]],\"sequential\":[[0.0,\"#0d0887\"],[0.1111111111111111,\"#46039f\"],[0.2222222222222222,\"#7201a8\"],[0.3333333333333333,\"#9c179e\"],[0.4444444444444444,\"#bd3786\"],[0.5555555555555556,\"#d8576b\"],[0.6666666666666666,\"#ed7953\"],[0.7777777777777778,\"#fb9f3a\"],[0.8888888888888888,\"#fdca26\"],[1.0,\"#f0f921\"]],\"sequentialminus\":[[0.0,\"#0d0887\"],[0.1111111111111111,\"#46039f\"],[0.2222222222222222,\"#7201a8\"],[0.3333333333333333,\"#9c179e\"],[0.4444444444444444,\"#bd3786\"],[0.5555555555555556,\"#d8576b\"],[0.6666666666666666,\"#ed7953\"],[0.7777777777777778,\"#fb9f3a\"],[0.8888888888888888,\"#fdca26\"],[1.0,\"#f0f921\"]]},\"colorway\":[\"#636efa\",\"#EF553B\",\"#00cc96\",\"#ab63fa\",\"#FFA15A\",\"#19d3f3\",\"#FF6692\",\"#B6E880\",\"#FF97FF\",\"#FECB52\"],\"font\":{\"color\":\"#2a3f5f\"},\"geo\":{\"bgcolor\":\"white\",\"lakecolor\":\"white\",\"landcolor\":\"#E5ECF6\",\"showlakes\":true,\"showland\":true,\"subunitcolor\":\"white\"},\"hoverlabel\":{\"align\":\"left\"},\"hovermode\":\"closest\",\"mapbox\":{\"style\":\"light\"},\"paper_bgcolor\":\"white\",\"plot_bgcolor\":\"#E5ECF6\",\"polar\":{\"angularaxis\":{\"gridcolor\":\"white\",\"linecolor\":\"white\",\"ticks\":\"\"},\"bgcolor\":\"#E5ECF6\",\"radialaxis\":{\"gridcolor\":\"white\",\"linecolor\":\"white\",\"ticks\":\"\"}},\"scene\":{\"xaxis\":{\"backgroundcolor\":\"#E5ECF6\",\"gridcolor\":\"white\",\"gridwidth\":2,\"linecolor\":\"white\",\"showbackground\":true,\"ticks\":\"\",\"zerolinecolor\":\"white\"},\"yaxis\":{\"backgroundcolor\":\"#E5ECF6\",\"gridcolor\":\"white\",\"gridwidth\":2,\"linecolor\":\"white\",\"showbackground\":true,\"ticks\":\"\",\"zerolinecolor\":\"white\"},\"zaxis\":{\"backgroundcolor\":\"#E5ECF6\",\"gridcolor\":\"white\",\"gridwidth\":2,\"linecolor\":\"white\",\"showbackground\":true,\"ticks\":\"\",\"zerolinecolor\":\"white\"}},\"shapedefaults\":{\"line\":{\"color\":\"#2a3f5f\"}},\"ternary\":{\"aaxis\":{\"gridcolor\":\"white\",\"linecolor\":\"white\",\"ticks\":\"\"},\"baxis\":{\"gridcolor\":\"white\",\"linecolor\":\"white\",\"ticks\":\"\"},\"bgcolor\":\"#E5ECF6\",\"caxis\":{\"gridcolor\":\"white\",\"linecolor\":\"white\",\"ticks\":\"\"}},\"title\":{\"x\":0.05},\"xaxis\":{\"automargin\":true,\"gridcolor\":\"white\",\"linecolor\":\"white\",\"ticks\":\"\",\"title\":{\"standoff\":15},\"zerolinecolor\":\"white\",\"zerolinewidth\":2},\"yaxis\":{\"automargin\":true,\"gridcolor\":\"white\",\"linecolor\":\"white\",\"ticks\":\"\",\"title\":{\"standoff\":15},\"zerolinecolor\":\"white\",\"zerolinewidth\":2}}},\"xaxis\":{\"anchor\":\"y\",\"domain\":[0.0,1.0],\"title\":{\"text\":\"Regi\\u00e3o\"}},\"yaxis\":{\"anchor\":\"x\",\"domain\":[0.0,1.0],\"title\":{\"text\":\"Desvio padr\\u00e3o\"}},\"legend\":{\"title\":{\"text\":\"Items\"},\"tracegroupgap\":0},\"margin\":{\"t\":60},\"title\":{\"text\":\"Desvio-Padr\\u00e3o do consumo alimentar dos Items por Regi\\u00e3o\"}},                        {\"responsive\": true}                    ).then(function(){\n",
              "                            \n",
              "var gd = document.getElementById('b1b17101-f225-42c3-9a9b-fc558e0a102a');\n",
              "var x = new MutationObserver(function (mutations, observer) {{\n",
              "        var display = window.getComputedStyle(gd).display;\n",
              "        if (!display || display === 'none') {{\n",
              "            console.log([gd, 'removed!']);\n",
              "            Plotly.purge(gd);\n",
              "            observer.disconnect();\n",
              "        }}\n",
              "}});\n",
              "\n",
              "// Listen for the removal of the full notebook cells\n",
              "var notebookContainer = gd.closest('#notebook-container');\n",
              "if (notebookContainer) {{\n",
              "    x.observe(notebookContainer, {childList: true});\n",
              "}}\n",
              "\n",
              "// Listen for the clearing of the current output cell\n",
              "var outputEl = gd.closest('.output');\n",
              "if (outputEl) {{\n",
              "    x.observe(outputEl, {childList: true});\n",
              "}}\n",
              "\n",
              "                        })                };                            </script>        </div>\n",
              "</body>\n",
              "</html>"
            ]
          },
          "metadata": {}
        }
      ]
    },
    {
      "cell_type": "code",
      "source": [
        "fig3=px.scatter(consu_desvio2,x='Classe',y='Consumo percapita',color='Items')\n",
        "fig3.update_layout(\n",
        "    title='Desvio-Padrão do consumo alimentar dos items por Classe',\n",
        "    yaxis_title='Desvio padrão'\n",
        ")"
      ],
      "metadata": {
        "colab": {
          "base_uri": "https://localhost:8080/",
          "height": 542
        },
        "id": "u57v0A49Yw3x",
        "outputId": "a3a47050-9a1a-46e6-98f4-4a316e297168"
      },
      "execution_count": 17,
      "outputs": [
        {
          "output_type": "display_data",
          "data": {
            "text/html": [
              "<html>\n",
              "<head><meta charset=\"utf-8\" /></head>\n",
              "<body>\n",
              "    <div>            <script src=\"https://cdnjs.cloudflare.com/ajax/libs/mathjax/2.7.5/MathJax.js?config=TeX-AMS-MML_SVG\"></script><script type=\"text/javascript\">if (window.MathJax) {MathJax.Hub.Config({SVG: {font: \"STIX-Web\"}});}</script>                <script type=\"text/javascript\">window.PlotlyConfig = {MathJaxConfig: 'local'};</script>\n",
              "        <script src=\"https://cdn.plot.ly/plotly-2.8.3.min.js\"></script>                <div id=\"9f0ae97e-408f-491b-bffa-473f9bf417df\" class=\"plotly-graph-div\" style=\"height:525px; width:100%;\"></div>            <script type=\"text/javascript\">                                    window.PLOTLYENV=window.PLOTLYENV || {};                                    if (document.getElementById(\"9f0ae97e-408f-491b-bffa-473f9bf417df\")) {                    Plotly.newPlot(                        \"9f0ae97e-408f-491b-bffa-473f9bf417df\",                        [{\"hovertemplate\":\"Items= Arroz polido<br>Classe=%{x}<br>Consumo percapita=%{y}<extra></extra>\",\"legendgroup\":\" Arroz polido\",\"marker\":{\"color\":\"#636efa\",\"symbol\":\"circle\"},\"mode\":\"markers\",\"name\":\" Arroz polido\",\"orientation\":\"v\",\"showlegend\":true,\"x\":[\"Classe A\",\"Classe B\",\"Classe C\",\"Classe D\",\"Classe E\",\"Classe F\"],\"xaxis\":\"x\",\"y\":[1.9274689794304511,2.344071244651067,3.5040719170701964,3.1224840538690772,5.443814838879075,3.9905170926418387],\"yaxis\":\"y\",\"type\":\"scatter\"},{\"hovertemplate\":\"Items=A\\u00e7\\u00facar cristal<br>Classe=%{x}<br>Consumo percapita=%{y}<extra></extra>\",\"legendgroup\":\"A\\u00e7\\u00facar cristal\",\"marker\":{\"color\":\"#EF553B\",\"symbol\":\"circle\"},\"mode\":\"markers\",\"name\":\"A\\u00e7\\u00facar cristal\",\"orientation\":\"v\",\"showlegend\":true,\"x\":[\"Classe A\",\"Classe B\",\"Classe C\",\"Classe D\",\"Classe E\",\"Classe F\"],\"xaxis\":\"x\",\"y\":[2.1569608248644667,1.0216212605461965,1.8361635729603905,1.1050022624411224,1.3024540938807272,1.3796630023306415],\"yaxis\":\"y\",\"type\":\"scatter\"},{\"hovertemplate\":\"Items=Caf\\u00e9 mo\\u00eddo<br>Classe=%{x}<br>Consumo percapita=%{y}<extra></extra>\",\"legendgroup\":\"Caf\\u00e9 mo\\u00eddo\",\"marker\":{\"color\":\"#00cc96\",\"symbol\":\"circle\"},\"mode\":\"markers\",\"name\":\"Caf\\u00e9 mo\\u00eddo\",\"orientation\":\"v\",\"showlegend\":true,\"x\":[\"Classe A\",\"Classe B\",\"Classe C\",\"Classe D\",\"Classe E\",\"Classe F\"],\"xaxis\":\"x\",\"y\":[0.4804754589640003,0.31709094384208886,0.19705329228409252,0.2111555508781776,0.18744777050332342,0.13017936344392952],\"yaxis\":\"y\",\"type\":\"scatter\"},{\"hovertemplate\":\"Items=Farinha de mandioca<br>Classe=%{x}<br>Consumo percapita=%{y}<extra></extra>\",\"legendgroup\":\"Farinha de mandioca\",\"marker\":{\"color\":\"#ab63fa\",\"symbol\":\"circle\"},\"mode\":\"markers\",\"name\":\"Farinha de mandioca\",\"orientation\":\"v\",\"showlegend\":true,\"x\":[\"Classe A\",\"Classe B\",\"Classe C\",\"Classe D\",\"Classe E\",\"Classe F\"],\"xaxis\":\"x\",\"y\":[1.8737813817696733,2.965416777902672,4.254467847647537,3.5539255291391045,4.448566810408344,4.256273800716616],\"yaxis\":\"y\",\"type\":\"scatter\"},{\"hovertemplate\":\"Items=Farinha de trigo<br>Classe=%{x}<br>Consumo percapita=%{y}<extra></extra>\",\"legendgroup\":\"Farinha de trigo\",\"marker\":{\"color\":\"#FFA15A\",\"symbol\":\"circle\"},\"mode\":\"markers\",\"name\":\"Farinha de trigo\",\"orientation\":\"v\",\"showlegend\":true,\"x\":[\"Classe A\",\"Classe B\",\"Classe C\",\"Classe D\",\"Classe E\",\"Classe F\"],\"xaxis\":\"x\",\"y\":[2.052089179348695,1.8063628280793056,2.0076827438616887,2.818812988948835,2.640641336241381,2.5874234288187155],\"yaxis\":\"y\",\"type\":\"scatter\"},{\"hovertemplate\":\"Items=Feij\\u00e3o<br>Classe=%{x}<br>Consumo percapita=%{y}<extra></extra>\",\"legendgroup\":\"Feij\\u00e3o\",\"marker\":{\"color\":\"#19d3f3\",\"symbol\":\"circle\"},\"mode\":\"markers\",\"name\":\"Feij\\u00e3o\",\"orientation\":\"v\",\"showlegend\":true,\"x\":[\"Classe A\",\"Classe B\",\"Classe C\",\"Classe D\",\"Classe E\",\"Classe F\"],\"xaxis\":\"x\",\"y\":[0.6162545715608908,0.6780631954100569,0.6951057255532929,0.7022172675953582,0.8500601582989717,0.8866941497221662],\"yaxis\":\"y\",\"type\":\"scatter\"},{\"hovertemplate\":\"Items=Fub\\u00e1 de milho<br>Classe=%{x}<br>Consumo percapita=%{y}<extra></extra>\",\"legendgroup\":\"Fub\\u00e1 de milho\",\"marker\":{\"color\":\"#FF6692\",\"symbol\":\"circle\"},\"mode\":\"markers\",\"name\":\"Fub\\u00e1 de milho\",\"orientation\":\"v\",\"showlegend\":true,\"x\":[\"Classe A\",\"Classe B\",\"Classe C\",\"Classe D\",\"Classe E\",\"Classe F\"],\"xaxis\":\"x\",\"y\":[0.2667583175835386,0.469240521126071,0.31040296390337513,0.5222547271207796,0.710230009691696,1.061979284167069],\"yaxis\":\"y\",\"type\":\"scatter\"},{\"hovertemplate\":\"Items=Molho de tomate<br>Classe=%{x}<br>Consumo percapita=%{y}<extra></extra>\",\"legendgroup\":\"Molho de tomate\",\"marker\":{\"color\":\"#B6E880\",\"symbol\":\"circle\"},\"mode\":\"markers\",\"name\":\"Molho de tomate\",\"orientation\":\"v\",\"showlegend\":true,\"x\":[\"Classe A\",\"Classe B\",\"Classe C\",\"Classe D\",\"Classe E\",\"Classe F\"],\"xaxis\":\"x\",\"y\":[0.4577626750475257,0.5059018350101793,0.3336315332818527,0.4176801008746606,0.34277786781918507,0.2826599841977401],\"yaxis\":\"y\",\"type\":\"scatter\"},{\"hovertemplate\":\"Items=\\u00d3leo de soja<br>Classe=%{x}<br>Consumo percapita=%{y}<extra></extra>\",\"legendgroup\":\"\\u00d3leo de soja\",\"marker\":{\"color\":\"#FF97FF\",\"symbol\":\"circle\"},\"mode\":\"markers\",\"name\":\"\\u00d3leo de soja\",\"orientation\":\"v\",\"showlegend\":true,\"x\":[\"Classe A\",\"Classe B\",\"Classe C\",\"Classe D\",\"Classe E\",\"Classe F\"],\"xaxis\":\"x\",\"y\":[0.7386113095984024,1.3254345199468234,0.8484102781084161,1.0165956259332747,1.2432484332049913,0.9457836257129146],\"yaxis\":\"y\",\"type\":\"scatter\"}],                        {\"template\":{\"data\":{\"bar\":[{\"error_x\":{\"color\":\"#2a3f5f\"},\"error_y\":{\"color\":\"#2a3f5f\"},\"marker\":{\"line\":{\"color\":\"#E5ECF6\",\"width\":0.5},\"pattern\":{\"fillmode\":\"overlay\",\"size\":10,\"solidity\":0.2}},\"type\":\"bar\"}],\"barpolar\":[{\"marker\":{\"line\":{\"color\":\"#E5ECF6\",\"width\":0.5},\"pattern\":{\"fillmode\":\"overlay\",\"size\":10,\"solidity\":0.2}},\"type\":\"barpolar\"}],\"carpet\":[{\"aaxis\":{\"endlinecolor\":\"#2a3f5f\",\"gridcolor\":\"white\",\"linecolor\":\"white\",\"minorgridcolor\":\"white\",\"startlinecolor\":\"#2a3f5f\"},\"baxis\":{\"endlinecolor\":\"#2a3f5f\",\"gridcolor\":\"white\",\"linecolor\":\"white\",\"minorgridcolor\":\"white\",\"startlinecolor\":\"#2a3f5f\"},\"type\":\"carpet\"}],\"choropleth\":[{\"colorbar\":{\"outlinewidth\":0,\"ticks\":\"\"},\"type\":\"choropleth\"}],\"contour\":[{\"colorbar\":{\"outlinewidth\":0,\"ticks\":\"\"},\"colorscale\":[[0.0,\"#0d0887\"],[0.1111111111111111,\"#46039f\"],[0.2222222222222222,\"#7201a8\"],[0.3333333333333333,\"#9c179e\"],[0.4444444444444444,\"#bd3786\"],[0.5555555555555556,\"#d8576b\"],[0.6666666666666666,\"#ed7953\"],[0.7777777777777778,\"#fb9f3a\"],[0.8888888888888888,\"#fdca26\"],[1.0,\"#f0f921\"]],\"type\":\"contour\"}],\"contourcarpet\":[{\"colorbar\":{\"outlinewidth\":0,\"ticks\":\"\"},\"type\":\"contourcarpet\"}],\"heatmap\":[{\"colorbar\":{\"outlinewidth\":0,\"ticks\":\"\"},\"colorscale\":[[0.0,\"#0d0887\"],[0.1111111111111111,\"#46039f\"],[0.2222222222222222,\"#7201a8\"],[0.3333333333333333,\"#9c179e\"],[0.4444444444444444,\"#bd3786\"],[0.5555555555555556,\"#d8576b\"],[0.6666666666666666,\"#ed7953\"],[0.7777777777777778,\"#fb9f3a\"],[0.8888888888888888,\"#fdca26\"],[1.0,\"#f0f921\"]],\"type\":\"heatmap\"}],\"heatmapgl\":[{\"colorbar\":{\"outlinewidth\":0,\"ticks\":\"\"},\"colorscale\":[[0.0,\"#0d0887\"],[0.1111111111111111,\"#46039f\"],[0.2222222222222222,\"#7201a8\"],[0.3333333333333333,\"#9c179e\"],[0.4444444444444444,\"#bd3786\"],[0.5555555555555556,\"#d8576b\"],[0.6666666666666666,\"#ed7953\"],[0.7777777777777778,\"#fb9f3a\"],[0.8888888888888888,\"#fdca26\"],[1.0,\"#f0f921\"]],\"type\":\"heatmapgl\"}],\"histogram\":[{\"marker\":{\"pattern\":{\"fillmode\":\"overlay\",\"size\":10,\"solidity\":0.2}},\"type\":\"histogram\"}],\"histogram2d\":[{\"colorbar\":{\"outlinewidth\":0,\"ticks\":\"\"},\"colorscale\":[[0.0,\"#0d0887\"],[0.1111111111111111,\"#46039f\"],[0.2222222222222222,\"#7201a8\"],[0.3333333333333333,\"#9c179e\"],[0.4444444444444444,\"#bd3786\"],[0.5555555555555556,\"#d8576b\"],[0.6666666666666666,\"#ed7953\"],[0.7777777777777778,\"#fb9f3a\"],[0.8888888888888888,\"#fdca26\"],[1.0,\"#f0f921\"]],\"type\":\"histogram2d\"}],\"histogram2dcontour\":[{\"colorbar\":{\"outlinewidth\":0,\"ticks\":\"\"},\"colorscale\":[[0.0,\"#0d0887\"],[0.1111111111111111,\"#46039f\"],[0.2222222222222222,\"#7201a8\"],[0.3333333333333333,\"#9c179e\"],[0.4444444444444444,\"#bd3786\"],[0.5555555555555556,\"#d8576b\"],[0.6666666666666666,\"#ed7953\"],[0.7777777777777778,\"#fb9f3a\"],[0.8888888888888888,\"#fdca26\"],[1.0,\"#f0f921\"]],\"type\":\"histogram2dcontour\"}],\"mesh3d\":[{\"colorbar\":{\"outlinewidth\":0,\"ticks\":\"\"},\"type\":\"mesh3d\"}],\"parcoords\":[{\"line\":{\"colorbar\":{\"outlinewidth\":0,\"ticks\":\"\"}},\"type\":\"parcoords\"}],\"pie\":[{\"automargin\":true,\"type\":\"pie\"}],\"scatter\":[{\"marker\":{\"colorbar\":{\"outlinewidth\":0,\"ticks\":\"\"}},\"type\":\"scatter\"}],\"scatter3d\":[{\"line\":{\"colorbar\":{\"outlinewidth\":0,\"ticks\":\"\"}},\"marker\":{\"colorbar\":{\"outlinewidth\":0,\"ticks\":\"\"}},\"type\":\"scatter3d\"}],\"scattercarpet\":[{\"marker\":{\"colorbar\":{\"outlinewidth\":0,\"ticks\":\"\"}},\"type\":\"scattercarpet\"}],\"scattergeo\":[{\"marker\":{\"colorbar\":{\"outlinewidth\":0,\"ticks\":\"\"}},\"type\":\"scattergeo\"}],\"scattergl\":[{\"marker\":{\"colorbar\":{\"outlinewidth\":0,\"ticks\":\"\"}},\"type\":\"scattergl\"}],\"scattermapbox\":[{\"marker\":{\"colorbar\":{\"outlinewidth\":0,\"ticks\":\"\"}},\"type\":\"scattermapbox\"}],\"scatterpolar\":[{\"marker\":{\"colorbar\":{\"outlinewidth\":0,\"ticks\":\"\"}},\"type\":\"scatterpolar\"}],\"scatterpolargl\":[{\"marker\":{\"colorbar\":{\"outlinewidth\":0,\"ticks\":\"\"}},\"type\":\"scatterpolargl\"}],\"scatterternary\":[{\"marker\":{\"colorbar\":{\"outlinewidth\":0,\"ticks\":\"\"}},\"type\":\"scatterternary\"}],\"surface\":[{\"colorbar\":{\"outlinewidth\":0,\"ticks\":\"\"},\"colorscale\":[[0.0,\"#0d0887\"],[0.1111111111111111,\"#46039f\"],[0.2222222222222222,\"#7201a8\"],[0.3333333333333333,\"#9c179e\"],[0.4444444444444444,\"#bd3786\"],[0.5555555555555556,\"#d8576b\"],[0.6666666666666666,\"#ed7953\"],[0.7777777777777778,\"#fb9f3a\"],[0.8888888888888888,\"#fdca26\"],[1.0,\"#f0f921\"]],\"type\":\"surface\"}],\"table\":[{\"cells\":{\"fill\":{\"color\":\"#EBF0F8\"},\"line\":{\"color\":\"white\"}},\"header\":{\"fill\":{\"color\":\"#C8D4E3\"},\"line\":{\"color\":\"white\"}},\"type\":\"table\"}]},\"layout\":{\"annotationdefaults\":{\"arrowcolor\":\"#2a3f5f\",\"arrowhead\":0,\"arrowwidth\":1},\"autotypenumbers\":\"strict\",\"coloraxis\":{\"colorbar\":{\"outlinewidth\":0,\"ticks\":\"\"}},\"colorscale\":{\"diverging\":[[0,\"#8e0152\"],[0.1,\"#c51b7d\"],[0.2,\"#de77ae\"],[0.3,\"#f1b6da\"],[0.4,\"#fde0ef\"],[0.5,\"#f7f7f7\"],[0.6,\"#e6f5d0\"],[0.7,\"#b8e186\"],[0.8,\"#7fbc41\"],[0.9,\"#4d9221\"],[1,\"#276419\"]],\"sequential\":[[0.0,\"#0d0887\"],[0.1111111111111111,\"#46039f\"],[0.2222222222222222,\"#7201a8\"],[0.3333333333333333,\"#9c179e\"],[0.4444444444444444,\"#bd3786\"],[0.5555555555555556,\"#d8576b\"],[0.6666666666666666,\"#ed7953\"],[0.7777777777777778,\"#fb9f3a\"],[0.8888888888888888,\"#fdca26\"],[1.0,\"#f0f921\"]],\"sequentialminus\":[[0.0,\"#0d0887\"],[0.1111111111111111,\"#46039f\"],[0.2222222222222222,\"#7201a8\"],[0.3333333333333333,\"#9c179e\"],[0.4444444444444444,\"#bd3786\"],[0.5555555555555556,\"#d8576b\"],[0.6666666666666666,\"#ed7953\"],[0.7777777777777778,\"#fb9f3a\"],[0.8888888888888888,\"#fdca26\"],[1.0,\"#f0f921\"]]},\"colorway\":[\"#636efa\",\"#EF553B\",\"#00cc96\",\"#ab63fa\",\"#FFA15A\",\"#19d3f3\",\"#FF6692\",\"#B6E880\",\"#FF97FF\",\"#FECB52\"],\"font\":{\"color\":\"#2a3f5f\"},\"geo\":{\"bgcolor\":\"white\",\"lakecolor\":\"white\",\"landcolor\":\"#E5ECF6\",\"showlakes\":true,\"showland\":true,\"subunitcolor\":\"white\"},\"hoverlabel\":{\"align\":\"left\"},\"hovermode\":\"closest\",\"mapbox\":{\"style\":\"light\"},\"paper_bgcolor\":\"white\",\"plot_bgcolor\":\"#E5ECF6\",\"polar\":{\"angularaxis\":{\"gridcolor\":\"white\",\"linecolor\":\"white\",\"ticks\":\"\"},\"bgcolor\":\"#E5ECF6\",\"radialaxis\":{\"gridcolor\":\"white\",\"linecolor\":\"white\",\"ticks\":\"\"}},\"scene\":{\"xaxis\":{\"backgroundcolor\":\"#E5ECF6\",\"gridcolor\":\"white\",\"gridwidth\":2,\"linecolor\":\"white\",\"showbackground\":true,\"ticks\":\"\",\"zerolinecolor\":\"white\"},\"yaxis\":{\"backgroundcolor\":\"#E5ECF6\",\"gridcolor\":\"white\",\"gridwidth\":2,\"linecolor\":\"white\",\"showbackground\":true,\"ticks\":\"\",\"zerolinecolor\":\"white\"},\"zaxis\":{\"backgroundcolor\":\"#E5ECF6\",\"gridcolor\":\"white\",\"gridwidth\":2,\"linecolor\":\"white\",\"showbackground\":true,\"ticks\":\"\",\"zerolinecolor\":\"white\"}},\"shapedefaults\":{\"line\":{\"color\":\"#2a3f5f\"}},\"ternary\":{\"aaxis\":{\"gridcolor\":\"white\",\"linecolor\":\"white\",\"ticks\":\"\"},\"baxis\":{\"gridcolor\":\"white\",\"linecolor\":\"white\",\"ticks\":\"\"},\"bgcolor\":\"#E5ECF6\",\"caxis\":{\"gridcolor\":\"white\",\"linecolor\":\"white\",\"ticks\":\"\"}},\"title\":{\"x\":0.05},\"xaxis\":{\"automargin\":true,\"gridcolor\":\"white\",\"linecolor\":\"white\",\"ticks\":\"\",\"title\":{\"standoff\":15},\"zerolinecolor\":\"white\",\"zerolinewidth\":2},\"yaxis\":{\"automargin\":true,\"gridcolor\":\"white\",\"linecolor\":\"white\",\"ticks\":\"\",\"title\":{\"standoff\":15},\"zerolinecolor\":\"white\",\"zerolinewidth\":2}}},\"xaxis\":{\"anchor\":\"y\",\"domain\":[0.0,1.0],\"title\":{\"text\":\"Classe\"}},\"yaxis\":{\"anchor\":\"x\",\"domain\":[0.0,1.0],\"title\":{\"text\":\"Desvio padr\\u00e3o\"}},\"legend\":{\"title\":{\"text\":\"Items\"},\"tracegroupgap\":0},\"margin\":{\"t\":60},\"title\":{\"text\":\"Desvio-Padr\\u00e3o do consumo alimentar dos items por Classe\"}},                        {\"responsive\": true}                    ).then(function(){\n",
              "                            \n",
              "var gd = document.getElementById('9f0ae97e-408f-491b-bffa-473f9bf417df');\n",
              "var x = new MutationObserver(function (mutations, observer) {{\n",
              "        var display = window.getComputedStyle(gd).display;\n",
              "        if (!display || display === 'none') {{\n",
              "            console.log([gd, 'removed!']);\n",
              "            Plotly.purge(gd);\n",
              "            observer.disconnect();\n",
              "        }}\n",
              "}});\n",
              "\n",
              "// Listen for the removal of the full notebook cells\n",
              "var notebookContainer = gd.closest('#notebook-container');\n",
              "if (notebookContainer) {{\n",
              "    x.observe(notebookContainer, {childList: true});\n",
              "}}\n",
              "\n",
              "// Listen for the clearing of the current output cell\n",
              "var outputEl = gd.closest('.output');\n",
              "if (outputEl) {{\n",
              "    x.observe(outputEl, {childList: true});\n",
              "}}\n",
              "\n",
              "                        })                };                            </script>        </div>\n",
              "</body>\n",
              "</html>"
            ]
          },
          "metadata": {}
        }
      ]
    }
  ]
}