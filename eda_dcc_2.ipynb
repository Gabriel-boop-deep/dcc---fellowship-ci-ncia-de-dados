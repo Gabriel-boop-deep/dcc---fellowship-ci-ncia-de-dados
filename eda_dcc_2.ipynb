{
  "cells": [
    {
      "cell_type": "markdown",
      "metadata": {},
      "source": [
        "### DCC - Sirius Education"
      ]
    },
    {
      "cell_type": "markdown",
      "metadata": {},
      "source": [
        "#### Exploração inicial\n",
        "Abaixo foram feitas explorações iniciais nos dois datasets escolhidos pelo grupo\n",
        "\n",
        "* Produção Municipal Agrícola [(PAM)](https://sidra.ibge.gov.br/tabela/5457)\n",
        "* Pesquisa de Orçamentos Familiares [(POF)](https://www.ibge.gov.br/estatisticas/sociais/saude/24786-pesquisa-de-orcamentos-familiares-2.html?=&t=resultados)"
      ]
    },
    {
      "cell_type": "markdown",
      "metadata": {},
      "source": [
        "#### Imports"
      ]
    },
    {
      "cell_type": "code",
      "execution_count": null,
      "metadata": {},
      "outputs": [],
      "source": [
        "import pandas as pd\n",
        "import numpy as np\n",
        "import seaborn as sns\n",
        "import plotly.express as px"
      ]
    },
    {
      "cell_type": "markdown",
      "metadata": {},
      "source": [
        "#### Exploração inicial da PAM - Produção Agrícola Municipal (1974 - 2020)\n",
        "\n",
        "\n",
        "\n",
        "<a href=\"https://sidra.ibge.gov.br/tabela/5457\">Tabela 5457 - Área plantada ou destinada à colheita, área colhida, quantidade produzida, rendimento médio e valor da produção das lavouras temporárias e permanente</a>"
      ]
    },
    {
      "cell_type": "code",
      "execution_count": null,
      "metadata": {},
      "outputs": [],
      "source": [
        "producao = pd.read_excel('C:\\dcc-fellowship-ciencia-de-dados\\pam_alimentos_cesta.xlsx', index_col='Ano')\n",
        "producao.shape"
      ]
    },
    {
      "cell_type": "code",
      "execution_count": null,
      "metadata": {},
      "outputs": [],
      "source": [
        "producao.head(3)"
      ]
    },
    {
      "cell_type": "code",
      "execution_count": null,
      "metadata": {},
      "outputs": [],
      "source": [
        "producao_2 = pd.read_excel('C:\\dcc-fellowship-ciencia-de-dados\\pam.xlsx')"
      ]
    },
    {
      "cell_type": "code",
      "execution_count": null,
      "metadata": {},
      "outputs": [],
      "source": [
        "producao_2.head()"
      ]
    },
    {
      "cell_type": "markdown",
      "metadata": {},
      "source": [
        "#### Verificando o shape do dataframe"
      ]
    },
    {
      "cell_type": "code",
      "execution_count": null,
      "metadata": {},
      "outputs": [],
      "source": [
        "producao.shape"
      ]
    },
    {
      "cell_type": "code",
      "execution_count": null,
      "metadata": {},
      "outputs": [],
      "source": [
        "producao_2.shape"
      ]
    },
    {
      "cell_type": "markdown",
      "metadata": {},
      "source": [
        "#### Análise de valores nulos"
      ]
    },
    {
      "cell_type": "code",
      "execution_count": null,
      "metadata": {
        "colab": {
          "base_uri": "https://localhost:8080/"
        },
        "id": "ApPf8IQxd4ml",
        "outputId": "a0b02916-6560-4aa2-f9d6-4de603c3b859"
      },
      "outputs": [],
      "source": [
        "producao.isnull().sum()"
      ]
    },
    {
      "cell_type": "markdown",
      "metadata": {
        "colab": {
          "base_uri": "https://localhost:8080/"
        },
        "id": "SwPkciGxePuT",
        "outputId": "7306f929-cde8-47a1-fd68-cbab7b130dbe"
      },
      "source": [
        "#### Análise de valores duplicados"
      ]
    },
    {
      "cell_type": "code",
      "execution_count": null,
      "metadata": {
        "id": "bSAqzwgjejyM"
      },
      "outputs": [],
      "source": [
        "producao.duplicated().sum()"
      ]
    },
    {
      "cell_type": "markdown",
      "metadata": {},
      "source": [
        "#### Centralidade, dispersão e boxplot para cada alimento da cesta básica"
      ]
    },
    {
      "cell_type": "code",
      "execution_count": null,
      "metadata": {},
      "outputs": [],
      "source": [
        "producao.describe().round(2)"
      ]
    },
    {
      "cell_type": "code",
      "execution_count": null,
      "metadata": {},
      "outputs": [],
      "source": [
        "producao_2.describe()"
      ]
    },
    {
      "cell_type": "markdown",
      "metadata": {},
      "source": [
        "#### Boxplots"
      ]
    },
    {
      "cell_type": "code",
      "execution_count": null,
      "metadata": {},
      "outputs": [],
      "source": [
        "px.box(producao, title = 'Análise da disperção', labels = {'value': 'Produção (Toneladas)', 'variable' : 'Culturas'} )"
      ]
    },
    {
      "cell_type": "markdown",
      "metadata": {},
      "source": [
        "#### Avaliando o crescimento histórico das culturas"
      ]
    },
    {
      "cell_type": "code",
      "execution_count": null,
      "metadata": {},
      "outputs": [],
      "source": [
        "fig = px.line(producao_2, title = 'Evolução da produção dos items da cesta básica ao longo dos anos (1974-2020)', x = 'Ano', y = 'Produçao', color = 'Item',  labels = {'value': 'Produção (Toneladas)', 'variable' : 'Culturas'} )\n",
        "fig.update_layout(template = 'plotly_white')\n",
        "\n",
        "fig.update_layout(\n",
        "    font_family=\"Helvetica\",\n",
        "    font_color=\"black\",\n",
        "    title_font_family=\"Helvetica\",\n",
        "    title_font_color=\"black\",\n",
        "    legend_title_font_color=\"black\")"
      ]
    },
    {
      "cell_type": "code",
      "execution_count": null,
      "metadata": {},
      "outputs": [],
      "source": [
        "fig = px.histogram(producao_2, x = 'Ano', y = 'Produçao', title='Histograma da produção por item da cesta básica ao longo dos anos (1974-2020)', color = 'Item',  labels = {'sum of Produção': 'Produção (Toneladas)', 'Item' : 'Culturas'}, nbins =150)\n",
        "fig.update_layout(template = 'plotly_white')\n",
        "fig.update_traces(texttemplate = '%{y:.2s}', textposition = 'outside')\n"
      ]
    },
    {
      "cell_type": "markdown",
      "metadata": {},
      "source": [
        "#### Exploração inicial da POF - Pesquisa de Orçamentos familiares (2017-2018)\n",
        "Aquisição alimentar per capita por classes de rendimento - \n",
        "<a href=\"https://sidra.ibge.gov.br/tabela/8157/\">Tabela 8157 - Aquisição alimentar domiciliar per capita anual por classes de rendimento total variação patrimonial mensal familiar e grupos, subgrupos e produtos</a>"
      ]
    },
    {
      "cell_type": "markdown",
      "metadata": {},
      "source": [
        "#### Legendas das classes de rendimento:\n",
        "* Até 1.908 Reais: F\n",
        "* Mais de 1.908 a 2.862 Reais: E\n",
        "* Mais de 2.862 a 5.724 Reais: D\n",
        "* Mais de 5.724 a 9.540 Reais: C\n",
        "* Mais de 9.540 a 14.310 Reais: B\n",
        "* Mais de 14.310 Reais: A"
      ]
    },
    {
      "cell_type": "code",
      "execution_count": null,
      "metadata": {},
      "outputs": [],
      "source": [
        "consumo = pd.read_excel(\"C:\\dcc-fellowship-ciencia-de-dados\\pof_rendimento_regiao_2_copia.xlsx\")"
      ]
    },
    {
      "cell_type": "markdown",
      "metadata": {},
      "source": [
        "Aquisição alimentar per capita por produtos - 2002, 2008, 2018.\n",
        "<a href=\"https://sidra.ibge.gov.br/tabela/2393\">Tabela 2393 - Aquisição alimentar domiciliar per capita anual por grupos, subgrupos e produtos</a>"
      ]
    },
    {
      "cell_type": "code",
      "execution_count": null,
      "metadata": {},
      "outputs": [],
      "source": [
        "consumo_medio_ano = pd.read_excel(\"C:\\dcc-fellowship-ciencia-de-dados\\pof_media_consumo_kg_ano1.xlsx\")"
      ]
    },
    {
      "cell_type": "code",
      "execution_count": null,
      "metadata": {},
      "outputs": [],
      "source": [
        "consumo_medio_ano"
      ]
    },
    {
      "cell_type": "code",
      "execution_count": null,
      "metadata": {},
      "outputs": [],
      "source": [
        "fig = px.bar(consumo_medio_ano, x = 'Item', barmode= 'group', y = ['2002', '2008', '2018'], title = 'Consumo de alimentos nos anos de 2002, 2008, 2018', labels= {'Item': 'Alimentos', 'value': 'Consumo anual per capita (kg)' })\n",
        "fig.show()"
      ]
    },
    {
      "cell_type": "markdown",
      "metadata": {},
      "source": [
        "   #### Verificando o shape do dataframe "
      ]
    },
    {
      "cell_type": "code",
      "execution_count": null,
      "metadata": {},
      "outputs": [],
      "source": [
        "consumo.shape"
      ]
    },
    {
      "cell_type": "code",
      "execution_count": null,
      "metadata": {},
      "outputs": [],
      "source": [
        "consumo_medio_ano.shape"
      ]
    },
    {
      "cell_type": "markdown",
      "metadata": {},
      "source": [
        "#### Agrupamento por items e região com relação ao total e as classes"
      ]
    },
    {
      "cell_type": "code",
      "execution_count": null,
      "metadata": {},
      "outputs": [],
      "source": [
        "consumo_agrupado = consumo.groupby(['Items', 'Região']).mean()"
      ]
    },
    {
      "cell_type": "code",
      "execution_count": null,
      "metadata": {},
      "outputs": [],
      "source": [
        "consumo_agrupado.head(20)"
      ]
    },
    {
      "cell_type": "markdown",
      "metadata": {},
      "source": [
        "#### Análise de valores nulos\n"
      ]
    },
    {
      "cell_type": "code",
      "execution_count": null,
      "metadata": {},
      "outputs": [],
      "source": [
        "consumo.isnull().sum()"
      ]
    },
    {
      "cell_type": "markdown",
      "metadata": {},
      "source": [
        "### Centralidade, dispersão e boxplot \n"
      ]
    },
    {
      "cell_type": "code",
      "execution_count": null,
      "metadata": {},
      "outputs": [],
      "source": [
        "consumo.describe()"
      ]
    },
    {
      "cell_type": "markdown",
      "metadata": {},
      "source": [
        "#### Separando o dataframe por região\n"
      ]
    },
    {
      "cell_type": "code",
      "execution_count": null,
      "metadata": {},
      "outputs": [],
      "source": [
        "consumo_nordeste = consumo.query(\"Região == 'Nordeste'\").sort_values(['Classe A', 'Classe B', 'Classe C', 'Classe D', 'Classe E', 'Classe F'], ascending = False)\n",
        "consumo_centro_oeste = consumo.query(\"Região == 'Centro-Oeste'\").sort_values(['Classe A', 'Classe B', 'Classe C', 'Classe D', 'Classe E', 'Classe F'], ascending = False)\n",
        "consumo_norte = consumo.query(\"Região == 'Norte'\").sort_values(['Classe A', 'Classe B', 'Classe C', 'Classe D', 'Classe E', 'Classe F'], ascending = False)\n",
        "consumo_sul = consumo.query(\"Região == 'Sul'\").sort_values(['Classe A', 'Classe B', 'Classe C', 'Classe D', 'Classe E', 'Classe F'], ascending = False)\n",
        "consumo_sudeste = consumo.query(\"Região == 'Sudeste'\").sort_values(['Classe A', 'Classe B', 'Classe C', 'Classe D', 'Classe E','Classe F'],  ascending = False)\n",
        "consumo_brasil = consumo.query(\"Região == 'Brasil'\").sort_values(['Classe A', 'Classe B', 'Classe C', 'Classe D', 'Classe E', 'Classe F'], ascending = False)"
      ]
    },
    {
      "cell_type": "markdown",
      "metadata": {},
      "source": [
        "#### Dentre os alimentos da cesta básica, qual o mais consumido por região e classe?"
      ]
    },
    {
      "cell_type": "markdown",
      "metadata": {},
      "source": [
        "* Região nordeste"
      ]
    },
    {
      "cell_type": "code",
      "execution_count": null,
      "metadata": {},
      "outputs": [],
      "source": [
        "fig = px.bar(consumo_nordeste, x = 'Items', barmode= 'group', y = ['Classe A', 'Classe B', 'Classe C', 'Classe D', 'Classe E', 'Classe F'], title = 'Consumo de alimentos por classe na regiao NORDESTE', labels= {'Items': 'Alimentos', 'value': 'Consumo anual per capita (kg)' })\n",
        "fig.show()"
      ]
    },
    {
      "cell_type": "markdown",
      "metadata": {},
      "source": [
        "* Região Norte"
      ]
    },
    {
      "cell_type": "code",
      "execution_count": null,
      "metadata": {},
      "outputs": [],
      "source": [
        "fig = px.bar(consumo_norte, barmode = 'group', x = 'Items', y = ['Classe A', 'Classe B', 'Classe C', 'Classe D', 'Classe E', 'Classe F'], title = 'Consumo de alimentos por classe na regiao NORTE', labels= {'Items': 'Alimentos', 'value': 'Consumo anual per capita (kg)' })\n",
        "fig.show()"
      ]
    },
    {
      "cell_type": "markdown",
      "metadata": {},
      "source": [
        "* Região Centro-Oeste"
      ]
    },
    {
      "cell_type": "code",
      "execution_count": null,
      "metadata": {},
      "outputs": [],
      "source": [
        "fig = px.bar(consumo_norte, barmode = 'group', x = 'Items', y = ['Classe A', 'Classe B', 'Classe C', 'Classe D', 'Classe E', 'Classe F'], title = 'Consumo de alimentos por classe na regiao CENTRO-OESTE', labels= {'Items': 'Alimentos', 'value': 'Consumo anual per capita (kg)' })\n",
        "fig.show()"
      ]
    },
    {
      "cell_type": "markdown",
      "metadata": {},
      "source": [
        "* Região Sul "
      ]
    },
    {
      "cell_type": "code",
      "execution_count": null,
      "metadata": {},
      "outputs": [],
      "source": [
        "fig = px.bar(consumo_sul, barmode = 'group', x = 'Items', y = ['Classe A', 'Classe B', 'Classe C', 'Classe D', 'Classe E', 'Classe F'], title = 'Consumo de alimentos por classe na regiao SUL', labels= {'Items': 'Alimentos', 'value': 'Consumo anual per capita (kg)' })\n",
        "fig.show()\n"
      ]
    },
    {
      "cell_type": "markdown",
      "metadata": {},
      "source": [
        "* Região Sudeste"
      ]
    },
    {
      "cell_type": "code",
      "execution_count": null,
      "metadata": {},
      "outputs": [],
      "source": [
        "fig = px.bar(consumo_sudeste, barmode = 'group', x = 'Items', y = ['Classe A', 'Classe B', 'Classe C', 'Classe D', 'Classe E', 'Classe F'], title = 'Consumo de alimentos por classe na regiao SUDESTE', labels= {'Items': 'Alimentos', 'value': 'Consumo anual per capita (kg)' })\n",
        "fig.show()\n"
      ]
    },
    {
      "cell_type": "markdown",
      "metadata": {},
      "source": [
        "* Brasil"
      ]
    },
    {
      "cell_type": "code",
      "execution_count": null,
      "metadata": {},
      "outputs": [],
      "source": [
        "fig = px.bar(consumo_brasil, barmode = 'group', x = 'Items', y = ['Classe A', 'Classe B', 'Classe C', 'Classe D', 'Classe E', 'Classe F'], title = 'Consumo de alimentos por classe na regiao BRASIL', labels= {'Items': 'Alimentos', 'value': 'Consumo anual per capita (kg)' })\n",
        "fig.update_layout(template = 'plotly_white')\n",
        "fig.show()\n",
        "\n",
        "fig.update_layout(\n",
        "    font_family=\"Helvetica\",\n",
        "    font_color=\"black\",\n",
        "    title_font_family=\"Helvetica\",\n",
        "    title_font_color=\"black\",\n",
        "    legend_title_font_color=\"black\")"
      ]
    },
    {
      "cell_type": "markdown",
      "metadata": {},
      "source": [
        "Comparando as razões de prod/demanda de 2018 e 2030"
      ]
    },
    {
      "cell_type": "code",
      "execution_count": null,
      "metadata": {},
      "outputs": [],
      "source": [
        "df = pd.read_excel(\"C:\\dcc-fellowship-ciencia-de-dados\\inal results.xlsx\")"
      ]
    },
    {
      "cell_type": "code",
      "execution_count": null,
      "metadata": {},
      "outputs": [],
      "source": [
        "fig = px.bar(df, x = 'Item', y = ['Razão da produção pela manda (2018)', 'Razão da produção pela demanda (2030)'], labels= {'value': 'Produção/Demanda' }, barmode = 'group')\n",
        "\n",
        "fig.update_layout(\n",
        "    font_family=\"Helvetica\",\n",
        "    font_color=\"black\",\n",
        "    title_font_family=\"Helvetica\",\n",
        "    title_font_color=\"black\",\n",
        "    legend_title_font_color=\"black\")\n",
        "fig.show()"
      ]
    },
    {
      "cell_type": "code",
      "execution_count": null,
      "metadata": {},
      "outputs": [],
      "source": []
    }
  ],
  "metadata": {
    "colab": {
      "provenance": []
    },
    "kernelspec": {
      "display_name": "Python 3.9.12 ('base')",
      "language": "python",
      "name": "python3"
    },
    "language_info": {
      "codemirror_mode": {
        "name": "ipython",
        "version": 3
      },
      "file_extension": ".py",
      "mimetype": "text/x-python",
      "name": "python",
      "nbconvert_exporter": "python",
      "pygments_lexer": "ipython3",
      "version": "3.9.12"
    },
    "vscode": {
      "interpreter": {
        "hash": "3a0de9df006df342b5e4296aedaeaf87f8585c794651fec65fd5881a82402807"
      }
    }
  },
  "nbformat": 4,
  "nbformat_minor": 0
}
